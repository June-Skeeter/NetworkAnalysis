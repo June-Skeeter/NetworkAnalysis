{
 "cells": [
  {
   "cell_type": "markdown",
   "metadata": {},
   "source": [
    "##  Optimze and a Dense Neural Network for gap filling and feature identification\n",
    "\n",
    "** With a few tweaks to RepRunner, an LSTM can be run instead"
   ]
  },
  {
   "cell_type": "code",
   "execution_count": 7,
   "metadata": {
    "collapsed": true
   },
   "outputs": [],
   "source": [
    "import time\n",
    "import math\n",
    "import numpy as np\n",
    "import pandas as pd\n",
    "import matplotlib.pyplot as plt\n",
    "from itertools import combinations\n",
    "from functools import partial\n",
    "from multiprocessing import Pool\n",
    "from sklearn.preprocessing import StandardScaler\n",
    "from sklearn import metrics\n",
    "from sklearn.model_selection import RepeatedKFold\n",
    "from sklearn.model_selection import train_test_split\n",
    "\n",
    "## Personal Modules\n",
    "import ReadStandardTimeFill as RSTF\n",
    "import importlib\n",
    "import DenseNet as Dense\n",
    "importlib.reload(Dense)\n",
    "importlib.reload(RSTF)\n",
    "\n",
    "%matplotlib inline\n",
    "%config IPCompleter.greedy=True\n",
    "\n",
    "from scipy.optimize import minimize, curve_fit\n",
    "from scipy.stats import norm\n",
    "from sklearn.gaussian_process import GaussianProcessRegressor\n",
    "from sklearn.gaussian_process.kernels import Matern, WhiteKernel, ConstantKernel\n",
    "from matplotlib import cm\n",
    "\n",
    "from scipy import stats\n",
    "from statsmodels.stats.multicomp import pairwise_tukeyhsd\n",
    "\n",
    "from ipywidgets import FloatProgress\n",
    "from IPython.display import display\n",
    "import os\n",
    "\n",
    "from keras.models import model_from_json\n",
    "import ReadStandardTimeFill as RSTF\n",
    "# pool.close()"
   ]
  },
  {
   "cell_type": "code",
   "execution_count": 2,
   "metadata": {
    "collapsed": true
   },
   "outputs": [],
   "source": [
    "def TTV_Split(iteration,Memory,X,y,params,X_fill):\n",
    "    if params['Save']['Model']==True:\n",
    "        params['Save']['Weights'] = True\n",
    "    params['seed'] = int(iteration%params['splits_per_mod']/params['splits_per_mod']*100)\n",
    "    params['iteration'] = int(iteration/params['splits_per_mod'])\n",
    "    X_train,X_test,y_train,y_test=train_test_split(X,y, test_size=0.1, random_state=params['seed'])\n",
    "    X_train,X_val,y_train,y_val=train_test_split(X_train,y_train, test_size=0.11, random_state=params['seed'])\n",
    "    return(Dense.Train_Steps(params,X_train,X_test,X_val,y_train,y_test,\n",
    "        y_val,X_fill = X_fill,Memory=Memory),\n",
    "        y_val,params)\n",
    "\n",
    "def RunReps(Model,params,Runs):\n",
    "    RST = RSTF.ReadStandardTimeFill(Path)\n",
    "    offset = 5/params['proc']\n",
    "    Memory = (math.floor(100/params['proc'])- offset) * .01\n",
    "    MSE = []\n",
    "    RST.Scale(params['Y'],Model)\n",
    "    y = RST.y*1.0\n",
    "    X = RST.X*1.0\n",
    "    X_fill = RST.X_fill*1.0\n",
    "    Yval = []\n",
    "    y_val= []\n",
    "    for i in range(params['K']):\n",
    "        results = TTV_Split(i,Memory,X,y,params,X_fill)\n",
    "        Yval = RST.YScaled.inverse_transform(results[0][1].reshape(-1,1))\n",
    "        y_val = RST.YScaled.inverse_transform(results[1].reshape(-1,1))\n",
    "        Runs['MSE'].iloc[i] = metrics.mean_squared_error(y_val,Yval)\n",
    "        Runs['R2'].iloc[i] = metrics.r2_score(y_val,Yval)\n",
    "        params=results[2]\n",
    "        Runs['iteration'].iloc[i] = params['iteration']\n",
    "        Runs['seed'].iloc[i] = params['seed']\n",
    "    return(Runs)"
   ]
  },
  {
   "cell_type": "code",
   "execution_count": 98,
   "metadata": {
    "scrolled": true
   },
   "outputs": [
    {
     "name": "stdout",
     "output_type": "stream",
     "text": [
      "{'proc': 1, 'K': 4, 'epochs': 100, 'Y': 'fch4', 'splits_per_mod': 2, 'Save': {'Weights': False, 'Model': True}, 'N': 34, 'Model': 'Kitty'}\n",
      "Saved model to disk\n"
     ]
    },
    {
     "name": "stderr",
     "output_type": "stream",
     "text": [
      "C:\\Anaconda3\\lib\\site-packages\\pandas\\core\\indexing.py:189: SettingWithCopyWarning: \n",
      "A value is trying to be set on a copy of a slice from a DataFrame\n",
      "\n",
      "See the caveats in the documentation: http://pandas.pydata.org/pandas-docs/stable/indexing.html#indexing-view-versus-copy\n",
      "  self._setitem_with_indexer(indexer, value)\n"
     ]
    }
   ],
   "source": [
    "FillVar = 'fch4'\n",
    "\n",
    "# cwd = os.getcwd()\n",
    "# print(cwd)\n",
    "os.chdir('C:/Users/wesle/NetworkAnalysis/')\n",
    "Vars = ['VWC','Sedge','PPFD_Avg']\n",
    "N = 34\n",
    "\n",
    "Path = 'Data_Footprints_2018-06-12.csv'\n",
    "Runs,params = Dense.Params('Test',FillVar,MP=False)\n",
    "Runs['iteration'] = 0\n",
    "Runs['seed'] = 0\n",
    "\n",
    "params['N'] = N\n",
    "params['Save']['Model'] = True\n",
    "params['Model'] = 'Kitty'#'+'.join(Model)\n",
    "print(params)\n",
    "Runs = Runs.iloc[0:params['K']].drop('Model',axis=1)\n",
    "Runs['N'] = params['N']\n",
    "Runs = RunReps(Vars,params,Runs)\n"
   ]
  },
  {
   "cell_type": "code",
   "execution_count": 99,
   "metadata": {},
   "outputs": [
    {
     "name": "stdout",
     "output_type": "stream",
     "text": [
      "    N        MSE        R2  iteration  seed\n",
      "0  34  59.638259  0.627764          0     0\n",
      "1  34  44.417732  0.651639          0    50\n",
      "2  34  60.426168  0.622846          1     0\n",
      "3  34  41.382133  0.675447          1    50\n"
     ]
    }
   ],
   "source": [
    "print(Runs)"
   ]
  },
  {
   "cell_type": "code",
   "execution_count": 175,
   "metadata": {},
   "outputs": [
    {
     "name": "stdout",
     "output_type": "stream",
     "text": [
      "Loaded model from disk\n"
     ]
    }
   ],
   "source": [
    "def Load_Model(params):\n",
    "    json_file = open(os.getcwd()+'/'+params['Y']+'/Weights/'+params['Model']+'.json', 'r')\n",
    "    loaded_model_json = json_file.read()\n",
    "    json_file.close()\n",
    "    loaded_model = model_from_json(loaded_model_json)\n",
    "    # load weights into new model\n",
    "    # Min = \n",
    "    loaded_model.load_weights(os.getcwd()+'/'+params['Y']+'/Weights/'+params['Model']+'_0_0.h5')\n",
    "    loaded_model.compile(loss='mean_squared_error', optimizer='adam')\n",
    "    print(\"Loaded model from disk\")\n",
    "    return(loaded_model)\n",
    "# print(Model)## Allows for calculation of partial derivatives & Mapping a over one dimension by fixing all other dimensions\n",
    "def Fix(RST,Model,params,Vars,d,Fixed_Vals):\n",
    "    di = [i for i,x in enumerate(Vars) if x == d]\n",
    "    RST.Scale(params['Y'],Vars)\n",
    "    y = RST.y*1.0\n",
    "    X = RST.X*1.0\n",
    "    Fixers = RST.XScaled.transform([Fixed_Vals])\n",
    "    dx = X[:,di]\n",
    "    X[:,:]=Fixers\n",
    "    X[:,di]=dx\n",
    "    return(y,X,RST)"
   ]
  },
  {
   "cell_type": "code",
   "execution_count": 171,
   "metadata": {},
   "outputs": [
    {
     "name": "stdout",
     "output_type": "stream",
     "text": [
      "VWC            0.586413\n",
      "Sedge          0.526375\n",
      "PPFD_Avg    1075.241667\n",
      "Name: 0.95, dtype: float64\n",
      "[[ 1.84188979  2.09937469  1.96840466]\n",
      " [ 1.84188979  2.09937469  1.96840466]\n",
      " [ 1.84188979  2.09937469  1.96840466]\n",
      " ...\n",
      " [-1.29981879  2.09937469  1.96840466]\n",
      " [-1.29981879  2.09937469  1.96840466]\n",
      " [-1.29981879  2.09937469  1.96840466]]\n"
     ]
    }
   ],
   "source": [
    "\n",
    "def Map(Model,X,y,dx,params):\n",
    "    results = Model.predict(X)\n",
    "    results = RST.YScaled.inverse_transform(results.reshape(-1,1))\n",
    "    y = RST.YScaled.inverse_transform(y.reshape(-1,1))\n",
    "    X = RST.XScaled.inverse_transform(X)\n",
    "    #     print(score)\n",
    "    plt.scatter(X[:,0],y,label=X[:,0].mean(),c='red')\n",
    "    plt.scatter(X[:,0],results,label=X[:,0].mean())\n",
    "    plt.figure()\n",
    "    data = pd.DataFrame(X,columns=Vars)\n",
    "    data[params['Y']]=y\n",
    "    data = data.sort_values(by=dx)\n",
    "    data = (data.groupby(dx).mean()).reset_index()\n",
    "    plt.scatter(data[dx],data[params['Y']].diff()/data[dx].diff())\n",
    "    print(data[params['Y']].diff(),data[dx].diff())\n",
    "\n",
    "Model = Load_Model(params)\n",
    "DataFile = 'Data_Footprints_2018-06-12.csv'\n",
    "RST = RSTF.ReadStandardTimeFill(DataFile)\n",
    "\n",
    "Fixed_Vals = RST.Master[Vars].quantile(.95)\n",
    "# Fixed_Vals['PPFD_Avg']=RST.Master['PPFD_Avg'].quantile(.95)\n",
    "print(Fixed_Vals)\n",
    "dx = 'VWC'\n",
    "y,X,RST=Fix(RST,Model,params,Vars,dx,Fixed_Vals.values)\n",
    "# print(X)"
   ]
  },
  {
   "cell_type": "code",
   "execution_count": 174,
   "metadata": {},
   "outputs": [
    {
     "name": "stdout",
     "output_type": "stream",
     "text": [
      "0              NaN\n",
      "1       -65.259479\n",
      "2      -837.527697\n",
      "3       258.532654\n",
      "4       -42.228682\n",
      "5       151.546030\n",
      "6        49.357415\n",
      "7        39.842488\n",
      "8      -107.616363\n",
      "9      -622.346133\n",
      "10     -197.185439\n",
      "11     -440.233924\n",
      "12      238.402239\n",
      "13      -65.692662\n",
      "14     1254.663460\n",
      "15    -1214.234648\n",
      "16      171.463468\n",
      "17     -318.601117\n",
      "18       30.777535\n",
      "19      -32.629674\n",
      "20      262.483202\n",
      "21     -262.087801\n",
      "22      705.376848\n",
      "23      396.916052\n",
      "24     -764.717196\n",
      "25      225.865965\n",
      "26      119.571021\n",
      "27      736.640292\n",
      "28      -37.701928\n",
      "29    -1995.786432\n",
      "          ...     \n",
      "267    -291.733427\n",
      "268     356.161741\n",
      "269   -1287.051060\n",
      "270    1230.879697\n",
      "271   -1410.010369\n",
      "272    -249.115592\n",
      "273    -390.688855\n",
      "274     629.158686\n",
      "275    1170.785790\n",
      "276    -245.323991\n",
      "277   -2858.421741\n",
      "278    1802.526966\n",
      "279    -284.276493\n",
      "280     307.923032\n",
      "281    -871.554412\n",
      "282     914.509290\n",
      "283    -511.761919\n",
      "284    -486.779758\n",
      "285     321.149926\n",
      "286     461.020177\n",
      "287    -441.722475\n",
      "288     -13.661869\n",
      "289     191.537862\n",
      "290    -472.540412\n",
      "291     751.194283\n",
      "292    -335.946923\n",
      "293     725.148354\n",
      "294    -646.766000\n",
      "295     252.171287\n",
      "296     180.954772\n",
      "Name: fch4, Length: 297, dtype: float64 0               NaN\n",
      "1      6.702614e-08\n",
      "2      6.702614e-08\n",
      "3      6.702614e-08\n",
      "4      6.702614e-08\n",
      "5      6.702614e-08\n",
      "6      6.702614e-08\n",
      "7      6.702614e-08\n",
      "8      6.702614e-08\n",
      "9      6.702614e-08\n",
      "10     6.702614e-08\n",
      "11     6.702614e-08\n",
      "12     6.702614e-08\n",
      "13     2.010784e-07\n",
      "14     6.702614e-08\n",
      "15     6.702614e-08\n",
      "16     6.702614e-08\n",
      "17     1.340523e-07\n",
      "18     1.340523e-07\n",
      "19     6.702614e-08\n",
      "20     6.702614e-08\n",
      "21     6.702614e-08\n",
      "22     6.702614e-08\n",
      "23     6.702614e-08\n",
      "24     6.702614e-08\n",
      "25     1.340523e-07\n",
      "26     2.681046e-07\n",
      "27     6.702614e-08\n",
      "28     6.702614e-08\n",
      "29     2.010784e-07\n",
      "           ...     \n",
      "267    6.702614e-08\n",
      "268    6.702614e-08\n",
      "269    6.702614e-08\n",
      "270    6.702614e-08\n",
      "271    6.702614e-08\n",
      "272    6.702614e-08\n",
      "273    6.702614e-08\n",
      "274    6.702614e-08\n",
      "275    6.702614e-08\n",
      "276    6.702614e-08\n",
      "277    6.702614e-08\n",
      "278    1.340523e-07\n",
      "279    2.010784e-07\n",
      "280    1.340523e-07\n",
      "281    6.702614e-08\n",
      "282    6.702614e-08\n",
      "283    1.340523e-07\n",
      "284    1.340523e-07\n",
      "285    1.340523e-07\n",
      "286    6.702614e-08\n",
      "287    6.702614e-08\n",
      "288    1.340523e-07\n",
      "289    6.702614e-08\n",
      "290    6.702614e-08\n",
      "291    1.340523e-07\n",
      "292    2.010784e-07\n",
      "293    2.010784e-07\n",
      "294    6.702614e-08\n",
      "295    6.702614e-08\n",
      "296    1.340523e-07\n",
      "Name: VWC, Length: 297, dtype: float64\n"
     ]
    },
    {
     "data": {
      "image/png": "[encoded data removed]",
      "text/plain": [
       "<matplotlib.figure.Figure at 0x22904fe7ba8>"
      ]
     },
     "metadata": {},
     "output_type": "display_data"
    },
    {
     "data": {
      "image/png": "[encoded data removed]",
      "text/plain": [
       "<matplotlib.figure.Figure at 0x22904fa4630>"
      ]
     },
     "metadata": {},
     "output_type": "display_data"
    }
   ],
   "source": [
    "#     score = loaded_model.evaluate(X, y, verbose=1)"
   ]
  },
  {
   "cell_type": "code",
   "execution_count": 169,
   "metadata": {
    "scrolled": false
   },
   "outputs": [],
   "source": [
    "Time = time.time()\n",
    "# def RunLoop(Runs):\n",
    "    \n",
    "#     f = FloatProgress(min=0, max=Runs['N'].count()) # instantiate the bar\n",
    "#     display(f) # display the bar\n",
    "# #     print(Runs)\n",
    "#     for N in Runs['N'].unique():   \n",
    "#         f.value+=params['K']\n",
    "#         params['T'] = 0\n",
    "#         params['N']=N\n",
    "#         Results = RunReps(FullModel,params,pool)\n",
    "#         MSE = Results[0]\n",
    "#         R2 = Results[1]\n",
    "#         Runs.loc[Runs['N']==N,'MSE']=MSE\n",
    "#         Runs.loc[Runs['N']==N,'R2']=R2\n",
    "# #         print(Runs.loc[Runs['N']==N])\n",
    "#     return(Runs)"
   ]
  },
  {
   "cell_type": "code",
   "execution_count": 160,
   "metadata": {},
   "outputs": [
    {
     "name": "stdout",
     "output_type": "stream",
     "text": [
      "             Sedge     PPFD_Avg       fch4\n",
      "VWC                                       \n",
      "0.516750  0.526375  1075.241667  15.581790\n",
      "0.516875  0.526375  1075.241667  15.007191\n",
      "0.517000  0.526375  1075.241667   7.632892\n",
      "0.517125  0.526375  1075.241667   9.909231\n",
      "0.517250  0.526375  1075.241667   9.537414\n",
      "0.517375  0.526375  1075.241667  10.871753\n",
      "0.517500  0.526375  1075.241667  11.657259\n",
      "0.517500  0.526375  1075.241667   8.498962\n",
      "0.517625  0.526375  1075.241667  11.657144\n",
      "0.517750  0.526375  1075.241667  10.709599\n",
      "0.517875  0.526375  1075.241667   5.229939\n",
      "0.518000  0.526375  1075.241667   3.493753\n",
      "0.518125  0.526375  1075.241667  -0.382438\n",
      "0.518250  0.526375  1075.241667   1.716656\n",
      "0.518625  0.526375  1075.241667   1.138243\n",
      "0.518750  0.526375  1075.241667  12.185357\n",
      "0.518875  0.526375  1075.241667   1.494212\n",
      "0.519000  0.526375  1075.241667   3.024343\n",
      "0.519000  0.526375  1075.241667   2.983499\n",
      "0.519250  0.526375  1075.241667   0.198688\n",
      "0.519500  0.526375  1075.241667  -2.237402\n",
      "0.519500  0.526375  1075.241667   1.672827\n",
      "0.519625  0.526375  1075.241667   0.182381\n",
      "0.519750  0.526375  1075.241667   2.493504\n",
      "0.519875  0.526375  1075.241667  -0.497942\n",
      "0.519875  0.526375  1075.241667   0.869666\n",
      "0.520000  0.526375  1075.241667   6.396594\n",
      "0.520125  0.526375  1075.241667   9.891377\n",
      "0.520250  0.526375  1075.241667   3.158163\n",
      "0.520500  0.526375  1075.241667   5.146877\n",
      "...            ...          ...        ...\n",
      "0.584750  0.526375  1075.241667   7.928267\n",
      "0.584750  0.526375  1075.241667  -6.302801\n",
      "0.584875  0.526375  1075.241667   4.883769\n",
      "0.584875  0.526375  1075.241667  -1.599570\n",
      "0.585000  0.526375  1075.241667   7.181742\n",
      "0.585125  0.526375  1075.241667  17.490327\n",
      "0.585250  0.526375  1075.241667  15.330288\n",
      "0.585375  0.526375  1075.241667  -9.837665\n",
      "0.585625  0.526375  1075.241667   6.033301\n",
      "0.586000  0.526375  1075.241667   3.530291\n",
      "0.586250  0.526375  1075.241667   6.241505\n",
      "0.586375  0.526375  1075.241667  -1.432394\n",
      "0.586500  0.526375  1075.241667   6.619716\n",
      "0.586750  0.526375  1075.241667   2.113733\n",
      "0.587000  0.526375  1075.241667  -2.172286\n",
      "0.587250  0.526375  1075.241667   0.655388\n",
      "0.587375  0.526375  1075.241667   4.714598\n",
      "0.587500  0.526375  1075.241667   0.821879\n",
      "0.587500  0.526375  1075.241667   0.838993\n",
      "0.587750  0.526375  1075.241667   0.705011\n",
      "0.587875  0.526375  1075.241667   3.175247\n",
      "0.587875  0.526375  1075.241667   1.607696\n",
      "0.588000  0.526375  1075.241667  -2.219780\n",
      "0.588000  0.526375  1075.241667  -1.318564\n",
      "0.588250  0.526375  1075.241667   4.844975\n",
      "0.588625  0.526375  1075.241667   1.887015\n",
      "0.589000  0.526375  1075.241667   8.271832\n",
      "0.589125  0.526375  1075.241667   2.577159\n",
      "0.589250  0.526375  1075.241667   4.797488\n",
      "0.589500  0.526375  1075.241667   6.390766\n",
      "\n",
      "[343 rows x 3 columns]\n"
     ]
    }
   ],
   "source": [
    "data = (data.groupby('VWC').mean())\n",
    "print(data)"
   ]
  },
  {
   "cell_type": "code",
   "execution_count": null,
   "metadata": {
    "collapsed": true
   },
   "outputs": [],
   "source": []
  }
 ],
 "metadata": {
  "kernelspec": {
   "display_name": "Python 3",
   "language": "python",
   "name": "python3"
  },
  "language_info": {
   "codemirror_mode": {
    "name": "ipython",
    "version": 3
   },
   "file_extension": ".py",
   "mimetype": "text/x-python",
   "name": "python",
   "nbconvert_exporter": "python",
   "pygments_lexer": "ipython3",
   "version": "3.6.2"
  }
 },
 "nbformat": 4,
 "nbformat_minor": 2
}
