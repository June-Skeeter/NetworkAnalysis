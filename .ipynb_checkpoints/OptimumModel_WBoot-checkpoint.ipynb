{
 "cells": [
  {
   "cell_type": "markdown",
   "metadata": {},
   "source": [
    "##  Optimze and a Dense Neural Network for gap filling and feature identification\n",
    "\n",
    "** With a few tweaks to RepRunner, an LSTM can be run instead"
   ]
  },
  {
   "cell_type": "code",
   "execution_count": 1,
   "metadata": {
    "scrolled": false
   },
   "outputs": [
    {
     "name": "stderr",
     "output_type": "stream",
     "text": [
      "C:\\Anaconda3\\lib\\site-packages\\sklearn\\externals\\joblib\\__init__.py:15: FutureWarning: sklearn.externals.joblib is deprecated in 0.21 and will be removed in 0.23. Please import this functionality directly from joblib, which can be installed with: pip install joblib. If this warning is raised when loading pickled models, you may need to re-serialize those models with scikit-learn 0.21+.\n",
      "  warnings.warn(msg, category=FutureWarning)\n",
      "Using TensorFlow backend.\n",
      "C:\\Anaconda3\\lib\\site-packages\\tensorflow\\python\\framework\\dtypes.py:516: FutureWarning: Passing (type, 1) or '1type' as a synonym of type is deprecated; in a future version of numpy, it will be understood as (type, (1,)) / '(1,)type'.\n",
      "  _np_qint8 = np.dtype([(\"qint8\", np.int8, 1)])\n",
      "C:\\Anaconda3\\lib\\site-packages\\tensorflow\\python\\framework\\dtypes.py:517: FutureWarning: Passing (type, 1) or '1type' as a synonym of type is deprecated; in a future version of numpy, it will be understood as (type, (1,)) / '(1,)type'.\n",
      "  _np_quint8 = np.dtype([(\"quint8\", np.uint8, 1)])\n",
      "C:\\Anaconda3\\lib\\site-packages\\tensorflow\\python\\framework\\dtypes.py:518: FutureWarning: Passing (type, 1) or '1type' as a synonym of type is deprecated; in a future version of numpy, it will be understood as (type, (1,)) / '(1,)type'.\n",
      "  _np_qint16 = np.dtype([(\"qint16\", np.int16, 1)])\n",
      "C:\\Anaconda3\\lib\\site-packages\\tensorflow\\python\\framework\\dtypes.py:519: FutureWarning: Passing (type, 1) or '1type' as a synonym of type is deprecated; in a future version of numpy, it will be understood as (type, (1,)) / '(1,)type'.\n",
      "  _np_quint16 = np.dtype([(\"quint16\", np.uint16, 1)])\n",
      "C:\\Anaconda3\\lib\\site-packages\\tensorflow\\python\\framework\\dtypes.py:520: FutureWarning: Passing (type, 1) or '1type' as a synonym of type is deprecated; in a future version of numpy, it will be understood as (type, (1,)) / '(1,)type'.\n",
      "  _np_qint32 = np.dtype([(\"qint32\", np.int32, 1)])\n",
      "C:\\Anaconda3\\lib\\site-packages\\tensorflow\\python\\framework\\dtypes.py:525: FutureWarning: Passing (type, 1) or '1type' as a synonym of type is deprecated; in a future version of numpy, it will be understood as (type, (1,)) / '(1,)type'.\n",
      "  np_resource = np.dtype([(\"resource\", np.ubyte, 1)])\n",
      "C:\\Anaconda3\\lib\\site-packages\\tensorboard\\compat\\tensorflow_stub\\dtypes.py:541: FutureWarning: Passing (type, 1) or '1type' as a synonym of type is deprecated; in a future version of numpy, it will be understood as (type, (1,)) / '(1,)type'.\n",
      "  _np_qint8 = np.dtype([(\"qint8\", np.int8, 1)])\n",
      "C:\\Anaconda3\\lib\\site-packages\\tensorboard\\compat\\tensorflow_stub\\dtypes.py:542: FutureWarning: Passing (type, 1) or '1type' as a synonym of type is deprecated; in a future version of numpy, it will be understood as (type, (1,)) / '(1,)type'.\n",
      "  _np_quint8 = np.dtype([(\"quint8\", np.uint8, 1)])\n",
      "C:\\Anaconda3\\lib\\site-packages\\tensorboard\\compat\\tensorflow_stub\\dtypes.py:543: FutureWarning: Passing (type, 1) or '1type' as a synonym of type is deprecated; in a future version of numpy, it will be understood as (type, (1,)) / '(1,)type'.\n",
      "  _np_qint16 = np.dtype([(\"qint16\", np.int16, 1)])\n",
      "C:\\Anaconda3\\lib\\site-packages\\tensorboard\\compat\\tensorflow_stub\\dtypes.py:544: FutureWarning: Passing (type, 1) or '1type' as a synonym of type is deprecated; in a future version of numpy, it will be understood as (type, (1,)) / '(1,)type'.\n",
      "  _np_quint16 = np.dtype([(\"quint16\", np.uint16, 1)])\n",
      "C:\\Anaconda3\\lib\\site-packages\\tensorboard\\compat\\tensorflow_stub\\dtypes.py:545: FutureWarning: Passing (type, 1) or '1type' as a synonym of type is deprecated; in a future version of numpy, it will be understood as (type, (1,)) / '(1,)type'.\n",
      "  _np_qint32 = np.dtype([(\"qint32\", np.int32, 1)])\n",
      "C:\\Anaconda3\\lib\\site-packages\\tensorboard\\compat\\tensorflow_stub\\dtypes.py:550: FutureWarning: Passing (type, 1) or '1type' as a synonym of type is deprecated; in a future version of numpy, it will be understood as (type, (1,)) / '(1,)type'.\n",
      "  np_resource = np.dtype([(\"resource\", np.ubyte, 1)])\n"
     ]
    }
   ],
   "source": [
    "import time\n",
    "import math\n",
    "import numpy as np\n",
    "import pandas as pd\n",
    "import matplotlib.pyplot as plt\n",
    "from itertools import combinations\n",
    "# from functools import partial\n",
    "from multiprocessing import Pool\n",
    "from functools import partial\n",
    "from sklearn import metrics\n",
    "# from sklearn.model_selection import train_test_split\n",
    "\n",
    "## Personal Modules\n",
    "import ReadStandardTimeFill as RSTF\n",
    "import importlib\n",
    "import DenseNet as Dense\n",
    "import MiscFuncs as MF\n",
    "importlib.reload(Dense)\n",
    "importlib.reload(RSTF)\n",
    "importlib.reload(MF)\n",
    "\n",
    "# %matplotlib inline\n",
    "\n",
    "%matplotlib notebook\n",
    "%config IPCompleter.greedy=True\n",
    "\n",
    "from scipy.optimize import minimize, curve_fit\n",
    "from scipy.stats import norm\n",
    "# from sklearn.gaussian_process import GaussianProcessRegressor\n",
    "# from sklearn.gaussian_process.kernels import Matern, WhiteKernel, ConstantKernel\n",
    "from sklearn.externals import joblib\n",
    "from matplotlib import cm\n",
    "\n",
    "from scipy import stats\n",
    "# from statsmodels.stats.multicomp import pairwise_tukeyhsd\n",
    "# from statsmodels.stats.multicomp import MultiComparison\n",
    "\n",
    "from ipywidgets import FloatProgress, HTML\n",
    "from IPython.display import display, clear_output\n",
    "import os  \n",
    "import shutil\n",
    "from keras import backend as K\n",
    "try:pool.close()\n",
    "except:pass\n",
    "\n",
    "\n",
    "def Test(params,X,y,YScaled,XScaled,pool):\n",
    "    return(np.random.rand(params['K']))\n",
    "\n",
    "\n",
    "def ModSelect(Scope,Site):\n",
    "    if Site == 'Illisarvik':\n",
    "        if Scope == 'Full':\n",
    "#             Model = ['wind_speed','PPFD_Avg','AirTC_Avg','VPD',\n",
    "#                     'Temp','VWC','Sedge','Shrub','Grass','Upland']\n",
    "            Model = ['PPFD_Avg','AirTC_Avg','VPD','wind_speed',\n",
    "                    'Temp','VWC','Sedge','Shrub','Grass','Out_of_Basin']\n",
    "        if Scope == 'Test':\n",
    "            Model = ['PPFD_Avg','VPD','wind_speed','VWC']\n",
    "    if Site == 'FishIsland':\n",
    "        BaseFactors = []\n",
    "        if Scope == 'Full':\n",
    "            Model=['H','AirTC_Avg','VPD','NR_Wm2_Avg','PPFD_Avg',\n",
    "                  'Table_1','Delta_Table_1','VWC_1','Delta_VWC_1','VWC_2','Delta_VWC_2',\n",
    "                  'Temp_5_1','Temp_5_2','Temp_15_1','Temp_15_2','Delta_Temp_1','Delta_Temp_2',\n",
    "                  'Active_Layer_1','Total_Rain_mm_Tot','wind_speed','u*','wind_dir','air_pressure',\n",
    "                  'Time','DOY']\n",
    "        if Scope == 'Test':\n",
    "            Model = ['Wind Spd','Ta','Rn','VWC']\n",
    "    return(Model)\n",
    "\n",
    "def Combos(Model,L,factor=None):\n",
    "    Models=[]\n",
    "    for c in combinations(Model,L):\n",
    "        c = list(c)\n",
    "        if factor is None:\n",
    "            Models.append(c)\n",
    "        else:\n",
    "            for f in factor:\n",
    "                f = f.split('+')\n",
    "                if set(f).issubset(set(c)) and c not in Models:\n",
    "                    Models.append(c)\n",
    "                    \n",
    "#     print('Models: ',Models)\n",
    "    return(Models)\n",
    "\n",
    "def Stats(mse,se,r2,j,i,params):\n",
    "    df = pd.DataFrame(index = [str(j)+'_'+str(i)],\n",
    "                      data={'Model':[params['Model']],\n",
    "                            'MSE':[mse],\n",
    "                            'Size':j,\n",
    "                            'Number':i,\n",
    "                            'HiddenNodes':params['N'],\n",
    "                            'SE':[se],\n",
    "                            'r2':[r2],\n",
    "                            'Performance':0,\n",
    "                            'K':[params['K']]})\n",
    "    return(df)\n",
    "\n",
    "def t(p,n):\n",
    "    alpha = 1-p\n",
    "    df = n-1\n",
    "    return(stats.t.ppf(alpha,df))\n",
    "\n",
    "FirstRun = True\n",
    "# FirstRun = False\n",
    "\n",
    "MP=True\n",
    "# MP=False\n",
    "Scope = 'Full'\n",
    "# Scope = 'Test'\n",
    "# if Scope == Test:\n",
    "#     processes=2\n",
    "# else:\n",
    "processes=3\n",
    "    \n",
    "cwd = os.getcwd()\n",
    "# for Site in ['Illisarvik','FishIsland']:\n",
    "# Site='FishIsland'\n",
    "Site = 'Illisarvik'\n",
    "# target='fch4'\n",
    "alpha = .05\n",
    "# print(cwd)\n",
    "\n",
    "\n",
    "pd.set_option('max_colwidth',200)\n",
    "def Display (tar,prog1,prog2,MdLs,MdL):\n",
    "    clear_output()\n",
    "    display(tar)\n",
    "    display(prog1)\n",
    "    display(prog2)\n",
    "    display(MdLs)\n",
    "    display(MdL)\n",
    "    \n",
    "tar = HTML(\n",
    "            value=\" \",\n",
    "            placeholder='Target: ',\n",
    "            description='Target: ',\n",
    "        )\n",
    "kwt = HTML(\n",
    "        value=str(0),\n",
    "        placeholder='Quit Score: ',\n",
    "        description='Quit Score: ',\n",
    "        )"
   ]
  },
  {
   "cell_type": "code",
   "execution_count": 2,
   "metadata": {
    "scrolled": false
   },
   "outputs": [
    {
     "data": {
      "application/vnd.jupyter.widget-view+json": {
       "model_id": "56870caa06a8475282383046450fe654",
       "version_major": 2,
       "version_minor": 0
      },
      "text/plain": [
       "HTML(value='fco2', description='Target: ', placeholder='Target: ')"
      ]
     },
     "metadata": {},
     "output_type": "display_data"
    },
    {
     "data": {
      "application/vnd.jupyter.widget-view+json": {
       "model_id": "e873419498cf4cb98e1aee9151f6839a",
       "version_major": 2,
       "version_minor": 0
      },
      "text/plain": [
       "FloatProgress(value=1.0, description='Running:', max=11.0, min=1.0)"
      ]
     },
     "metadata": {},
     "output_type": "display_data"
    },
    {
     "data": {
      "application/vnd.jupyter.widget-view+json": {
       "model_id": "77a699574ccb49a4bc06c7ae69a7c067",
       "version_major": 2,
       "version_minor": 0
      },
      "text/plain": [
       "FloatProgress(value=0.0, description='Bootstrapping:')"
      ]
     },
     "metadata": {},
     "output_type": "display_data"
    },
    {
     "data": {
      "application/vnd.jupyter.widget-view+json": {
       "model_id": "f50f07d2b69944f8b1a202aa50b1d11e",
       "version_major": 2,
       "version_minor": 0
      },
      "text/plain": [
       "HTML(value=' ', description='Models: ', placeholder='Models: ')"
      ]
     },
     "metadata": {},
     "output_type": "display_data"
    },
    {
     "data": {
      "application/vnd.jupyter.widget-view+json": {
       "model_id": "c072a94b13e14403b7cce8aea3f4f5b6",
       "version_major": 2,
       "version_minor": 0
      },
      "text/plain": [
       "HTML(value=' ', description='Testing: ', placeholder='Testing: ')"
      ]
     },
     "metadata": {},
     "output_type": "display_data"
    },
    {
     "name": "stdout",
     "output_type": "stream",
     "text": [
      "1\n",
      "Runtime:  1.1267640590667725\n",
      "(915,)\n"
     ]
    },
    {
     "ename": "NameError",
     "evalue": "name 'Records' is not defined",
     "output_type": "error",
     "traceback": [
      "\u001b[1;31m---------------------------------------------------------------------------\u001b[0m",
      "\u001b[1;31mNameError\u001b[0m                                 Traceback (most recent call last)",
      "\u001b[1;32m<ipython-input-2-42fcff0dd974>\u001b[0m in \u001b[0;36m<module>\u001b[1;34m\u001b[0m\n\u001b[0;32m    138\u001b[0m             \u001b[0mSmalls\u001b[0m \u001b[1;33m=\u001b[0m \u001b[0mTop\u001b[0m\u001b[1;33m.\u001b[0m\u001b[0mnsmallest\u001b[0m\u001b[1;33m(\u001b[0m\u001b[1;36m1\u001b[0m\u001b[1;33m,\u001b[0m\u001b[1;34m'MSE'\u001b[0m\u001b[1;33m)\u001b[0m\u001b[1;33m\u001b[0m\u001b[1;33m\u001b[0m\u001b[0m\n\u001b[0;32m    139\u001b[0m             \u001b[0mLevel\u001b[0m\u001b[1;33m.\u001b[0m\u001b[0mloc\u001b[0m\u001b[1;33m[\u001b[0m\u001b[0mLevel\u001b[0m\u001b[1;33m.\u001b[0m\u001b[0mMSE\u001b[0m\u001b[1;33m.\u001b[0m\u001b[0misin\u001b[0m\u001b[1;33m(\u001b[0m\u001b[0mSmalls\u001b[0m\u001b[1;33m[\u001b[0m\u001b[1;34m'MSE'\u001b[0m\u001b[1;33m]\u001b[0m\u001b[1;33m.\u001b[0m\u001b[0mvalues\u001b[0m\u001b[1;33m)\u001b[0m\u001b[1;33m==\u001b[0m\u001b[1;32mFalse\u001b[0m\u001b[1;33m,\u001b[0m\u001b[1;34m'Performance'\u001b[0m\u001b[1;33m]\u001b[0m\u001b[1;33m-=\u001b[0m\u001b[1;36m1\u001b[0m\u001b[1;33m\u001b[0m\u001b[1;33m\u001b[0m\u001b[0m\n\u001b[1;32m--> 140\u001b[1;33m             \u001b[0mRecords\u001b[0m \u001b[1;33m=\u001b[0m \u001b[0mRecords\u001b[0m\u001b[1;33m.\u001b[0m\u001b[0mappend\u001b[0m\u001b[1;33m(\u001b[0m\u001b[0mLevel\u001b[0m\u001b[1;33m)\u001b[0m\u001b[1;33m\u001b[0m\u001b[1;33m\u001b[0m\u001b[0m\n\u001b[0m\u001b[0;32m    141\u001b[0m             \u001b[0mFactors\u001b[0m \u001b[1;33m=\u001b[0m \u001b[0mLevel\u001b[0m\u001b[1;33m.\u001b[0m\u001b[0mloc\u001b[0m\u001b[1;33m[\u001b[0m\u001b[0mLevel\u001b[0m\u001b[1;33m[\u001b[0m\u001b[1;34m'Performance'\u001b[0m\u001b[1;33m]\u001b[0m\u001b[1;33m>=\u001b[0m\u001b[0mPthresh\u001b[0m\u001b[1;33m,\u001b[0m\u001b[1;34m'Model'\u001b[0m\u001b[1;33m]\u001b[0m\u001b[1;33m.\u001b[0m\u001b[0mvalues\u001b[0m\u001b[1;33m\u001b[0m\u001b[1;33m\u001b[0m\u001b[0m\n\u001b[0;32m    142\u001b[0m             \u001b[0mRecords\u001b[0m \u001b[1;33m=\u001b[0m \u001b[0mRecords\u001b[0m\u001b[1;33m.\u001b[0m\u001b[0mreset_index\u001b[0m\u001b[1;33m(\u001b[0m\u001b[0mdrop\u001b[0m\u001b[1;33m=\u001b[0m\u001b[1;32mTrue\u001b[0m\u001b[1;33m)\u001b[0m\u001b[1;33m\u001b[0m\u001b[1;33m\u001b[0m\u001b[0m\n",
      "\u001b[1;31mNameError\u001b[0m: name 'Records' is not defined"
     ]
    }
   ],
   "source": [
    "depth = 2\n",
    "Time = time.time()\n",
    "FirstRun = True\n",
    "# FirstRun = False\n",
    "kwit = 0\n",
    "Pthresh=1\n",
    "if __name__ == '__main__':\n",
    "    for target in ['fco2','fch4']:\n",
    "        XVarriables=ModSelect(Scope,Site)\n",
    "#         if target == 'fch4' and Site == 'FishIsland':\n",
    "#             XVarriables.append('fco2')\n",
    "        if FirstRun == True:\n",
    "            start=1\n",
    "            stop = len(XVarriables)\n",
    "#             if depth < stop:\n",
    "#                 stop = depth\n",
    "            stop += 1#2\n",
    "            try:shutil.rmtree(cwd+'/'+Site+'/'+target+'/')\n",
    "            except:pass\n",
    "            os.mkdir(cwd+'/'+Site+'/'+target+'/')\n",
    "        else:\n",
    "            params = Dense.Params(Scope,target,MP)\n",
    "            params['Dpath'] = cwd+'/'+Site+'/'\n",
    "            Records = pd.read_csv(cwd+'/'+Site+'/'+target+'_Runs.csv',delimiter = ',',header = 0,index_col=[0])\n",
    "            start = Records['Size'].max()+1\n",
    "            Level = Records.loc[Records['Size']==start-1]\n",
    "            Min = Level.loc[Level['MSE']==Level['MSE'].min()]\n",
    "            \n",
    "            stop = len(XVarriables)\n",
    "            if start >1:\n",
    "                Factors = Level.loc[Level['Performance']>=Pthresh,'Model'].values\n",
    "#             print(Factors)\n",
    "                 \n",
    "        tar.value=target\n",
    "        prog1 = FloatProgress(min=start, max=stop,description='Running:')\n",
    "        prog2 = FloatProgress(min=0, max=100,description='Bootstrapping:')\n",
    "        MdLs = HTML(\n",
    "            value=\" \",placeholder='Models: ',description='Models: ',\n",
    "        )\n",
    "        MdL = HTML(\n",
    "            value=\" \",placeholder='Testing: ',description='Testing: ',\n",
    "        )\n",
    "        Display (tar,prog1,prog2,MdLs,MdL)\n",
    "\n",
    "        for j in range(start,stop):  \n",
    "            print(j)\n",
    "            if j == 1 and Site == 'Illisarvik' and target == 'fco2': Inputs = [['PPFD_Avg']]\n",
    "#             elif j == 2 and Site == 'Illisarvik' and target == 'fco2': Inputs = [['PPFD_Avg','VPD']]\n",
    "#             elif j == 3 and Site == 'Illisarvik' and target == 'fco2': Inputs = [['PPFD_Avg','VPD','VWC']]\n",
    "# #                                                                                  ['PPFD_Avg','VWC'],['PPFD_Avg','Out_of_Basin']]\n",
    "# #             elif j == 2 and Site == 'Illisarvik' and target == 'fch4': Inputs = [['Sedge','VWC']]\n",
    "            elif j == 1 and Site == 'Illisarvik' and target == 'fch4': Inputs = [['Sedge']]#,['Out_of_Basin']]\n",
    "            elif j == 2 and Site == 'Illisarvik' and target == 'fch4': Inputs = [['Sedge','VWC']]\n",
    "#             elif j == 3 and Site == 'Illisarvik' and target == 'fch4': Inputs = [['Sedge','VWC','Temp']]\n",
    "#             elif j == 4 and Site == 'Illisarvik' and target == 'fch4': Inputs = [['Sedge','VWC','Temp','PPFD_Avg'],\n",
    "#                                                                               ['Sedge','VWC','Temp','Shrub']]\n",
    "#           \n",
    "                \n",
    "            elif j == 1: Inputs = (Combos(XVarriables,j))\n",
    "            else: Inputs = (Combos(XVarriables,j,Factors))\n",
    "            MdLs.value=str(len(Inputs))\n",
    "            i = 0\n",
    "            procede = True\n",
    "            for Input in Inputs:\n",
    "                if FirstRun == False:\n",
    "                    if Records.loc[Records['Size']==j].isin({'Number':[i]}).any().any()==True:\n",
    "                        procede = False\n",
    "                    else:\n",
    "                        procede = True\n",
    "                if procede == True:\n",
    "                    params = Dense.Params(Scope,target,MP)\n",
    "                    params['Dpath'] = cwd+'/'+Site+'/'\n",
    "                    params['Spath'] = params['Dpath']+'/'+target+'/'+str(j)+'_'+str(i)+'/'\n",
    "                    try:os.mkdir(params['Spath'])\n",
    "                    except:pass\n",
    "                    params['Sname'] = 'Y_'\n",
    "                    params['Inputs'] = Input\n",
    "                    MdL.value='#'+str(i)+' '+str(params['Inputs'])\n",
    "#                     Display (tar,prog1,prog2,MdLs,MdL)\n",
    "                    print('Runtime: ',time.time()-Time)\n",
    "                    params['Model'] = '+'.join(params['Inputs'])\n",
    "                    RST = RSTF.ReadStandardTimeFill(params,'AllData.csv',\n",
    "                                           FPFill=[10,['Sedge','Shrub','Grass','Out_of_Basin']])#,resample='2H')\n",
    "                    if target == 'ER':\n",
    "                        RST.Master = RST.Master.loc[RST.Master['fco2']>0]\n",
    "                    RST.Scale(params['target'],params['Inputs']) \n",
    "                    print(RST.y.shape)\n",
    "                    y = RST.y*1.0\n",
    "                    X = RST.X*1.0\n",
    "                    Ni = len(Input)\n",
    "                    Ns = y.shape[0]\n",
    "                    No = 1\n",
    "                    a = 2\n",
    "                    params['N']=int(Ns/(a*(Ni+No)))\n",
    "                    params['Memory'] = (math.floor(100/params['proc'])- 5/params['proc']) * .01\n",
    "                    Y_hat=[]\n",
    "                    y_true=[]\n",
    "                    X_true=[]\n",
    "                    index=[]\n",
    "                    ones=[]\n",
    "                    prog2.value=0\n",
    "                    pool = Pool(processes=processes,maxtasksperchild=75)\n",
    "                    for k,results in enumerate(pool.imap(partial(Dense.Bootstrap,params=params,X=X,y=y),range(params['K']))):\n",
    "                        Y_hat.append(RST.YScaled.inverse_transform(results[0]))\n",
    "                        y_true.append(RST.YScaled.inverse_transform(results[1]))\n",
    "                        X_true.append(RST.XScaled.inverse_transform(results[2]))\n",
    "                        ones.append(results[3])\n",
    "                        prog2.value=(k+1)/params['K']*100\n",
    "                    pool.close()\n",
    "                    Y_hat = np.squeeze(np.asanyarray(Y_hat))\n",
    "                    y_true = np.squeeze(np.asanyarray(y_true))\n",
    "                    X_true = np.asanyarray(X_true)\n",
    "                    ones = np.asanyarray(ones)\n",
    "                    params['Memory'] = .95\n",
    "                    pool = Pool(processes=1,maxtasksperchild=75)\n",
    "                    for k,results in enumerate(pool.imap(partial(Dense.Sort_outputs,params=params,\n",
    "                     Y_hat=Y_hat,y_true=y_true,X_true=X_true,ones=ones),range(1))):\n",
    "                         mse,se,r2 = results\n",
    "                    pool.close()\n",
    "                    if i == 0 and FirstRun == True:Level = Stats(mse,se,r2,j,i,params)\n",
    "                    else:\n",
    "                        Level = Level.loc[Level['Size']==j]\n",
    "                        Level = Level.append(Stats(mse,se,r2,j,i,params))\n",
    "#                     print(Level)\n",
    "                    Level.to_csv('Temp.csv')\n",
    "                i += 1\n",
    "                prog1.value=j+i/len(Inputs)\n",
    "                \n",
    "            Level['Thresh'] = Level['MSE']+Level['SE']\n",
    "            Min = Level.loc[Level['MSE']==Level['MSE'].min()]\n",
    "            if j == 1:\n",
    "                Level.loc[Level['MSE']<=Min['MSE'].values[0]+Min['SE'].values[0]*1,'Performance']+=1\n",
    "            else:\n",
    "                if Records['MSE'].min()>Min['MSE'].values[0]:\n",
    "                    Level.loc[Level['MSE']<=Min['MSE'].values[0]+Min['SE'].values[0]*1,'Performance']+=1\n",
    "            Top = Level.loc[Level['Performance']==Level['Performance'].max()]\n",
    "            Smalls = Top.nsmallest(1,'MSE')\n",
    "            Level.loc[Level.MSE.isin(Smalls['MSE'].values)==False,'Performance']-=1\n",
    "            if j == 1:\n",
    "                Records = Level\n",
    "            else:\n",
    "                Records = Records.append(Level)\n",
    "            Factors = Level.loc[Level['Performance']>=Pthresh,'Model'].values\n",
    "            Records = Records.reset_index(drop=True)\n",
    "            Records.drop(Records.columns[Records.columns.str.contains('Unnamed',case = False)],axis = 1)\n",
    "            if Scope == 'Full':\n",
    "                Records.to_csv(params['Dpath']+'/'+target+'_Runs.csv')\n",
    "            else:\n",
    "                Records.to_csv(params['Dpath']+'/'+target+'_Runs2.csv')\n",
    "            if Level['Performance'].max()<Pthresh and j>1:\n",
    "                break"
   ]
  },
  {
   "cell_type": "code",
   "execution_count": 107,
   "metadata": {},
   "outputs": [
    {
     "name": "stdout",
     "output_type": "stream",
     "text": [
      "          Model         MSE  Size  Number  HiddenNodes         SE        r2  \\\n",
      "0      PPFD_Avg  108.897557     1       0          219   8.338147  0.035473   \n",
      "1     AirTC_Avg  103.263229     1       1          219   9.101731  0.085378   \n",
      "2           VPD  107.756707     1       2          219  10.134949  0.045578   \n",
      "3    wind_speed  110.497419     1       3          219  10.802573  0.021303   \n",
      "4          Temp  112.306877     1       4          219  11.083581  0.005276   \n",
      "5           VWC  103.611094     1       5          219   9.536351  0.082297   \n",
      "6         Sedge   97.573839     1       6          219   8.368755  0.135770   \n",
      "7         Shrub  108.302372     1       7          219  10.808424  0.040745   \n",
      "8         Grass  102.924988     1       8          219   9.591366  0.088374   \n",
      "9  Out_of_Basin  107.133056     1       9          219  10.284429  0.051102   \n",
      "\n",
      "   Performance   K      Thresh  \n",
      "0            0  15  117.235703  \n",
      "1            1  15  112.364959  \n",
      "2            0  15  117.891656  \n",
      "3            0  15  121.299992  \n",
      "4            0  15  123.390458  \n",
      "5            1  15  113.147445  \n",
      "6            1  15  105.942594  \n",
      "7            0  15  119.110796  \n",
      "8            1  15  112.516355  \n",
      "9            0  15  117.417484  \n"
     ]
    }
   ],
   "source": [
    "print(Records)"
   ]
  },
  {
   "cell_type": "code",
   "execution_count": 92,
   "metadata": {
    "scrolled": false
   },
   "outputs": [
    {
     "data": {
      "application/vnd.jupyter.widget-view+json": {
       "model_id": "eb8c0ab72cf648298097a9fd1491131d",
       "version_major": 2,
       "version_minor": 0
      },
      "text/plain": [
       "HTML(value='fch4', description='Target: ', placeholder='Target: ')"
      ]
     },
     "metadata": {},
     "output_type": "display_data"
    },
    {
     "data": {
      "application/vnd.jupyter.widget-view+json": {
       "model_id": "e2c3dd3c62644236b16db254089cd866",
       "version_major": 2,
       "version_minor": 0
      },
      "text/plain": [
       "FloatProgress(value=1.0, description='Running:', max=2.0, min=1.0)"
      ]
     },
     "metadata": {},
     "output_type": "display_data"
    },
    {
     "data": {
      "application/vnd.jupyter.widget-view+json": {
       "model_id": "70eba5c092214034a81f3d5e5fedb3ce",
       "version_major": 2,
       "version_minor": 0
      },
      "text/plain": [
       "FloatProgress(value=0.0, description='Bootstrapping:')"
      ]
     },
     "metadata": {},
     "output_type": "display_data"
    },
    {
     "data": {
      "application/vnd.jupyter.widget-view+json": {
       "model_id": "bdc74389cda842c3a15e7f12633ae139",
       "version_major": 2,
       "version_minor": 0
      },
      "text/plain": [
       "HTML(value=' ', description='Models: ', placeholder='Models: ')"
      ]
     },
     "metadata": {},
     "output_type": "display_data"
    },
    {
     "data": {
      "application/vnd.jupyter.widget-view+json": {
       "model_id": "2d9d52e9393448c4afdb46d668a3b6a2",
       "version_major": 2,
       "version_minor": 0
      },
      "text/plain": [
       "HTML(value=' ', description='Testing: ', placeholder='Testing: ')"
      ]
     },
     "metadata": {},
     "output_type": "display_data"
    },
    {
     "ename": "KeyError",
     "evalue": "\"['Delta_Table_1', 'Active_Layer_1', 'VWC_2', 'Delta_VWC_2', 'Total_Rain_mm_Tot', 'Delta_Temp_1'] not in index\"",
     "output_type": "error",
     "traceback": [
      "\u001b[1;31m---------------------------------------------------------------------------\u001b[0m",
      "\u001b[1;31mKeyError\u001b[0m                                  Traceback (most recent call last)",
      "\u001b[1;32m<ipython-input-92-7c5e925c8acd>\u001b[0m in \u001b[0;36m<module>\u001b[1;34m\u001b[0m\n\u001b[0;32m     63\u001b[0m         \u001b[0mparams\u001b[0m\u001b[1;33m[\u001b[0m\u001b[1;34m'Inputs'\u001b[0m\u001b[1;33m]\u001b[0m \u001b[1;33m=\u001b[0m \u001b[0mInput\u001b[0m\u001b[1;33m\u001b[0m\u001b[1;33m\u001b[0m\u001b[0m\n\u001b[0;32m     64\u001b[0m         \u001b[0mparams\u001b[0m\u001b[1;33m[\u001b[0m\u001b[1;34m'Model'\u001b[0m\u001b[1;33m]\u001b[0m \u001b[1;33m=\u001b[0m \u001b[1;34m'+'\u001b[0m\u001b[1;33m.\u001b[0m\u001b[0mjoin\u001b[0m\u001b[1;33m(\u001b[0m\u001b[0mparams\u001b[0m\u001b[1;33m[\u001b[0m\u001b[1;34m'Inputs'\u001b[0m\u001b[1;33m]\u001b[0m\u001b[1;33m)\u001b[0m\u001b[1;33m\u001b[0m\u001b[1;33m\u001b[0m\u001b[0m\n\u001b[1;32m---> 65\u001b[1;33m         \u001b[0mRST\u001b[0m\u001b[1;33m.\u001b[0m\u001b[0mScale\u001b[0m\u001b[1;33m(\u001b[0m\u001b[0mparams\u001b[0m\u001b[1;33m[\u001b[0m\u001b[1;34m'target'\u001b[0m\u001b[1;33m]\u001b[0m\u001b[1;33m,\u001b[0m\u001b[0mparams\u001b[0m\u001b[1;33m[\u001b[0m\u001b[1;34m'Inputs'\u001b[0m\u001b[1;33m]\u001b[0m\u001b[1;33m)\u001b[0m\u001b[1;33m\u001b[0m\u001b[1;33m\u001b[0m\u001b[0m\n\u001b[0m\u001b[0;32m     66\u001b[0m         \u001b[0my\u001b[0m \u001b[1;33m=\u001b[0m \u001b[0mRST\u001b[0m\u001b[1;33m.\u001b[0m\u001b[0my\u001b[0m\u001b[1;33m*\u001b[0m\u001b[1;36m1.0\u001b[0m\u001b[1;33m\u001b[0m\u001b[1;33m\u001b[0m\u001b[0m\n\u001b[0;32m     67\u001b[0m         \u001b[0mX\u001b[0m \u001b[1;33m=\u001b[0m \u001b[0mRST\u001b[0m\u001b[1;33m.\u001b[0m\u001b[0mX\u001b[0m\u001b[1;33m*\u001b[0m\u001b[1;36m1.0\u001b[0m\u001b[1;33m\u001b[0m\u001b[1;33m\u001b[0m\u001b[0m\n",
      "\u001b[1;32m~\\NetworkAnalysis\\ReadStandardTimeFill.py\u001b[0m in \u001b[0;36mScale\u001b[1;34m(self, y_var, X_vars, ScalePath, Project, fillTarget)\u001b[0m\n\u001b[0;32m     59\u001b[0m             \u001b[0mYscale\u001b[0m \u001b[1;33m=\u001b[0m \u001b[0mself\u001b[0m\u001b[1;33m.\u001b[0m\u001b[0mYScaled\u001b[0m\u001b[1;33m.\u001b[0m\u001b[0mtransform\u001b[0m\u001b[1;33m(\u001b[0m\u001b[0mself\u001b[0m\u001b[1;33m.\u001b[0m\u001b[0my\u001b[0m\u001b[1;33m.\u001b[0m\u001b[0mreshape\u001b[0m\u001b[1;33m(\u001b[0m\u001b[1;33m-\u001b[0m\u001b[1;36m1\u001b[0m\u001b[1;33m,\u001b[0m \u001b[1;36m1\u001b[0m\u001b[1;33m)\u001b[0m\u001b[1;33m)\u001b[0m\u001b[1;33m\u001b[0m\u001b[1;33m\u001b[0m\u001b[0m\n\u001b[0;32m     60\u001b[0m             \u001b[0mself\u001b[0m\u001b[1;33m.\u001b[0m\u001b[0my\u001b[0m \u001b[1;33m=\u001b[0m \u001b[0mnp\u001b[0m\u001b[1;33m.\u001b[0m\u001b[0mndarray\u001b[0m\u001b[1;33m.\u001b[0m\u001b[0mflatten\u001b[0m\u001b[1;33m(\u001b[0m\u001b[0mYscale\u001b[0m\u001b[1;33m)\u001b[0m\u001b[1;33m\u001b[0m\u001b[1;33m\u001b[0m\u001b[0m\n\u001b[1;32m---> 61\u001b[1;33m         \u001b[0mX\u001b[0m \u001b[1;33m=\u001b[0m \u001b[0mself\u001b[0m\u001b[1;33m.\u001b[0m\u001b[0mData\u001b[0m\u001b[1;33m[\u001b[0m\u001b[0mX_vars\u001b[0m\u001b[1;33m]\u001b[0m\u001b[1;33m\u001b[0m\u001b[1;33m\u001b[0m\u001b[0m\n\u001b[0m\u001b[0;32m     62\u001b[0m         \u001b[0mself\u001b[0m\u001b[1;33m.\u001b[0m\u001b[0minput_shape\u001b[0m \u001b[1;33m=\u001b[0m \u001b[0mlen\u001b[0m\u001b[1;33m(\u001b[0m\u001b[0mX_vars\u001b[0m\u001b[1;33m)\u001b[0m\u001b[1;33m\u001b[0m\u001b[1;33m\u001b[0m\u001b[0m\n\u001b[0;32m     63\u001b[0m         \u001b[1;32mif\u001b[0m \u001b[0mScalePath\u001b[0m \u001b[1;32mis\u001b[0m \u001b[1;32mNone\u001b[0m\u001b[1;33m:\u001b[0m\u001b[1;33m\u001b[0m\u001b[1;33m\u001b[0m\u001b[0m\n",
      "\u001b[1;32mC:\\Anaconda3\\lib\\site-packages\\pandas\\core\\frame.py\u001b[0m in \u001b[0;36m__getitem__\u001b[1;34m(self, key)\u001b[0m\n\u001b[0;32m   2804\u001b[0m             \u001b[1;32mif\u001b[0m \u001b[0mis_iterator\u001b[0m\u001b[1;33m(\u001b[0m\u001b[0mkey\u001b[0m\u001b[1;33m)\u001b[0m\u001b[1;33m:\u001b[0m\u001b[1;33m\u001b[0m\u001b[1;33m\u001b[0m\u001b[0m\n\u001b[0;32m   2805\u001b[0m                 \u001b[0mkey\u001b[0m \u001b[1;33m=\u001b[0m \u001b[0mlist\u001b[0m\u001b[1;33m(\u001b[0m\u001b[0mkey\u001b[0m\u001b[1;33m)\u001b[0m\u001b[1;33m\u001b[0m\u001b[1;33m\u001b[0m\u001b[0m\n\u001b[1;32m-> 2806\u001b[1;33m             \u001b[0mindexer\u001b[0m \u001b[1;33m=\u001b[0m \u001b[0mself\u001b[0m\u001b[1;33m.\u001b[0m\u001b[0mloc\u001b[0m\u001b[1;33m.\u001b[0m\u001b[0m_get_listlike_indexer\u001b[0m\u001b[1;33m(\u001b[0m\u001b[0mkey\u001b[0m\u001b[1;33m,\u001b[0m \u001b[0maxis\u001b[0m\u001b[1;33m=\u001b[0m\u001b[1;36m1\u001b[0m\u001b[1;33m,\u001b[0m \u001b[0mraise_missing\u001b[0m\u001b[1;33m=\u001b[0m\u001b[1;32mTrue\u001b[0m\u001b[1;33m)\u001b[0m\u001b[1;33m[\u001b[0m\u001b[1;36m1\u001b[0m\u001b[1;33m]\u001b[0m\u001b[1;33m\u001b[0m\u001b[1;33m\u001b[0m\u001b[0m\n\u001b[0m\u001b[0;32m   2807\u001b[0m \u001b[1;33m\u001b[0m\u001b[0m\n\u001b[0;32m   2808\u001b[0m         \u001b[1;31m# take() does not accept boolean indexers\u001b[0m\u001b[1;33m\u001b[0m\u001b[1;33m\u001b[0m\u001b[1;33m\u001b[0m\u001b[0m\n",
      "\u001b[1;32mC:\\Anaconda3\\lib\\site-packages\\pandas\\core\\indexing.py\u001b[0m in \u001b[0;36m_get_listlike_indexer\u001b[1;34m(self, key, axis, raise_missing)\u001b[0m\n\u001b[0;32m   1550\u001b[0m \u001b[1;33m\u001b[0m\u001b[0m\n\u001b[0;32m   1551\u001b[0m         self._validate_read_indexer(\n\u001b[1;32m-> 1552\u001b[1;33m             \u001b[0mkeyarr\u001b[0m\u001b[1;33m,\u001b[0m \u001b[0mindexer\u001b[0m\u001b[1;33m,\u001b[0m \u001b[0mo\u001b[0m\u001b[1;33m.\u001b[0m\u001b[0m_get_axis_number\u001b[0m\u001b[1;33m(\u001b[0m\u001b[0maxis\u001b[0m\u001b[1;33m)\u001b[0m\u001b[1;33m,\u001b[0m \u001b[0mraise_missing\u001b[0m\u001b[1;33m=\u001b[0m\u001b[0mraise_missing\u001b[0m\u001b[1;33m\u001b[0m\u001b[1;33m\u001b[0m\u001b[0m\n\u001b[0m\u001b[0;32m   1553\u001b[0m         )\n\u001b[0;32m   1554\u001b[0m         \u001b[1;32mreturn\u001b[0m \u001b[0mkeyarr\u001b[0m\u001b[1;33m,\u001b[0m \u001b[0mindexer\u001b[0m\u001b[1;33m\u001b[0m\u001b[1;33m\u001b[0m\u001b[0m\n",
      "\u001b[1;32mC:\\Anaconda3\\lib\\site-packages\\pandas\\core\\indexing.py\u001b[0m in \u001b[0;36m_validate_read_indexer\u001b[1;34m(self, key, indexer, axis, raise_missing)\u001b[0m\n\u001b[0;32m   1643\u001b[0m             \u001b[1;32mif\u001b[0m \u001b[1;32mnot\u001b[0m \u001b[1;33m(\u001b[0m\u001b[0mself\u001b[0m\u001b[1;33m.\u001b[0m\u001b[0mname\u001b[0m \u001b[1;33m==\u001b[0m \u001b[1;34m\"loc\"\u001b[0m \u001b[1;32mand\u001b[0m \u001b[1;32mnot\u001b[0m \u001b[0mraise_missing\u001b[0m\u001b[1;33m)\u001b[0m\u001b[1;33m:\u001b[0m\u001b[1;33m\u001b[0m\u001b[1;33m\u001b[0m\u001b[0m\n\u001b[0;32m   1644\u001b[0m                 \u001b[0mnot_found\u001b[0m \u001b[1;33m=\u001b[0m \u001b[0mlist\u001b[0m\u001b[1;33m(\u001b[0m\u001b[0mset\u001b[0m\u001b[1;33m(\u001b[0m\u001b[0mkey\u001b[0m\u001b[1;33m)\u001b[0m \u001b[1;33m-\u001b[0m \u001b[0mset\u001b[0m\u001b[1;33m(\u001b[0m\u001b[0max\u001b[0m\u001b[1;33m)\u001b[0m\u001b[1;33m)\u001b[0m\u001b[1;33m\u001b[0m\u001b[1;33m\u001b[0m\u001b[0m\n\u001b[1;32m-> 1645\u001b[1;33m                 \u001b[1;32mraise\u001b[0m \u001b[0mKeyError\u001b[0m\u001b[1;33m(\u001b[0m\u001b[1;34mf\"{not_found} not in index\"\u001b[0m\u001b[1;33m)\u001b[0m\u001b[1;33m\u001b[0m\u001b[1;33m\u001b[0m\u001b[0m\n\u001b[0m\u001b[0;32m   1646\u001b[0m \u001b[1;33m\u001b[0m\u001b[0m\n\u001b[0;32m   1647\u001b[0m             \u001b[1;31m# we skip the warning on Categorical/Interval\u001b[0m\u001b[1;33m\u001b[0m\u001b[1;33m\u001b[0m\u001b[1;33m\u001b[0m\u001b[0m\n",
      "\u001b[1;31mKeyError\u001b[0m: \"['Delta_Table_1', 'Active_Layer_1', 'VWC_2', 'Delta_VWC_2', 'Total_Rain_mm_Tot', 'Delta_Temp_1'] not in index\""
     ]
    }
   ],
   "source": [
    "prog1 = FloatProgress(min=1, max=2,description='Running:')\n",
    "prog2 = FloatProgress(min=0, max=100,description='Bootstrapping:')\n",
    "MdLs = HTML(\n",
    "    value=\" \",\n",
    "    placeholder='Models: ',\n",
    "    description='Models: ',\n",
    ")\n",
    "MdL = HTML(\n",
    "    value=\" \",\n",
    "    placeholder='Testing: ',\n",
    "    description='Testing: ',\n",
    ")\n",
    "Display (tar,prog1,prog2,MdLs,MdL)\n",
    "\n",
    "# i = 1\n",
    "\n",
    "target = 'fch4'\n",
    "MP = True\n",
    "\n",
    "\n",
    "try:\n",
    "    os.mkdir(params['Spath'])\n",
    "except:\n",
    "    pass\n",
    "\n",
    "Inputs = [['Wtr Tbl Trnd'],['Water Table']]\n",
    "\n",
    "Inputs=[['H','AirTC_Avg','VPD','NR_Wm2_Avg','PPFD_Avg',\n",
    "      'Table_1','Delta_Table_1','VWC_1','Delta_VWC_1','VWC_2','Delta_VWC_2',\n",
    "      'Temp_5_1','Temp_5_2','Temp_15_1','Temp_15_2','Delta_Temp_1','Delta_Temp_2',\n",
    "      'Active_Layer_1','Total_Rain_mm_Tot','wind_speed','u*','wind_dir','air_pressure',\n",
    "      'Time','DOY']]\n",
    "\n",
    "# Inputs =[['VPD', 'AirTC_Avg', 'VWC_2', 'air_pressure', 'Delta_VWC_1',\n",
    "#        'Delta_VWC_2', 'wind_speed', 'Total_Rain_mm_Tot', 'Delta_Table_1',\n",
    "#        'u*']]\n",
    "\n",
    "Inputs=[['PPFD_Avg', 'Total_Rain_mm_Tot', 'Delta_Temp_1', 'air_pressure',\n",
    "       'Delta_VWC_2', 'Delta_Table_1', 'H', 'VWC_2', 'wind_speed', 'u*','Active_Layer_1']]\n",
    "\n",
    "# i = 4\n",
    "# for target in ['fco2','fch4']:\n",
    "for target in ['fch4','fco2']:\n",
    "#     Name = 'Taglu/'+target\n",
    "    tar.value=target\n",
    "    Name = 'Test/'+target\n",
    "    for i,Input in enumerate(Inputs):\n",
    "        i =0# 7\n",
    "        j = len(Input)\n",
    "        params = Dense.Params(Scope,target,MP,L=1)\n",
    "#         params['N']=2\n",
    "        params['Dpath'] = cwd+'/'+Site+'/'\n",
    "        params['Sname'] = 'Y_'\n",
    "    #     params['K']=3\n",
    "        params['Verbose']=0\n",
    "        params['validation_split']= 0.2\n",
    "    #     params['patience']=15\n",
    "    #     MP = False\n",
    "    #     params['patience']=2\n",
    "#         RST = RSTF.ReadStandardTimeFill(params,'TagluData.csv')#.resample('H')\n",
    "        RST = RSTF.ReadStandardTimeFill(params,'AllData.csv')#.resample('H')\n",
    "        params['Spath'] = params['Dpath']+Name+'/'+str(j)+'_'+str(i)+'/'\n",
    "        params['Inputs'] = Input\n",
    "        params['Model'] = '+'.join(params['Inputs'])\n",
    "        RST.Scale(params['target'],params['Inputs']) \n",
    "        y = RST.y*1.0\n",
    "        X = RST.X*1.0\n",
    "        if params['N'] is None:\n",
    "            Ni = len(Input)\n",
    "            Ns = y.shape[0]\n",
    "            No = 1\n",
    "            a = 2\n",
    "#             params['N']=int(Ns/(a*(Ni+No)))\n",
    "            ## Rule by Maier et al. 1998\n",
    "            A = int(2*Ni+No)\n",
    "            B = int(2*Ns/((Ni+No)))\n",
    "            if A<B:params['N']=A\n",
    "            else:params['N']=B\n",
    "            print(params['N'])\n",
    "                \n",
    "\n",
    "        params['Memory'] = (math.floor(100/params['proc'])- 5/params['proc']) * .01\n",
    "        Y_hat=[]\n",
    "        y_true=[]\n",
    "        X_true=[]\n",
    "        index=[]\n",
    "        ones=[]\n",
    "        prog2.value=0\n",
    "        print(params)\n",
    "        print(params['N'])\n",
    "        if MP == False:\n",
    "            for k in range(params['K']):\n",
    "                Time2 = time.time()\n",
    "                results = Dense.Bootstrap(k,params,X,y)\n",
    "                Y_hat.append(RST.YScaled.inverse_transform(results[0]))\n",
    "                y_true.append(RST.YScaled.inverse_transform(results[1].reshape(-1,1)))\n",
    "                X_true.append(RST.XScaled.inverse_transform(results[2]))\n",
    "                ones.append(results[3])\n",
    "                prog2.value=(k+1)/params['K']*100\n",
    "#                 print(metrics.mean_squared_error(y_true[k],Y_hat[k]))\n",
    "        else:\n",
    "            pool = Pool(processes=processes,maxtasksperchild=75)\n",
    "            for k,results in enumerate(pool.imap(partial(Dense.Bootstrap,params=params,X=X,y=y),\n",
    "                                                 range(0,params['K']))):\n",
    "                Y_hat.append(RST.YScaled.inverse_transform(results[0]))\n",
    "                y_true.append(RST.YScaled.inverse_transform(results[1].reshape(-1,1)))\n",
    "                X_true.append(RST.XScaled.inverse_transform(results[2]))\n",
    "                ones.append(results[3])\n",
    "                prog2.value=(k+1)/params['K']*100\n",
    "#                 print(metrics.mean_squared_error(y_true[k],Y_hat[k]))\n",
    "            pool.close()\n",
    "        Y_hat = np.squeeze(np.asanyarray(Y_hat))\n",
    "        y_true = np.squeeze(np.asanyarray(y_true))\n",
    "        X_true = np.asanyarray(X_true)\n",
    "        ones = np.asanyarray(ones)\n",
    "        params['Memory'] = .95\n",
    "        print(params)\n",
    "        mse,se,r2 = Dense.Sort_outputs(k,params,Y_hat,y_true,X_true,ones)\n",
    "        if i == 0:\n",
    "            Level = Stats(mse,se,r2,j,i,params)\n",
    "        else:\n",
    "            Level2 = Stats(mse,se,r2,j,i,params)\n",
    "            Level = Level.append(Level2)\n",
    "    #     print(Level)\n",
    "        i +=1\n",
    "    Level['Thresh']=Level['MSE']+Level['SE']\n",
    "    # if Name.split('_')[0] == 'ER':\n",
    "    #     Name = Name + '_Runs'\n",
    "#     Level.to_csv('C:\\\\Users\\\\wesle\\\\NetworkAnalysis\\\\FishIsland/'+target+'_Taglu.csv')\n",
    "    Level.to_csv('C:\\\\Users\\\\wesle\\\\NetworkAnalysis\\\\FishIsland/'+target+'_Test.csv')\n",
    "    print(Level)\n",
    "    \n",
    "#     0.562419 \n",
    "#     0.862799"
   ]
  },
  {
   "cell_type": "markdown",
   "metadata": {},
   "source": [
    "# Model"
   ]
  },
  {
   "cell_type": "code",
   "execution_count": 2,
   "metadata": {
    "scrolled": false
   },
   "outputs": [
    {
     "ename": "NameError",
     "evalue": "name 'Level' is not defined",
     "output_type": "error",
     "traceback": [
      "\u001b[1;31m---------------------------------------------------------------------------\u001b[0m",
      "\u001b[1;31mNameError\u001b[0m                                 Traceback (most recent call last)",
      "\u001b[1;32m<ipython-input-2-ccdfd7aa77ba>\u001b[0m in \u001b[0;36m<module>\u001b[1;34m\u001b[0m\n\u001b[1;32m----> 1\u001b[1;33m \u001b[0mprint\u001b[0m\u001b[1;33m(\u001b[0m\u001b[0mLevel\u001b[0m\u001b[1;33m)\u001b[0m\u001b[1;33m\u001b[0m\u001b[1;33m\u001b[0m\u001b[0m\n\u001b[0m\u001b[0;32m      2\u001b[0m \u001b[0mplt\u001b[0m\u001b[1;33m.\u001b[0m\u001b[0mfigure\u001b[0m\u001b[1;33m(\u001b[0m\u001b[1;33m)\u001b[0m\u001b[1;33m\u001b[0m\u001b[1;33m\u001b[0m\u001b[0m\n\u001b[0;32m      3\u001b[0m \u001b[0mplt\u001b[0m\u001b[1;33m.\u001b[0m\u001b[0mscatter\u001b[0m\u001b[1;33m(\u001b[0m\u001b[0mY_hat\u001b[0m\u001b[1;33m.\u001b[0m\u001b[0mmean\u001b[0m\u001b[1;33m(\u001b[0m\u001b[0maxis\u001b[0m\u001b[1;33m=\u001b[0m\u001b[1;36m0\u001b[0m\u001b[1;33m)\u001b[0m\u001b[1;33m,\u001b[0m\u001b[0mX_true\u001b[0m\u001b[1;33m.\u001b[0m\u001b[0mmean\u001b[0m\u001b[1;33m(\u001b[0m\u001b[0maxis\u001b[0m\u001b[1;33m=\u001b[0m\u001b[1;36m0\u001b[0m\u001b[1;33m)\u001b[0m\u001b[1;33m[\u001b[0m\u001b[1;33m:\u001b[0m\u001b[1;33m,\u001b[0m\u001b[1;36m0\u001b[0m\u001b[1;33m]\u001b[0m\u001b[1;33m)\u001b[0m\u001b[1;33m\u001b[0m\u001b[1;33m\u001b[0m\u001b[0m\n\u001b[0;32m      4\u001b[0m \u001b[0mprint\u001b[0m\u001b[1;33m(\u001b[0m\u001b[0mmetrics\u001b[0m\u001b[1;33m.\u001b[0m\u001b[0mr2_score\u001b[0m\u001b[1;33m(\u001b[0m\u001b[0my_true\u001b[0m\u001b[1;33m.\u001b[0m\u001b[0mmean\u001b[0m\u001b[1;33m(\u001b[0m\u001b[0maxis\u001b[0m\u001b[1;33m=\u001b[0m\u001b[1;36m0\u001b[0m\u001b[1;33m)\u001b[0m\u001b[1;33m,\u001b[0m\u001b[0mY_hat\u001b[0m\u001b[1;33m.\u001b[0m\u001b[0mmean\u001b[0m\u001b[1;33m(\u001b[0m\u001b[0maxis\u001b[0m\u001b[1;33m=\u001b[0m\u001b[1;36m0\u001b[0m\u001b[1;33m)\u001b[0m\u001b[1;33m)\u001b[0m\u001b[1;33m)\u001b[0m\u001b[1;33m\u001b[0m\u001b[1;33m\u001b[0m\u001b[0m\n\u001b[0;32m      5\u001b[0m \u001b[1;31m# plt.figure()\u001b[0m\u001b[1;33m\u001b[0m\u001b[1;33m\u001b[0m\u001b[1;33m\u001b[0m\u001b[0m\n",
      "\u001b[1;31mNameError\u001b[0m: name 'Level' is not defined"
     ]
    }
   ],
   "source": [
    "print(Level)\n",
    "plt.figure()\n",
    "plt.scatter(Y_hat.mean(axis=0),X_true.mean(axis=0)[:,0])\n",
    "print(metrics.r2_score(y_true.mean(axis=0),Y_hat.mean(axis=0)))\n",
    "# plt.figure()\n",
    "# plt.plot(y_true.mean(axis=0))\n",
    "# plt.plot(Y_hat.mean(axis=0))\n",
    "print(y_true.mean(axis=0).mean())\n",
    "print(Y_hat.mean(axis=0).mean())\n",
    "# plt.figure()\n",
    "# plt.plot(X_true[0])\n"
   ]
  },
  {
   "cell_type": "code",
   "execution_count": null,
   "metadata": {
    "scrolled": true
   },
   "outputs": [],
   "source": [
    "# plt.figure()\n",
    "# plt.plot(RST.Master['SoilMoist(1)'],c='b',label='Center_them')\n",
    "# plt.plot(RST.Master['SoilMoist(4)'],c='r',label='Rim_them')\n",
    "# plt.legend()\n",
    "# plt.twinx()\n",
    "# plt.plot(RST.Master['VWC_1'],c='g',label='Center_me')\n",
    "# plt.plot(RST.Master['VWC_2'],c='orange',label='Rim_me')\n",
    "# plt.legend()\n",
    "# print(RST.Master['VWC_2'].min())\n",
    "# print(RST.Master['VWC_2'].max())"
   ]
  },
  {
   "cell_type": "code",
   "execution_count": null,
   "metadata": {},
   "outputs": [],
   "source": [
    "\n",
    "# Records.to_csv(params['Dpath']+'/'+target+'_Runs.csv')"
   ]
  },
  {
   "cell_type": "code",
   "execution_count": null,
   "metadata": {},
   "outputs": [],
   "source": [
    "print(RST.Master['PPFD_Avg'].quantile(.95))\n",
    "# Level['Thresh']=Level['MSE']+Level['SE']\n",
    "# Level.to_csv(params['Dpath']+Name+'.csv')j\n",
    "# plt.figure()\n",
    "# p"
   ]
  },
  {
   "cell_type": "code",
   "execution_count": null,
   "metadata": {},
   "outputs": [],
   "source": [
    "print(Level.loc[Level.MSE.isin(Smalls['MSE'].values)==False,'Performance'])\n",
    "print(Smalls)"
   ]
  },
  {
   "cell_type": "code",
   "execution_count": null,
   "metadata": {
    "scrolled": false
   },
   "outputs": [],
   "source": [
    "# print(int(Ns/(a*(Ni+No))))\n",
    "plt.figure()\n",
    "plt.scatter(RST.Master['Active Layer'],RST.Master['fch4'],s=2)"
   ]
  },
  {
   "cell_type": "code",
   "execution_count": null,
   "metadata": {
    "scrolled": true
   },
   "outputs": [],
   "source": [
    "\n",
    "\n",
    "print(np.mean(a),np.mean(b))\n",
    "# Level#.to_csv(params['Dpath']+Name+'.csv')\n",
    "Level['Upper']=Level['SE']+Level['MSE']\n",
    "print(Level)#[['Model','Upper']])"
   ]
  },
  {
   "cell_type": "code",
   "execution_count": null,
   "metadata": {
    "scrolled": false
   },
   "outputs": [],
   "source": [
    "# print(params)\n",
    "\n",
    "# Level = Stats(mse,se,j,i,params)\n",
    "# Level.to_csv(params['Dpath']+target+'_Final_Runs.csv')\n",
    "\n",
    "# plt.figure()\n",
    "# print(RST.Master\n",
    "#      )\n",
    "\n",
    "# pool = Pool(processes=1,maxtasksperchild=75)\n",
    "# for k,results in enumerate(pool.imap(partial(Dense.Sort_outputs,params=params,\n",
    "#  Y_hat=Y_hat,y_true=y_true,X_true=X_true,ones=ones),range(1))):\n",
    "#      mse,se = results\n",
    "# pool.close()\n",
    "\n",
    "# plt.scatter(Y_hat,y_true)\n",
    "# print(metrics.mean_squared_error(y_true,Y_hat))\n",
    "# print(metrics.r2_score(y_true,Y_hat))\n",
    "\n",
    "# plt.figure()\n",
    "\n",
    "# plt.plot(Y_hat)\n",
    "# plt.plot(y_true)\n",
    "\n",
    "# print(Y_hat.shape,y_true.shape)\n",
    "print(Level)"
   ]
  },
  {
   "cell_type": "markdown",
   "metadata": {},
   "source": [
    "# Predict"
   ]
  },
  {
   "cell_type": "code",
   "execution_count": null,
   "metadata": {
    "scrolled": false
   },
   "outputs": [],
   "source": [
    "\n",
    "plt.figure(figsize=(8,7))\n",
    "Data = Data.sort_values(by=Key)\n",
    "# Data.index = Data[Key]\n",
    "\n",
    "Data = Data[np.isfinite(Data['True'])]\n",
    "\n",
    "plt.scatter(RST.Master[Key],RST.Master[target],edgecolor='black',facecolor='white')\n",
    "plt.plot(Data[Key],Data[target],\n",
    "         label= params['target']+' Model\\nr^2: '+str(np.round(metrics.r2_score(Data['True'],\n",
    "                                                                   Data[params['target']])**2,3)))\n",
    "# plt.plot(Data.index,Data['Var'],label= params['target']+\n",
    "# ' Model\\nRMSE: '+str(np.round(metrics.mean_squared_error(Data['True'],\n",
    "#                                                                    Data[params['target']])**2,3)))\n",
    "\n",
    "\n",
    "plt.fill_between(Data[Key], Data[target]-Data['PI'], \n",
    "                 Data[target]+Data['PI'],  color = 'green', alpha = 0.4, \n",
    "                 label = '95% PI')\n",
    "plt.fill_between(Data[Key], Data[target]-Data['CI'], \n",
    "                 Data[target]+Data['CI'],  color = 'red', alpha = 0.4, \n",
    "                 label = '95% CI')\n",
    "plt.legend()\n",
    "# print(RST.Master)\n",
    "\n",
    "plt.figure()\n",
    "\n",
    "# plt.plot(Data[Key], Data['Var'])\n",
    "\n",
    "plt.scatter(Data[target],Data['True'])\n",
    "\n",
    "# print(Data['SE'])"
   ]
  },
  {
   "cell_type": "code",
   "execution_count": null,
   "metadata": {},
   "outputs": [],
   "source": []
  },
  {
   "cell_type": "code",
   "execution_count": null,
   "metadata": {},
   "outputs": [],
   "source": []
  }
 ],
 "metadata": {
  "kernelspec": {
   "display_name": "Python 3",
   "language": "python",
   "name": "python3"
  },
  "language_info": {
   "codemirror_mode": {
    "name": "ipython",
    "version": 3
   },
   "file_extension": ".py",
   "mimetype": "text/x-python",
   "name": "python",
   "nbconvert_exporter": "python",
   "pygments_lexer": "ipython3",
   "version": "3.7.6"
  }
 },
 "nbformat": 4,
 "nbformat_minor": 2
}
