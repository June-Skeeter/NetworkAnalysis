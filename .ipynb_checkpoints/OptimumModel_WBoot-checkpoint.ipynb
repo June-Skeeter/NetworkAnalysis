{
 "cells": [
  {
   "cell_type": "markdown",
   "metadata": {},
   "source": [
    "##  Optimze and a Dense Neural Network for gap filling and feature identification\n",
    "\n",
    "** With a few tweaks to RepRunner, an LSTM can be run instead"
   ]
  },
  {
   "cell_type": "code",
   "execution_count": 18,
   "metadata": {},
   "outputs": [
    {
     "name": "stdout",
     "output_type": "stream",
     "text": [
      "C:\\Users\\wesle\\NetworkAnalysis\n"
     ]
    }
   ],
   "source": [
    "import time\n",
    "import math\n",
    "import numpy as np\n",
    "import pandas as pd\n",
    "import matplotlib.pyplot as plt\n",
    "from itertools import combinations\n",
    "# from functools import partial\n",
    "from multiprocessing import Pool\n",
    "from functools import partial\n",
    "from sklearn import metrics\n",
    "# from sklearn.model_selection import train_test_split\n",
    "\n",
    "## Personal Modules\n",
    "import ReadStandardTimeFill as RSTF\n",
    "import importlib\n",
    "import DenseNet as Dense\n",
    "import MiscFuncs as MF\n",
    "importlib.reload(Dense)\n",
    "importlib.reload(RSTF)\n",
    "importlib.reload(MF)\n",
    "\n",
    "# %matplotlib inline\n",
    "\n",
    "%matplotlib notebook\n",
    "%config IPCompleter.greedy=True\n",
    "\n",
    "from scipy.optimize import minimize, curve_fit\n",
    "from scipy.stats import norm\n",
    "from sklearn.gaussian_process import GaussianProcessRegressor\n",
    "from sklearn.gaussian_process.kernels import Matern, WhiteKernel, ConstantKernel\n",
    "from sklearn.externals import joblib\n",
    "from matplotlib import cm\n",
    "\n",
    "from scipy import stats\n",
    "from statsmodels.stats.multicomp import pairwise_tukeyhsd\n",
    "from statsmodels.stats.multicomp import MultiComparison\n",
    "\n",
    "from ipywidgets import FloatProgress, HTML\n",
    "from IPython.display import display, clear_output\n",
    "import os  \n",
    "import shutil\n",
    "from keras import backend as K\n",
    "try:pool.close()\n",
    "except:pass\n",
    "\n",
    "\n",
    "def Test(params,X,y,YScaled,XScaled,pool):\n",
    "    return(np.random.rand(params['K']))\n",
    "\n",
    "\n",
    "def ModSelect(Scope,Site):\n",
    "    if Site == 'Illisarvik':\n",
    "        if Scope == 'Full':\n",
    "            Model = ['wind_speed','PPFD_Avg','AirTC_Avg','VPD',\n",
    "                    'Temp','VWC','Sedge','Shrub','Grass','Upland']\n",
    "        if Scope == 'Test':\n",
    "            Model = ['wind_dir','wind_speed','AirTC_Avg',\n",
    "                    'Temp','VWC','Sedge','Upland']\n",
    "#             Model = ['Temp','VWC','Sedge','Upland','VPD','PPFD_Avg']\n",
    "#         if Scope == 'Test':\n",
    "#             Model = ['PPFD_Avg','Sedge','Sparse']#,'VPD','wind_speed']\n",
    "    if Site == 'FishIsland':\n",
    "        BaseFactors = []\n",
    "        if Scope == 'Full':\n",
    "            Model = ['Wind Spd','Ta','Rn','PPFD','Water Table',\n",
    "            'Ts 2.5 cm','Ts 15 cm','VWC','Active Layer','24H Rain']\n",
    "        if Scope == 'Test':\n",
    "            Model = ['Wind Spd','Ta','Rn','PPFD','Water Table',\n",
    "            'Ts 2.5 cm','Ts 15 cm','VWC','Active Layer','24H Rain']\n",
    "    return(Model)\n",
    "\n",
    "def Combos(Model,L,factor=None):\n",
    "    Models=[]\n",
    "    for c in combinations(Model,L):\n",
    "        c = list(c)\n",
    "        if factor is None:\n",
    "            Models.append(c)\n",
    "        else:\n",
    "            for f in factor:\n",
    "                f = f.split('+')\n",
    "                if set(f).issubset(set(c)) and c not in Models:\n",
    "                    Models.append(c)\n",
    "                    \n",
    "#     print('Models: ',Models)\n",
    "    return(Models)\n",
    "\n",
    "def Stats(mse,se,j,i,params):\n",
    "    df = pd.DataFrame(index = [str(j)+'_'+str(i)],\n",
    "                      data={'Model':[params['Model']],\n",
    "                            'MSE':[mse],\n",
    "                            'Size':j,\n",
    "                            'Number':i,\n",
    "                            'SE':[se],\n",
    "                            'Performance':0})\n",
    "    return(df)\n",
    "\n",
    "def t(p,n):\n",
    "    alpha = 1-p\n",
    "    df = n-1\n",
    "    return(stats.t.ppf(alpha,df))\n",
    "\n",
    "FirstRun = True\n",
    "# FirstRun = False\n",
    "\n",
    "MP=True\n",
    "# MP=False\n",
    "Scope = 'Test'\n",
    "# if Scope == Test:\n",
    "#     processes=2\n",
    "# else:\n",
    "processes=4\n",
    "    \n",
    "cwd = os.getcwd()\n",
    "# for Site in ['Illisarvik','FishIsland']:\n",
    "Site='FishIsland'\n",
    "target='fch4'\n",
    "alpha = .05\n",
    "print(cwd)\n",
    "\n",
    "\n",
    "pd.set_option('max_colwidth',200)\n",
    "def Display (tar,prog1,prog2,MdLs,MdL):\n",
    "    clear_output()\n",
    "    display(tar)\n",
    "    display(prog1)\n",
    "    display(prog2)\n",
    "    display(MdLs)\n",
    "    display(MdL)\n",
    "    \n",
    "tar = HTML(\n",
    "            value=\" \",\n",
    "            placeholder='Target: ',\n",
    "            description='Target: ',\n",
    "        )\n",
    "kwt = HTML(\n",
    "        value=str(0),\n",
    "        placeholder='Quit Score: ',\n",
    "        description='Quit Score: ',\n",
    "        )"
   ]
  },
  {
   "cell_type": "markdown",
   "metadata": {},
   "source": [
    "# Model"
   ]
  },
  {
   "cell_type": "code",
   "execution_count": 19,
   "metadata": {
    "scrolled": false
   },
   "outputs": [
    {
     "data": {
      "application/vnd.jupyter.widget-view+json": {
       "model_id": "4d0e6b6f8c8b4fd09042e4aa7a173dc6",
       "version_major": 2,
       "version_minor": 0
      },
      "text/plain": [
       "A Jupyter Widget"
      ]
     },
     "metadata": {},
     "output_type": "display_data"
    },
    {
     "data": {
      "application/vnd.jupyter.widget-view+json": {
       "model_id": "eff1e4d631b749eb81835dd7df1a07b4",
       "version_major": 2,
       "version_minor": 0
      },
      "text/plain": [
       "A Jupyter Widget"
      ]
     },
     "metadata": {},
     "output_type": "display_data"
    },
    {
     "data": {
      "application/vnd.jupyter.widget-view+json": {
       "model_id": "77e9f1c5558f4c75a159c1f30da1307a",
       "version_major": 2,
       "version_minor": 0
      },
      "text/plain": [
       "A Jupyter Widget"
      ]
     },
     "metadata": {},
     "output_type": "display_data"
    },
    {
     "data": {
      "application/vnd.jupyter.widget-view+json": {
       "model_id": "31618db0d75745c1a959d07d21094d93",
       "version_major": 2,
       "version_minor": 0
      },
      "text/plain": [
       "A Jupyter Widget"
      ]
     },
     "metadata": {},
     "output_type": "display_data"
    },
    {
     "data": {
      "application/vnd.jupyter.widget-view+json": {
       "model_id": "059cce4ba00742598c5fed6b19d529f6",
       "version_major": 2,
       "version_minor": 0
      },
      "text/plain": [
       "A Jupyter Widget"
      ]
     },
     "metadata": {},
     "output_type": "display_data"
    },
    {
     "name": "stdout",
     "output_type": "stream",
     "text": [
      "            Model       MSE  Size  Number        SE  Performance\n",
      "1_3          PPFD  0.006660     1       3  0.000472            0\n",
      "1_2            Rn  0.007305     1       2  0.000268            0\n",
      "1_6      Ts 15 cm  0.015167     1       6  0.000493            0\n",
      "1_1            Ta  0.018536     1       1  0.001076            0\n",
      "1_8  Active Layer  0.020733     1       8  0.001260            0\n",
      "1_0      Wind Spd  0.020990     1       0  0.000794            0\n",
      "1_5     Ts 2.5 cm  0.021049     1       5  0.000820            0\n",
      "1_7           VWC  0.021667     1       7  0.000846            0\n",
      "1_4   Water Table  0.021836     1       4  0.000642            0\n",
      "Runtime:  571.3296134471893\n"
     ]
    },
    {
     "ename": "AttributeError",
     "evalue": "'Series' object has no attribute 'value'",
     "output_type": "error",
     "traceback": [
      "\u001b[1;31m---------------------------------------------------------------------------\u001b[0m",
      "\u001b[1;31mAttributeError\u001b[0m                            Traceback (most recent call last)",
      "\u001b[1;32m<ipython-input-19-4b381fe68834>\u001b[0m in \u001b[0;36m<module>\u001b[1;34m()\u001b[0m\n\u001b[0;32m    166\u001b[0m \u001b[1;33m\u001b[0m\u001b[0m\n\u001b[0;32m    167\u001b[0m \u001b[1;31m# #                 Factors2 = Level.loc[Level['T2']<=-1.67,'Model'].values\u001b[0m\u001b[1;33m\u001b[0m\u001b[1;33m\u001b[0m\u001b[0m\n\u001b[1;32m--> 168\u001b[1;33m             \u001b[0mLevel\u001b[0m\u001b[1;33m.\u001b[0m\u001b[0mloc\u001b[0m\u001b[1;33m[\u001b[0m\u001b[0mLevel\u001b[0m\u001b[1;33m[\u001b[0m\u001b[1;34m'MSE'\u001b[0m\u001b[1;33m]\u001b[0m\u001b[1;33m==\u001b[0m\u001b[0mMin\u001b[0m\u001b[1;33m[\u001b[0m\u001b[1;34m'MSE'\u001b[0m\u001b[1;33m]\u001b[0m\u001b[1;33m.\u001b[0m\u001b[0mvalue\u001b[0m\u001b[1;33m[\u001b[0m\u001b[1;36m0\u001b[0m\u001b[1;33m]\u001b[0m\u001b[1;33m,\u001b[0m\u001b[1;34m'Performance'\u001b[0m\u001b[1;33m]\u001b[0m\u001b[1;33m=\u001b[0m\u001b[1;36m1\u001b[0m\u001b[1;33m\u001b[0m\u001b[0m\n\u001b[0m\u001b[0;32m    169\u001b[0m             \u001b[0mLevel\u001b[0m\u001b[1;33m.\u001b[0m\u001b[0mloc\u001b[0m\u001b[1;33m[\u001b[0m\u001b[0mLevel\u001b[0m\u001b[1;33m[\u001b[0m\u001b[1;34m'MSE'\u001b[0m\u001b[1;33m]\u001b[0m\u001b[1;33m<=\u001b[0m\u001b[0mMin\u001b[0m\u001b[1;33m[\u001b[0m\u001b[1;34m'MSE'\u001b[0m\u001b[1;33m]\u001b[0m\u001b[1;33m.\u001b[0m\u001b[0mvalue\u001b[0m\u001b[1;33m[\u001b[0m\u001b[1;36m0\u001b[0m\u001b[1;33m]\u001b[0m\u001b[1;33m+\u001b[0m\u001b[0mMin\u001b[0m\u001b[1;33m[\u001b[0m\u001b[1;34m'SE'\u001b[0m\u001b[1;33m]\u001b[0m\u001b[1;33m.\u001b[0m\u001b[0mvalue\u001b[0m\u001b[1;33m[\u001b[0m\u001b[1;36m0\u001b[0m\u001b[1;33m]\u001b[0m\u001b[1;33m,\u001b[0m\u001b[1;34m'Performance'\u001b[0m\u001b[1;33m]\u001b[0m\u001b[1;33m+=\u001b[0m\u001b[1;36m1\u001b[0m\u001b[1;33m\u001b[0m\u001b[0m\n\u001b[0;32m    170\u001b[0m             \u001b[0mFactors\u001b[0m \u001b[1;33m=\u001b[0m \u001b[0mLevel\u001b[0m\u001b[1;33m.\u001b[0m\u001b[0mloc\u001b[0m\u001b[1;33m[\u001b[0m\u001b[0mLevel\u001b[0m\u001b[1;33m[\u001b[0m\u001b[1;34m'Performance'\u001b[0m\u001b[1;33m]\u001b[0m\u001b[1;33m>=\u001b[0m\u001b[1;36m2\u001b[0m\u001b[1;33m,\u001b[0m\u001b[1;34m'Model'\u001b[0m\u001b[1;33m]\u001b[0m\u001b[1;33m.\u001b[0m\u001b[0mvalues\u001b[0m\u001b[1;33m\u001b[0m\u001b[0m\n",
      "\u001b[1;32mC:\\Anaconda3\\lib\\site-packages\\pandas\\core\\generic.py\u001b[0m in \u001b[0;36m__getattr__\u001b[1;34m(self, name)\u001b[0m\n\u001b[0;32m   4374\u001b[0m             \u001b[1;32mif\u001b[0m \u001b[0mself\u001b[0m\u001b[1;33m.\u001b[0m\u001b[0m_info_axis\u001b[0m\u001b[1;33m.\u001b[0m\u001b[0m_can_hold_identifiers_and_holds_name\u001b[0m\u001b[1;33m(\u001b[0m\u001b[0mname\u001b[0m\u001b[1;33m)\u001b[0m\u001b[1;33m:\u001b[0m\u001b[1;33m\u001b[0m\u001b[0m\n\u001b[0;32m   4375\u001b[0m                 \u001b[1;32mreturn\u001b[0m \u001b[0mself\u001b[0m\u001b[1;33m[\u001b[0m\u001b[0mname\u001b[0m\u001b[1;33m]\u001b[0m\u001b[1;33m\u001b[0m\u001b[0m\n\u001b[1;32m-> 4376\u001b[1;33m             \u001b[1;32mreturn\u001b[0m \u001b[0mobject\u001b[0m\u001b[1;33m.\u001b[0m\u001b[0m__getattribute__\u001b[0m\u001b[1;33m(\u001b[0m\u001b[0mself\u001b[0m\u001b[1;33m,\u001b[0m \u001b[0mname\u001b[0m\u001b[1;33m)\u001b[0m\u001b[1;33m\u001b[0m\u001b[0m\n\u001b[0m\u001b[0;32m   4377\u001b[0m \u001b[1;33m\u001b[0m\u001b[0m\n\u001b[0;32m   4378\u001b[0m     \u001b[1;32mdef\u001b[0m \u001b[0m__setattr__\u001b[0m\u001b[1;33m(\u001b[0m\u001b[0mself\u001b[0m\u001b[1;33m,\u001b[0m \u001b[0mname\u001b[0m\u001b[1;33m,\u001b[0m \u001b[0mvalue\u001b[0m\u001b[1;33m)\u001b[0m\u001b[1;33m:\u001b[0m\u001b[1;33m\u001b[0m\u001b[0m\n",
      "\u001b[1;31mAttributeError\u001b[0m: 'Series' object has no attribute 'value'"
     ]
    }
   ],
   "source": [
    "\n",
    "Time = time.time()\n",
    "\n",
    "kwit = 0\n",
    "if __name__ == '__main__':\n",
    "    for target in ['fco2','fch4']:\n",
    "        XVarriables=ModSelect(Scope,Site)\n",
    "        if FirstRun == True:\n",
    "            start=1\n",
    "            stop = len(XVarriables)+2\n",
    "            try:shutil.rmtree(cwd+'/'+Site+'/'+target+'/')\n",
    "            except:pass\n",
    "            os.mkdir(cwd+'/'+Site+'/'+target+'/')\n",
    "        else:\n",
    "            params = Dense.Params(Scope,target,MP)\n",
    "            params['Dpath'] = cwd+'/'+Site+'/'\n",
    "            Records = pd.read_csv(cwd+'/'+Site+'/'+target+'_Runs.csv',delimiter = ',',header = 0,index_col=[0])\n",
    "            start = 2#Records['Size'].max()+1\n",
    "            Level = Records.loc[Records['Size']==start-1]\n",
    "            Min = Level.loc[Level['MSE']==Level['MSE'].min()]\n",
    "            Sv = (((Level['SE']**2+Min['SE'].values[0]**2)/2)**.5)\n",
    "            Level['T']=(Level['MSE']-Min['MSE'].values[0])/(Sv*(2/params['K'])**.5)\n",
    "            Factors = Level.loc[Level['T']<=stats.t.ppf(1-alpha,params['K']),'Model'].values\n",
    "            Level.loc[Level['T']<=stats.t.ppf(1-alpha,params['K']),'Performance']=1\n",
    "            \n",
    "            stop = len(XVarriables)\n",
    "            if start >2:\n",
    "                Last = Records.loc[Records['Size']==start-2].sort_values('MSE').reset_index()\n",
    "                Rec = Last.loc[Last['MSE']==Last['MSE'].min()]\n",
    "                Sv = (((Level['SE']**2+Rec['SE'].values[0]**2)/2)**.5)\n",
    "                Level['T2']=(Level['MSE']-Rec['MSE'].values[0])/(Sv*(2/params['K'])**.5)\n",
    "\n",
    "                Level.loc[Level['T2']<=-stats.t.ppf(1-alpha,params['K']),'Performance']+=1\n",
    "                Factors = Level.loc[Level['Performance']>=2,'Model'].values\n",
    "            print(Records)\n",
    "                      \n",
    "#         kwt = HTML(\n",
    "#                     value=str(0),\n",
    "#                     placeholder='Quit Score: ',\n",
    "#                     description='Quit Score: ',\n",
    "#                 )\n",
    "        tar.value=target\n",
    "        prog1 = FloatProgress(min=start, max=stop,description='Running:')\n",
    "        prog2 = FloatProgress(min=0, max=100,description='Bootstrapping:')\n",
    "        MdLs = HTML(\n",
    "            value=\" \",\n",
    "            placeholder='Models: ',\n",
    "            description='Models: ',\n",
    "        )\n",
    "        MdL = HTML(\n",
    "            value=\" \",\n",
    "            placeholder='Testing: ',\n",
    "            description='Testing: ',\n",
    "        )\n",
    "        Display (tar,prog1,prog2,MdLs,MdL)\n",
    "        for j in range(start,stop):\n",
    "            print(j)\n",
    "            if j == 1: Inputs = (Combos(XVarriables,j))\n",
    "            else: Inputs = (Combos(XVarriables,j,Factors))\n",
    "            MdLs.value=str(len(Inputs))\n",
    "            i = 0\n",
    "            procede = True\n",
    "            for Input in Inputs:\n",
    "                if FirstRun == False:\n",
    "#                     print(Records.isin({'Size':[j]}).any().any())\n",
    "                    if Records.loc[Records['Size']==j].isin({'Number':[i]}).any().any()==True:\n",
    "                        procede = False\n",
    "                    else:\n",
    "                        procede = True\n",
    "                if procede == True:\n",
    "                    params = Dense.Params(Scope,target,MP)\n",
    "                    params['Dpath'] = cwd+'/'+Site+'/'\n",
    "                    params['Spath'] = params['Dpath']+'/'+target+'/'+str(j)+'_'+str(i)+'/'\n",
    "                    try:os.mkdir(params['Spath'])\n",
    "                    except:pass\n",
    "                    params['Sname'] = 'Y_'\n",
    "                    params['Inputs'] = Input\n",
    "                    MdL.value='#'+str(i)+' '+str(params['Inputs'])\n",
    "                    Display (tar,prog1,prog2,MdLs,MdL)\n",
    "                    try:\n",
    "                        print(Level.sort_values('MSE'))\n",
    "                    except:\n",
    "                        pass\n",
    "                    print('Runtime: ',time.time()-Time)\n",
    "                    params['Model'] = '+'.join(params['Inputs'])\n",
    "                    RST = RSTF.ReadStandardTimeFill(params,'ECData.csv')#,resample='2H')\n",
    "                    if target == 'ER':\n",
    "                        RST.Master = RST.Master.loc[RST.Master['fco2']>0]\n",
    "                    RST.Scale(params['target'],params['Inputs']) \n",
    "                    y = RST.y*1.0\n",
    "                    X = RST.X*1.0\n",
    "                    params['N']=int(y.shape[0]/30)\n",
    "                    params['Memory'] = (math.floor(100/params['proc'])- 5/params['proc']) * .01\n",
    "                    Y_hat=[]\n",
    "                    y_true=[]\n",
    "                    X_true=[]\n",
    "                    index=[]\n",
    "                    ones=[]\n",
    "                    prog2.value=0\n",
    "#                     if MP == False:\n",
    "#                         for k in range(params['K']):\n",
    "#                             Time2 = time.time()\n",
    "#                             results = Dense.Bootstrap(k,params,X,y)\n",
    "#                             Y_hat.append(RST.YScaled.inverse_transform(results[0]))\n",
    "#                             y_true.append(RST.YScaled.inverse_transform(results[1]))\n",
    "#                             X_true.append(RST.XScaled.inverse_transform(results[2]))\n",
    "#                             ones.append(results[3])\n",
    "#                             prog2.value=(k+1)/params['K']*100\n",
    "#                             print(time.time()-Time2)\n",
    "#                     else:\n",
    "                    pool = Pool(processes=processes,maxtasksperchild=75)\n",
    "                    for k,results in enumerate(pool.imap(partial(Dense.Bootstrap,params=params,X=X,y=y),range(params['K']))):\n",
    "                        Y_hat.append(RST.YScaled.inverse_transform(results[0]))\n",
    "                        y_true.append(RST.YScaled.inverse_transform(results[1]))\n",
    "                        X_true.append(RST.XScaled.inverse_transform(results[2]))\n",
    "                        ones.append(results[3])\n",
    "                        prog2.value=(k+1)/params['K']*100\n",
    "                    pool.close()\n",
    "                    Y_hat = np.squeeze(np.asanyarray(Y_hat))\n",
    "                    y_true = np.squeeze(np.asanyarray(y_true))\n",
    "                    X_true = np.asanyarray(X_true)\n",
    "                    ones = np.asanyarray(ones)\n",
    "                    params['Memory'] = .95\n",
    "#                     if MP == False:\n",
    "#                         for k in range(1):\n",
    "#                              mse,se = Dense.Sort_outputs(k,params,Y_hat,y_true,X_true,ones)\n",
    "#                     else:\n",
    "                    pool = Pool(processes=1,maxtasksperchild=75)\n",
    "                    for k,results in enumerate(pool.imap(partial(Dense.Sort_outputs,params=params,\n",
    "                     Y_hat=Y_hat,y_true=y_true,X_true=X_true,ones=ones),range(1))):\n",
    "                         mse,se = results\n",
    "                    pool.close()\n",
    "                    if i == 0 and FirstRun == True:Level = Stats(mse,se,j,i,params)\n",
    "                    else:\n",
    "                        Level = Level.loc[Level['Size']==j]\n",
    "                        Level = Level.append(Stats(mse,se,j,i,params))\n",
    "                i += 1\n",
    "                prog1.value=j+i/len(Inputs)\n",
    "#             Min = Level.loc[Level['MSE']==Level['MSE'].min()]\n",
    "#             if j ==1:\n",
    "# #         ch4.Records.loc[fch4.Records['Size']==level-1].sort_values('MSE').reset_index()\n",
    "#                 Min = Level.loc[Level['MSE']==Level['MSE'].min()]\n",
    "# #                 Level['T']\n",
    "# #                 Sv = (((Level['SE']**2+Min['SE'].values[0]**2)/2)**.5)\n",
    "# #                 Level['T']=(Level['MSE']-Min['MSE'].values[0])/(Sv*(2/params['K'])**.5)\n",
    "# #                 Level['T2'] = Level['T']\n",
    "# #                 Level.loc[Level['T']<=stats.t.ppf(1-alpha,params['K']),'Performance']=1\n",
    "                \n",
    "#                 Level.loc[Level['MSE']==Min['MSE'].value[0],'Performance']=1\n",
    "#                 Level.loc[Level['MSE']<=Min['MSE'].value[0]+Min['SE'].value[0],'Performance']+=1\n",
    "#                 Factors = Level.loc[Level['Performance']==2,'Model'].values\n",
    "#             else:\n",
    "\n",
    "#                 Min = Level.loc[Level['MSE']==Level['MSE'].min()]\n",
    "# #                 Sv = (((Level['SE']**2+Min['SE'].values[0]**2)/2)**.5)\n",
    "# # #                 Level['T']=(Level['MSE']-Min['MSE'].values[0])/(Sv*(2/params['K'])**.5)\n",
    "# # #                 Level['T2'] = Level['T']\n",
    "# # #                 Factors = Level.loc[Level['T']<=1.67,'Model'].values\n",
    "# # #                 Level.loc[Level['T']<=stats.t.ppf(1-alpha,params['K']),'Performance']=1\n",
    "                \n",
    "# #                 Last = Records.loc[Records['Size']==j-1].sort_values('MSE').reset_index()\n",
    "# #                 Rec = Last.loc[Last['MSE']==Last['MSE'].min()]\n",
    "                \n",
    "# #                 Sv = (((Level['SE']**2+Rec['SE'].values[0]**2)/2)**.5)\n",
    "# #                 Level['T2']=(Level['MSE']-Rec['MSE'].values[0])/(Sv*(2/params['K'])**.5)\n",
    "                \n",
    "# #                 Factors2 = Level.loc[Level['T2']<=-1.67,'Model'].values                \n",
    "            Level.loc[Level['MSE']==Min['MSE'].values[0],'Performance']=1\n",
    "            Level.loc[Level['MSE']<=Min['MSE'].values[0]+Min['SE'].value[0],'Performance']+=1\n",
    "            Factors = Level.loc[Level['Performance']>=2,'Model'].values\n",
    "            if j == 1:\n",
    "                Records = Level\n",
    "            else:\n",
    "                Records = Records.append(Level)\n",
    "#             kwt.value = str(kwit)\n",
    "            Records = Records.reset_index(drop=True)\n",
    "            Records.drop(Records.columns[Records.columns.str.contains('Unnamed',case = False)],axis = 1)\n",
    "            if Scope == 'Full':\n",
    "                Records.to_csv(params['Dpath']+'/'+target+'_Runs.csv')\n",
    "            else:\n",
    "                Records.to_csv(params['Dpath']+'/'+target+'_Runs2.csv')\n",
    "            print(Records)\n",
    "#             if Level['Performance'].max()<2 and j>1:\n",
    "#                 break"
   ]
  },
  {
   "cell_type": "code",
   "execution_count": 11,
   "metadata": {
    "scrolled": true
   },
   "outputs": [
    {
     "name": "stdout",
     "output_type": "stream",
     "text": [
      "['H', 'Wind Spd', 'Ta', 'Rn', 'PPFD', 'VWC', 'Active Layer']\n",
      "9\n",
      "9\n",
      "9\n",
      "9\n",
      "9\n",
      "9\n",
      "9\n",
      "9\n",
      "9\n",
      "9\n",
      "9\n",
      "9\n",
      "9\n",
      "9\n",
      "9\n",
      "9\n",
      "9\n",
      "9\n",
      "9\n",
      "9\n",
      "9\n"
     ]
    }
   ],
   "source": [
    "#  print(RST.Master['ER'].count())\n",
    "print(Factors[0].split('+'))\n",
    "for i in Inputs:\n",
    "    print(len(i))"
   ]
  },
  {
   "cell_type": "code",
   "execution_count": 12,
   "metadata": {
    "scrolled": false
   },
   "outputs": [
    {
     "data": {
      "application/vnd.jupyter.widget-view+json": {
       "model_id": "5684a8f3035f417e8041feacd5ff52f6",
       "version_major": 2,
       "version_minor": 0
      },
      "text/plain": [
       "A Jupyter Widget"
      ]
     },
     "metadata": {},
     "output_type": "display_data"
    },
    {
     "data": {
      "application/vnd.jupyter.widget-view+json": {
       "model_id": "979f56c1923d4d519b9017ca1abd01f7",
       "version_major": 2,
       "version_minor": 0
      },
      "text/plain": [
       "A Jupyter Widget"
      ]
     },
     "metadata": {},
     "output_type": "display_data"
    },
    {
     "data": {
      "application/vnd.jupyter.widget-view+json": {
       "model_id": "044c4ae6db1a490fa2aceee0574b3930",
       "version_major": 2,
       "version_minor": 0
      },
      "text/plain": [
       "A Jupyter Widget"
      ]
     },
     "metadata": {},
     "output_type": "display_data"
    },
    {
     "data": {
      "application/vnd.jupyter.widget-view+json": {
       "model_id": "61abca27894b4cdaafefb5ee3b20cfd1",
       "version_major": 2,
       "version_minor": 0
      },
      "text/plain": [
       "A Jupyter Widget"
      ]
     },
     "metadata": {},
     "output_type": "display_data"
    },
    {
     "data": {
      "application/vnd.jupyter.widget-view+json": {
       "model_id": "88f0c7ffd158412eb431f6ded26a3029",
       "version_major": 2,
       "version_minor": 0
      },
      "text/plain": [
       "A Jupyter Widget"
      ]
     },
     "metadata": {},
     "output_type": "display_data"
    },
    {
     "data": {
      "application/vnd.jupyter.widget-view+json": {
       "model_id": "b0b6bbd399274a128f5e780b147e591c",
       "version_major": 2,
       "version_minor": 0
      },
      "text/plain": [
       "A Jupyter Widget"
      ]
     },
     "metadata": {},
     "output_type": "display_data"
    },
    {
     "ename": "KeyError",
     "evalue": "\"['PPFD_Avg' 'VPD' 'Shrub'] not in index\"",
     "output_type": "error",
     "traceback": [
      "\u001b[1;31m---------------------------------------------------------------------------\u001b[0m",
      "\u001b[1;31mKeyError\u001b[0m                                  Traceback (most recent call last)",
      "\u001b[1;32m<ipython-input-12-3507e3151615>\u001b[0m in \u001b[0;36m<module>\u001b[1;34m()\u001b[0m\n\u001b[0;32m     43\u001b[0m \u001b[1;31m# if Name =='ER_Runs':\u001b[0m\u001b[1;33m\u001b[0m\u001b[1;33m\u001b[0m\u001b[0m\n\u001b[0;32m     44\u001b[0m \u001b[1;31m#     RST.Master = RST.Master.loc[RST.Master['PPFD_Avg']<10]\u001b[0m\u001b[1;33m\u001b[0m\u001b[1;33m\u001b[0m\u001b[0m\n\u001b[1;32m---> 45\u001b[1;33m \u001b[0mRST\u001b[0m\u001b[1;33m.\u001b[0m\u001b[0mScale\u001b[0m\u001b[1;33m(\u001b[0m\u001b[0mparams\u001b[0m\u001b[1;33m[\u001b[0m\u001b[1;34m'target'\u001b[0m\u001b[1;33m]\u001b[0m\u001b[1;33m,\u001b[0m\u001b[0mparams\u001b[0m\u001b[1;33m[\u001b[0m\u001b[1;34m'Inputs'\u001b[0m\u001b[1;33m]\u001b[0m\u001b[1;33m)\u001b[0m\u001b[1;33m\u001b[0m\u001b[0m\n\u001b[0m\u001b[0;32m     46\u001b[0m \u001b[0my\u001b[0m \u001b[1;33m=\u001b[0m \u001b[0mRST\u001b[0m\u001b[1;33m.\u001b[0m\u001b[0my\u001b[0m\u001b[1;33m*\u001b[0m\u001b[1;36m1.0\u001b[0m\u001b[1;33m\u001b[0m\u001b[0m\n\u001b[0;32m     47\u001b[0m \u001b[0mX\u001b[0m \u001b[1;33m=\u001b[0m \u001b[0mRST\u001b[0m\u001b[1;33m.\u001b[0m\u001b[0mX\u001b[0m\u001b[1;33m*\u001b[0m\u001b[1;36m1.0\u001b[0m\u001b[1;33m\u001b[0m\u001b[0m\n",
      "\u001b[1;32m~\\NetworkAnalysis\\ReadStandardTimeFill.py\u001b[0m in \u001b[0;36mScale\u001b[1;34m(self, y_var, X_vars, ScalePath, Project)\u001b[0m\n\u001b[0;32m     39\u001b[0m             \u001b[1;31m# Yscale = self.YScaled.transform(self.y.reshape(-1, 1))\u001b[0m\u001b[1;33m\u001b[0m\u001b[1;33m\u001b[0m\u001b[0m\n\u001b[0;32m     40\u001b[0m             \u001b[1;31m# self.y = np.ndarray.flatten(Yscale)\u001b[0m\u001b[1;33m\u001b[0m\u001b[1;33m\u001b[0m\u001b[0m\n\u001b[1;32m---> 41\u001b[1;33m         \u001b[0mX\u001b[0m \u001b[1;33m=\u001b[0m \u001b[0mself\u001b[0m\u001b[1;33m.\u001b[0m\u001b[0mData\u001b[0m\u001b[1;33m[\u001b[0m\u001b[0mX_vars\u001b[0m\u001b[1;33m]\u001b[0m\u001b[1;33m\u001b[0m\u001b[0m\n\u001b[0m\u001b[0;32m     42\u001b[0m         \u001b[0mself\u001b[0m\u001b[1;33m.\u001b[0m\u001b[0minput_shape\u001b[0m \u001b[1;33m=\u001b[0m \u001b[0mlen\u001b[0m\u001b[1;33m(\u001b[0m\u001b[0mX_vars\u001b[0m\u001b[1;33m)\u001b[0m\u001b[1;33m\u001b[0m\u001b[0m\n\u001b[0;32m     43\u001b[0m         \u001b[1;32mif\u001b[0m \u001b[0mScalePath\u001b[0m \u001b[1;32mis\u001b[0m \u001b[1;32mNone\u001b[0m\u001b[1;33m:\u001b[0m\u001b[1;33m\u001b[0m\u001b[0m\n",
      "\u001b[1;32mC:\\Anaconda3\\lib\\site-packages\\pandas\\core\\frame.py\u001b[0m in \u001b[0;36m__getitem__\u001b[1;34m(self, key)\u001b[0m\n\u001b[0;32m   2680\u001b[0m         \u001b[1;32mif\u001b[0m \u001b[0misinstance\u001b[0m\u001b[1;33m(\u001b[0m\u001b[0mkey\u001b[0m\u001b[1;33m,\u001b[0m \u001b[1;33m(\u001b[0m\u001b[0mSeries\u001b[0m\u001b[1;33m,\u001b[0m \u001b[0mnp\u001b[0m\u001b[1;33m.\u001b[0m\u001b[0mndarray\u001b[0m\u001b[1;33m,\u001b[0m \u001b[0mIndex\u001b[0m\u001b[1;33m,\u001b[0m \u001b[0mlist\u001b[0m\u001b[1;33m)\u001b[0m\u001b[1;33m)\u001b[0m\u001b[1;33m:\u001b[0m\u001b[1;33m\u001b[0m\u001b[0m\n\u001b[0;32m   2681\u001b[0m             \u001b[1;31m# either boolean or fancy integer index\u001b[0m\u001b[1;33m\u001b[0m\u001b[1;33m\u001b[0m\u001b[0m\n\u001b[1;32m-> 2682\u001b[1;33m             \u001b[1;32mreturn\u001b[0m \u001b[0mself\u001b[0m\u001b[1;33m.\u001b[0m\u001b[0m_getitem_array\u001b[0m\u001b[1;33m(\u001b[0m\u001b[0mkey\u001b[0m\u001b[1;33m)\u001b[0m\u001b[1;33m\u001b[0m\u001b[0m\n\u001b[0m\u001b[0;32m   2683\u001b[0m         \u001b[1;32melif\u001b[0m \u001b[0misinstance\u001b[0m\u001b[1;33m(\u001b[0m\u001b[0mkey\u001b[0m\u001b[1;33m,\u001b[0m \u001b[0mDataFrame\u001b[0m\u001b[1;33m)\u001b[0m\u001b[1;33m:\u001b[0m\u001b[1;33m\u001b[0m\u001b[0m\n\u001b[0;32m   2684\u001b[0m             \u001b[1;32mreturn\u001b[0m \u001b[0mself\u001b[0m\u001b[1;33m.\u001b[0m\u001b[0m_getitem_frame\u001b[0m\u001b[1;33m(\u001b[0m\u001b[0mkey\u001b[0m\u001b[1;33m)\u001b[0m\u001b[1;33m\u001b[0m\u001b[0m\n",
      "\u001b[1;32mC:\\Anaconda3\\lib\\site-packages\\pandas\\core\\frame.py\u001b[0m in \u001b[0;36m_getitem_array\u001b[1;34m(self, key)\u001b[0m\n\u001b[0;32m   2724\u001b[0m             \u001b[1;32mreturn\u001b[0m \u001b[0mself\u001b[0m\u001b[1;33m.\u001b[0m\u001b[0m_take\u001b[0m\u001b[1;33m(\u001b[0m\u001b[0mindexer\u001b[0m\u001b[1;33m,\u001b[0m \u001b[0maxis\u001b[0m\u001b[1;33m=\u001b[0m\u001b[1;36m0\u001b[0m\u001b[1;33m)\u001b[0m\u001b[1;33m\u001b[0m\u001b[0m\n\u001b[0;32m   2725\u001b[0m         \u001b[1;32melse\u001b[0m\u001b[1;33m:\u001b[0m\u001b[1;33m\u001b[0m\u001b[0m\n\u001b[1;32m-> 2726\u001b[1;33m             \u001b[0mindexer\u001b[0m \u001b[1;33m=\u001b[0m \u001b[0mself\u001b[0m\u001b[1;33m.\u001b[0m\u001b[0mloc\u001b[0m\u001b[1;33m.\u001b[0m\u001b[0m_convert_to_indexer\u001b[0m\u001b[1;33m(\u001b[0m\u001b[0mkey\u001b[0m\u001b[1;33m,\u001b[0m \u001b[0maxis\u001b[0m\u001b[1;33m=\u001b[0m\u001b[1;36m1\u001b[0m\u001b[1;33m)\u001b[0m\u001b[1;33m\u001b[0m\u001b[0m\n\u001b[0m\u001b[0;32m   2727\u001b[0m             \u001b[1;32mreturn\u001b[0m \u001b[0mself\u001b[0m\u001b[1;33m.\u001b[0m\u001b[0m_take\u001b[0m\u001b[1;33m(\u001b[0m\u001b[0mindexer\u001b[0m\u001b[1;33m,\u001b[0m \u001b[0maxis\u001b[0m\u001b[1;33m=\u001b[0m\u001b[1;36m1\u001b[0m\u001b[1;33m)\u001b[0m\u001b[1;33m\u001b[0m\u001b[0m\n\u001b[0;32m   2728\u001b[0m \u001b[1;33m\u001b[0m\u001b[0m\n",
      "\u001b[1;32mC:\\Anaconda3\\lib\\site-packages\\pandas\\core\\indexing.py\u001b[0m in \u001b[0;36m_convert_to_indexer\u001b[1;34m(self, obj, axis, is_setter)\u001b[0m\n\u001b[0;32m   1325\u001b[0m                 \u001b[1;32mif\u001b[0m \u001b[0mmask\u001b[0m\u001b[1;33m.\u001b[0m\u001b[0many\u001b[0m\u001b[1;33m(\u001b[0m\u001b[1;33m)\u001b[0m\u001b[1;33m:\u001b[0m\u001b[1;33m\u001b[0m\u001b[0m\n\u001b[0;32m   1326\u001b[0m                     raise KeyError('{mask} not in index'\n\u001b[1;32m-> 1327\u001b[1;33m                                    .format(mask=objarr[mask]))\n\u001b[0m\u001b[0;32m   1328\u001b[0m \u001b[1;33m\u001b[0m\u001b[0m\n\u001b[0;32m   1329\u001b[0m                 \u001b[1;32mreturn\u001b[0m \u001b[0mcom\u001b[0m\u001b[1;33m.\u001b[0m\u001b[0m_values_from_object\u001b[0m\u001b[1;33m(\u001b[0m\u001b[0mindexer\u001b[0m\u001b[1;33m)\u001b[0m\u001b[1;33m\u001b[0m\u001b[0m\n",
      "\u001b[1;31mKeyError\u001b[0m: \"['PPFD_Avg' 'VPD' 'Shrub'] not in index\""
     ]
    }
   ],
   "source": [
    "prog1 = FloatProgress(min=1, max=2,description='Running:')\n",
    "prog2 = FloatProgress(min=0, max=100,description='Bootstrapping:')\n",
    "MdLs = HTML(\n",
    "    value=\" \",\n",
    "    placeholder='Models: ',\n",
    "    description='Models: ',\n",
    ")\n",
    "MdL = HTML(\n",
    "    value=\" \",\n",
    "    placeholder='Testing: ',\n",
    "    description='Testing: ',\n",
    ")\n",
    "Display (tar,prog1,prog2,MdLs,MdL,kwt)\n",
    "\n",
    "i = 99\n",
    "j = 99\n",
    "target = 'fco2'\n",
    "Name ='ER_Runs'\n",
    "\n",
    "\n",
    "params = Dense.Params(Scope,target,MP)\n",
    "params['Dpath'] = cwd+'/'+Site+'/'\n",
    "params['Spath'] = params['Dpath']+target+'/'+str(j)+'_'+str(i)+'/'\n",
    "try:\n",
    "    os.mkdir(params['Spath'])\n",
    "except:\n",
    "    pass\n",
    "params['Sname'] = 'Y_'\n",
    "params['Inputs'] = ['PPFD_Avg','VWC','VPD','Shrub']#Input\n",
    "# params['Inputs'] = ['wind_speed', 'PPFD_Avg', 'VPD', 'AirTC_Avg','VWC','Temp',\n",
    "#               'Sedge','Grass','Shrub','Sparse','Upland']\n",
    "# params['Inputs'] = ['wind_speed', 'PPFD_Avg', 'AirTC_Avg','VWC','Temp',\n",
    "#               'Sedge','Grass','Shrub','Sparse','Upland']\n",
    "\n",
    "\n",
    "MdL.value='#'+str(i)+' '+str(params['Inputs'])\n",
    "Display (tar,prog1,prog2,MdLs,MdL,kwt)\n",
    "params['Model'] = '+'.join(params['Inputs'])\n",
    "RST = RSTF.ReadStandardTimeFill(params,'ECData.csv')#,resample='2H')\n",
    "\n",
    "if Name =='ER_Runs':\n",
    "    RST.Master = RST.Master.loc[RST.Master['fco2']>0]\n",
    "# if Name =='ER_Runs':\n",
    "#     RST.Master = RST.Master.loc[RST.Master['PPFD_Avg']<10]\n",
    "RST.Scale(params['target'],params['Inputs']) \n",
    "y = RST.y*1.0\n",
    "X = RST.X*1.0\n",
    "params['N']=int(y.shape[0]/30)\n",
    "params['Memory'] = (math.floor(100/params['proc'])- 5/params['proc']) * .01\n",
    "Y_hat=[]\n",
    "y_true=[]\n",
    "X_true=[]\n",
    "index=[]\n",
    "ones=[]\n",
    "prog2.value=0\n",
    "if MP == False:\n",
    "    for k in range(params['K']):\n",
    "        Time2 = time.time()\n",
    "        results = Dense.Bootstrap(k,params,X,y)\n",
    "        Y_hat.append(RST.YScaled.inverse_transform(results[0]))\n",
    "        y_true.append(RST.YScaled.inverse_transform(results[1]))\n",
    "        X_true.append(RST.XScaled.inverse_transform(results[2]))\n",
    "        ones.append(results[3])\n",
    "        prog2.value=(k+1)/params['K']*100\n",
    "        print(time.time()-Time2)\n",
    "else:\n",
    "    pool = Pool(processes=processes,maxtasksperchild=75)\n",
    "    for k,results in enumerate(pool.imap(partial(Dense.Bootstrap,params=params,X=X,y=y),range(params['K']))):\n",
    "        Y_hat.append(RST.YScaled.inverse_transform(results[0]))\n",
    "        y_true.append(RST.YScaled.inverse_transform(results[1]))\n",
    "        X_true.append(RST.XScaled.inverse_transform(results[2]))\n",
    "        ones.append(results[3])\n",
    "        prog2.value=(k+1)/params['K']*100\n",
    "    pool.close()\n",
    "Y_hat = np.squeeze(np.asanyarray(Y_hat))\n",
    "y_true = np.squeeze(np.asanyarray(y_true))\n",
    "X_true = np.asanyarray(X_true)\n",
    "ones = np.asanyarray(ones)\n",
    "params['Memory'] = .95\n",
    "if MP == False:\n",
    "    for k in range(1):\n",
    "         mse,se = Dense.Sort_outputs(k,params,Y_hat,y_true,X_true,ones)\n",
    "else:\n",
    "    pool = Pool(processes=1,maxtasksperchild=75)\n",
    "    for k,results in enumerate(pool.imap(partial(Dense.Sort_outputs,params=params,\n",
    "     Y_hat=Y_hat,y_true=y_true,X_true=X_true,ones=ones),range(1))):\n",
    "         mse,se = results\n",
    "    pool.close()\n",
    "    \n",
    "    \n",
    "Level = Stats(mse,se,j,i,params)\n",
    "Level.to_csv(params['Dpath']+Name+'.csv')"
   ]
  },
  {
   "cell_type": "code",
   "execution_count": 17,
   "metadata": {
    "scrolled": false
   },
   "outputs": [
    {
     "name": "stdout",
     "output_type": "stream",
     "text": [
      "                        Model       MSE  Size  Number        SE  Performance\n",
      "99_99  PPFD_Avg+VWC+VPD+Shrub  0.011892    99      99  0.002806            0\n"
     ]
    }
   ],
   "source": [
    "# print(params)\n",
    "\n",
    "Level.to_csv(params['Dpath']+Name+'.csv')\n",
    "# Level = Stats(mse,se,j,i,params)\n",
    "# Level.to_csv(params['Dpath']+target+'_Final_Runs.csv')\n",
    "\n",
    "# plt.figure()\n",
    "# print(RST.Master\n",
    "#      )\n",
    "\n",
    "# pool = Pool(processes=1,maxtasksperchild=75)\n",
    "# for k,results in enumerate(pool.imap(partial(Dense.Sort_outputs,params=params,\n",
    "#  Y_hat=Y_hat,y_true=y_true,X_true=X_true,ones=ones),range(1))):\n",
    "#      mse,se = results\n",
    "# pool.close()\n",
    "\n",
    "# plt.scatter(Y_hat,y_true)\n",
    "# print(metrics.mean_squared_error(y_true,Y_hat))\n",
    "# print(metrics.r2_score(y_true,Y_hat))\n",
    "\n",
    "# plt.figure()\n",
    "\n",
    "# plt.plot(Y_hat)\n",
    "# plt.plot(y_true)\n",
    "\n",
    "# print(Y_hat.shape,y_true.shape)\n",
    "print(Level)"
   ]
  },
  {
   "cell_type": "markdown",
   "metadata": {},
   "source": [
    "# Predict"
   ]
  },
  {
   "cell_type": "raw",
   "metadata": {
    "collapsed": true,
    "scrolled": true
   },
   "source": [
    "\n",
    "# print(Data[params['target']])\n",
    "\n",
    "for ip in params['Inputs']:\n",
    "    RST.Data[ip] = RST.Data[ip].mean()\n",
    "\n",
    "Key = 'Sedge'\n",
    "KeyRange = {'min':0,'max':1}\n",
    "RST.Data[Key] = np.linspace(KeyRange['min'],KeyRange['max'],RST.Data[Key].shape[0])\n",
    "RST.Scale(params['target'],params['Inputs'],ScalePath=params['Spath'],Project=Project)\n",
    "    \n",
    "# print(Data[params['target']])\n",
    "\n",
    "if __name__ == '__main__':\n",
    "    if Fill == True:\n",
    "        X = RST.X_fill\n",
    "    else:\n",
    "        X = RST.X\n",
    "    params['Sname']='Y_'\n",
    "    Y_fill = []\n",
    "    MSE = []\n",
    "#     for i in range(params['K']):\n",
    "        \n",
    "        \n",
    "        \n",
    "    if MP == False:\n",
    "        for k in range(params['K']):\n",
    "            Y = Dense.Load_Model(k,X,params)\n",
    "            Y = RST.YScaled.inverse_transform(Y)\n",
    "            if Fill == False:\n",
    "                mse = (metrics.mean_squared_error(RST.y,Y))\n",
    "                MSE.append(mse)\n",
    "            Y_fill.append(Y)\n",
    "    else:\n",
    "        pool = Pool(processes=1,maxtasksperchild=75)\n",
    "        for k,results in enumerate(pool.imap(partial(Dense.Load_Model,X=X,params=params),range(params['K']))):\n",
    "            Y = results\n",
    "            Yold = Y+0\n",
    "            Y = RST.YScaled.inverse_transform(Y)\n",
    "#             plt.figure()\n",
    "#             plt.scatter(Y,Yold)\n",
    "#             plt.xlabel('Sca;e')\n",
    "#             print(RST.YScaled)\n",
    "            if Fill == False:\n",
    "                mse = (metrics.mean_squared_error(RST.y,Y))\n",
    "                MSE.append(mse)\n",
    "            Y_fill.append(Y)                       \n",
    "        pool.close()\n",
    "#         params['iteration']=i\n",
    "\n",
    "#         Y = Dense.Load_Model(i,X,params)\n",
    "#         Model = Dense.Load_Weights(Empty_Mod,params) \n",
    "#         Y = RST.YScaled.inverse_transform(Y)#Model.predict(X).reshape(-1,1))\n",
    "#         if Fill == False:\n",
    "#             mse = (metrics.mean_squared_error(RST.y,Y))\n",
    "#             MSE.append(mse)\n",
    "#         Y_fill.append(Y)\n",
    "    Y_fill = np.asanyarray(Y_fill).mean(axis=-1)\n",
    "    Y_fill_bar = Y_fill.mean(axis=0)\n",
    "    if Fill == False:\n",
    "        MSE = np.asanyarray(MSE)\n",
    "        CI = stats.t.ppf(1-0.025,k)*MSE.std()/(k)**.5\n",
    "        print(CI)\n",
    "\n",
    "    YStandard = joblib.load(params['Spath']+\"YVar_scaler.save\") \n",
    "    params['Sname']='Var'\n",
    "#     params['iteration']=1\n",
    "    params['Loss']='Boot_Loss'\n",
    "#     YVar = Dense.Load_Model(1,X,params)\n",
    "#     Model = Dense.Load_Weights(Empty_Mod,params)        \n",
    "    if MP == False:\n",
    "        for k in range(1,2):\n",
    "            YVar = Dense.Load_Model(k,X,params)\n",
    "            YVar = RST.YScaled.inverse_transform(YVar)\n",
    "#             if Fill == False:\n",
    "#                 mse = (metrics.mean_squared_error(RST.y,Y))\n",
    "#                 MSE.append(mse)\n",
    "#             Y_fill.append(Y)\n",
    "    else:\n",
    "        pool = Pool(processes=1,maxtasksperchild=75)\n",
    "        for k,results in enumerate(pool.imap(partial(Dense.Load_Model,X=X,params=params),range(1,2))):\n",
    "            YVar = results\n",
    "            YVar = RST.YScaled.inverse_transform(YVar)\n",
    "#             if Fill == False:\n",
    "#                 mse = (metrics.mean_squared_error(RST.y,Y))\n",
    "#                 MSE.append(mse)\n",
    "#             Y_fill.append(Y)                       \n",
    "        pool.close()\n",
    "#     YVar=YStandard.inverse_transform(YVar)#Model.predict(X).reshape(-1,1))\n",
    "    X_back = np.squeeze(RST.XScaled.inverse_transform(X))\n",
    "\n",
    "\n",
    "Data = pd.DataFrame(data=X_back,columns=params['Inputs'])\n",
    "Data[target] = np.squeeze(Y_fill_bar)\n",
    "Data['True'] = RST.Ytru#.YScaled.inverse_transform(RST.y)\n",
    "Data['SE'] = 1/(params['K']-1)*((Y_fill-Y_fill_bar)**2).sum(axis=0)\n",
    "Data['Var'] = np.squeeze(YVar)\n",
    "Data['CI']=stats.t.ppf(1-0.025,params['K'])*(Data['SE'])**.5\n",
    "Data['PI']=stats.t.ppf(1-0.025,params['K'])*((Data['Var']+Data['SE'])**.5) #the accuracy of our estimate with respect to the observed output\n",
    "\n",
    "# print(Data['CI'].mean())\n",
    "print(params['Inputs'])\n",
    "print('Prediction mean: ',Data[target].mean())\n",
    "print('Target mean: ',Data['True'].mean())\n",
    "Data['Fill'] = Data['True'].fillna(Data[target])\n",
    "print('GapFilled mean: ',Data['Fill'].mean())\n",
    "\n",
    "Data.loc[np.isnan(Data['PI'])==True,'PI']=Data['CI']"
   ]
  },
  {
   "cell_type": "code",
   "execution_count": null,
   "metadata": {
    "collapsed": true,
    "scrolled": false
   },
   "outputs": [],
   "source": [
    "\n",
    "plt.figure(figsize=(8,7))\n",
    "Data = Data.sort_values(by=Key)\n",
    "# Data.index = Data[Key]\n",
    "\n",
    "Data = Data[np.isfinite(Data['True'])]\n",
    "\n",
    "plt.scatter(RST.Master[Key],RST.Master[target],edgecolor='black',facecolor='white')\n",
    "plt.plot(Data[Key],Data[target],\n",
    "         label= params['target']+' Model\\nr^2: '+str(np.round(metrics.r2_score(Data['True'],\n",
    "                                                                   Data[params['target']])**2,3)))\n",
    "# plt.plot(Data.index,Data['Var'],label= params['target']+\n",
    "# ' Model\\nRMSE: '+str(np.round(metrics.mean_squared_error(Data['True'],\n",
    "#                                                                    Data[params['target']])**2,3)))\n",
    "\n",
    "\n",
    "plt.fill_between(Data[Key], Data[target]-Data['PI'], \n",
    "                 Data[target]+Data['PI'],  color = 'green', alpha = 0.4, \n",
    "                 label = '95% PI')\n",
    "plt.fill_between(Data[Key], Data[target]-Data['CI'], \n",
    "                 Data[target]+Data['CI'],  color = 'red', alpha = 0.4, \n",
    "                 label = '95% CI')\n",
    "plt.legend()\n",
    "# print(RST.Master)\n",
    "\n",
    "plt.figure()\n",
    "\n",
    "# plt.plot(Data[Key], Data['Var'])\n",
    "\n",
    "plt.scatter(Data[target],Data['True'])\n",
    "\n",
    "# print(Data['SE'])"
   ]
  },
  {
   "cell_type": "code",
   "execution_count": null,
   "metadata": {
    "collapsed": true
   },
   "outputs": [],
   "source": []
  },
  {
   "cell_type": "code",
   "execution_count": null,
   "metadata": {
    "collapsed": true
   },
   "outputs": [],
   "source": []
  }
 ],
 "metadata": {
  "kernelspec": {
   "display_name": "Python 3",
   "language": "python",
   "name": "python3"
  },
  "language_info": {
   "codemirror_mode": {
    "name": "ipython",
    "version": 3
   },
   "file_extension": ".py",
   "mimetype": "text/x-python",
   "name": "python",
   "nbconvert_exporter": "python",
   "pygments_lexer": "ipython3",
   "version": "3.6.2"
  }
 },
 "nbformat": 4,
 "nbformat_minor": 2
}
