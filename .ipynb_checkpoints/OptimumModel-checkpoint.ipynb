{
 "cells": [
  {
   "cell_type": "markdown",
   "metadata": {},
   "source": [
    "##  Optimze and a Dense Neural Network for gap filling and feature identification\n",
    "\n",
    "** With a few tweaks to RepRunner, an LSTM can be run instead"
   ]
  },
  {
   "cell_type": "code",
   "execution_count": 2,
   "metadata": {},
   "outputs": [],
   "source": [
    "import time\n",
    "import math\n",
    "import numpy as np\n",
    "import pandas as pd\n",
    "import matplotlib.pyplot as plt\n",
    "from itertools import combinations\n",
    "from functools import partial\n",
    "from multiprocessing import Pool\n",
    "from sklearn.preprocessing import StandardScaler\n",
    "from sklearn import metrics\n",
    "from sklearn.model_selection import RepeatedKFold\n",
    "from sklearn.model_selection import train_test_split\n",
    "\n",
    "## Personal Modules\n",
    "import ReadStandardTimeFill as RSTF\n",
    "import importlib\n",
    "import DenseNet as Dense\n",
    "importlib.reload(Dense)\n",
    "importlib.reload(RSTF)\n",
    "\n",
    "%matplotlib inline\n",
    "%config IPCompleter.greedy=True\n",
    "\n",
    "from scipy.optimize import minimize, curve_fit\n",
    "from scipy.stats import norm\n",
    "from sklearn.gaussian_process import GaussianProcessRegressor\n",
    "from sklearn.gaussian_process.kernels import Matern, WhiteKernel, ConstantKernel\n",
    "from matplotlib import cm\n",
    "\n",
    "from scipy import stats\n",
    "from statsmodels.stats.multicomp import pairwise_tukeyhsd\n",
    "\n",
    "from ipywidgets import FloatProgress\n",
    "from IPython.display import display\n",
    "import os  "
   ]
  },
  {
   "cell_type": "code",
   "execution_count": 3,
   "metadata": {
    "collapsed": true
   },
   "outputs": [],
   "source": [
    "def Curve(x,a,b,c):\n",
    "    return (a*x**2+b*x+c)\n",
    "\n",
    "def TTV_Split(iteration,Memory,X,y,params,X_fill):\n",
    "    params['seed'] = int(iteration%params['splits_per_mod']/params['splits_per_mod']*100)\n",
    "    params['iteration'] = int(iteration/params['splits_per_mod'])\n",
    "    X_train,X_test,y_train,y_test=train_test_split(X,y, test_size=0.1, random_state=params['seed'])\n",
    "    X_train,X_val,y_train,y_val=train_test_split(X_train,y_train, test_size=0.11, random_state=params['seed'])\n",
    "    return(Dense.Train_Steps(params,X_train,X_test,X_val,y_train,y_test,\n",
    "        y_val,X_fill = X_fill,Memory=Memory),\n",
    "        y_val)\n",
    "\n",
    "def RunReps(Model,params,pool = None,FullReturn=False):\n",
    "    RST = RSTF.ReadStandardTimeFill(params['Dpath']+'ECData.csv')\n",
    "    offset = 5/params['proc']\n",
    "    Memory = (math.floor(100/params['proc'])- offset) * .01\n",
    "    MSE = []\n",
    "    RST.Scale(params['Y'],Model)\n",
    "    y = RST.y*1.0\n",
    "    X = RST.X*1.0\n",
    "    X_fill = RST.X_fill*1.0\n",
    "    RMSE = []\n",
    "    R2 =[]\n",
    "    Y_fill = []\n",
    "    Yval = []\n",
    "    y_val= []\n",
    "    if params['Prelim_N']==True:\n",
    "        params['N']=int(y.shape[0]*.8/30)\n",
    "    if __name__=='__main__'and params['proc'] != 1:\n",
    "        for i,results in enumerate(pool.imap(partial(TTV_Split,Memory=Memory,X=X,y=y,params=params,X_fill=X_fill),range(params['K']))):\n",
    "            Y_fill.append(results[0][0])\n",
    "            Yval = RST.YScaled.inverse_transform(results[0][1].reshape(-1,1))\n",
    "            y_val = RST.YScaled.inverse_transform(results[1].reshape(-1,1))\n",
    "            RMSE.append(metrics.mean_squared_error(Yval,y_val)**.5)\n",
    "            R2.append(metrics.r2_score(Yval,y_val))\n",
    "    else:\n",
    "        for i in range(params['K']):\n",
    "            results = TTV_Split(i,Memory,X,y,params,X_fill)\n",
    "            Y_fill.append(results[0][0])\n",
    "            Yval = RST.YScaled.inverse_transform(results[0][1].reshape(-1,1))\n",
    "            y_val = RST.YScaled.inverse_transform(results[1].reshape(-1,1))\n",
    "            RMSE.append(metrics.mean_squared_error(y_val,Yval)**.5)\n",
    "            R2.append(metrics.r2_score(y_val,Yval))\n",
    "    Y_fill = np.asanyarray(Y_fill)\n",
    "    Y_fill = Y_fill.mean(axis=0) \n",
    "    FillVarName = FillVar.replace('f','F')\n",
    "    RST.Fill(Y_fill,FillVarName)\n",
    "    return(RMSE,R2,RST.Master['TempFill'])\n",
    "\n",
    "def RunLoop(Runs,model):\n",
    "    style = {'description_width': 'initial'}\n",
    "    f = FloatProgress(min=0, max=Runs['N'].count(),description='Finding Best N:',style=style) # instantiate the bar\n",
    "    display(f) # display the bar\n",
    "    i = 0\n",
    "    for N in Runs['N'].unique():\n",
    "        params['T'] = 0\n",
    "        params['N']=N\n",
    "        Results = RunReps(model,params,pool)\n",
    "        RMSE = Results[0]\n",
    "        R2 = Results[1]\n",
    "        Runs.loc[Runs['N']==N,'RMSE']=RMSE\n",
    "        Runs.loc[Runs['N']==N,'R2']=R2\n",
    "        f.value+=params['K']\n",
    "        rmse = Runs.loc[Runs['RMSE']!=0].groupby('N').mean()#.values[0]\n",
    "        rmse['se'] = Runs.loc[Runs['RMSE']!=0,['N','RMSE']].groupby('N').sem()#.values[0]\n",
    "        Val = rmse['RMSE'].min()+rmse.loc[rmse['RMSE']==rmse['RMSE'].min(),'se'].values[0]\n",
    "        if i > 0:\n",
    "            if np.asanyarray(RMSE).mean()>Val:\n",
    "                Runs = Runs.loc[Runs['RMSE']!=0]\n",
    "                print('Leaving at ',N)\n",
    "                break\n",
    "        i+=1                \n",
    "    return(Runs)\n",
    "\n",
    "def N_Nodes(Runs,params,model,plot=False):\n",
    "    params['Prelim_N']=False\n",
    "    Runs = RunLoop(Runs,model)\n",
    "    Group = Runs.groupby('N').mean()\n",
    "    Group['Count'] = Runs[['N','RMSE']].groupby('N').count()\n",
    "    Group['SD'] = Runs[['N','RMSE']].groupby('N').std()\n",
    "    Group['SE'] = Runs[['N','RMSE']].groupby('N').sem()\n",
    "    Group = Group.reset_index()\n",
    "    Min = Group.loc[Group['RMSE']==Group['RMSE'].min()]\n",
    "    popt, pcov = curve_fit(Curve, Runs['N'].values, Runs['RMSE'].values)\n",
    "    N = np.arange(Runs['N'].min(),Runs['N'].max())\n",
    "    Fit = Curve(N,*popt)\n",
    "    Max = (Min['RMSE']+Min['SE']).values[0]\n",
    "    try:\n",
    "        params['N']=N[Fit<Max].min()\n",
    "    except:\n",
    "        print('Fitting failed to produce meaningful results')\n",
    "        params['N'] = Group.loc[Group['RMSE']<+Min['RMSE'].values[0]+Min['SE'].values[0],'N'].values[0]\n",
    "        pass\n",
    "    \n",
    "    if plot == True:\n",
    "        fig,ax = plt.subplots(figsize=(8,8))\n",
    "        ax.scatter(Runs['N'],Runs['RMSE'])\n",
    "        ax.plot(N,Fit,color='r')\n",
    "        ax.plot(N,N*0+Max,color = 'black')\n",
    "        plt.grid()\n",
    "        plt.show()\n",
    "    return(params,Runs,Group)\n",
    "\n",
    "def Combos(Model,L,factor=None,BaseFactors=[]):\n",
    "    Models=[]#BaseFactors#list()\n",
    "    for c in combinations(Model,L):\n",
    "        c = list(c)+BaseFactors\n",
    "        if factor is None:\n",
    "            Models.append(c)\n",
    "        else:\n",
    "            for f in factor:\n",
    "                f = f.split('+')\n",
    "                if set(f).issubset(set(c)) and c not in Models:\n",
    "                    Models.append(c)\n",
    "                    \n",
    "    print('Models: ',Models)\n",
    "    return(Models)\n",
    "\n",
    "def FactorTest(params,FullModel,Runs,BaseFactors = []):\n",
    "    prog1 = FloatProgress(min=len(BaseFactors), max=len(FullModel+BaseFactors)-1,description='FactorTesting:') # instantiate the bar\n",
    "    display(prog1) # display the bar\n",
    "    Scores = pd.DataFrame()\n",
    "    ModelRuns = pd.DataFrame()\n",
    "    Start = 1\n",
    "    for level in range(Start,len(FullModel+BaseFactors)+1):\n",
    "        if level == 1:\n",
    "            Models = Combos(FullModel,level)\n",
    "#         elif BaseFactors != [] and i-Start == 0:\n",
    "#             Models = Combos(FullModel,level-Start+1,BaseFactors=BaseFactors)\n",
    "#         elif BaseFactors != [] and i-Start > 0:\n",
    "#             Models = Combos(FullModel,level-Start+1,factor = Best,BaseFactors=BaseFactors)\n",
    "        else:\n",
    "            Models = Combos(FullModel,level,factor = Best,BaseFactors=BaseFactors)\n",
    "        print('Number of Models: ',len(Models))\n",
    "        prog2 = FloatProgress(min=0, max=len(Models),description='Level: '+str(level)) # instantiate the bar\n",
    "        display(prog2) # display the bar\n",
    "        Values = []\n",
    "        for j,model in enumerate(Models):\n",
    "            key = str(level)+'_'+str(j)\n",
    "            Name = '+'.join(model)\n",
    "            Results = RunReps(model,params,pool)\n",
    "            RMSE = Results[0]\n",
    "            R2 = Results[1]\n",
    "            d = {'Model':'+'.join(model),'RMSE':RMSE,'Key':key,'R2':R2,'Level':level}#,'Best':'N'\n",
    "            score = pd.DataFrame(index=[x for x in range(params['K'])],data=d)\n",
    "            Scores = Scores.append(score,ignore_index=True)## Might cause problems in older versions\n",
    "            ModelRuns['Model: '+'+'.join(model)] = Results[2]    \n",
    "            prog2.value+=1\n",
    "        Group = Scores.groupby('Key').agg({'Model': 'first','Level': 'first','RMSE': 'mean','R2': 'mean'}) \n",
    "        Group['SE'] = Scores[['Key','RMSE']].groupby('Key').sem()\n",
    "        Min = Group.loc[Group['Level']==level]\n",
    "        print(Min)\n",
    "        Mod2Beat = Min.loc[Min['RMSE'] == Min['RMSE'].min()]\n",
    "        if level>Start:\n",
    "            print('Should we exit??', Mod2Beat['RMSE']+Mod2Beat['SE']).values[0],LastMin)\n",
    "            if (Mod2Beat['RMSE']+Mod2Beat['SE']).values[0]>LastMin:\n",
    "                print('Exit Early')\n",
    "                Scores = Scores.loc[Scores['Level']<level]\n",
    "                break\n",
    "        LastMin = Min['RMSE'].min()\n",
    "        print('Best Model @ Level ',level)\n",
    "        print(Mod2Beat)\n",
    "        Best = Mod2Beat['Model'].values\n",
    "        prog1.value+=1\n",
    "    Group = Scores.groupby('Key').agg({'Model': 'first','Level': 'first','RMSE': 'mean','R2': 'mean'})\n",
    "    Group['SE'] = Scores[['Key','RMSE']].groupby('Key').sem()\n",
    "    Min = Group.loc[Group['Level']==level]\n",
    "    return(Best,Scores,ModelRuns)\n",
    "\n",
    "def Best_Fill(Best,Runs,Scores,params):\n",
    "    N = Runs['N']\n",
    "    NRuns = Runs*0\n",
    "    NRuns['N']=N\n",
    "    model = Best[0].split('+')\n",
    "\n",
    "    params,Runs,Group = N_Nodes(NRuns,params,model,plot=True)\n",
    "    level = 0\n",
    "    key = '0_'+str(params['N'])\n",
    "    Name = '+'.join(Best)\n",
    "    Results = RunReps(model,params,pool)\n",
    "    MSE = Results[0]\n",
    "    R2 = Results[1]\n",
    "    d = {'Model':'+'.join(model),'RMSE':MSE,'Key':key,'R2':R2,'Level':level}#,'Best':'N'\n",
    "    score = pd.DataFrame(index=[x for x in range(params['K'])],data=d)\n",
    "    Scores = Scores.append(score,ignore_index=True)\n",
    "    ModelRuns['BestModel: '+'+'.join(model)] = Results[2] \n",
    "    print(params['N'])\n",
    "    return(Scores,ModelRuns)"
   ]
  },
  {
   "cell_type": "markdown",
   "metadata": {},
   "source": [
    "# The \"Optimum\" Sized Model"
   ]
  },
  {
   "cell_type": "code",
   "execution_count": 4,
   "metadata": {
    "scrolled": true
   },
   "outputs": [
    {
     "data": {
      "application/vnd.jupyter.widget-view+json": {
       "model_id": "4352d33bb2844f768c7854dc3be743ec",
       "version_major": 2,
       "version_minor": 0
      },
      "text/plain": [
       "A Jupyter Widget"
      ]
     },
     "metadata": {},
     "output_type": "display_data"
    },
    {
     "name": "stdout",
     "output_type": "stream",
     "text": [
      "Models:  [['PPFD_Avg'], ['Sedge'], ['VWC'], ['Temp']]\n",
      "Number of Models:  4\n"
     ]
    },
    {
     "data": {
      "application/vnd.jupyter.widget-view+json": {
       "model_id": "2454a64c42b74b4a9cfdb875cde552e0",
       "version_major": 2,
       "version_minor": 0
      },
      "text/plain": [
       "A Jupyter Widget"
      ]
     },
     "metadata": {},
     "output_type": "display_data"
    },
    {
     "name": "stderr",
     "output_type": "stream",
     "text": [
      "Using TensorFlow backend.\n",
      "Using TensorFlow backend.\n",
      "Using TensorFlow backend.\n"
     ]
    },
    {
     "name": "stdout",
     "output_type": "stream",
     "text": [
      "     Level      RMSE          R2     Model        SE\n",
      "Key                                                 \n",
      "1_0      1  0.177638    0.828473  PPFD_Avg  0.002858\n",
      "1_1      1  0.498530  -91.858986     Sedge  0.003741\n",
      "1_2      1  0.499083 -305.491767       VWC  0.002584\n",
      "1_3      1  0.443078   -8.798687      Temp  0.000430\n",
      "Best Model @ Level  1\n",
      "     Level      RMSE        R2     Model        SE\n",
      "Key                                               \n",
      "1_0      1  0.177638  0.828473  PPFD_Avg  0.002858\n",
      "Models:  [['PPFD_Avg', 'Sedge'], ['PPFD_Avg', 'VWC'], ['PPFD_Avg', 'Temp']]\n",
      "Number of Models:  3\n"
     ]
    },
    {
     "data": {
      "application/vnd.jupyter.widget-view+json": {
       "model_id": "894f02f0151e46fda4b6d9b16dab2c0c",
       "version_major": 2,
       "version_minor": 0
      },
      "text/plain": [
       "A Jupyter Widget"
      ]
     },
     "metadata": {},
     "output_type": "display_data"
    },
    {
     "name": "stdout",
     "output_type": "stream",
     "text": [
      "     Level      RMSE        R2           Model        SE\n",
      "Key                                                     \n",
      "2_0      2  0.184525  0.811934  PPFD_Avg+Sedge  0.002262\n",
      "2_1      2  0.188049  0.797701    PPFD_Avg+VWC  0.005059\n",
      "2_2      2  0.179272  0.828048   PPFD_Avg+Temp  0.003305\n",
      "Exit Early\n",
      "['PPFD_Avg']     Key  Level     Model          R2      RMSE\n",
      "0   1_0      1  PPFD_Avg    0.832374  0.174926\n",
      "1   1_0      1  PPFD_Avg    0.813013  0.185383\n",
      "2   1_0      1  PPFD_Avg    0.829019  0.178120\n",
      "3   1_0      1  PPFD_Avg    0.839485  0.172123\n",
      "4   1_1      1     Sedge  -36.019265  0.505903\n",
      "5   1_1      1     Sedge -124.465723  0.493722\n",
      "6   1_1      1     Sedge -169.804182  0.490646\n",
      "7   1_1      1     Sedge  -37.146774  0.503850\n",
      "8   1_2      1       VWC -328.050446  0.500912\n",
      "9   1_2      1       VWC -465.729951  0.497992\n",
      "10  1_2      1       VWC -271.593749  0.492578\n",
      "11  1_2      1       VWC -156.592923  0.504851\n",
      "12  1_3      1      Temp   -8.593988  0.444344\n",
      "13  1_3      1      Temp   -9.246775  0.442782\n",
      "14  1_3      1      Temp   -7.924731  0.442765\n",
      "15  1_3      1      Temp   -9.429255  0.442421\n"
     ]
    },
    {
     "data": {
      "application/vnd.jupyter.widget-view+json": {
       "model_id": "ea536de132e541659f49df87ad845749",
       "version_major": 2,
       "version_minor": 0
      },
      "text/plain": [
       "A Jupyter Widget"
      ]
     },
     "metadata": {},
     "output_type": "display_data"
    },
    {
     "name": "stdout",
     "output_type": "stream",
     "text": [
      "Leaving at  50\n",
      "Fitting failed to produce meaningful results\n"
     ]
    },
    {
     "data": {
      "image/png": "[encoded data removed]",
      "text/plain": [
       "<matplotlib.figure.Figure at 0x7f2eab4886d8>"
      ]
     },
     "metadata": {},
     "output_type": "display_data"
    },
    {
     "name": "stdout",
     "output_type": "stream",
     "text": [
      "70\n"
     ]
    }
   ],
   "source": [
    "# pool.close()\n",
    "# Site = 'Illisarvik'#'FishIsland'#\n",
    "Scope = 'Test'\n",
    "cwd = os.getcwd()\n",
    "def ModSelect(Scope,Site):\n",
    "    if Site == 'Illisarvik':\n",
    "        BaseFactors = ['Sedge','Shrub','Grass','Sparse','Out_of_Basin']\n",
    "        BaseFactors = []\n",
    "        if Scope == 'Full':\n",
    "            Model = ['H','wind_speed','air_pressure','PPFD_Avg','AirTC_Avg','VPD',\n",
    "                    'Temp','VWC','Sedge','Shrub','Grass','Sparse','Out_of_Basin']\n",
    "        if Scope == 'Test':\n",
    "            Model = ['PPFD_Avg','Sedge','VWC','Temp']\n",
    "    if Site == 'FishIsland':\n",
    "        BaseFactors = []\n",
    "        if Scope == 'Full':\n",
    "            Model = ['H','Wind Spd','air pressure','Ta','Rn','PPFD','Rain','Water Table',\n",
    "            'Ts 2.5 cm','Ts 15 cm','VWC','Active Layer','24H Rain','Wtr Tbl Trnd']\n",
    "        if Scope == 'Test':\n",
    "            Model = ['H','Water Table','Wind Spd','Active Layer']\n",
    "    return(Model,BaseFactors)\n",
    "\n",
    "def Params(Func,Y,MP = True):\n",
    "    params = {}\n",
    "    params['proc']=3\n",
    "    if MP == False:\n",
    "        params['proc']=1\n",
    "    if Func == 'Full':\n",
    "        epochs = 200\n",
    "        K = 30\n",
    "        splits_per_mod = 2\n",
    "        N = np.linspace(100,10,8,dtype='int32')\n",
    "    elif Func == 'Test':\n",
    "        epochs = 100\n",
    "        K = 4\n",
    "        splits_per_mod = 1\n",
    "        N = np.linspace(70,10,5,dtype='int32')\n",
    "    N = np.repeat(N,K)\n",
    "    d = {'N':N.astype(int)}\n",
    "    Runs = pd.DataFrame(data=d)\n",
    "    Runs['RMSE'] = 0.0\n",
    "    Runs['R2'] = 0.0\n",
    "    Runs['Model']=0\n",
    "    params['K'] = K\n",
    "    params['epochs'] = epochs\n",
    "    params['Y'] = Y\n",
    "    params['splits_per_mod'] = splits_per_mod\n",
    "    params['Save'] = {}\n",
    "    params['Save']['Weights']=False\n",
    "    params['Save']['Model']=False\n",
    "    \n",
    "    return(Runs,params)\n",
    "\n",
    "\n",
    "MP=True\n",
    "if Scope == 'Full':\n",
    "    MP = True\n",
    "if __name__=='__main__'and MP==True:\n",
    "    pool = Pool(processes=3,maxtasksperchild=75)\n",
    "else:pool=None\n",
    "    \n",
    "# for Site in ['Illisarvik','FishIsland']:\n",
    "Site='Illisarvik'\n",
    "FillVar = 'fco2'\n",
    "#     for FillVar in ['fch4','fco2']:\n",
    "\n",
    "FullModel,BaseFactors = ModSelect(Scope,Site)\n",
    "Runs,params = Params(Scope,FillVar,MP)\n",
    "params['Dpath'] = cwd+'/'+Site+'/'\n",
    "params['Prelim_N']=True\n",
    "Best,Scores,ModelRuns = FactorTest(params,FullModel,Runs,BaseFactors)\n",
    "print(Best,Scores)\n",
    "Scores,ModelRuns = Best_Fill(Best,Runs,Scores,params)\n",
    "Scores.to_csv(params['Dpath']+FillVar+'/GapFillingSummary.csv')\n",
    "ModelRuns.to_csv(params['Dpath']+FillVar+'/GapFilled.csv')\n"
   ]
  },
  {
   "cell_type": "code",
   "execution_count": null,
   "metadata": {
    "collapsed": true
   },
   "outputs": [],
   "source": []
  }
 ],
 "metadata": {
  "kernelspec": {
   "display_name": "Python 3",
   "language": "python",
   "name": "python3"
  },
  "language_info": {
   "codemirror_mode": {
    "name": "ipython",
    "version": 3
   },
   "file_extension": ".py",
   "mimetype": "text/x-python",
   "name": "python",
   "nbconvert_exporter": "python",
   "pygments_lexer": "ipython3",
   "version": "3.5.2"
  }
 },
 "nbformat": 4,
 "nbformat_minor": 2
}
