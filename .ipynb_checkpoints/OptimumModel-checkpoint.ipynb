{
 "cells": [
  {
   "cell_type": "markdown",
   "metadata": {},
   "source": [
    "##  Optimze and a Dense Neural Network for gap filling and feature identification\n",
    "\n",
    "** With a few tweaks to RepRunner, an LSTM can be run instead"
   ]
  },
  {
   "cell_type": "code",
   "execution_count": 81,
   "metadata": {
    "collapsed": true
   },
   "outputs": [],
   "source": [
    "import time\n",
    "import math\n",
    "import numpy as np\n",
    "import pandas as pd\n",
    "import matplotlib.pyplot as plt\n",
    "from itertools import combinations\n",
    "from functools import partial\n",
    "from multiprocessing import Pool\n",
    "from sklearn.preprocessing import StandardScaler\n",
    "from sklearn import metrics\n",
    "from sklearn.model_selection import RepeatedKFold\n",
    "from sklearn.model_selection import train_test_split\n",
    "\n",
    "## Personal Modules\n",
    "import ReadStandardTimeFill as RSTF\n",
    "import importlib\n",
    "import DenseNet as Dense\n",
    "importlib.reload(Dense)\n",
    "importlib.reload(RSTF)\n",
    "\n",
    "%matplotlib inline\n",
    "%config IPCompleter.greedy=True\n",
    "\n",
    "from scipy.optimize import minimize, curve_fit\n",
    "from scipy.stats import norm\n",
    "from sklearn.gaussian_process import GaussianProcessRegressor\n",
    "from sklearn.gaussian_process.kernels import Matern, WhiteKernel, ConstantKernel\n",
    "from matplotlib import cm\n",
    "\n",
    "from scipy import stats\n",
    "from statsmodels.stats.multicomp import pairwise_tukeyhsd\n",
    "\n",
    "from ipywidgets import FloatProgress\n",
    "from IPython.display import display\n",
    "import os  "
   ]
  },
  {
   "cell_type": "code",
   "execution_count": 101,
   "metadata": {},
   "outputs": [],
   "source": [
    "def Curve(x,a,b,c):\n",
    "    return (a*x**2+b*x+c)\n",
    "\n",
    "def TTV_Split(iteration,Memory,X,y,params,X_fill):\n",
    "    params['seed'] = int(iteration%params['splits_per_mod']/params['splits_per_mod']*100)\n",
    "    params['iteration'] = int(iteration/params['splits_per_mod'])\n",
    "    X_train,X_test,y_train,y_test=train_test_split(X,y, test_size=0.1, random_state=params['seed'])\n",
    "    X_train,X_val,y_train,y_val=train_test_split(X_train,y_train, test_size=0.11, random_state=params['seed'])\n",
    "    return(Dense.Train_Steps(params,X_train,X_test,X_val,y_train,y_test,\n",
    "        y_val,X_fill = X_fill,Memory=Memory),\n",
    "        y_val)\n",
    "\n",
    "def RunReps(Model,params,pool = None,FullReturn=False):\n",
    "    RST = RSTF.ReadStandardTimeFill(params['Dpath']+'ECData.csv')\n",
    "    offset = 5/params['proc']\n",
    "    Memory = (math.floor(100/params['proc'])- offset) * .01\n",
    "    MSE = []\n",
    "    RST.Scale(params['Y'],Model)\n",
    "    y = RST.y*1.0\n",
    "    X = RST.X*1.0\n",
    "    X_fill = RST.X_fill*1.0\n",
    "    RMSE = []\n",
    "    R2 =[]\n",
    "    Y_fill = []\n",
    "    Yval = []\n",
    "    y_val= []\n",
    "    if params['Prelim_N']==True:\n",
    "        params['N']=int(y.shape[0]*.8/30)\n",
    "    if __name__=='__main__'and params['proc'] != 1:\n",
    "        for i,results in enumerate(pool.imap(partial(TTV_Split,Memory=Memory,X=X,y=y,params=params,X_fill=X_fill),range(params['K']))):\n",
    "            Y_fill.append(results[0][0])\n",
    "            Yval = RST.YScaled.inverse_transform(results[0][1].reshape(-1,1))\n",
    "            y_val = RST.YScaled.inverse_transform(results[1].reshape(-1,1))\n",
    "            RMSE.append(metrics.mean_squared_error(Yval,y_val)**.5)\n",
    "            R2.append(metrics.r2_score(Yval,y_val))\n",
    "    else:\n",
    "        for i in range(params['K']):\n",
    "            results = TTV_Split(i,Memory,X,y,params,X_fill)\n",
    "            Y_fill.append(results[0][0])\n",
    "            Yval = RST.YScaled.inverse_transform(results[0][1].reshape(-1,1))\n",
    "            y_val = RST.YScaled.inverse_transform(results[1].reshape(-1,1))\n",
    "            RMSE.append(metrics.mean_squared_error(y_val,Yval)**.5)\n",
    "            R2.append(metrics.r2_score(y_val,Yval))\n",
    "    Y_fill = np.asanyarray(Y_fill)\n",
    "    Y_fill = Y_fill.mean(axis=0) \n",
    "    FillVarName = FillVar.replace('f','F')\n",
    "    RST.Fill(Y_fill,FillVarName)\n",
    "    return(RMSE,R2,RST.Master['TempFill'])\n",
    "\n",
    "def RunLoop(Runs,model):\n",
    "    style = {'description_width': 'initial'}\n",
    "    f = FloatProgress(min=0, max=Runs['N'].count(),description='Finding Best N:',style=style) # instantiate the bar\n",
    "    display(f) # display the bar\n",
    "    i = 0\n",
    "    for N in Runs['N'].unique():\n",
    "        params['T'] = 0\n",
    "        params['N']=N\n",
    "        Results = RunReps(model,params,pool)\n",
    "        RMSE = Results[0]\n",
    "        R2 = Results[1]\n",
    "        Runs.loc[Runs['N']==N,'RMSE']=RMSE\n",
    "        Runs.loc[Runs['N']==N,'R2']=R2\n",
    "        f.value+=params['K']\n",
    "        rmse = Runs.loc[Runs['RMSE']!=0].groupby('N').mean()#.values[0]\n",
    "        rmse['se'] = Runs.loc[Runs['RMSE']!=0,['N','RMSE']].groupby('N').sem()#.values[0]\n",
    "        Val = rmse['RMSE'].min()+rmse.loc[rmse['RMSE']==rmse['RMSE'].min(),'se'].values[0]\n",
    "        if i > 0:\n",
    "            if np.asanyarray(RMSE).mean()>Val:\n",
    "                Runs = Runs.loc[Runs['RMSE']!=0]\n",
    "                print('Leaving at ',N)\n",
    "                break\n",
    "        i+=1                \n",
    "    return(Runs)\n",
    "\n",
    "def N_Nodes(Runs,params,model,plot=False):\n",
    "    params['Prelim_N']=False\n",
    "    Runs = RunLoop(Runs,model)\n",
    "    Group = Runs.groupby('N').mean()\n",
    "    Group['Count'] = Runs[['N','RMSE']].groupby('N').count()\n",
    "    Group['SD'] = Runs[['N','RMSE']].groupby('N').std()\n",
    "    Group['SE'] = Runs[['N','RMSE']].groupby('N').sem()\n",
    "    Group = Group.reset_index()\n",
    "    Min = Group.loc[Group['RMSE']==Group['RMSE'].min()]\n",
    "    popt, pcov = curve_fit(Curve, Runs['N'].values, Runs['RMSE'].values)\n",
    "    N = np.arange(Runs['N'].min(),Runs['N'].max())\n",
    "    Fit = Curve(N,*popt)\n",
    "    Max = (Min['RMSE']+Min['SE']).values[0]\n",
    "    try:\n",
    "        params['N']=N[Fit<Max].min()\n",
    "    except:\n",
    "        print('Fitting failed to produce meaningful results')\n",
    "        params['N'] = Group.loc[Group['RMSE']<+Min['RMSE'].values[0]+Min['SE'].values[0],'N'].values[0]\n",
    "        pass\n",
    "    \n",
    "    if plot == True:\n",
    "        fig,ax = plt.subplots(figsize=(8,8))\n",
    "        ax.scatter(Runs['N'],Runs['RMSE'])\n",
    "        ax.plot(N,Fit,color='r')\n",
    "        ax.plot(N,N*0+Max,color = 'black')\n",
    "        plt.grid()\n",
    "        plt.show()\n",
    "        print(params['N'])\n",
    "    return(params,Runs,Group)\n",
    "\n",
    "def Combos(Model,L,factor=None,BaseFactors=[]):\n",
    "    Models=[]#BaseFactors#list()\n",
    "    for c in combinations(Model,L):\n",
    "        c = list(c)+BaseFactors\n",
    "        if factor is None:\n",
    "            Models.append(c)\n",
    "        else:\n",
    "            for f in factor:\n",
    "                f = f.split('+')\n",
    "                if set(f).issubset(set(c)) and c not in Models:\n",
    "                    Models.append(c)\n",
    "                    \n",
    "    print('Models: ',Models)\n",
    "    return(Models)\n",
    "\n",
    "def FactorTest(params,FullModel,Runs,BaseFactors = []):\n",
    "    prog1 = FloatProgress(min=len(BaseFactors), max=len(FullModel+BaseFactors)-1,description='FactorTesting:') # instantiate the bar\n",
    "    display(prog1) # display the bar\n",
    "    Scores = pd.DataFrame()\n",
    "    Start = 1\n",
    "    for level in range(Start,len(FullModel+BaseFactors)+1):\n",
    "        if level == 1:\n",
    "            Models = Combos(FullModel,level)\n",
    "#         elif BaseFactors != [] and i-Start == 0:\n",
    "#             Models = Combos(FullModel,level-Start+1,BaseFactors=BaseFactors)\n",
    "#         elif BaseFactors != [] and i-Start > 0:\n",
    "#             Models = Combos(FullModel,level-Start+1,factor = Best,BaseFactors=BaseFactors)\n",
    "        else:\n",
    "            Models = Combos(FullModel,level,factor = Best,BaseFactors=BaseFactors)\n",
    "        print('Number of Models: ',len(Models))\n",
    "        prog2 = FloatProgress(min=0, max=len(Models),description='Level: '+str(level)) # instantiate the bar\n",
    "        display(prog2) # display the bar\n",
    "        Values = []\n",
    "        for j,model in enumerate(Models):\n",
    "            key = str(level)+'_'+str(j)\n",
    "            Name = '+'.join(model)\n",
    "            Results = RunReps(model,params,pool)\n",
    "            RMSE = Results[0]\n",
    "            R2 = Results[1]\n",
    "            d = {'Model':'+'.join(model),'RMSE':RMSE,'Key':key,'R2':R2,'Level':level}#,'Best':'N'\n",
    "            score = pd.DataFrame(index=[x for x in range(params['K'])],data=d)\n",
    "            Scores = Scores.append(score,ignore_index=True)## Might cause problems in older versions\n",
    "            ModelRuns['Model: '+'+'.join(model)] = Results[2]    \n",
    "            prog2.value+=1\n",
    "        Group = Scores.groupby('Key').agg({'Model': 'first','Level': 'first','RMSE': 'mean','R2': 'mean'}) \n",
    "        Group['SE'] = Scores[['Key','RMSE']].groupby('Key').sem()\n",
    "        Min = Group.loc[Group['Level']==level]\n",
    "        print(Min)\n",
    "        Mod2Beat = Min.loc[Min['RMSE'] == Min['RMSE'].min()]\n",
    "        print(Mod2Beat)\n",
    "        print(Mod2Beat['RMSE']+Mod2Beat['SE'])\n",
    "        if level>Start:\n",
    "            if (Mod2Beat['RMSE']+Mod2Beat['SE']).values[0]>LastMin:\n",
    "                print('Exit Early')\n",
    "                Scores = Scores.loc[Scores['Level']<level]\n",
    "                break\n",
    "        LastMin = Min['RMSE'].min()\n",
    "        print(Mod2Beat)\n",
    "        print(LastMin)\n",
    "        Best = Mod2Beat['Model'].values\n",
    "        prog1.value+=1\n",
    "    Group = Scores.groupby('Key').agg({'Model': 'first','Level': 'first','RMSE': 'mean','R2': 'mean'})\n",
    "    Group['SE'] = Scores[['Key','RMSE']].groupby('Key').sem()\n",
    "    Min = Group.loc[Group['Level']==level]\n",
    "    return(Best,Scores,ModelRuns)\n",
    "\n",
    "def Best_Fill(Best,Runs,Scores,params):\n",
    "    N = Runs['N']\n",
    "    NRuns = Runs*0\n",
    "    NRuns['N']=N\n",
    "    model = Best[0].split('+')\n",
    "\n",
    "    params,Runs,Group = N_Nodes(NRuns,params,model,plot=True)\n",
    "    level = 0\n",
    "    print(params['N'])\n",
    "    key = '0_'+str(params['N'])\n",
    "    Name = '+'.join(Best)\n",
    "    Results = RunReps(model,params,pool)\n",
    "    MSE = Results[0]\n",
    "    R2 = Results[1]\n",
    "    d = {'Model':'+'.join(model),'RMSE':MSE,'Key':key,'R2':R2,'Level':level}#,'Best':'N'\n",
    "    score = pd.DataFrame(index=[x for x in range(params['K'])],data=d)\n",
    "    Scores = Scores.append(score,ignore_index=True)\n",
    "    ModelRuns['BestModel: '+'+'.join(model)] = Results[2] \n",
    "    print(params['N'])\n",
    "    return(Scores,ModelRuns)"
   ]
  },
  {
   "cell_type": "markdown",
   "metadata": {},
   "source": [
    "# The \"Optimum\" Sized Model"
   ]
  },
  {
   "cell_type": "code",
   "execution_count": 104,
   "metadata": {
    "scrolled": false
   },
   "outputs": [
    {
     "data": {
      "application/vnd.jupyter.widget-view+json": {
       "model_id": "7962aab20dad472db5846323b74a5cb6",
       "version_major": 2,
       "version_minor": 0
      },
      "text/plain": [
       "A Jupyter Widget"
      ]
     },
     "metadata": {},
     "output_type": "display_data"
    },
    {
     "name": "stdout",
     "output_type": "stream",
     "text": [
      "Models:  [['PPFD_Avg'], ['Sedge'], ['VWC'], ['Temp']]\n",
      "Number of Models:  4\n"
     ]
    },
    {
     "data": {
      "application/vnd.jupyter.widget-view+json": {
       "model_id": "a4ec3b55aa50405c868a1524d7115164",
       "version_major": 2,
       "version_minor": 0
      },
      "text/plain": [
       "A Jupyter Widget"
      ]
     },
     "metadata": {},
     "output_type": "display_data"
    },
    {
     "name": "stdout",
     "output_type": "stream",
     "text": [
      "        Model  Level      RMSE        R2        SE\n",
      "Key                                               \n",
      "1_0  PPFD_Avg      1  0.668411  0.068013  0.055551\n",
      "1_1     Sedge      1  0.626942  0.178136  0.035465\n",
      "1_2       VWC      1  0.662819  0.080683  0.033350\n",
      "1_3      Temp      1  0.699276 -0.021156  0.048161\n",
      "     Model  Level      RMSE        R2        SE\n",
      "Key                                            \n",
      "1_1  Sedge      1  0.626942  0.178136  0.035465\n",
      "Key\n",
      "1_1    0.662407\n",
      "dtype: float64\n",
      "     Model  Level      RMSE        R2        SE\n",
      "Key                                            \n",
      "1_1  Sedge      1  0.626942  0.178136  0.035465\n",
      "0.6269422166625123\n",
      "Models:  [['PPFD_Avg', 'Sedge'], ['Sedge', 'VWC'], ['Sedge', 'Temp']]\n",
      "Number of Models:  3\n"
     ]
    },
    {
     "data": {
      "application/vnd.jupyter.widget-view+json": {
       "model_id": "5f00aaf2a43c4a07bcb78206f48717ba",
       "version_major": 2,
       "version_minor": 0
      },
      "text/plain": [
       "A Jupyter Widget"
      ]
     },
     "metadata": {},
     "output_type": "display_data"
    },
    {
     "name": "stdout",
     "output_type": "stream",
     "text": [
      "              Model  Level      RMSE        R2        SE\n",
      "Key                                                     \n",
      "2_0  PPFD_Avg+Sedge      2  0.589239  0.273767  0.031634\n",
      "2_1       Sedge+VWC      2  0.492832  0.492268  0.028959\n",
      "2_2      Sedge+Temp      2  0.625914  0.180872  0.035681\n",
      "         Model  Level      RMSE        R2        SE\n",
      "Key                                                \n",
      "2_1  Sedge+VWC      2  0.492832  0.492268  0.028959\n",
      "Key\n",
      "2_1    0.521791\n",
      "dtype: float64\n",
      "         Model  Level      RMSE        R2        SE\n",
      "Key                                                \n",
      "2_1  Sedge+VWC      2  0.492832  0.492268  0.028959\n",
      "0.4928319862762245\n",
      "Models:  [['PPFD_Avg', 'Sedge', 'VWC'], ['Sedge', 'VWC', 'Temp']]\n",
      "Number of Models:  2\n"
     ]
    },
    {
     "data": {
      "application/vnd.jupyter.widget-view+json": {
       "model_id": "8a008fb16d514fa9996570146f29f8c7",
       "version_major": 2,
       "version_minor": 0
      },
      "text/plain": [
       "A Jupyter Widget"
      ]
     },
     "metadata": {},
     "output_type": "display_data"
    },
    {
     "name": "stdout",
     "output_type": "stream",
     "text": [
      "                  Model  Level      RMSE        R2        SE\n",
      "Key                                                         \n",
      "3_0  PPFD_Avg+Sedge+VWC      3  0.465692  0.547793  0.042307\n",
      "3_1      Sedge+VWC+Temp      3  0.484531  0.505560  0.005638\n",
      "                  Model  Level      RMSE        R2        SE\n",
      "Key                                                         \n",
      "3_0  PPFD_Avg+Sedge+VWC      3  0.465692  0.547793  0.042307\n",
      "Key\n",
      "3_0    0.507999\n",
      "dtype: float64\n",
      "Exit Early\n",
      "['Sedge+VWC']              Model      RMSE  Key        R2  Level\n",
      "0         PPFD_Avg  0.723962  1_0  0.019206      1\n",
      "1         PPFD_Avg  0.612860  1_0  0.116821      1\n",
      "2            Sedge  0.662407  1_1  0.178899      1\n",
      "3            Sedge  0.591477  1_1  0.177373      1\n",
      "4              VWC  0.696170  1_2  0.093064      1\n",
      "5              VWC  0.629469  1_2  0.068303      1\n",
      "6             Temp  0.747437  1_3 -0.045432      1\n",
      "7             Temp  0.651116  1_3  0.003120      1\n",
      "8   PPFD_Avg+Sedge  0.620873  2_0  0.278640      2\n",
      "9   PPFD_Avg+Sedge  0.557605  2_0  0.268894      2\n",
      "10       Sedge+VWC  0.521791  2_1  0.490506      2\n",
      "11       Sedge+VWC  0.463873  2_1  0.494029      2\n",
      "12      Sedge+Temp  0.661595  2_2  0.180911      2\n",
      "13      Sedge+Temp  0.590233  2_2  0.180832      2\n"
     ]
    },
    {
     "data": {
      "application/vnd.jupyter.widget-view+json": {
       "model_id": "db2fe9472dcb4d2c99fbd90a7ec4cbde",
       "version_major": 2,
       "version_minor": 0
      },
      "text/plain": [
       "A Jupyter Widget"
      ]
     },
     "metadata": {},
     "output_type": "display_data"
    },
    {
     "name": "stdout",
     "output_type": "stream",
     "text": [
      "Leaving at  10\n"
     ]
    },
    {
     "data": {
      "image/png": "[encoded data removed]",
      "text/plain": [
       "<matplotlib.figure.Figure at 0x2c4415ff860>"
      ]
     },
     "metadata": {},
     "output_type": "display_data"
    },
    {
     "name": "stdout",
     "output_type": "stream",
     "text": [
      "32\n",
      "32\n",
      "32\n"
     ]
    }
   ],
   "source": [
    "# pool.close()\n",
    "# Site = 'Illisarvik'#'FishIsland'#\n",
    "Scope = 'Test'\n",
    "cwd = os.getcwd()\n",
    "def ModSelect(Scope,Site):\n",
    "    if Site == 'Illisarvik':\n",
    "        BaseFactors = ['Sedge','Shrub','Grass','Sparse','Out_of_Basin']\n",
    "        BaseFactors = []\n",
    "        if Scope == 'Full':\n",
    "            Model = ['H','wind_speed','air_pressure','PPFD_Avg','AirTC_Avg',\n",
    "                     'VPD','Temp','VWC']\n",
    "        if Scope == 'Test':\n",
    "            Model = ['PPFD_Avg','Sedge','VWC','Temp']\n",
    "    if Site == 'FishIsland':\n",
    "        BaseFactors = []\n",
    "        if Scope == 'Full':\n",
    "            Model = ['H','Wind Spd','air pressure','Ta','Rn','PPFD','Rain','Water Table',\n",
    "            'Ts 2.5 cm','Ts 15 cm','VWC','Active Layer','24H Rain','Wtr Tbl Trnd']\n",
    "        if Scope == 'Test':\n",
    "            Model = ['H','Water Table','Wind Spd','Active Layer']\n",
    "    return(Model,BaseFactors)\n",
    "\n",
    "def Params(Func,Y,MP = True):\n",
    "    params = {}\n",
    "    params['proc']=3\n",
    "    if MP == False:\n",
    "        params['proc']=1\n",
    "    if Func == 'Full':\n",
    "        epochs = 200\n",
    "        K = 10\n",
    "        splits_per_mod = 4\n",
    "        N = np.linspace(100,10,8,dtype='int32')\n",
    "    elif Func == 'Test':\n",
    "        epochs = 20\n",
    "        K = 4\n",
    "        splits_per_mod = 1\n",
    "        N = np.linspace(70,10,4,dtype='int32')\n",
    "    N = np.repeat(N,K)\n",
    "    d = {'N':N.astype(int)}\n",
    "    Runs = pd.DataFrame(data=d)\n",
    "    Runs['RMSE'] = 0.0\n",
    "    Runs['R2'] = 0.0\n",
    "    Runs['Model']=0\n",
    "    params['K'] = K\n",
    "    params['epochs'] = epochs\n",
    "    params['Y'] = Y\n",
    "    params['splits_per_mod'] = splits_per_mod\n",
    "    params['Save'] = {}\n",
    "    params['Save']['Weights']=False\n",
    "    params['Save']['Model']=False\n",
    "    \n",
    "    return(Runs,params)\n",
    "\n",
    "\n",
    "MP=False\n",
    "if Scope == 'Full':\n",
    "    MP = True\n",
    "if __name__=='__main__'and MP==True:\n",
    "    pool = Pool(processes=3,maxtasksperchild=75)\n",
    "else:pool=None\n",
    "    \n",
    "# # for Site in ['Illisarvik','FishIsland']:\n",
    "Site='Illisarvik'\n",
    "FillVar = 'fco2'\n",
    "# for FillVar in ['fch4','fco2']:\n",
    "\n",
    "FullModel,BaseFactors = ModSelect(Scope,Site)\n",
    "Runs,params = Params(Scope,FillVar,MP)\n",
    "params['Dpath'] = cwd+'/'+Site+'/'\n",
    "params['Prelim_N']=True\n",
    "Best,Scores,ModelRuns = FactorTest(params,FullModel,Runs,BaseFactors)\n",
    "print(Best,Scores)\n",
    "Scores,ModelRuns = Best_Fill(Best,Runs,Scores,params)\n",
    "Scores.to_csv(params['Dpath']+FillVar+'/GapFillingSummary.csv')\n",
    "ModelRuns.to_csv(params['Dpath']+FillVar+'/GapFilled.csv')\n"
   ]
  },
  {
   "cell_type": "code",
   "execution_count": null,
   "metadata": {},
   "outputs": [],
   "source": []
  },
  {
   "cell_type": "code",
   "execution_count": null,
   "metadata": {
    "collapsed": true
   },
   "outputs": [],
   "source": []
  }
 ],
 "metadata": {
  "kernelspec": {
   "display_name": "Python 3",
   "language": "python",
   "name": "python3"
  },
  "language_info": {
   "codemirror_mode": {
    "name": "ipython",
    "version": 3
   },
   "file_extension": ".py",
   "mimetype": "text/x-python",
   "name": "python",
   "nbconvert_exporter": "python",
   "pygments_lexer": "ipython3",
   "version": "3.6.2"
  }
 },
 "nbformat": 4,
 "nbformat_minor": 2
}
