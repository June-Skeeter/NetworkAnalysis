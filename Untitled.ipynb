{
 "cells": [
  {
   "cell_type": "code",
   "execution_count": 53,
   "metadata": {},
   "outputs": [],
   "source": [
    "import matplotlib.pyplot as plt\n",
    "import pandas as pd\n",
    "import geopandas as gpd\n",
    "from shapely.geometry import Polygon, Point"
   ]
  },
  {
   "cell_type": "code",
   "execution_count": 29,
   "metadata": {
    "scrolled": true
   },
   "outputs": [
    {
     "data": {
      "text/plain": [
       "{'init': 'epsg:32608'}"
      ]
     },
     "execution_count": 29,
     "metadata": {},
     "output_type": "execute_result"
    }
   ],
   "source": [
    "Poly=gpd.read_file('G:/My Drive/SiteInfo/PolyZ.shp')\n",
    "Poly.crs"
   ]
  },
  {
   "cell_type": "code",
   "execution_count": 59,
   "metadata": {},
   "outputs": [
    {
     "data": {
      "text/html": [
       "<div>\n",
       "<style scoped>\n",
       "    .dataframe tbody tr th:only-of-type {\n",
       "        vertical-align: middle;\n",
       "    }\n",
       "\n",
       "    .dataframe tbody tr th {\n",
       "        vertical-align: top;\n",
       "    }\n",
       "\n",
       "    .dataframe thead th {\n",
       "        text-align: right;\n",
       "    }\n",
       "</style>\n",
       "<table border=\"1\" class=\"dataframe\">\n",
       "  <thead>\n",
       "    <tr style=\"text-align: right;\">\n",
       "      <th></th>\n",
       "      <th>OBJECTID</th>\n",
       "      <th>Id</th>\n",
       "      <th>Shape_Leng</th>\n",
       "      <th>Shape_Area</th>\n",
       "      <th>Rect</th>\n",
       "      <th>Lmax</th>\n",
       "      <th>Lmin</th>\n",
       "    </tr>\n",
       "    <tr>\n",
       "      <th>FIRST_Clas</th>\n",
       "      <th></th>\n",
       "      <th></th>\n",
       "      <th></th>\n",
       "      <th></th>\n",
       "      <th></th>\n",
       "      <th></th>\n",
       "      <th></th>\n",
       "    </tr>\n",
       "  </thead>\n",
       "  <tbody>\n",
       "    <tr>\n",
       "      <th>Collapse</th>\n",
       "      <td>1.0</td>\n",
       "      <td>1</td>\n",
       "      <td>23.413593</td>\n",
       "      <td>27.521894</td>\n",
       "      <td>0</td>\n",
       "      <td>8.838177</td>\n",
       "      <td>3.908897</td>\n",
       "    </tr>\n",
       "    <tr>\n",
       "      <th>Disturbed</th>\n",
       "      <td>3.0</td>\n",
       "      <td>3</td>\n",
       "      <td>49.705791</td>\n",
       "      <td>61.799186</td>\n",
       "      <td>0</td>\n",
       "      <td>17.980898</td>\n",
       "      <td>6.368870</td>\n",
       "    </tr>\n",
       "    <tr>\n",
       "      <th>Polygon</th>\n",
       "      <td>2.0</td>\n",
       "      <td>2</td>\n",
       "      <td>60.026530</td>\n",
       "      <td>219.728247</td>\n",
       "      <td>0</td>\n",
       "      <td>20.656661</td>\n",
       "      <td>14.532629</td>\n",
       "    </tr>\n",
       "    <tr>\n",
       "      <th>Rim</th>\n",
       "      <td>4.0</td>\n",
       "      <td>4</td>\n",
       "      <td>16.223802</td>\n",
       "      <td>1.888139</td>\n",
       "      <td>0</td>\n",
       "      <td>7.725691</td>\n",
       "      <td>1.161740</td>\n",
       "    </tr>\n",
       "  </tbody>\n",
       "</table>\n",
       "</div>"
      ],
      "text/plain": [
       "            OBJECTID  Id  Shape_Leng  Shape_Area  Rect       Lmax       Lmin\n",
       "FIRST_Clas                                                                  \n",
       "Collapse         1.0   1   23.413593   27.521894     0   8.838177   3.908897\n",
       "Disturbed        3.0   3   49.705791   61.799186     0  17.980898   6.368870\n",
       "Polygon          2.0   2   60.026530  219.728247     0  20.656661  14.532629\n",
       "Rim              4.0   4   16.223802    1.888139     0   7.725691   1.161740"
      ]
     },
     "execution_count": 59,
     "metadata": {},
     "output_type": "execute_result"
    }
   ],
   "source": [
    "Poly['Shape_Area']=Poly['geometry'].area\n",
    "Poly['Shape_Leng']=Poly['geometry'].length\n",
    "Poly['Lmax']=0\n",
    "Poly['Lmin']=0\n",
    "for i,v in Poly.iterrows():\n",
    "    x,y = v['geometry'].minimum_rotated_rectangle.exterior.coords.xy\n",
    "    edge_length = (Point(x[0], y[0]).distance(Point(x[1], y[1])), Point(x[1], y[1]).distance(Point(x[2], y[2])))\n",
    "    length = max(edge_length)\n",
    "    width = min(edge_length)\n",
    "    Poly.loc[Poly.index==i,'Lmax'] = length\n",
    "    Poly.loc[Poly.index==i,'Lmin'] = width\n",
    "    \n",
    "Av['R']=Av['Shape_Leng']/Av['Shape_Area']\n",
    "Av['R2']=Av['Lmax']/Av['Lmin']\n",
    "    # Poly\n",
    "Av = Poly.groupby('FIRST_Clas').median()\n",
    "Av"
   ]
  },
  {
   "cell_type": "code",
   "execution_count": null,
   "metadata": {},
   "outputs": [],
   "source": []
  }
 ],
 "metadata": {
  "kernelspec": {
   "display_name": "Python 3",
   "language": "python",
   "name": "python3"
  },
  "language_info": {
   "codemirror_mode": {
    "name": "ipython",
    "version": 3
   },
   "file_extension": ".py",
   "mimetype": "text/x-python",
   "name": "python",
   "nbconvert_exporter": "python",
   "pygments_lexer": "ipython3",
   "version": "3.7.6"
  }
 },
 "nbformat": 4,
 "nbformat_minor": 4
}
