{
 "cells": [
  {
   "cell_type": "markdown",
   "metadata": {},
   "source": [
    "##  Optimze and a Dense Neural Network for gap filling and feature identification\n",
    "\n",
    "** With a few tweaks to RepRunner, an LSTM can be run instead"
   ]
  },
  {
   "cell_type": "code",
   "execution_count": 94,
   "metadata": {
    "collapsed": true
   },
   "outputs": [],
   "source": [
    "import time\n",
    "import math\n",
    "import numpy as np\n",
    "import pandas as pd\n",
    "import matplotlib.pyplot as plt\n",
    "from itertools import combinations\n",
    "from functools import partial\n",
    "from multiprocessing import Pool\n",
    "from sklearn import metrics\n",
    "from sklearn.model_selection import train_test_split\n",
    "\n",
    "## Personal Modules\n",
    "import ReadStandardTimeFill as RSTF\n",
    "import importlib\n",
    "import DenseNet as Dense\n",
    "import MiscFuncs as MF\n",
    "importlib.reload(Dense)\n",
    "importlib.reload(RSTF)\n",
    "importlib.reload(MF)\n",
    "\n",
    "# %matplotlib inline\n",
    "\n",
    "%matplotlib notebook\n",
    "%config IPCompleter.greedy=True\n",
    "\n",
    "from scipy.optimize import minimize, curve_fit\n",
    "from scipy.stats import norm\n",
    "from sklearn.gaussian_process import GaussianProcessRegressor\n",
    "from sklearn.gaussian_process.kernels import Matern, WhiteKernel, ConstantKernel\n",
    "from matplotlib import cm\n",
    "\n",
    "from scipy import stats\n",
    "from statsmodels.stats.multicomp import pairwise_tukeyhsd\n",
    "\n",
    "from ipywidgets import FloatProgress\n",
    "from IPython.display import display\n",
    "import os  \n",
    "try:pool.close()\n",
    "except:pass"
   ]
  },
  {
   "cell_type": "markdown",
   "metadata": {},
   "source": [
    "# Model"
   ]
  },
  {
   "cell_type": "code",
   "execution_count": null,
   "metadata": {
    "scrolled": true
   },
   "outputs": [
    {
     "name": "stdout",
     "output_type": "stream",
     "text": [
      "(500,) 16\n",
      "0.9500000000000001\n",
      "Saved model to disk\n"
     ]
    }
   ],
   "source": [
    "\n",
    "MP=False\n",
    "Scope = 'Test'\n",
    "cwd = os.getcwd()\n",
    "# for Site in ['Illisarvik','FishIsland']:\n",
    "Site='Illisarvik'\n",
    "target='fco2'\n",
    "Inputs=['PPFD_Avg']#,'VWC','Temp','wind_speed']\n",
    "#     for FillVar in ['fco2','fch4']:\n",
    "# Runs,params = Dense.Params(Scope,target,MP)\n",
    "params = Dense.Params(Scope,target,MP)\n",
    "\n",
    "params['Dpath'] = cwd+'/'+Site+'/'\n",
    "params['Spath'] = params['Dpath']+'/TempWeights/'\n",
    "params['Sname'] = 'Test'\n",
    "params['Inputs'] = Inputs\n",
    "params['Model'] = '+'.join(params['Inputs'])\n",
    "\n",
    "# params['Loss']='mean_absolute_error'\n",
    "\n",
    "if __name__ == '__main__':\n",
    "    if params['proc']>1:\n",
    "        pool = Pool(processes=3,maxtasksperchild=75)\n",
    "    else:\n",
    "        pool = None\n",
    "    \n",
    "    RST = RSTF.ReadStandardTimeFill(params['Dpath']+'ECData.csv',resample='1H')\n",
    "    RST.Scale(params['target'],params['Inputs'])\n",
    "    y = RST.y*1.0\n",
    "    X = RST.X*1.0\n",
    "    \n",
    "    params['N']=int(y.shape[0]/30)\n",
    "    print(y.shape,params['N'])\n",
    "    \n",
    "#     Y_hat_train,Y_hat_val,y_true,X_true,count_train,count_val = \n",
    "    Dense.RunNN(params,X,y,RST.YScaled,RST.XScaled,pool)\n",
    "#     Y_hat,y_true = np.squeeze(Y_hat),np.squeeze(y_true)\n",
    "    \n",
    "    \n",
    "\n",
    "    if pool is not None:\n",
    "        pool.close()\n",
    "      \n",
    "    \n",
    "print('Done!!')"
   ]
  },
  {
   "cell_type": "markdown",
   "metadata": {},
   "source": [
    "# Sorting"
   ]
  },
  {
   "cell_type": "raw",
   "metadata": {},
   "source": [
    "\n",
    "# Y_hat_train,Y_hat_val,y_true,X_true,count_train,\n",
    "#     count_val=Dense.Sort(Y_hat,y_true,X_true,index,ones)    \n",
    "    \n",
    "Y_hat_train_bar=np.nanmean(Y_hat_train,axis=0)\n",
    "Y_hat_val_bar=np.nanmean(Y_hat_val,axis=0)\n",
    "Y_hat_train_var = 1/(np.nansum(count_train)-1)*np.nansum((Y_hat_train - Y_hat_train_bar)**2,axis=0)\n",
    "Y_hat_val_var = 1/(np.nansum(count_val)-1)*np.nansum((Y_hat_val - Y_hat_val_bar)**2,axis=0)\n",
    "r2_train = np.maximum((y_true[0,:]-Y_hat_train_bar)**2-Y_hat_train_var,0)\n",
    "r2_val = np.maximum((y_true[0,:]-Y_hat_val_bar)**2-Y_hat_val_var,0)\n",
    "\n",
    "\n",
    "plt.figure()\n",
    "plt.scatter(y_true[0,:],Y_hat_train_bar)\n",
    "print(metrics.mean_squared_error(y_true[0,:],Y_hat_train_bar)**2)\n",
    "print(metrics.r2_score(y_true[0,:],Y_hat_train_bar))\n",
    "print(y_true[0,:].mean(),Y_hat_train_bar.mean())\n"
   ]
  },
  {
   "cell_type": "markdown",
   "metadata": {},
   "source": [
    "# CI and PI"
   ]
  },
  {
   "cell_type": "raw",
   "metadata": {
    "scrolled": false
   },
   "source": [
    "\n",
    "importlib.reload(Dense)\n",
    "\n",
    "\n",
    "params['Loss'] = 'Boot_Loss'\n",
    "params['Validate'] = False\n",
    "params['Sname'] = 'Var'\n",
    "params['Save']['Model'] = True\n",
    "\n",
    "y = r2_val\n",
    "Valid = np.where(np.isnan(y)==False)\n",
    "y = y[Valid]\n",
    "X = X_true[Valid]\n",
    "\n",
    "YStandard = MinMaxScaler(feature_range=(.1, 1))\n",
    "XStandard = StandardScaler()\n",
    "YScaled = YStandard.fit(y.reshape(-1, 1))\n",
    "XScaled = XStandard.fit(X)#.reshape(-1, 1))\n",
    "y = YScaled.transform(y.reshape(-1, 1))\n",
    "X = XScaled.transform(X)\n",
    "init=1#int(np.random.rand(1)[0]*100)\n",
    "Y_hat_var,y_true_var,X_true_var,index_var,ones_var = Dense.TTV_Split(init,params,X,y)\n",
    "Y_hat_var = YScaled.inverse_transform(Y_hat_var.reshape(-1,1))\n",
    "y_true_var = YScaled.inverse_transform(y_true_var.reshape(-1,1))\n",
    "# plt.figure()\n",
    "# plt.scatter(Y_hat_var,y_true_var)\n",
    "# plt.ylabel('True')\n",
    "# plt.xlabel('prd')"
   ]
  },
  {
   "cell_type": "markdown",
   "metadata": {},
   "source": [
    "# Map Results"
   ]
  },
  {
   "cell_type": "code",
   "execution_count": null,
   "metadata": {
    "scrolled": false
   },
   "outputs": [],
   "source": [
    "# X = RST.X#Scaled.transform(X_true)\n",
    "# print(X.shape)\n",
    "# params['Sname']='Test'\n",
    "# params['Loss']='mean_absolute_error'\n",
    "# Y_fill = []\n",
    "# MSE = []\n",
    "# for i in range(params['K']):\n",
    "#     params['iteration']=i\n",
    "#     Empty_Mod = Dense.Load_Model(params)\n",
    "#     Model = Dense.Load_Weights(Empty_Mod,params) \n",
    "#     Y = RST.YScaled.inverse_transform(Model.predict(X).reshape(-1,1))\n",
    "#     mse = (metrics.mean_squared_error(RST.y,Y))\n",
    "#     Y_fill.append(Y)\n",
    "#     MSE.append(mse)\n",
    "# Y_fill = np.asanyarray(Y_fill).mean(axis=-1)\n",
    "# Y_fill_bar = Y_fill.mean(axis=0)\n",
    "# MSE = np.asanyarray(MSE)\n",
    "# CI = stats.t.ppf(1-0.025,i)*MSE.std()/(i)**.5\n",
    "# print(CI)\n",
    "\n",
    "# params['Sname']='Var'\n",
    "# params['iteration']=1\n",
    "# params['Loss']='Boot_Loss'\n",
    "# Empty_Mod = Dense.Load_Model(params)\n",
    "# Model = Dense.Load_Weights(Empty_Mod,params) \n",
    "# YVar=YScaled.inverse_transform(Model.predict(X).reshape(-1,1))\n",
    "# X_back = np.squeeze(RST.XScaled.inverse_transform(X))\n",
    "\n",
    "# # plt.figure()\n",
    "# # plt.plot(Yfill)\n",
    "# Data = pd.DataFrame(data=X_back,columns=params['Inputs'])\n",
    "# Data[target] = np.squeeze(Y_fill_bar)\n",
    "# Data['True'] = np.squeeze(RST.y)\n",
    "# # Data = pd.DataFrame({'PPFD':X_back,Target:np.squeeze(Yfill),'Var':np.squeeze(YVar)})\n",
    "# Data['SE'] = 1/(params['K']-1)*((Y_fill-Y_fill_bar)**2).sum(axis=0)\n",
    "# Data['Var'] = np.squeeze(YVar)\n",
    "# Data['CI']=stats.t.ppf(1-0.025,params['K'])*(Data['SE'])**.5\n",
    "# Data['PI']=stats.t.ppf(1-0.025,params['K'])*((Data['Var']+Data['SE'])**.5) #the accuracy of our estimate with respect to the observed output\n",
    "# # Map_Val='VWC'\n",
    "\n",
    "\n",
    "plt.figure(figsize=(8,7))\n",
    "Data = Data.sort_values(by='PPFD_Avg')\n",
    "Data.index = Data.PPFD_Avg\n",
    "\n",
    "\n",
    "plt.scatter(Data.index,Data['True'],edgecolor='black',facecolor='white')\n",
    "plt.plot(Data.index,Data[target],label=\n",
    "        params['target']+' Model\\nRMSE: '+str(np.round(metrics.mean_squared_error(Data['True'],\n",
    "                                                                   Data[params['target']])**2,3)))\n",
    "# plt.plot(Data.index,Data['Var'],label=\n",
    "#         params['target']+' Model\\nRMSE: '+str(np.round(metrics.mean_squared_error(Data['True'],\n",
    "#                                                                    Data[params['target']])**2,3)))\n",
    "\n",
    "\n",
    "plt.fill_between(Data.index, Data[target]-Data['PI'], \n",
    "                 Data[target]+Data['PI'],  color = 'green', alpha = 0.4, \n",
    "                 label = '95% PI')\n",
    "plt.fill_between(Data.index, Data[target]-Data['CI'], \n",
    "                 Data[target]+Data['CI'],  color = 'red', alpha = 0.4, \n",
    "                 label = '95% CI')\n",
    "plt.legend()"
   ]
  },
  {
   "cell_type": "markdown",
   "metadata": {},
   "source": [
    "# The \"Optimum\" Sized Model"
   ]
  },
  {
   "cell_type": "code",
   "execution_count": null,
   "metadata": {
    "collapsed": true,
    "scrolled": true
   },
   "outputs": [],
   "source": [
    "# pool.close()\n",
    "# Site = 'Illisarvik'#'FishIsland'#\n",
    "Scope = 'Test'\n",
    "cwd = os.getcwd()\n",
    "def ModSelect(Scope,Site):\n",
    "    if Site == 'Illisarvik':\n",
    "#         BaseFactors = ['Sedge','Shrub','Grass','Sparse','Out_of_Basin']\n",
    "#         BaseFactors = []\n",
    "        if Scope == 'Full':\n",
    "            Model = ['H','wind_speed','air_pressure','PPFD_Avg','AirTC_Avg','VPD',\n",
    "                    'Temp','VWC','Sedge','Shrub','Grass','Sparse','Out_of_Basin']\n",
    "        if Scope == 'Test':\n",
    "            Model = ['PPFD_Avg','wind_speed']\n",
    "    if Site == 'FishIsland':\n",
    "        BaseFactors = []\n",
    "        if Scope == 'Full':\n",
    "            Model = ['H','Wind Spd','air pressure','Ta','Rn','PPFD','Rain','Water Table',\n",
    "            'Ts 2.5 cm','Ts 15 cm','VWC','Active Layer','24H Rain','Wtr Tbl Trnd']\n",
    "        if Scope == 'Test':\n",
    "            Model = ['H','Water Table','Wind Spd','Active Layer']\n",
    "    return(Model)\n",
    "\n",
    "# def Params(Func,Y,MP = True):\n",
    "#     params = {}\n",
    "#     params['proc']=3\n",
    "#     if MP == False:\n",
    "#         params['proc']=1\n",
    "#     if Func == 'Full':\n",
    "#         epochs = 200\n",
    "#         K = 30\n",
    "#         splits_per_mod = 1\n",
    "#         N = np.linspace(200,20,10,dtype='int32')\n",
    "#     elif Func == 'Test':\n",
    "#         epochs = 200\n",
    "#         K = 30\n",
    "#         splits_per_mod = 1\n",
    "#         N = np.linspace(70,10,5,dtype='int32')\n",
    "#     N = np.repeat(N,K)\n",
    "#     d = {'N':N.astype(int)}\n",
    "#     Runs = pd.DataFrame(data=d)\n",
    "#     Runs['MAE'] = 0.0\n",
    "#     Runs['R2'] = 0.0\n",
    "#     Runs['Model']=0\n",
    "#     params['K'] = K\n",
    "#     params['epochs'] = epochs\n",
    "#     params['Y'] = Y\n",
    "#     params['splits_per_mod'] = splits_per_mod\n",
    "#     params['Save'] = {}\n",
    "#     params['Save']['Weights']=False\n",
    "#     params['Save']['Model']=False\n",
    "    \n",
    "#     return(Runs,params)\n",
    "\n",
    "\n",
    "# MP=False\n",
    "\n",
    "# if Scope == 'Full':\n",
    "#     MP = True\n",
    "# if __name__=='__main__'and MP==True:\n",
    "#     pool = Pool(processes=3,maxtasksperchild=75)\n",
    "# else:pool=None\n",
    "    \n",
    "# # for Site in ['Illisarvik','FishIsland']:\n",
    "# Site='Illisarvik'\n",
    "# FillVar = 'fco2'\n",
    "# #     for FillVar in ['fco2','fch4']:\n",
    "# Runs,params = MF.Params(Scope,FillVar,MP)\n",
    "# FullModel = ModSelect(Scope,Site)\n",
    "# print(FullModel)\n",
    "# params['Dpath'] = cwd+'/'+Site+'/'\n",
    "# params['Prelim_N']=True\n",
    "# Best,Scores,ModelRuns = MF.FactorTest(params,FullModel,Runs)\n",
    "# print(Best,Scores)\n",
    "# Scores,ModelRuns = Best_Fill(Best,Runs,Scores,params)\n",
    "# Scores.to_csv(params['Dpath']+FillVar+'/GapFillingSummary.csv')\n",
    "# ModelRuns.to_csv(params['Dpath']+FillVar+'/GapFilled.csv')\n",
    "\n",
    "# if __name__=='__main__'and MP==True:\n",
    "#     pool.close()"
   ]
  },
  {
   "cell_type": "code",
   "execution_count": null,
   "metadata": {
    "collapsed": true
   },
   "outputs": [],
   "source": [
    "# Grp = Scores.groupby('Model').mean()\n",
    "# Grp['SE'] = Scores[['Model','MAE']].groupby('Model').sem()\n",
    "# # Grp['SE'] = Scores[['Key','MAE']].groupby('Key').sem()\n",
    "# print(Grp)\n",
    "# # plt.bar(Grp.index,Grp['MAE'],yerr=Grp['SE'])"
   ]
  },
  {
   "cell_type": "code",
   "execution_count": null,
   "metadata": {
    "collapsed": true
   },
   "outputs": [],
   "source": [
    "print('kitty')"
   ]
  },
  {
   "cell_type": "code",
   "execution_count": null,
   "metadata": {
    "collapsed": true
   },
   "outputs": [],
   "source": []
  }
 ],
 "metadata": {
  "kernelspec": {
   "display_name": "Python 3",
   "language": "python",
   "name": "python3"
  },
  "language_info": {
   "codemirror_mode": {
    "name": "ipython",
    "version": 3
   },
   "file_extension": ".py",
   "mimetype": "text/x-python",
   "name": "python",
   "nbconvert_exporter": "python",
   "pygments_lexer": "ipython3",
   "version": "3.6.2"
  }
 },
 "nbformat": 4,
 "nbformat_minor": 2
}
