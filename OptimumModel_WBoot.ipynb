{
 "cells": [
  {
   "cell_type": "markdown",
   "metadata": {},
   "source": [
    "##  Optimze and a Dense Neural Network for gap filling and feature identification\n",
    "\n",
    "** With a few tweaks to RepRunner, an LSTM can be run instead"
   ]
  },
  {
   "cell_type": "code",
   "execution_count": 12,
   "metadata": {},
   "outputs": [],
   "source": [
    "import time\n",
    "import math\n",
    "import numpy as np\n",
    "import pandas as pd\n",
    "import matplotlib.pyplot as plt\n",
    "from itertools import combinations\n",
    "# from functools import partial\n",
    "from multiprocessing import Pool\n",
    "from functools import partial\n",
    "from sklearn import metrics\n",
    "# from sklearn.model_selection import train_test_split\n",
    "\n",
    "## Personal Modules\n",
    "import ReadStandardTimeFill as RSTF\n",
    "import importlib\n",
    "import DenseNet as Dense\n",
    "import MiscFuncs as MF\n",
    "importlib.reload(Dense)\n",
    "importlib.reload(RSTF)\n",
    "importlib.reload(MF)\n",
    "\n",
    "# %matplotlib inline\n",
    "\n",
    "%matplotlib notebook\n",
    "%config IPCompleter.greedy=True\n",
    "\n",
    "from scipy.optimize import minimize, curve_fit\n",
    "from scipy.stats import norm\n",
    "from sklearn.gaussian_process import GaussianProcessRegressor\n",
    "from sklearn.gaussian_process.kernels import Matern, WhiteKernel, ConstantKernel\n",
    "from sklearn.externals import joblib\n",
    "from matplotlib import cm\n",
    "\n",
    "from scipy import stats\n",
    "from statsmodels.stats.multicomp import pairwise_tukeyhsd\n",
    "from statsmodels.stats.multicomp import MultiComparison\n",
    "\n",
    "from ipywidgets import FloatProgress, HTML\n",
    "from IPython.display import display, clear_output\n",
    "import os  \n",
    "import shutil\n",
    "from keras import backend as K\n",
    "try:pool.close()\n",
    "except:pass\n",
    "\n",
    "\n",
    "def Test(params,X,y,YScaled,XScaled,pool):\n",
    "    return(np.random.rand(params['K']))\n",
    "\n",
    "\n",
    "def ModSelect(Scope,Site):\n",
    "    if Site == 'Illisarvik':\n",
    "        if Scope == 'Full':\n",
    "            Model = ['wind_speed','air_pressure','PPFD_Avg','AirTC_Avg','VPD',\n",
    "                    'Temp','VWC','Sedge','Shrub','Grass','Sparse','Out_of_Basin']\n",
    "        if Scope == 'Test':\n",
    "            Model = ['PPFD_Avg','Sedge','Sparse']#,'VPD','wind_speed']\n",
    "    if Site == 'FishIsland':\n",
    "        BaseFactors = []\n",
    "        if Scope == 'Full':\n",
    "            Model = ['H','Wind Spd','air pressure','Ta','Rn','PPFD','Rain','Water Table',\n",
    "            'Ts 2.5 cm','Ts 15 cm','VWC','Active Layer','24H Rain','Wtr Tbl Trnd']\n",
    "        if Scope == 'Test':\n",
    "            Model = ['H','Water Table','Wind Spd','Active Layer']\n",
    "    return(Model)\n",
    "\n",
    "def Combos(Model,L,factor=None):\n",
    "    Models=[]\n",
    "    for c in combinations(Model,L):\n",
    "        c = list(c)\n",
    "        if factor is None:\n",
    "            Models.append(c)\n",
    "        else:\n",
    "            for f in factor:\n",
    "                f = f.split('+')\n",
    "                if set(f).issubset(set(c)) and c not in Models:\n",
    "                    Models.append(c)\n",
    "                    \n",
    "#     print('Models: ',Models)\n",
    "    return(Models)\n",
    "\n",
    "def Stats(mse,se,j,i,params):\n",
    "    df = pd.DataFrame(index = [str(j)+'_'+str(i)],\n",
    "                      data={'Model':[params['Model']],\n",
    "                            'MSE':[mse],\n",
    "                            'Size':j,\n",
    "                            'Number':i,\n",
    "                            'SE':[se],\n",
    "                            'Performance':0})\n",
    "    return(df)\n",
    "\n",
    "def t(p,n):\n",
    "    alpha = 1-p\n",
    "    df = n-1\n",
    "    return(stats.t.ppf(alpha,df))\n",
    "\n",
    "FirstRun = True\n",
    "# FirstRun = False\n",
    "\n",
    "MP=True\n",
    "# MP=False\n",
    "processes=3\n",
    "Scope = 'Full'\n",
    "cwd = os.getcwd()\n",
    "# for Site in ['Illisarvik','FishIsland']:\n",
    "Site='Illisarvik'\n",
    "target='fch4'\n",
    "T= 1#t(0.05,params['K'])\n"
   ]
  },
  {
   "cell_type": "markdown",
   "metadata": {},
   "source": [
    "# Model"
   ]
  },
  {
   "cell_type": "code",
   "execution_count": 13,
   "metadata": {
    "scrolled": false
   },
   "outputs": [
    {
     "data": {
      "application/vnd.jupyter.widget-view+json": {
       "model_id": "821d68d3d7ee47e19bbce40012f7fce8",
       "version_major": 2,
       "version_minor": 0
      },
      "text/plain": [
       "A Jupyter Widget"
      ]
     },
     "metadata": {},
     "output_type": "display_data"
    },
    {
     "data": {
      "application/vnd.jupyter.widget-view+json": {
       "model_id": "034c0949cbd74ef08fc3e62b881ea669",
       "version_major": 2,
       "version_minor": 0
      },
      "text/plain": [
       "A Jupyter Widget"
      ]
     },
     "metadata": {},
     "output_type": "display_data"
    },
    {
     "data": {
      "application/vnd.jupyter.widget-view+json": {
       "model_id": "9f5ccf7c44094cfc9028ace3775f0b2b",
       "version_major": 2,
       "version_minor": 0
      },
      "text/plain": [
       "A Jupyter Widget"
      ]
     },
     "metadata": {},
     "output_type": "display_data"
    },
    {
     "data": {
      "application/vnd.jupyter.widget-view+json": {
       "model_id": "1f5a3db017a54595a53fcb237f4b7715",
       "version_major": 2,
       "version_minor": 0
      },
      "text/plain": [
       "A Jupyter Widget"
      ]
     },
     "metadata": {},
     "output_type": "display_data"
    },
    {
     "data": {
      "application/vnd.jupyter.widget-view+json": {
       "model_id": "99a2ce7d0a3f40f7b88305f8f39d5e48",
       "version_major": 2,
       "version_minor": 0
      },
      "text/plain": [
       "A Jupyter Widget"
      ]
     },
     "metadata": {},
     "output_type": "display_data"
    },
    {
     "data": {
      "application/vnd.jupyter.widget-view+json": {
       "model_id": "49def60e5d9943b38c004ecf2219aeff",
       "version_major": 2,
       "version_minor": 0
      },
      "text/plain": [
       "A Jupyter Widget"
      ]
     },
     "metadata": {},
     "output_type": "display_data"
    },
    {
     "name": "stdout",
     "output_type": "stream",
     "text": [
      "Epoch 00720: early stopping\n",
      "Epoch 00943: early stopping\n",
      "Epoch 00888: early stopping\n",
      "Epoch 00847: early stopping\n",
      "Epoch 00551: early stopping\n",
      "Epoch 00668: early stopping\n",
      "Epoch 00994: early stopping\n",
      "Epoch 00588: early stopping\n",
      "Epoch 00553: early stopping\n",
      "Epoch 00850: early stopping\n",
      "Epoch 00485: early stopping\n",
      "Epoch 00503: early stopping\n",
      "Epoch 00645: early stopping\n",
      "Epoch 00808: early stopping\n",
      "Stop Score:  2\n"
     ]
    }
   ],
   "source": [
    "def Display (tar,prog1,prog2,MdLs,MdL,kwt):\n",
    "    clear_output()\n",
    "    display(tar)\n",
    "    display(prog1)\n",
    "    display(prog2)\n",
    "    display(MdLs)\n",
    "    display(MdL)\n",
    "    display(kwt)\n",
    "    \n",
    "tar = HTML(\n",
    "            value=\" \",\n",
    "            placeholder='Target: ',\n",
    "            description='Target: ',\n",
    "        )\n",
    "if __name__ == '__main__':\n",
    "    for target in ['fco2','fch4']:\n",
    "        kwt = HTML(\n",
    "                    value=str(0),\n",
    "                    placeholder='Quit Score: ',\n",
    "                    description='Quit Score: ',\n",
    "                )\n",
    "        tar.value=target\n",
    "        XVarriables=ModSelect(Scope,Site)\n",
    "        prog1 = FloatProgress(min=0, max=len(XVarriables)+1,description='Running:')\n",
    "        prog2 = FloatProgress(min=0, max=100,description='Bootstrapping:')\n",
    "        try:shutil.rmtree(cwd+'/'+Site+'/'+target+'/')\n",
    "        except:pass\n",
    "        os.mkdir(cwd+'/'+Site+'/'+target+'/')\n",
    "        MdLs = HTML(\n",
    "            value=\" \",\n",
    "            placeholder='Models: ',\n",
    "            description='Models: ',\n",
    "        )\n",
    "        MdL = HTML(\n",
    "            value=\" \",\n",
    "            placeholder='Testing: ',\n",
    "            description='Testing: ',\n",
    "        )\n",
    "#         display(MdLs)\n",
    "#         display(MdL)\n",
    "        Display (tar,prog1,prog2,MdLs,MdL,kwt)\n",
    "        for j in range(1,len(XVarriables)+1):\n",
    "            if j == 1: Inputs = (Combos(XVarriables,j))\n",
    "            else: Inputs = (Combos(XVarriables,j,Factors))\n",
    "            MdLs.value=str(Inputs)\n",
    "            i = 0\n",
    "            for Input in Inputs:\n",
    "                params = Dense.Params(Scope,target,MP)\n",
    "                params['Dpath'] = cwd+'/'+Site+'/'\n",
    "                params['Spath'] = params['Dpath']+'/'+target+'/'+str(j)+'_'+str(i)+'/'\n",
    "                try:os.mkdir(params['Spath'])\n",
    "                except:pass\n",
    "                params['Sname'] = 'Y_'\n",
    "                params['Inputs'] = Input\n",
    "                MdL.value=str(params['Inputs'])\n",
    "                Display (tar,prog1,prog2,MdLs,MdL,kwt)\n",
    "                params['Model'] = '+'.join(params['Inputs'])\n",
    "                RST = RSTF.ReadStandardTimeFill(params,'ECData.csv')#,resample='2H')\n",
    "                RST.Scale(params['target'],params['Inputs']) \n",
    "                y = RST.y*1.0\n",
    "                X = RST.X*1.0\n",
    "                params['N']=int(y.shape[0]/30)\n",
    "                params['Memory'] = (math.floor(100/params['proc'])- 5/params['proc']) * .01\n",
    "                Y_hat=[]\n",
    "                y_true=[]\n",
    "                X_true=[]\n",
    "                index=[]\n",
    "                ones=[]\n",
    "                prog2.value=0\n",
    "                if MP == False:\n",
    "                    for k in range(params['K']):\n",
    "                        results = Dense.Bootstrap(k,params,X,y)\n",
    "                        Y_hat.append(RST.YScaled.inverse_transform(results[0]))\n",
    "                        y_true.append(RST.YScaled.inverse_transform(results[1]))\n",
    "                        X_true.append(RST.XScaled.inverse_transform(results[2]))\n",
    "                        ones.append(results[3])\n",
    "                        prog2.value=(k+1)/params['K']*100\n",
    "                else:\n",
    "                    pool = Pool(processes=processes,maxtasksperchild=75)\n",
    "                    for k,results in enumerate(pool.imap(partial(Dense.Bootstrap,params=params,X=X,y=y),range(params['K']))):\n",
    "                        Y_hat.append(RST.YScaled.inverse_transform(results[0]))\n",
    "                        y_true.append(RST.YScaled.inverse_transform(results[1]))\n",
    "                        X_true.append(RST.XScaled.inverse_transform(results[2]))\n",
    "                        ones.append(results[3])\n",
    "                        prog2.value=(k+1)/params['K']*100\n",
    "                    pool.close()\n",
    "                Y_hat = np.squeeze(np.asanyarray(Y_hat))\n",
    "                y_true = np.squeeze(np.asanyarray(y_true))\n",
    "                X_true = np.asanyarray(X_true)\n",
    "                ones = np.asanyarray(ones)\n",
    "                params['Memory'] = .95\n",
    "                if MP == False:\n",
    "                    for k in range(1):\n",
    "                         mse,se = Dense.Sort_outputs(k,params,Y_hat,y_true,X_true,ones)\n",
    "                else:\n",
    "                    pool = Pool(processes=1,maxtasksperchild=75)\n",
    "                    for k,results in enumerate(pool.imap(partial(Dense.Sort_outputs,params=params,\n",
    "                     Y_hat=Y_hat,y_true=y_true,X_true=X_true,ones=ones),range(1))):\n",
    "                         mse,se = results\n",
    "                    pool.close()\n",
    "                if i == 0:Level = Stats(mse,se,j,i,params)\n",
    "                else:Level = Level.append(Stats(mse,se,j,i,params))\n",
    "                i += 1\n",
    "                prog1.value=j+i/len(Inputs)\n",
    "            Min = Level.loc[Level['MSE']==Level['MSE'].min()]\n",
    "#             T= 1#t(0.05,params['K'])\n",
    "            Factors = Level.loc[Level['MSE']<=Min['MSE'].values[0]+Min['SE'].values[0]*T,'Model'].values\n",
    "            Level.loc[Level['MSE']<=Min['MSE'].values[0]+Min['SE'].values[0]*T,'Performance']=1\n",
    "            if j == 1:\n",
    "                Records = Level\n",
    "                kwit = 0\n",
    "            else:\n",
    "                if Min['MSE'].values[0]+Min['SE'].values[0]*T > Records['MSE'].min():\n",
    "                    kwit += 1\n",
    "                    print('Stop Score: ',kwit)\n",
    "                elif kwit > 0:\n",
    "                    kwit -= 1\n",
    "                    print('Stop Score: ',kwit)\n",
    "                Records = Records.append(Level)\n",
    "            kwt.value = str(kwit)\n",
    "            Records = Records.reset_index(drop=True)\n",
    "            Records.drop(Records.columns[Records.columns.str.contains('Unnamed',case = False)],axis = 1)\n",
    "            Records.to_csv(params['Dpath']+'/'+target+'_Runs.csv')\n",
    "            if kwit >= 2:\n",
    "#                 print('Break!')\n",
    "                break"
   ]
  },
  {
   "cell_type": "markdown",
   "metadata": {},
   "source": [
    "# Map Results"
   ]
  },
  {
   "cell_type": "code",
   "execution_count": 8,
   "metadata": {},
   "outputs": [
    {
     "name": "stdout",
     "output_type": "stream",
     "text": [
      "-2\n"
     ]
    }
   ],
   "source": [
    "print(kwit)"
   ]
  },
  {
   "cell_type": "raw",
   "metadata": {
    "scrolled": true
   },
   "source": [
    "alt_mod=[False,'PPFD_Avg+wind_speed+Sedge']\n",
    "BestMod = Best['Model'].values[0]\n",
    "Project = False\n",
    "Fill = False\n",
    "if alt_mod[0] == True:\n",
    "    Model = alt_mod[1]\n",
    "else:\n",
    "    Model = BestMod\n",
    "idx = Records['index'].loc[Records['Model']==Model].values[0]\n",
    "Model = Model.split('+')\n",
    "params['Spath']=(params['Dpath']+'/'+target+'/'+idx+'/')\n",
    "params['Inputs']=Model\n",
    "RST.Scale(params['target'],params['Inputs'],ScalePath=params['Spath'])"
   ]
  },
  {
   "cell_type": "markdown",
   "metadata": {},
   "source": [
    "# Predict"
   ]
  },
  {
   "cell_type": "raw",
   "metadata": {
    "collapsed": true,
    "scrolled": true
   },
   "source": [
    "\n",
    "# print(Data[params['target']])\n",
    "\n",
    "for ip in params['Inputs']:\n",
    "    RST.Data[ip] = RST.Data[ip].mean()\n",
    "\n",
    "Key = 'Sedge'\n",
    "KeyRange = {'min':0,'max':1}\n",
    "RST.Data[Key] = np.linspace(KeyRange['min'],KeyRange['max'],RST.Data[Key].shape[0])\n",
    "RST.Scale(params['target'],params['Inputs'],ScalePath=params['Spath'],Project=Project)\n",
    "    \n",
    "# print(Data[params['target']])\n",
    "\n",
    "if __name__ == '__main__':\n",
    "    if Fill == True:\n",
    "        X = RST.X_fill\n",
    "    else:\n",
    "        X = RST.X\n",
    "    params['Sname']='Y_'\n",
    "    Y_fill = []\n",
    "    MSE = []\n",
    "#     for i in range(params['K']):\n",
    "        \n",
    "        \n",
    "        \n",
    "    if MP == False:\n",
    "        for k in range(params['K']):\n",
    "            Y = Dense.Load_Model(k,X,params)\n",
    "            Y = RST.YScaled.inverse_transform(Y)\n",
    "            if Fill == False:\n",
    "                mse = (metrics.mean_squared_error(RST.y,Y))\n",
    "                MSE.append(mse)\n",
    "            Y_fill.append(Y)\n",
    "    else:\n",
    "        pool = Pool(processes=1,maxtasksperchild=75)\n",
    "        for k,results in enumerate(pool.imap(partial(Dense.Load_Model,X=X,params=params),range(params['K']))):\n",
    "            Y = results\n",
    "            Yold = Y+0\n",
    "            Y = RST.YScaled.inverse_transform(Y)\n",
    "#             plt.figure()\n",
    "#             plt.scatter(Y,Yold)\n",
    "#             plt.xlabel('Sca;e')\n",
    "#             print(RST.YScaled)\n",
    "            if Fill == False:\n",
    "                mse = (metrics.mean_squared_error(RST.y,Y))\n",
    "                MSE.append(mse)\n",
    "            Y_fill.append(Y)                       \n",
    "        pool.close()\n",
    "#         params['iteration']=i\n",
    "\n",
    "#         Y = Dense.Load_Model(i,X,params)\n",
    "#         Model = Dense.Load_Weights(Empty_Mod,params) \n",
    "#         Y = RST.YScaled.inverse_transform(Y)#Model.predict(X).reshape(-1,1))\n",
    "#         if Fill == False:\n",
    "#             mse = (metrics.mean_squared_error(RST.y,Y))\n",
    "#             MSE.append(mse)\n",
    "#         Y_fill.append(Y)\n",
    "    Y_fill = np.asanyarray(Y_fill).mean(axis=-1)\n",
    "    Y_fill_bar = Y_fill.mean(axis=0)\n",
    "    if Fill == False:\n",
    "        MSE = np.asanyarray(MSE)\n",
    "        CI = stats.t.ppf(1-0.025,k)*MSE.std()/(k)**.5\n",
    "        print(CI)\n",
    "\n",
    "    YStandard = joblib.load(params['Spath']+\"YVar_scaler.save\") \n",
    "    params['Sname']='Var'\n",
    "#     params['iteration']=1\n",
    "    params['Loss']='Boot_Loss'\n",
    "#     YVar = Dense.Load_Model(1,X,params)\n",
    "#     Model = Dense.Load_Weights(Empty_Mod,params)        \n",
    "    if MP == False:\n",
    "        for k in range(1,2):\n",
    "            YVar = Dense.Load_Model(k,X,params)\n",
    "            YVar = RST.YScaled.inverse_transform(YVar)\n",
    "#             if Fill == False:\n",
    "#                 mse = (metrics.mean_squared_error(RST.y,Y))\n",
    "#                 MSE.append(mse)\n",
    "#             Y_fill.append(Y)\n",
    "    else:\n",
    "        pool = Pool(processes=1,maxtasksperchild=75)\n",
    "        for k,results in enumerate(pool.imap(partial(Dense.Load_Model,X=X,params=params),range(1,2))):\n",
    "            YVar = results\n",
    "            YVar = RST.YScaled.inverse_transform(YVar)\n",
    "#             if Fill == False:\n",
    "#                 mse = (metrics.mean_squared_error(RST.y,Y))\n",
    "#                 MSE.append(mse)\n",
    "#             Y_fill.append(Y)                       \n",
    "        pool.close()\n",
    "#     YVar=YStandard.inverse_transform(YVar)#Model.predict(X).reshape(-1,1))\n",
    "    X_back = np.squeeze(RST.XScaled.inverse_transform(X))\n",
    "\n",
    "\n",
    "Data = pd.DataFrame(data=X_back,columns=params['Inputs'])\n",
    "Data[target] = np.squeeze(Y_fill_bar)\n",
    "Data['True'] = RST.Ytru#.YScaled.inverse_transform(RST.y)\n",
    "Data['SE'] = 1/(params['K']-1)*((Y_fill-Y_fill_bar)**2).sum(axis=0)\n",
    "Data['Var'] = np.squeeze(YVar)\n",
    "Data['CI']=stats.t.ppf(1-0.025,params['K'])*(Data['SE'])**.5\n",
    "Data['PI']=stats.t.ppf(1-0.025,params['K'])*((Data['Var']+Data['SE'])**.5) #the accuracy of our estimate with respect to the observed output\n",
    "\n",
    "# print(Data['CI'].mean())\n",
    "print(params['Inputs'])\n",
    "print('Prediction mean: ',Data[target].mean())\n",
    "print('Target mean: ',Data['True'].mean())\n",
    "Data['Fill'] = Data['True'].fillna(Data[target])\n",
    "print('GapFilled mean: ',Data['Fill'].mean())\n",
    "\n",
    "Data.loc[np.isnan(Data['PI'])==True,'PI']=Data['CI']"
   ]
  },
  {
   "cell_type": "code",
   "execution_count": null,
   "metadata": {
    "collapsed": true,
    "scrolled": false
   },
   "outputs": [],
   "source": [
    "\n",
    "plt.figure(figsize=(8,7))\n",
    "Data = Data.sort_values(by=Key)\n",
    "# Data.index = Data[Key]\n",
    "\n",
    "Data = Data[np.isfinite(Data['True'])]\n",
    "\n",
    "plt.scatter(RST.Master[Key],RST.Master[target],edgecolor='black',facecolor='white')\n",
    "plt.plot(Data[Key],Data[target],\n",
    "         label= params['target']+' Model\\nr^2: '+str(np.round(metrics.r2_score(Data['True'],\n",
    "                                                                   Data[params['target']])**2,3)))\n",
    "# plt.plot(Data.index,Data['Var'],label= params['target']+\n",
    "# ' Model\\nRMSE: '+str(np.round(metrics.mean_squared_error(Data['True'],\n",
    "#                                                                    Data[params['target']])**2,3)))\n",
    "\n",
    "\n",
    "plt.fill_between(Data[Key], Data[target]-Data['PI'], \n",
    "                 Data[target]+Data['PI'],  color = 'green', alpha = 0.4, \n",
    "                 label = '95% PI')\n",
    "plt.fill_between(Data[Key], Data[target]-Data['CI'], \n",
    "                 Data[target]+Data['CI'],  color = 'red', alpha = 0.4, \n",
    "                 label = '95% CI')\n",
    "plt.legend()\n",
    "# print(RST.Master)\n",
    "\n",
    "plt.figure()\n",
    "\n",
    "# plt.plot(Data[Key], Data['Var'])\n",
    "\n",
    "plt.scatter(Data[target],Data['True'])\n",
    "\n",
    "# print(Data['SE'])"
   ]
  },
  {
   "cell_type": "code",
   "execution_count": null,
   "metadata": {
    "collapsed": true
   },
   "outputs": [],
   "source": []
  },
  {
   "cell_type": "code",
   "execution_count": null,
   "metadata": {
    "collapsed": true
   },
   "outputs": [],
   "source": []
  }
 ],
 "metadata": {
  "kernelspec": {
   "display_name": "Python 3",
   "language": "python",
   "name": "python3"
  },
  "language_info": {
   "codemirror_mode": {
    "name": "ipython",
    "version": 3
   },
   "file_extension": ".py",
   "mimetype": "text/x-python",
   "name": "python",
   "nbconvert_exporter": "python",
   "pygments_lexer": "ipython3",
   "version": "3.5.2"
  }
 },
 "nbformat": 4,
 "nbformat_minor": 2
}
