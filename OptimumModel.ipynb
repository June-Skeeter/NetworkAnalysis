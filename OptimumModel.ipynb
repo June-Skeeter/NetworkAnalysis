{
 "cells": [
  {
   "cell_type": "markdown",
   "metadata": {},
   "source": [
    "##  Optimze and a Dense Neural Network for gap filling and feature identification\n",
    "\n",
    "** With a few tweaks to RepRunner, an LSTM can be run instead"
   ]
  },
  {
   "cell_type": "code",
   "execution_count": 45,
   "metadata": {},
   "outputs": [],
   "source": [
    "import time\n",
    "import math\n",
    "import numpy as np\n",
    "import pandas as pd\n",
    "import matplotlib.pyplot as plt\n",
    "from itertools import combinations\n",
    "from functools import partial\n",
    "from multiprocessing import Pool\n",
    "from sklearn.preprocessing import StandardScaler\n",
    "from sklearn import metrics\n",
    "from sklearn.model_selection import RepeatedKFold\n",
    "from sklearn.model_selection import train_test_split\n",
    "\n",
    "## Personal Modules\n",
    "import ReadStandardTimeFill as RSTF\n",
    "import importlib\n",
    "import DenseNet as Dense\n",
    "importlib.reload(Dense)\n",
    "importlib.reload(RSTF)\n",
    "\n",
    "%matplotlib inline\n",
    "%config IPCompleter.greedy=True\n",
    "\n",
    "from scipy.optimize import minimize, curve_fit\n",
    "from scipy.stats import norm\n",
    "from sklearn.gaussian_process import GaussianProcessRegressor\n",
    "from sklearn.gaussian_process.kernels import Matern, WhiteKernel, ConstantKernel\n",
    "from matplotlib import cm\n",
    "\n",
    "from scipy import stats\n",
    "from statsmodels.stats.multicomp import pairwise_tukeyhsd\n",
    "# pool.close()"
   ]
  },
  {
   "cell_type": "code",
   "execution_count": 46,
   "metadata": {
    "collapsed": true
   },
   "outputs": [],
   "source": [
    "def Curve(x,a,b,c):\n",
    "    return (a/(b+x)**c)\n",
    "\n",
    "def Combos(Model,L,factor=None):\n",
    "    Models=list()\n",
    "    for c in combinations(Model,L):\n",
    "        c = list(c)\n",
    "        if factor is None:\n",
    "            Models.append(c)\n",
    "        else:\n",
    "            for f in factor:\n",
    "                f = f.split('+')\n",
    "                if set(f).issubset(set(c)) and c not in Models:\n",
    "                    Models.append(c)\n",
    "    return(Models)\n",
    "\n",
    "def TTV_Split(iteration,Memory,X,y,params,X_fill,Save):\n",
    "    params['seed'] = int(iteration%params['splits_per_mod']/params['splits_per_mod']*100)\n",
    "    params['iteration'] = int(iteration/params['splits_per_mod'])\n",
    "    X_train,X_test,y_train,y_test=train_test_split(X,y, test_size=0.1, random_state=params['seed'])\n",
    "    X_train,X_val,y_train,y_val=train_test_split(X_train,y_train, test_size=0.11, random_state=params['seed'])\n",
    "    return(Dense.Train_Steps(params,X_train,X_test,X_val,y_train,y_test,\n",
    "        y_val,X_fill = X_fill,Memory=Memory,Save=Save),\n",
    "        y_val)\n",
    "\n",
    "def RunReps(Model,params,pool = None,FullReturn=False,Save=False):\n",
    "    RST = RSTF.ReadStandardTimeFill(Path)\n",
    "    offset = 5/params['proc']\n",
    "    Memory = (math.floor(100/params['proc'])- offset) * .01\n",
    "    MSE = []\n",
    "    RST.Scale(params['Y'],Model)\n",
    "    if params['T'] >0:\n",
    "        RST.TimeShape(params['T'])\n",
    "    y = RST.y*1.0\n",
    "    X = RST.X*1.0\n",
    "    X_fill = RST.X_fill*1.0\n",
    "    MSE = []\n",
    "    R2 =[]\n",
    "    Y_fill = []\n",
    "    Yval = []\n",
    "    y_val= []\n",
    "    if __name__=='__main__'and params['proc'] != 1:\n",
    "        for i,results in enumerate(pool.imap(partial(TTV_Split,Memory=Memory,X=X,y=y,params=params,X_fill=X_fill,\n",
    "                                                     Save=Save),range(params['K']))):\n",
    "            Y_fill.append(results[0][0])\n",
    "            Yval = RST.YScaled.inverse_transform(results[0][1].reshape(-1,1))\n",
    "            y_val = RST.YScaled.inverse_transform(results[1][0].reshape(-1,1))\n",
    "            MSE.append(metrics.mean_squared_error(Yval,y_val))\n",
    "            R2.append(metrics.r2_score(Yval,y_val))\n",
    "    else:\n",
    "        for i in range(params['K']):\n",
    "            results = TTV_Split(i,Memory,X,y,params,X_fill,Save)\n",
    "            Y_fill.append(results[0][0])\n",
    "            Yval = RST.YScaled.inverse_transform(results[0][1].reshape(-1,1))\n",
    "            y_val = RST.YScaled.inverse_transform(results[1].reshape(-1,1))\n",
    "            MSE.append(metrics.mean_squared_error(y_val,Yval))\n",
    "            R2.append(metrics.r2_score(y_val,Yval))\n",
    "    Y_fill = np.asanyarray(Y_fill)\n",
    "    Y_fill = Y_fill.mean(axis=0) \n",
    "    FillVarName = FillVar.replace('f','F')\n",
    "    RST.Fill(Y_fill,FillVarName)\n",
    "    return(MSE,R2,RST.Master['TempFill'])"
   ]
  },
  {
   "cell_type": "code",
   "execution_count": 48,
   "metadata": {
    "scrolled": true
   },
   "outputs": [
    {
     "name": "stdout",
     "output_type": "stream",
     "text": [
      "{'proc': 1, 'K': 4, 'epochs': 100, 'Y': 'fch4', 'splits_per_mod': 2}\n"
     ]
    }
   ],
   "source": [
    "FillVar = 'fco2'\n",
    "FullModel = ['H','wind_speed','air_pressure','PPFD_Avg','AirTC_Avg',\n",
    "             'VPD','Temp','VWC','Sedge','Shrub','Grass','Sparse','Out_of_Basin']\n",
    "FullModel = ['PPFD_Avg','AirTC_Avg','Sedge']\n",
    "Runs,params = Dense.Params('Test',FillVar,MP=False)\n",
    "print(params)\n",
    "\n",
    "from ipywidgets import FloatProgress\n",
    "from IPython.display import display\n",
    "\n",
    "# Data = pd.read_csv(Path)\n",
    "# Data = Data.set_index(pd.DatetimeIndex(Data.datetime))"
   ]
  },
  {
   "cell_type": "code",
   "execution_count": 49,
   "metadata": {
    "scrolled": false
   },
   "outputs": [],
   "source": [
    "Time = time.time()\n",
    "Path = 'Data_Footprints_2018-06-12.csv'\n",
    "if __name__=='__main__'and params['proc'] != 1:\n",
    "    pool = Pool(processes=params['proc'],maxtasksperchild=75)\n",
    "else:pool=None\n",
    "def RunLoop(Runs):\n",
    "    \n",
    "    f = FloatProgress(min=0, max=Runs['N'].count()) # instantiate the bar\n",
    "    display(f) # display the bar\n",
    "#     print(Runs)\n",
    "    for N in Runs['N'].unique():\n",
    "        params['T'] = 0\n",
    "        params['N']=N\n",
    "        Results = RunReps(FullModel,params,pool)\n",
    "        MSE = Results[0]\n",
    "        R2 = Results[1]\n",
    "        Runs.loc[Runs['N']==N,'MSE']=MSE\n",
    "        Runs.loc[Runs['N']==N,'R2']=R2\n",
    "#         print(Runs.loc[Runs['N']==N])   \n",
    "        f.value+=params['K']\n",
    "    return(Runs)"
   ]
  },
  {
   "cell_type": "markdown",
   "metadata": {},
   "source": [
    "# The \"Optimum\" Sized Model"
   ]
  },
  {
   "cell_type": "code",
   "execution_count": 50,
   "metadata": {
    "scrolled": false
   },
   "outputs": [
    {
     "data": {
      "application/vnd.jupyter.widget-view+json": {
       "model_id": "109fb07de9734e1fa729106527898106",
       "version_major": 2,
       "version_minor": 0
      },
      "text/plain": [
       "A Jupyter Widget"
      ]
     },
     "metadata": {},
     "output_type": "display_data"
    },
    {
     "name": "stderr",
     "output_type": "stream",
     "text": [
      "C:\\Anaconda3\\lib\\site-packages\\ipykernel_launcher.py:2: RuntimeWarning: invalid value encountered in power\n",
      "  \n"
     ]
    },
    {
     "data": {
      "image/png": "[encoded data removed]",
      "text/plain": [
       "<matplotlib.figure.Figure at 0x136dcf23ba8>"
      ]
     },
     "metadata": {},
     "output_type": "display_data"
    },
    {
     "name": "stdout",
     "output_type": "stream",
     "text": [
      "12 46.117008227077356\n"
     ]
    }
   ],
   "source": [
    "def N_Nodes(Runs,params,plot=False):\n",
    "    Runs = RunLoop(Runs)\n",
    "    Group = Runs.groupby('N').mean()\n",
    "    Group['SD'] = Runs[['N','MSE']].groupby('N').std()\n",
    "    Group['SE'] = Runs[['N','MSE']].groupby('N').sem()\n",
    "    Min = Group.loc[Group['MSE']==Group['MSE'].min()]\n",
    "    popt, pcov = curve_fit(Curve, Runs['N'].values, Runs['MSE'].values)\n",
    "    N = np.arange(Runs['N'].min(),Runs['N'].max())\n",
    "    Fit = Curve(N,*popt)\n",
    "    Max = (Min['MSE']+Min['SE']).values[0]\n",
    "    try:\n",
    "        params['N']=N[Fit<Max].min()\n",
    "    except:\n",
    "        params['N']=N[-1]\n",
    "        pass\n",
    "    \n",
    "    if plot == True:\n",
    "        fig,ax = plt.subplots(figsize=(8,8))\n",
    "        ax.scatter(Runs['N'],Runs['MSE'])\n",
    "        ax.plot(N,Fit,color='r')\n",
    "        ax.plot(N,N*0+Max,color = 'black')\n",
    "        plt.grid()\n",
    "        plt.show()\n",
    "    return(params)\n",
    "params = N_Nodes(Runs,params)\n",
    "print(params['N'],Max)"
   ]
  },
  {
   "cell_type": "markdown",
   "metadata": {},
   "source": [
    "# Feature Identification"
   ]
  },
  {
   "cell_type": "code",
   "execution_count": 42,
   "metadata": {},
   "outputs": [
    {
     "name": "stdout",
     "output_type": "stream",
     "text": [
      "         MSE        R2  Level  Key                               Model\n",
      "0  56.006588  0.650431      5  5_0  PPFD_Avg+AirTC_Avg+Sedge+VWC+Grass\n",
      "1  42.763977  0.664609      5  5_0  PPFD_Avg+AirTC_Avg+Sedge+VWC+Grass\n",
      "2  55.759391  0.651974      5  5_0  PPFD_Avg+AirTC_Avg+Sedge+VWC+Grass\n",
      "3  40.254624  0.684289      5  5_0  PPFD_Avg+AirTC_Avg+Sedge+VWC+Grass\n"
     ]
    }
   ],
   "source": []
  },
  {
   "cell_type": "code",
   "execution_count": 53,
   "metadata": {
    "scrolled": false
   },
   "outputs": [
    {
     "name": "stdout",
     "output_type": "stream",
     "text": [
      "         MSE        R2  Level  Key                               Model\n",
      "0  56.002250  0.650458      5  5_0  PPFD_Avg+AirTC_Avg+Sedge+VWC+Grass\n",
      "1  42.765566  0.664596      5  5_0  PPFD_Avg+AirTC_Avg+Sedge+VWC+Grass\n",
      "2  55.759215  0.651975      5  5_0  PPFD_Avg+AirTC_Avg+Sedge+VWC+Grass\n",
      "3  38.437589  0.698540      5  5_0  PPFD_Avg+AirTC_Avg+Sedge+VWC+Grass\n",
      "Level:  1\n"
     ]
    },
    {
     "name": "stderr",
     "output_type": "stream",
     "text": [
      "C:\\Anaconda3\\lib\\site-packages\\pandas\\core\\frame.py:6211: FutureWarning: Sorting because non-concatenation axis is not aligned. A future version\n",
      "of pandas will change to not sort by default.\n",
      "\n",
      "To accept the future behavior, pass 'sort=False'.\n",
      "\n",
      "To retain the current behavior and silence the warning, pass 'sort=True'.\n",
      "\n",
      "  sort=sort)\n"
     ]
    },
    {
     "name": "stdout",
     "output_type": "stream",
     "text": [
      "['Sedge']\n",
      "Level:  2\n",
      "['Sedge+VWC']\n",
      "Level:  3\n",
      "['PPFD_Avg+Sedge+VWC']\n",
      "Level:  4\n"
     ]
    },
    {
     "ename": "KeyboardInterrupt",
     "evalue": "",
     "output_type": "error",
     "traceback": [
      "\u001b[1;31m---------------------------------------------------------------------------\u001b[0m",
      "\u001b[1;31mKeyboardInterrupt\u001b[0m                         Traceback (most recent call last)",
      "\u001b[1;32m<ipython-input-53-a6d09728aa1a>\u001b[0m in \u001b[0;36m<module>\u001b[1;34m()\u001b[0m\n\u001b[0;32m     45\u001b[0m         \u001b[0mBest\u001b[0m \u001b[1;33m=\u001b[0m \u001b[0mMin\u001b[0m\u001b[1;33m.\u001b[0m\u001b[0mloc\u001b[0m\u001b[1;33m[\u001b[0m\u001b[0mMin\u001b[0m\u001b[1;33m[\u001b[0m\u001b[1;34m'MSE'\u001b[0m\u001b[1;33m]\u001b[0m \u001b[1;33m==\u001b[0m \u001b[0mMin\u001b[0m\u001b[1;33m[\u001b[0m\u001b[1;34m'MSE'\u001b[0m\u001b[1;33m]\u001b[0m\u001b[1;33m.\u001b[0m\u001b[0mmin\u001b[0m\u001b[1;33m(\u001b[0m\u001b[1;33m)\u001b[0m\u001b[1;33m,\u001b[0m\u001b[1;34m'Model'\u001b[0m\u001b[1;33m]\u001b[0m\u001b[1;33m.\u001b[0m\u001b[0mvalues\u001b[0m\u001b[1;33m\u001b[0m\u001b[0m\n\u001b[0;32m     46\u001b[0m         \u001b[0mprint\u001b[0m\u001b[1;33m(\u001b[0m\u001b[0mBest\u001b[0m\u001b[1;33m)\u001b[0m\u001b[1;33m\u001b[0m\u001b[0m\n\u001b[1;32m---> 47\u001b[1;33m \u001b[0mFactorTest\u001b[0m\u001b[1;33m(\u001b[0m\u001b[0mparams\u001b[0m\u001b[1;33m,\u001b[0m\u001b[0mFullModel\u001b[0m\u001b[1;33m)\u001b[0m\u001b[1;31m#,Results,ModelRuns,Scores)\u001b[0m\u001b[1;33m\u001b[0m\u001b[0m\n\u001b[0m",
      "\u001b[1;32m<ipython-input-53-a6d09728aa1a>\u001b[0m in \u001b[0;36mFactorTest\u001b[1;34m(params, FullModel)\u001b[0m\n\u001b[0;32m     30\u001b[0m             \u001b[0mNewRow\u001b[0m \u001b[1;33m=\u001b[0m \u001b[0mScores\u001b[0m\u001b[1;33m.\u001b[0m\u001b[0miloc\u001b[0m\u001b[1;33m[\u001b[0m\u001b[1;33m-\u001b[0m\u001b[1;36m1\u001b[0m\u001b[1;33m]\u001b[0m\u001b[1;33m.\u001b[0m\u001b[0mcopy\u001b[0m\u001b[1;33m(\u001b[0m\u001b[1;33m)\u001b[0m\u001b[1;33m\u001b[0m\u001b[0m\n\u001b[0;32m     31\u001b[0m             \u001b[0mNewRow\u001b[0m\u001b[1;33m[\u001b[0m\u001b[1;34m'Model'\u001b[0m\u001b[1;33m]\u001b[0m \u001b[1;33m=\u001b[0m \u001b[1;34m'Model: '\u001b[0m\u001b[1;33m+\u001b[0m\u001b[0mName\u001b[0m\u001b[1;33m\u001b[0m\u001b[0m\n\u001b[1;32m---> 32\u001b[1;33m             \u001b[0mResults\u001b[0m \u001b[1;33m=\u001b[0m \u001b[0mRunReps\u001b[0m\u001b[1;33m(\u001b[0m\u001b[0mmodel\u001b[0m\u001b[1;33m,\u001b[0m\u001b[0mparams\u001b[0m\u001b[1;33m,\u001b[0m\u001b[0mpool\u001b[0m\u001b[1;33m)\u001b[0m\u001b[1;33m\u001b[0m\u001b[0m\n\u001b[0m\u001b[0;32m     33\u001b[0m             \u001b[0mMSE\u001b[0m \u001b[1;33m=\u001b[0m \u001b[0mResults\u001b[0m\u001b[1;33m[\u001b[0m\u001b[1;36m0\u001b[0m\u001b[1;33m]\u001b[0m\u001b[1;33m\u001b[0m\u001b[0m\n\u001b[0;32m     34\u001b[0m             \u001b[0mR2\u001b[0m \u001b[1;33m=\u001b[0m \u001b[0mResults\u001b[0m\u001b[1;33m[\u001b[0m\u001b[1;36m1\u001b[0m\u001b[1;33m]\u001b[0m\u001b[1;33m\u001b[0m\u001b[0m\n",
      "\u001b[1;32m<ipython-input-46-da9e1105a57f>\u001b[0m in \u001b[0;36mRunReps\u001b[1;34m(Model, params, pool, FullReturn, Save)\u001b[0m\n\u001b[0;32m     50\u001b[0m     \u001b[1;32melse\u001b[0m\u001b[1;33m:\u001b[0m\u001b[1;33m\u001b[0m\u001b[0m\n\u001b[0;32m     51\u001b[0m         \u001b[1;32mfor\u001b[0m \u001b[0mi\u001b[0m \u001b[1;32min\u001b[0m \u001b[0mrange\u001b[0m\u001b[1;33m(\u001b[0m\u001b[0mparams\u001b[0m\u001b[1;33m[\u001b[0m\u001b[1;34m'K'\u001b[0m\u001b[1;33m]\u001b[0m\u001b[1;33m)\u001b[0m\u001b[1;33m:\u001b[0m\u001b[1;33m\u001b[0m\u001b[0m\n\u001b[1;32m---> 52\u001b[1;33m             \u001b[0mresults\u001b[0m \u001b[1;33m=\u001b[0m \u001b[0mTTV_Split\u001b[0m\u001b[1;33m(\u001b[0m\u001b[0mi\u001b[0m\u001b[1;33m,\u001b[0m\u001b[0mMemory\u001b[0m\u001b[1;33m,\u001b[0m\u001b[0mX\u001b[0m\u001b[1;33m,\u001b[0m\u001b[0my\u001b[0m\u001b[1;33m,\u001b[0m\u001b[0mparams\u001b[0m\u001b[1;33m,\u001b[0m\u001b[0mX_fill\u001b[0m\u001b[1;33m,\u001b[0m\u001b[0mSave\u001b[0m\u001b[1;33m)\u001b[0m\u001b[1;33m\u001b[0m\u001b[0m\n\u001b[0m\u001b[0;32m     53\u001b[0m             \u001b[0mY_fill\u001b[0m\u001b[1;33m.\u001b[0m\u001b[0mappend\u001b[0m\u001b[1;33m(\u001b[0m\u001b[0mresults\u001b[0m\u001b[1;33m[\u001b[0m\u001b[1;36m0\u001b[0m\u001b[1;33m]\u001b[0m\u001b[1;33m[\u001b[0m\u001b[1;36m0\u001b[0m\u001b[1;33m]\u001b[0m\u001b[1;33m)\u001b[0m\u001b[1;33m\u001b[0m\u001b[0m\n\u001b[0;32m     54\u001b[0m             \u001b[0mYval\u001b[0m \u001b[1;33m=\u001b[0m \u001b[0mRST\u001b[0m\u001b[1;33m.\u001b[0m\u001b[0mYScaled\u001b[0m\u001b[1;33m.\u001b[0m\u001b[0minverse_transform\u001b[0m\u001b[1;33m(\u001b[0m\u001b[0mresults\u001b[0m\u001b[1;33m[\u001b[0m\u001b[1;36m0\u001b[0m\u001b[1;33m]\u001b[0m\u001b[1;33m[\u001b[0m\u001b[1;36m1\u001b[0m\u001b[1;33m]\u001b[0m\u001b[1;33m.\u001b[0m\u001b[0mreshape\u001b[0m\u001b[1;33m(\u001b[0m\u001b[1;33m-\u001b[0m\u001b[1;36m1\u001b[0m\u001b[1;33m,\u001b[0m\u001b[1;36m1\u001b[0m\u001b[1;33m)\u001b[0m\u001b[1;33m)\u001b[0m\u001b[1;33m\u001b[0m\u001b[0m\n",
      "\u001b[1;32m<ipython-input-46-da9e1105a57f>\u001b[0m in \u001b[0;36mTTV_Split\u001b[1;34m(iteration, Memory, X, y, params, X_fill, Save)\u001b[0m\n\u001b[0;32m     21\u001b[0m     \u001b[0mX_train\u001b[0m\u001b[1;33m,\u001b[0m\u001b[0mX_val\u001b[0m\u001b[1;33m,\u001b[0m\u001b[0my_train\u001b[0m\u001b[1;33m,\u001b[0m\u001b[0my_val\u001b[0m\u001b[1;33m=\u001b[0m\u001b[0mtrain_test_split\u001b[0m\u001b[1;33m(\u001b[0m\u001b[0mX_train\u001b[0m\u001b[1;33m,\u001b[0m\u001b[0my_train\u001b[0m\u001b[1;33m,\u001b[0m \u001b[0mtest_size\u001b[0m\u001b[1;33m=\u001b[0m\u001b[1;36m0.11\u001b[0m\u001b[1;33m,\u001b[0m \u001b[0mrandom_state\u001b[0m\u001b[1;33m=\u001b[0m\u001b[0mparams\u001b[0m\u001b[1;33m[\u001b[0m\u001b[1;34m'seed'\u001b[0m\u001b[1;33m]\u001b[0m\u001b[1;33m)\u001b[0m\u001b[1;33m\u001b[0m\u001b[0m\n\u001b[0;32m     22\u001b[0m     return(Dense.Train_Steps(params,X_train,X_test,X_val,y_train,y_test,\n\u001b[1;32m---> 23\u001b[1;33m         y_val,X_fill = X_fill,Memory=Memory,Save=Save),\n\u001b[0m\u001b[0;32m     24\u001b[0m         y_val)\n\u001b[0;32m     25\u001b[0m \u001b[1;33m\u001b[0m\u001b[0m\n",
      "\u001b[1;32m~\\NetworkAnalysis\\DenseNet.py\u001b[0m in \u001b[0;36mTrain_Steps\u001b[1;34m(params, X_train, X_test, X_val, y_train, y_test, y_val, X_fill, Memory, Save)\u001b[0m\n\u001b[0;32m     70\u001b[0m             \u001b[0mverbose\u001b[0m\u001b[1;33m=\u001b[0m\u001b[1;36m0\u001b[0m\u001b[1;33m,\u001b[0m \u001b[1;31m# Print description after each epoch\u001b[0m\u001b[1;33m\u001b[0m\u001b[0m\n\u001b[0;32m     71\u001b[0m             \u001b[0mbatch_size\u001b[0m\u001b[1;33m=\u001b[0m\u001b[0mbatch_size\u001b[0m\u001b[1;33m,\u001b[0m \u001b[1;31m# Number of observations per batch\u001b[0m\u001b[1;33m\u001b[0m\u001b[0m\n\u001b[1;32m---> 72\u001b[1;33m             validation_data=(X_test, y_test)) # Data for evaluation\n\u001b[0m\u001b[0;32m     73\u001b[0m     \u001b[0mYval\u001b[0m \u001b[1;33m=\u001b[0m \u001b[0mMod\u001b[0m\u001b[1;33m.\u001b[0m\u001b[0mpredict\u001b[0m\u001b[1;33m(\u001b[0m\u001b[0mX_val\u001b[0m\u001b[1;33m,\u001b[0m\u001b[0mbatch_size\u001b[0m \u001b[1;33m=\u001b[0m \u001b[0mbatch_size\u001b[0m\u001b[1;33m)\u001b[0m\u001b[1;33m\u001b[0m\u001b[0m\n\u001b[0;32m     74\u001b[0m     \u001b[0mMSE\u001b[0m \u001b[1;33m=\u001b[0m \u001b[0mmetrics\u001b[0m\u001b[1;33m.\u001b[0m\u001b[0mmean_squared_error\u001b[0m\u001b[1;33m(\u001b[0m\u001b[0my_val\u001b[0m\u001b[1;33m,\u001b[0m\u001b[0mYval\u001b[0m\u001b[1;33m)\u001b[0m\u001b[1;33m\u001b[0m\u001b[0m\n",
      "\u001b[1;32mC:\\Anaconda3\\lib\\site-packages\\keras\\models.py\u001b[0m in \u001b[0;36mfit\u001b[1;34m(self, x, y, batch_size, epochs, verbose, callbacks, validation_split, validation_data, shuffle, class_weight, sample_weight, initial_epoch, **kwargs)\u001b[0m\n\u001b[0;32m    861\u001b[0m                               \u001b[0mclass_weight\u001b[0m\u001b[1;33m=\u001b[0m\u001b[0mclass_weight\u001b[0m\u001b[1;33m,\u001b[0m\u001b[1;33m\u001b[0m\u001b[0m\n\u001b[0;32m    862\u001b[0m                               \u001b[0msample_weight\u001b[0m\u001b[1;33m=\u001b[0m\u001b[0msample_weight\u001b[0m\u001b[1;33m,\u001b[0m\u001b[1;33m\u001b[0m\u001b[0m\n\u001b[1;32m--> 863\u001b[1;33m                               initial_epoch=initial_epoch)\n\u001b[0m\u001b[0;32m    864\u001b[0m \u001b[1;33m\u001b[0m\u001b[0m\n\u001b[0;32m    865\u001b[0m     def evaluate(self, x, y, batch_size=32, verbose=1,\n",
      "\u001b[1;32mC:\\Anaconda3\\lib\\site-packages\\keras\\engine\\training.py\u001b[0m in \u001b[0;36mfit\u001b[1;34m(self, x, y, batch_size, epochs, verbose, callbacks, validation_split, validation_data, shuffle, class_weight, sample_weight, initial_epoch, **kwargs)\u001b[0m\n\u001b[0;32m   1428\u001b[0m                               \u001b[0mval_f\u001b[0m\u001b[1;33m=\u001b[0m\u001b[0mval_f\u001b[0m\u001b[1;33m,\u001b[0m \u001b[0mval_ins\u001b[0m\u001b[1;33m=\u001b[0m\u001b[0mval_ins\u001b[0m\u001b[1;33m,\u001b[0m \u001b[0mshuffle\u001b[0m\u001b[1;33m=\u001b[0m\u001b[0mshuffle\u001b[0m\u001b[1;33m,\u001b[0m\u001b[1;33m\u001b[0m\u001b[0m\n\u001b[0;32m   1429\u001b[0m                               \u001b[0mcallback_metrics\u001b[0m\u001b[1;33m=\u001b[0m\u001b[0mcallback_metrics\u001b[0m\u001b[1;33m,\u001b[0m\u001b[1;33m\u001b[0m\u001b[0m\n\u001b[1;32m-> 1430\u001b[1;33m                               initial_epoch=initial_epoch)\n\u001b[0m\u001b[0;32m   1431\u001b[0m \u001b[1;33m\u001b[0m\u001b[0m\n\u001b[0;32m   1432\u001b[0m     \u001b[1;32mdef\u001b[0m \u001b[0mevaluate\u001b[0m\u001b[1;33m(\u001b[0m\u001b[0mself\u001b[0m\u001b[1;33m,\u001b[0m \u001b[0mx\u001b[0m\u001b[1;33m,\u001b[0m \u001b[0my\u001b[0m\u001b[1;33m,\u001b[0m \u001b[0mbatch_size\u001b[0m\u001b[1;33m=\u001b[0m\u001b[1;36m32\u001b[0m\u001b[1;33m,\u001b[0m \u001b[0mverbose\u001b[0m\u001b[1;33m=\u001b[0m\u001b[1;36m1\u001b[0m\u001b[1;33m,\u001b[0m \u001b[0msample_weight\u001b[0m\u001b[1;33m=\u001b[0m\u001b[1;32mNone\u001b[0m\u001b[1;33m)\u001b[0m\u001b[1;33m:\u001b[0m\u001b[1;33m\u001b[0m\u001b[0m\n",
      "\u001b[1;32mC:\\Anaconda3\\lib\\site-packages\\keras\\engine\\training.py\u001b[0m in \u001b[0;36m_fit_loop\u001b[1;34m(self, f, ins, out_labels, batch_size, epochs, verbose, callbacks, val_f, val_ins, shuffle, callback_metrics, initial_epoch)\u001b[0m\n\u001b[0;32m   1077\u001b[0m                 \u001b[0mbatch_logs\u001b[0m\u001b[1;33m[\u001b[0m\u001b[1;34m'size'\u001b[0m\u001b[1;33m]\u001b[0m \u001b[1;33m=\u001b[0m \u001b[0mlen\u001b[0m\u001b[1;33m(\u001b[0m\u001b[0mbatch_ids\u001b[0m\u001b[1;33m)\u001b[0m\u001b[1;33m\u001b[0m\u001b[0m\n\u001b[0;32m   1078\u001b[0m                 \u001b[0mcallbacks\u001b[0m\u001b[1;33m.\u001b[0m\u001b[0mon_batch_begin\u001b[0m\u001b[1;33m(\u001b[0m\u001b[0mbatch_index\u001b[0m\u001b[1;33m,\u001b[0m \u001b[0mbatch_logs\u001b[0m\u001b[1;33m)\u001b[0m\u001b[1;33m\u001b[0m\u001b[0m\n\u001b[1;32m-> 1079\u001b[1;33m                 \u001b[0mouts\u001b[0m \u001b[1;33m=\u001b[0m \u001b[0mf\u001b[0m\u001b[1;33m(\u001b[0m\u001b[0mins_batch\u001b[0m\u001b[1;33m)\u001b[0m\u001b[1;33m\u001b[0m\u001b[0m\n\u001b[0m\u001b[0;32m   1080\u001b[0m                 \u001b[1;32mif\u001b[0m \u001b[1;32mnot\u001b[0m \u001b[0misinstance\u001b[0m\u001b[1;33m(\u001b[0m\u001b[0mouts\u001b[0m\u001b[1;33m,\u001b[0m \u001b[0mlist\u001b[0m\u001b[1;33m)\u001b[0m\u001b[1;33m:\u001b[0m\u001b[1;33m\u001b[0m\u001b[0m\n\u001b[0;32m   1081\u001b[0m                     \u001b[0mouts\u001b[0m \u001b[1;33m=\u001b[0m \u001b[1;33m[\u001b[0m\u001b[0mouts\u001b[0m\u001b[1;33m]\u001b[0m\u001b[1;33m\u001b[0m\u001b[0m\n",
      "\u001b[1;32mC:\\Anaconda3\\lib\\site-packages\\keras\\backend\\tensorflow_backend.py\u001b[0m in \u001b[0;36m__call__\u001b[1;34m(self, inputs)\u001b[0m\n\u001b[0;32m   2266\u001b[0m         updated = session.run(self.outputs + [self.updates_op],\n\u001b[0;32m   2267\u001b[0m                               \u001b[0mfeed_dict\u001b[0m\u001b[1;33m=\u001b[0m\u001b[0mfeed_dict\u001b[0m\u001b[1;33m,\u001b[0m\u001b[1;33m\u001b[0m\u001b[0m\n\u001b[1;32m-> 2268\u001b[1;33m                               **self.session_kwargs)\n\u001b[0m\u001b[0;32m   2269\u001b[0m         \u001b[1;32mreturn\u001b[0m \u001b[0mupdated\u001b[0m\u001b[1;33m[\u001b[0m\u001b[1;33m:\u001b[0m\u001b[0mlen\u001b[0m\u001b[1;33m(\u001b[0m\u001b[0mself\u001b[0m\u001b[1;33m.\u001b[0m\u001b[0moutputs\u001b[0m\u001b[1;33m)\u001b[0m\u001b[1;33m]\u001b[0m\u001b[1;33m\u001b[0m\u001b[0m\n\u001b[0;32m   2270\u001b[0m \u001b[1;33m\u001b[0m\u001b[0m\n",
      "\u001b[1;32mC:\\Anaconda3\\lib\\site-packages\\tensorflow\\python\\client\\session.py\u001b[0m in \u001b[0;36mrun\u001b[1;34m(self, fetches, feed_dict, options, run_metadata)\u001b[0m\n\u001b[0;32m    893\u001b[0m     \u001b[1;32mtry\u001b[0m\u001b[1;33m:\u001b[0m\u001b[1;33m\u001b[0m\u001b[0m\n\u001b[0;32m    894\u001b[0m       result = self._run(None, fetches, feed_dict, options_ptr,\n\u001b[1;32m--> 895\u001b[1;33m                          run_metadata_ptr)\n\u001b[0m\u001b[0;32m    896\u001b[0m       \u001b[1;32mif\u001b[0m \u001b[0mrun_metadata\u001b[0m\u001b[1;33m:\u001b[0m\u001b[1;33m\u001b[0m\u001b[0m\n\u001b[0;32m    897\u001b[0m         \u001b[0mproto_data\u001b[0m \u001b[1;33m=\u001b[0m \u001b[0mtf_session\u001b[0m\u001b[1;33m.\u001b[0m\u001b[0mTF_GetBuffer\u001b[0m\u001b[1;33m(\u001b[0m\u001b[0mrun_metadata_ptr\u001b[0m\u001b[1;33m)\u001b[0m\u001b[1;33m\u001b[0m\u001b[0m\n",
      "\u001b[1;32mC:\\Anaconda3\\lib\\site-packages\\tensorflow\\python\\client\\session.py\u001b[0m in \u001b[0;36m_run\u001b[1;34m(self, handle, fetches, feed_dict, options, run_metadata)\u001b[0m\n\u001b[0;32m   1091\u001b[0m             \u001b[0mfeed_handles\u001b[0m\u001b[1;33m[\u001b[0m\u001b[0msubfeed_t\u001b[0m\u001b[1;33m]\u001b[0m \u001b[1;33m=\u001b[0m \u001b[0msubfeed_val\u001b[0m\u001b[1;33m\u001b[0m\u001b[0m\n\u001b[0;32m   1092\u001b[0m           \u001b[1;32melse\u001b[0m\u001b[1;33m:\u001b[0m\u001b[1;33m\u001b[0m\u001b[0m\n\u001b[1;32m-> 1093\u001b[1;33m             \u001b[0mnp_val\u001b[0m \u001b[1;33m=\u001b[0m \u001b[0mnp\u001b[0m\u001b[1;33m.\u001b[0m\u001b[0masarray\u001b[0m\u001b[1;33m(\u001b[0m\u001b[0msubfeed_val\u001b[0m\u001b[1;33m,\u001b[0m \u001b[0mdtype\u001b[0m\u001b[1;33m=\u001b[0m\u001b[0msubfeed_dtype\u001b[0m\u001b[1;33m)\u001b[0m\u001b[1;33m\u001b[0m\u001b[0m\n\u001b[0m\u001b[0;32m   1094\u001b[0m \u001b[1;33m\u001b[0m\u001b[0m\n\u001b[0;32m   1095\u001b[0m           if (not is_tensor_handle_feed and\n",
      "\u001b[1;32mC:\\Anaconda3\\lib\\site-packages\\numpy\\core\\numeric.py\u001b[0m in \u001b[0;36masarray\u001b[1;34m(a, dtype, order)\u001b[0m\n\u001b[0;32m    490\u001b[0m \u001b[1;33m\u001b[0m\u001b[0m\n\u001b[0;32m    491\u001b[0m     \"\"\"\n\u001b[1;32m--> 492\u001b[1;33m     \u001b[1;32mreturn\u001b[0m \u001b[0marray\u001b[0m\u001b[1;33m(\u001b[0m\u001b[0ma\u001b[0m\u001b[1;33m,\u001b[0m \u001b[0mdtype\u001b[0m\u001b[1;33m,\u001b[0m \u001b[0mcopy\u001b[0m\u001b[1;33m=\u001b[0m\u001b[1;32mFalse\u001b[0m\u001b[1;33m,\u001b[0m \u001b[0morder\u001b[0m\u001b[1;33m=\u001b[0m\u001b[0morder\u001b[0m\u001b[1;33m)\u001b[0m\u001b[1;33m\u001b[0m\u001b[0m\n\u001b[0m\u001b[0;32m    493\u001b[0m \u001b[1;33m\u001b[0m\u001b[0m\n\u001b[0;32m    494\u001b[0m \u001b[1;33m\u001b[0m\u001b[0m\n",
      "\u001b[1;31mKeyboardInterrupt\u001b[0m: "
     ]
    }
   ],
   "source": [
    "def FactorTest(params,FullModel,Runs):\n",
    "    Scores = Runs[['MSE','R2']].reset_index(drop=True)\n",
    "    Scores = (Scores.iloc[0:params['K']])*0\n",
    "    Scores['Level'] = len(FullModel)\n",
    "    Scores['Key'] = str(Scores['Level'][0])+'_0'\n",
    "    Scores['Model'] = '+'.join(FullModel)\n",
    "    Results = RunReps(FullModel,params,pool)\n",
    "    MSE = Results[0]\n",
    "    R2 = Results[1]\n",
    "    Scores['MSE']=Results[0]\n",
    "    Scores['R2']=Results[1]\n",
    "    ModelRuns = Results[2]\n",
    "    ModelRuns = ModelRuns.to_frame()\n",
    "    ModelRuns['Model: '+'+'.join(FullModel)]=ModelRuns['TempFill']\n",
    "    ModelRuns=ModelRuns.drop('TempFill',axis=1)\n",
    "#     print(Scores)\n",
    "    \n",
    "    for i in range(1,len(FullModel)):\n",
    "        print('Level: ',i)\n",
    "        if i == 1:\n",
    "            Models = Combos(FullModel,i)\n",
    "        else:\n",
    "            Models = Combos(FullModel,i,factor = Best)\n",
    "        Values = []\n",
    "        Names = []\n",
    "        for i,model in enumerate(Models):\n",
    "            level = len(model)\n",
    "            key = str(level)+'_'+str(i)\n",
    "            Name = '+'.join(model)\n",
    "            NewRow = Scores.iloc[-1].copy()\n",
    "            NewRow['Model'] = 'Model: '+Name\n",
    "            Results = RunReps(model,params,pool)\n",
    "            MSE = Results[0]\n",
    "            R2 = Results[1]\n",
    "            d = {'Model':'+'.join(model),'MSE':MSE,'Key':key,'R2':R2,'Level':level}#,'Best':'N'\n",
    "            score = pd.DataFrame(index=[x for x in range(params['K'])],data=d)\n",
    "            Scores = Scores.append(score,ignore_index=True)\n",
    "    #         print(Scores.loc[Scores['Key']==key])\n",
    "            ModelRuns['Model: '+'+'.join(model)] = Results[2]    \n",
    "        Group = Scores.groupby('Key').agg({'Model': 'first', \n",
    "            'Level': 'first','MSE': 'mean','R2': 'mean'})#.reset_index()#mean()  \n",
    "        Group['SD'] = Scores[['Key','MSE']].groupby('Key').std()\n",
    "        Group['SE'] = Scores[['Key','MSE']].groupby('Key').sem()\n",
    "        Min = Group.loc[Group['Level']==level]\n",
    "        Best = Min.loc[Min['MSE'] == Min['MSE'].min(),'Model'].values\n",
    "        print(Best)  \n",
    "    Group = Scores.groupby('Key').agg({'Model': 'first', \n",
    "        'Level': 'first','MSE': 'mean','R2': 'mean'})#.reset_index()#mean()  \n",
    "    Group['SD'] = Scores[['Key','MSE']].groupby('Key').std()\n",
    "    Group['SE'] = Scores[['Key','MSE']].groupby('Key').sem()\n",
    "    Min = Group.loc[Group['Level']==level]\n",
    "\n",
    "    Levels = Group.groupby('Level').min()\n",
    "    Sub=Group[Group['MSE'].isin(Levels['MSE'].values)]\n",
    "    print(Sub)\n",
    "    Sub.sort_values('Level',inplace=True)\n",
    "    Sub = Sub.loc[Sub['Level']>=1]\n",
    "    Sub.reset_index(inplace=True,drop=True)\n",
    "    Min = Sub.loc[Sub['MSE']==Sub['MSE'].min()]\n",
    "    Parsimony = (Sub.loc[Sub['MSE']<(Min['MSE'].values+Min['SE'].values)[0]])\n",
    "    Parsimony = Parsimony.loc[Parsimony['Level']==Parsimony['Level'].min()]\n",
    "    print(Parsimony)\n",
    "    Best = Parsimony['Model'].values\n",
    "    return(Best,Scores,ModelRuns)\n",
    "Best,Scores,ModelRuns = FactorTest(params,FullModel,Runs)"
   ]
  },
  {
   "cell_type": "code",
   "execution_count": 24,
   "metadata": {
    "scrolled": false
   },
   "outputs": [
    {
     "name": "stdout",
     "output_type": "stream",
     "text": [
      "                                  Model  Level         MSE        R2  \\\n",
      "Key                                                                    \n",
      "1_2                               Sedge      1  119.770866  0.167086   \n",
      "2_2                           Sedge+VWC      2   64.625670  0.550924   \n",
      "3_0                  PPFD_Avg+Sedge+VWC      3   54.767086  0.622048   \n",
      "4_1            PPFD_Avg+Sedge+VWC+Grass      4   51.770249  0.643378   \n",
      "5_0  PPFD_Avg+AirTC_Avg+Sedge+VWC+Grass      5   52.452422  0.635167   \n",
      "\n",
      "            SD        SE  \n",
      "Key                       \n",
      "1_2  15.496238  7.748119  \n",
      "2_2   8.870236  4.435118  \n",
      "3_0  11.269285  5.634643  \n",
      "4_1  11.702492  5.851246  \n",
      "5_0   7.429213  3.714607  \n",
      "                Model  Level        MSE        R2         SD        SE\n",
      "2  PPFD_Avg+Sedge+VWC      3  54.767086  0.622048  11.269285  5.634643\n"
     ]
    },
    {
     "name": "stderr",
     "output_type": "stream",
     "text": [
      "C:\\Anaconda3\\lib\\site-packages\\ipykernel_launcher.py:12: SettingWithCopyWarning: \n",
      "A value is trying to be set on a copy of a slice from a DataFrame\n",
      "\n",
      "See the caveats in the documentation: http://pandas.pydata.org/pandas-docs/stable/indexing.html#indexing-view-versus-copy\n",
      "  if sys.path[0] == '':\n"
     ]
    },
    {
     "name": "stdout",
     "output_type": "stream",
     "text": [
      "   N        MSE        R2  Model\n",
      "0  4  86.460254  0.460353      0\n",
      "1  4  56.663703  0.555596      0\n",
      "2  4  83.724084  0.477431      0\n",
      "3  4  64.594629  0.493395      0\n",
      "    N        MSE        R2  Model\n",
      "4  16  49.757667  0.689434      0\n",
      "5  16  33.857178  0.734464      0\n",
      "6  16  52.689661  0.671134      0\n",
      "7  16  42.226463  0.668825      0\n",
      "     N        MSE        R2  Model\n",
      "8   36  49.864435  0.688768      0\n",
      "9   36  36.334776  0.715032      0\n",
      "10  36  48.232468  0.698954      0\n",
      "11  36  33.149871  0.740011      0\n",
      "          MSE        R2  Model         SD        SE\n",
      "N                                                  \n",
      "4   72.844246  0.496797      0  14.516919  7.258460\n",
      "16  44.637092  0.690936      0   8.432130  4.216065\n",
      "36  42.001118  0.710025      0   8.513944  4.256972\n",
      "11\n"
     ]
    },
    {
     "name": "stderr",
     "output_type": "stream",
     "text": [
      "C:\\Anaconda3\\lib\\site-packages\\ipykernel_launcher.py:22: RuntimeWarning: invalid value encountered in power\n"
     ]
    },
    {
     "data": {
      "image/png": "[encoded data removed]",
      "text/plain": [
       "<matplotlib.figure.Figure at 0x136ba105fd0>"
      ]
     },
     "metadata": {},
     "output_type": "display_data"
    },
    {
     "name": "stdout",
     "output_type": "stream",
     "text": [
      "11\n"
     ]
    }
   ],
   "source": [
    "# def Curve(x,a,b,c):\n",
    "#     return (a/(b+x)**c)\n",
    "\n",
    "N = Runs['N']\n",
    "NRuns = Runs*0\n",
    "NRuns['N']=N\n",
    "model = Best[0].split('+')\n",
    "\n",
    "params = N_Nodes(NRuns,params)\n",
    "\n",
    "# NRuns = RunLoop(NRuns)\n",
    "# Group = Runs.groupby('N').mean()\n",
    "# Group['SD'] = Runs[['N','MSE']].groupby('N').std()\n",
    "# Group['SE'] = Runs[['N','MSE']].groupby('N').sem()\n",
    "\n",
    "# print(Group)\n",
    "# Min = Group.loc[Group['MSE']==Group['MSE'].min()]\n",
    "\n",
    "# fig,ax = plt.subplots(figsize=(8,8))\n",
    "# ax.scatter(Runs['N'],Runs['MSE'])\n",
    "# popt, pcov = curve_fit(Curve, NRuns['N'].values, NRuns['MSE'].values)\n",
    "\n",
    "# N = np.arange(NRuns['N'].min(),NRuns['N'].max())\n",
    "# Fit = Curve(N,*popt)\n",
    "# ax.plot(N,Fit,color='r')\n",
    "# Max = (Min['MSE']+Min['SE']).values[0]\n",
    "# ax.plot(N,N*0+Max,color = 'black')\n",
    "# try:\n",
    "#     params['N']=N[Fit<Max].min()\n",
    "# except:\n",
    "#     params['N']=N[-1]\n",
    "#     pass\n",
    "# print(params['N'])\n",
    "# plt.grid()\n",
    "# plt.show()\n",
    "# print(params['N'])"
   ]
  },
  {
   "cell_type": "code",
   "execution_count": 25,
   "metadata": {},
   "outputs": [
    {
     "name": "stdout",
     "output_type": "stream",
     "text": [
      "['PPFD_Avg+Sedge+VWC']\n",
      "Saved model to disk\n",
      "Saved model to disk\n",
      "Saved model to disk\n",
      "Saved model to disk\n",
      "11\n",
      "     Key  Level         MSE                               Model        R2\n",
      "0    5_0      5   58.563407  PPFD_Avg+AirTC_Avg+Sedge+VWC+Grass  0.634473\n",
      "1    5_0      5   42.521139  PPFD_Avg+AirTC_Avg+Sedge+VWC+Grass  0.666513\n",
      "2    5_0      5   57.702314  PPFD_Avg+AirTC_Avg+Sedge+VWC+Grass  0.639847\n",
      "3    5_0      5   51.022827  PPFD_Avg+AirTC_Avg+Sedge+VWC+Grass  0.599836\n",
      "4    1_0      1  156.929372                            PPFD_Avg  0.020515\n",
      "5    1_0      1  111.500372                            PPFD_Avg  0.125520\n",
      "6    1_0      1  160.285802                            PPFD_Avg -0.000434\n",
      "7    1_0      1  113.016774                            PPFD_Avg  0.113627\n",
      "8    1_1      1  144.679597                           AirTC_Avg  0.096973\n",
      "9    1_1      1  106.692955                           AirTC_Avg  0.163224\n",
      "10   1_1      1  144.789329                           AirTC_Avg  0.096288\n",
      "11   1_1      1  105.782831                           AirTC_Avg  0.170362\n",
      "12   1_2      1  132.521315                               Sedge  0.172860\n",
      "13   1_2      1  102.914640                               Sedge  0.192857\n",
      "14   1_2      1  133.340377                               Sedge  0.167747\n",
      "15   1_2      1  110.307131                               Sedge  0.134879\n",
      "16   1_3      1  145.961900                                 VWC  0.088969\n",
      "17   1_3      1  119.036937                                 VWC  0.066412\n",
      "18   1_3      1  144.897042                                 VWC  0.095616\n",
      "19   1_3      1  119.572875                                 VWC  0.062209\n",
      "20   1_4      1  158.268636                               Grass  0.012156\n",
      "21   1_4      1  113.366046                               Grass  0.110888\n",
      "22   1_4      1  149.566608                               Grass  0.066470\n",
      "23   1_4      1  113.370892                               Grass  0.110850\n",
      "24   2_0      2  108.455136                      PPFD_Avg+Sedge  0.323070\n",
      "25   2_0      2   84.963947                      PPFD_Avg+Sedge  0.333641\n",
      "26   2_0      2  114.437427                      PPFD_Avg+Sedge  0.285731\n",
      "27   2_0      2   92.568113                      PPFD_Avg+Sedge  0.274003\n",
      "28   2_1      2  122.457735                     AirTC_Avg+Sedge  0.235672\n",
      "29   2_1      2   92.315912                     AirTC_Avg+Sedge  0.275981\n",
      "..   ...    ...         ...                                 ...       ...\n",
      "38   2_3      2  127.868446                         Sedge+Grass  0.201901\n",
      "39   2_3      2   99.028617                         Sedge+Grass  0.223334\n",
      "40   3_0      3   63.123777                  PPFD_Avg+Sedge+VWC  0.606009\n",
      "41   3_0      3   43.560301                  PPFD_Avg+Sedge+VWC  0.658363\n",
      "42   3_0      3   65.718479                  PPFD_Avg+Sedge+VWC  0.589814\n",
      "43   3_0      3   46.665786                  PPFD_Avg+Sedge+VWC  0.634008\n",
      "44   3_1      3   61.138129                 AirTC_Avg+Sedge+VWC  0.618402\n",
      "45   3_1      3   48.119618                 AirTC_Avg+Sedge+VWC  0.622605\n",
      "46   3_1      3   65.929587                 AirTC_Avg+Sedge+VWC  0.588496\n",
      "47   3_1      3   54.487523                 AirTC_Avg+Sedge+VWC  0.572663\n",
      "48   3_2      3   65.719758                     Sedge+VWC+Grass  0.589806\n",
      "49   3_2      3   51.725643                     Sedge+VWC+Grass  0.594324\n",
      "50   3_2      3   67.525246                     Sedge+VWC+Grass  0.578537\n",
      "51   3_2      3   48.567932                     Sedge+VWC+Grass  0.619089\n",
      "52   4_0      4   59.509392        PPFD_Avg+AirTC_Avg+Sedge+VWC  0.628568\n",
      "53   4_0      4   45.457669        PPFD_Avg+AirTC_Avg+Sedge+VWC  0.643483\n",
      "54   4_0      4   64.750171        PPFD_Avg+AirTC_Avg+Sedge+VWC  0.595858\n",
      "55   4_0      4   51.022152        PPFD_Avg+AirTC_Avg+Sedge+VWC  0.599841\n",
      "56   4_1      4   59.130385            PPFD_Avg+Sedge+VWC+Grass  0.630934\n",
      "57   4_1      4   40.664557            PPFD_Avg+Sedge+VWC+Grass  0.681074\n",
      "58   4_1      4   64.280752            PPFD_Avg+Sedge+VWC+Grass  0.598788\n",
      "59   4_1      4   43.005303            PPFD_Avg+Sedge+VWC+Grass  0.662716\n",
      "60  0_11      0   63.126487                  PPFD_Avg+Sedge+VWC  0.605992\n",
      "61  0_11      0   43.557486                  PPFD_Avg+Sedge+VWC  0.658386\n",
      "62  0_11      0   65.724688                  PPFD_Avg+Sedge+VWC  0.589775\n",
      "63  0_11      0   46.698553                  PPFD_Avg+Sedge+VWC  0.633751\n",
      "64  0_11      0   63.126487                  PPFD_Avg+Sedge+VWC  0.605992\n",
      "65  0_11      0   43.557486                  PPFD_Avg+Sedge+VWC  0.658386\n",
      "66  0_11      0   65.724688                  PPFD_Avg+Sedge+VWC  0.589775\n",
      "67  0_11      0   46.698553                  PPFD_Avg+Sedge+VWC  0.633751\n",
      "\n",
      "[68 rows x 5 columns]\n"
     ]
    },
    {
     "name": "stderr",
     "output_type": "stream",
     "text": [
      "C:\\Anaconda3\\lib\\site-packages\\pandas\\core\\frame.py:6211: FutureWarning: Sorting because non-concatenation axis is not aligned. A future version\n",
      "of pandas will change to not sort by default.\n",
      "\n",
      "To accept the future behavior, pass 'sort=False'.\n",
      "\n",
      "To retain the current behavior and silence the warning, pass 'sort=True'.\n",
      "\n",
      "  sort=sort)\n"
     ]
    }
   ],
   "source": [
    "level = 0#len(Best)\n",
    "print(Best)\n",
    "key = '0_'+str(params['N'])\n",
    "Name = '+'.join(Best)\n",
    "NewRow = Scores.iloc[-1].copy()\n",
    "NewRow['Model'] = 'BestModel: '+Name\n",
    "Results = RunReps(model,params,pool,Save=True)\n",
    "\n",
    "# Results = RunReps(FullModel,params,pool)\n",
    "MSE = Results[0]\n",
    "# for mse in MSE:\n",
    "#     Names.append(Name)\n",
    "#     Values.append(mse)\n",
    "# mean,std = MSE.mean(),MSE.std()\n",
    "# CI = std/params['K']**.5*stats.t.ppf(1-0.05, params['K']-1)\n",
    "R2 = Results[1]\n",
    "d = {'Model':'+'.join(model),'MSE':MSE,'Key':key,'R2':R2,'Level':level}#,'Best':'N'\n",
    "score = pd.DataFrame(index=[x for x in range(params['K'])],data=d)\n",
    "Scores = Scores.append(score,ignore_index=True)\n",
    "Scores = Scores.append(score,ignore_index=True)\n",
    "ModelRuns['BestModel: '+'+'.join(model)] = Results[2] \n",
    "print(params['N'])\n",
    "print(Scores)"
   ]
  },
  {
   "cell_type": "code",
   "execution_count": 26,
   "metadata": {},
   "outputs": [
    {
     "name": "stdout",
     "output_type": "stream",
     "text": [
      "267.05389308929443\n"
     ]
    }
   ],
   "source": [
    "Scores.to_csv('GapFillingSummary'+FillVar+'.csv')\n",
    "ModelRuns.to_csv('GapFilled'+FillVar+'.csv')\n",
    "\n",
    "if __name__=='__main__'and params['proc'] != 1:\n",
    "    pool.close()\n",
    "\n",
    "print(time.time()-Time)"
   ]
  },
  {
   "cell_type": "code",
   "execution_count": 27,
   "metadata": {},
   "outputs": [
    {
     "name": "stdout",
     "output_type": "stream",
     "text": [
      "Loaded model from disk\n"
     ]
    },
    {
     "data": {
      "image/png": "[encoded data removed]",
      "text/plain": [
       "<matplotlib.figure.Figure at 0x136d1f77e10>"
      ]
     },
     "metadata": {},
     "output_type": "display_data"
    }
   ],
   "source": [
    "from keras.models import model_from_json\n",
    "\n",
    "import ReadStandardTimeFill as RSTF\n",
    "json_file = open('C:/Users/wesle/ML_GapFilling/Weights/model0.json', 'r')\n",
    "loaded_model_json = json_file.read()\n",
    "json_file.close()\n",
    "loaded_model = model_from_json(loaded_model_json)\n",
    "# load weights into new model\n",
    "loaded_model.load_weights(\"C:/Users/wesle/ML_GapFilling/Weights/0_0.h5\")\n",
    "print(\"Loaded model from disk\")\n",
    "\n",
    "\n",
    "# plt.figure(figsize=(10,10))\n",
    "# FullModel = fco2_summary.loc[fco2_summary['Level']==0,'Model'].values[0].split('+')\n",
    "\n",
    "for i in range(2):\n",
    "    RST = RSTF.ReadStandardTimeFill('Data_Footprints_2018-06-12.csv')\n",
    "    RST.Scale('fco2',model)\n",
    "    y = RST.y*1.0\n",
    "    X = RST.X*1.0\n",
    "#     if i == 0:\n",
    "#         X[:,0]=X[:,0].min()\n",
    "#     if i == 1:\n",
    "#         X[:,0]=X[:,0].mean()\n",
    "#     if i == 2:\n",
    "#         X[:,0]=X[:,0].max()\n",
    "    loaded_model.compile(loss='mean_squared_error', optimizer='adam')#loss='binary_crossentropy', optimizer='rmsprop', metrics=['accuracy'])\n",
    "#     score = loaded_model.evaluate(X, y, verbose=1)\n",
    "    rest = loaded_model.predict(X)\n",
    "    rest = RST.YScaled.inverse_transform(rest.reshape(-1,1))\n",
    "    X = RST.XScaled.inverse_transform(X)\n",
    "#     print(score)\n",
    "    plt.scatter(X[:,1],rest,label=X[:,0].mean())\n",
    "# plt.legend()"
   ]
  },
  {
   "cell_type": "code",
   "execution_count": null,
   "metadata": {
    "collapsed": true
   },
   "outputs": [],
   "source": []
  }
 ],
 "metadata": {
  "kernelspec": {
   "display_name": "Python 3",
   "language": "python",
   "name": "python3"
  },
  "language_info": {
   "codemirror_mode": {
    "name": "ipython",
    "version": 3
   },
   "file_extension": ".py",
   "mimetype": "text/x-python",
   "name": "python",
   "nbconvert_exporter": "python",
   "pygments_lexer": "ipython3",
   "version": "3.6.2"
  }
 },
 "nbformat": 4,
 "nbformat_minor": 2
}
