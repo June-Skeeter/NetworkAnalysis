{
 "cells": [
  {
   "cell_type": "markdown",
   "metadata": {},
   "source": [
    "##  Optimze and a Dense Neural Network for gap filling and feature identification\n",
    "\n",
    "** With a few tweaks to RepRunner, an LSTM can be run instead"
   ]
  },
  {
   "cell_type": "code",
   "execution_count": 18,
   "metadata": {},
   "outputs": [],
   "source": [
    "import time\n",
    "import math\n",
    "import numpy as np\n",
    "import pandas as pd\n",
    "import matplotlib.pyplot as plt\n",
    "from itertools import combinations\n",
    "from functools import partial\n",
    "from multiprocessing import Pool\n",
    "from sklearn.preprocessing import StandardScaler\n",
    "from sklearn import metrics\n",
    "from sklearn.model_selection import RepeatedKFold\n",
    "from sklearn.model_selection import train_test_split\n",
    "\n",
    "## Personal Modules\n",
    "import ReadStandardTimeFill as RSTF\n",
    "import importlib\n",
    "import DenseNet as Dense\n",
    "importlib.reload(Dense)\n",
    "importlib.reload(RSTF)\n",
    "\n",
    "%matplotlib inline\n",
    "%config IPCompleter.greedy=True\n",
    "\n",
    "from scipy.optimize import minimize, curve_fit\n",
    "from scipy.stats import norm\n",
    "from sklearn.gaussian_process import GaussianProcessRegressor\n",
    "from sklearn.gaussian_process.kernels import Matern, WhiteKernel, ConstantKernel\n",
    "from matplotlib import cm\n",
    "\n",
    "from scipy import stats\n",
    "from statsmodels.stats.multicomp import pairwise_tukeyhsd\n",
    "# pool.close()"
   ]
  },
  {
   "cell_type": "code",
   "execution_count": 19,
   "metadata": {},
   "outputs": [],
   "source": [
    "def Curve(x,a,b,c):\n",
    "    return (a/(b+x)**c)\n",
    "\n",
    "def Combos(Model,L,factor=None):\n",
    "    Models=list()\n",
    "    for c in combinations(Model,L):\n",
    "        c = list(c)\n",
    "        if factor is None:\n",
    "            Models.append(c)\n",
    "        else:\n",
    "            for f in factor:\n",
    "                f = f.split('+')\n",
    "                if set(f).issubset(set(c)) and c not in Models:\n",
    "                    Models.append(c)\n",
    "    return(Models)\n",
    "\n",
    "def TTV_Split(iteration,Memory,X,y,params,X_fill,Save):\n",
    "    seed = int(iteration%params['splits_per_mod']/params['splits_per_mod']*100)\n",
    "    iteration = int(iteration/params['splits_per_mod'])\n",
    "    print(seed,iteration)\n",
    "    X_train,X_test,y_train,y_test=train_test_split(X,y, test_size=0.1, random_state=seed)\n",
    "    X_train,X_val,y_train,y_val=train_test_split(X_train,y_train, test_size=0.11, random_state=seed)\n",
    "    return(Dense.Train_Steps(params,X_train,X_test,X_val,y_train,y_test,\n",
    "        y_val,iteration,seed,X_fill = X_fill,Memory=Memory,Save=Save),\n",
    "        y_val)\n",
    "\n",
    "def RunReps(Model,params,pool = None,FullReturn=False,Save=False):\n",
    "    RST = RSTF.ReadStandardTimeFill(Path)\n",
    "    offset = 5/params['proc']\n",
    "    Memory = (math.floor(100/params['proc'])- offset) * .01\n",
    "    MSE = []\n",
    "    RST.Scale(params['Y'],Model)\n",
    "    if params['T'] >0:\n",
    "        RST.TimeShape(params['T'])\n",
    "    y = RST.y*1.0\n",
    "    X = RST.X*1.0\n",
    "    X_fill = RST.X_fill*1.0\n",
    "    MSE = []\n",
    "    R2 =[]\n",
    "    Y_fill = []\n",
    "    Yval = []\n",
    "    y_val= []\n",
    "    if __name__=='__main__'and params['proc'] != 1:\n",
    "        for i,results in enumerate(pool.imap(partial(TTV_Split,Memory=Memory,X=X,y=y,params=params,X_fill=X_fill,\n",
    "                                                     Save=Save),range(params['K']))):\n",
    "            Y_fill.append(results[0][0])\n",
    "            Yval = RST.YScaled.inverse_transform(results[0][1].reshape(-1,1))\n",
    "            y_val = RST.YScaled.inverse_transform(results[1][0].reshape(-1,1))\n",
    "            MSE.append(metrics.mean_squared_error(Yval,y_val))\n",
    "            R2.append(metrics.r2_score(Yval,y_val))\n",
    "    else:\n",
    "        for i in range(params['K']):\n",
    "            results = TTV_Split(i,Memory,X,y,params,X_fill,Save)\n",
    "            Y_fill.append(results[0][0])\n",
    "            Yval = RST.YScaled.inverse_transform(results[0][1].reshape(-1,1))\n",
    "            y_val = RST.YScaled.inverse_transform(results[1].reshape(-1,1))\n",
    "            MSE.append(metrics.mean_squared_error(y_val,Yval))\n",
    "            R2.append(metrics.r2_score(y_val,Yval))\n",
    "    Y_fill = np.asanyarray(Y_fill)\n",
    "    Y_fill = Y_fill.mean(axis=0) \n",
    "    FillVarName = FillVar.replace('f','F')\n",
    "    RST.Fill(Y_fill,FillVarName)\n",
    "    return(MSE,R2,RST.Master['TempFill'])"
   ]
  },
  {
   "cell_type": "code",
   "execution_count": 20,
   "metadata": {
    "scrolled": true
   },
   "outputs": [
    {
     "name": "stdout",
     "output_type": "stream",
     "text": [
      "{'proc': 1, 'K': 4, 'epochs': 100, 'Y': 'fch4', 'splits_per_mod': 2}\n"
     ]
    }
   ],
   "source": [
    "FillVar = 'fch4'\n",
    "FullModel = ['H','wind_speed','air_pressure','PPFD_Avg','AirTC_Avg',\n",
    "             'VPD','Temp','VWC','Sedge','Shrub','Grass','Sparse','Out_of_Basin']\n",
    "FullModel = ['PPFD_Avg','AirTC_Avg','Sedge','VWC','Grass']\n",
    "Runs,params = Dense.Params('Test',FillVar,MP=False)\n",
    "print(params)\n",
    "\n",
    "# Data = pd.read_csv(Path)\n",
    "# Data = Data.set_index(pd.DatetimeIndex(Data.datetime))"
   ]
  },
  {
   "cell_type": "code",
   "execution_count": 21,
   "metadata": {
    "scrolled": false
   },
   "outputs": [
    {
     "name": "stdout",
     "output_type": "stream",
     "text": [
      "0 0\n",
      "50 0\n",
      "0 1\n",
      "50 1\n",
      "   N        MSE        R2  Model\n",
      "0  4  86.452416  0.460402      0\n",
      "1  4  56.665841  0.555579      0\n",
      "2  4  83.689914  0.477644      0\n",
      "3  4  64.592273  0.493413      0\n",
      "0 0\n",
      "50 0\n",
      "0 1\n",
      "50 1\n",
      "    N        MSE        R2  Model\n",
      "4  16  49.762331  0.689405      0\n",
      "5  16  33.856954  0.734465      0\n",
      "6  16  52.698844  0.671077      0\n",
      "7  16  42.235606  0.668753      0\n",
      "0 0\n",
      "50 0\n",
      "0 1\n",
      "50 1\n",
      "     N        MSE        R2  Model\n",
      "8   36  50.242512  0.686408      0\n",
      "9   36  36.362372  0.714816      0\n",
      "10  36  48.230509  0.698966      0\n",
      "11  36  33.156091  0.739962      0\n"
     ]
    }
   ],
   "source": [
    "Time = time.time()\n",
    "Path = 'Data_Footprints_2018-06-12.csv'\n",
    "if __name__=='__main__'and params['proc'] != 1:\n",
    "    pool = Pool(processes=params['proc'],maxtasksperchild=75)\n",
    "else:pool=None\n",
    "def RunLoop(Runs):\n",
    "    for N in Runs['N'].unique():\n",
    "        params['T'] = 0\n",
    "        params['N']=N\n",
    "        Results = RunReps(FullModel,params,pool)\n",
    "        MSE = Results[0]\n",
    "        R2 = Results[1]\n",
    "        Runs.loc[Runs['N']==N,'MSE']=MSE\n",
    "        Runs.loc[Runs['N']==N,'R2']=R2\n",
    "        print(Runs.loc[Runs['N']==N])\n",
    "    return(Runs)\n",
    "Runs = RunLoop(Runs)"
   ]
  },
  {
   "cell_type": "code",
   "execution_count": 22,
   "metadata": {},
   "outputs": [],
   "source": [
    "# FullModel = ['PPFD_Avg','AirTC_Avg']"
   ]
  },
  {
   "cell_type": "code",
   "execution_count": 23,
   "metadata": {},
   "outputs": [],
   "source": [
    "# from keras.models import model_from_json\n",
    "# json_file = open('Weights/model0.json', 'r')\n",
    "# loaded_model_json = json_file.read()\n",
    "# json_file.close()\n",
    "# loaded_model = model_from_json(loaded_model_json)\n",
    "# # load weights into new model\n",
    "# loaded_model.load_weights(\"Weights/0_0.h5\")\n",
    "# print(\"Loaded model from disk\")\n",
    "\n",
    "\n",
    "# plt.figure(figsize=(10,10))\n",
    "# for i in range(2):\n",
    "#     RST = RSTF.ReadStandardTimeFill(Path)\n",
    "#     RST.Scale(params['Y'],FullModel)\n",
    "#     y = RST.y*1.0\n",
    "#     X = RST.X*1.0\n",
    "#     if i == 0:\n",
    "#         X[:,0]=X[:,0].min()\n",
    "#     if i == 1:\n",
    "#         X[:,0]=X[:,0].mean()\n",
    "# #     if i == 2:\n",
    "# #         X[:,0]=X[:,0].max()\n",
    "#     loaded_model.compile(loss='mean_squared_error', optimizer='adam')#loss='binary_crossentropy', optimizer='rmsprop', metrics=['accuracy'])\n",
    "#     score = loaded_model.evaluate(X, y, verbose=1)\n",
    "#     rest = loaded_model.predict(X)\n",
    "#     rest = RST.YScaled.inverse_transform(rest.reshape(-1,1))\n",
    "#     X = RST.XScaled.inverse_transform(X)\n",
    "#     print(score)\n",
    "#     plt.scatter(X[:,1],rest,label=X[:,0].mean())\n",
    "# plt.legend()\n"
   ]
  },
  {
   "cell_type": "markdown",
   "metadata": {},
   "source": [
    "# The \"Optimum\" Sized Model"
   ]
  },
  {
   "cell_type": "code",
   "execution_count": 24,
   "metadata": {
    "scrolled": false
   },
   "outputs": [
    {
     "name": "stdout",
     "output_type": "stream",
     "text": [
      "          MSE        R2  Model         SD        SE\n",
      "N                                                  \n",
      "4   72.850111  0.496759      0  14.521783  7.260891\n",
      "16  44.638434  0.690925      0   8.430864  4.215432\n",
      "36  41.997871  0.710038      0   8.500114  4.250057\n"
     ]
    },
    {
     "name": "stderr",
     "output_type": "stream",
     "text": [
      "C:\\Anaconda3\\lib\\site-packages\\ipykernel_launcher.py:2: RuntimeWarning: invalid value encountered in power\n",
      "  \n"
     ]
    },
    {
     "data": {
      "image/png": "[encoded data removed]",
      "text/plain": [
       "<matplotlib.figure.Figure at 0x2c335108550>"
      ]
     },
     "metadata": {},
     "output_type": "display_data"
    },
    {
     "name": "stdout",
     "output_type": "stream",
     "text": [
      "11 46.24792784736832\n",
      "53.70396614074707\n"
     ]
    }
   ],
   "source": [
    "\n",
    "Group = Runs.groupby('N').mean()\n",
    "Group['SD'] = Runs[['N','MSE']].groupby('N').std()\n",
    "Group['SE'] = Runs[['N','MSE']].groupby('N').sem()\n",
    "\n",
    "print(Group)\n",
    "Min = Group.loc[Group['MSE']==Group['MSE'].min()]\n",
    "\n",
    "fig,ax = plt.subplots(figsize=(8,8))\n",
    "ax.scatter(Runs['N'],Runs['MSE'])\n",
    "popt, pcov = curve_fit(Curve, Runs['N'].values, Runs['MSE'].values)\n",
    "N = np.arange(Runs['N'].min(),Runs['N'].max())\n",
    "Fit = Curve(N,*popt)\n",
    "ax.plot(N,Fit,color='r')\n",
    "Max = (Min['MSE']+Min['SE']).values[0]\n",
    "ax.plot(N,N*0+Max,color = 'black')\n",
    "plt.grid()\n",
    "plt.show()\n",
    "try:\n",
    "    params['N']=N[Fit<Max].min()\n",
    "except:\n",
    "    params['N']=N[-1]\n",
    "    pass\n",
    "print(params['N'],Max)\n",
    "print(time.time()-Time)"
   ]
  },
  {
   "cell_type": "markdown",
   "metadata": {},
   "source": [
    "# Feature Identification"
   ]
  },
  {
   "cell_type": "code",
   "execution_count": 25,
   "metadata": {},
   "outputs": [
    {
     "name": "stdout",
     "output_type": "stream",
     "text": [
      "0 0\n",
      "50 0\n",
      "0 1\n",
      "50 1\n",
      "         MSE        R2  Level  Key                               Model\n",
      "0  58.541215  0.634611      5  5_0  PPFD_Avg+AirTC_Avg+Sedge+VWC+Grass\n",
      "1  42.468487  0.666926      5  5_0  PPFD_Avg+AirTC_Avg+Sedge+VWC+Grass\n",
      "2  57.700480  0.639859      5  5_0  PPFD_Avg+AirTC_Avg+Sedge+VWC+Grass\n",
      "3  51.034873  0.599742      5  5_0  PPFD_Avg+AirTC_Avg+Sedge+VWC+Grass\n"
     ]
    }
   ],
   "source": [
    "Scores = Runs[['MSE','R2']].reset_index(drop=True)\n",
    "Scores = (Scores.iloc[0:params['K']])*0\n",
    "Scores['Level'] = len(FullModel)\n",
    "Scores['Key'] = str(Scores['Level'][0])+'_0'\n",
    "Scores['Model'] = '+'.join(FullModel)\n",
    "\n",
    "Results = RunReps(FullModel,params,pool)\n",
    "\n",
    "MSE = Results[0]\n",
    "R2 = Results[1]\n",
    "# mean,std = np.asanyarray(MSE).mean(),np.asanyarray(MSE).std()\n",
    "# CI = std/params['K']**.5*stats.t.ppf(1-0.05, params['K']-1)\n",
    "Scores['MSE']=Results[0]#MSE#mean\n",
    "Scores['R2']=Results[1]#R2#.mean()\n",
    "\n",
    "ModelRuns = Results[2]\n",
    "ModelRuns = ModelRuns.to_frame()\n",
    "ModelRuns['Model: '+'+'.join(FullModel)]=ModelRuns['TempFill']\n",
    "ModelRuns=ModelRuns.drop('TempFill',axis=1)\n",
    "print(Scores)"
   ]
  },
  {
   "cell_type": "code",
   "execution_count": 26,
   "metadata": {
    "scrolled": false
   },
   "outputs": [
    {
     "name": "stdout",
     "output_type": "stream",
     "text": [
      "Level:  1\n",
      "0 0\n",
      "50 0\n",
      "0 1\n",
      "50 1\n"
     ]
    },
    {
     "name": "stderr",
     "output_type": "stream",
     "text": [
      "C:\\Anaconda3\\lib\\site-packages\\pandas\\core\\frame.py:6211: FutureWarning: Sorting because non-concatenation axis is not aligned. A future version\n",
      "of pandas will change to not sort by default.\n",
      "\n",
      "To accept the future behavior, pass 'sort=False'.\n",
      "\n",
      "To retain the current behavior and silence the warning, pass 'sort=True'.\n",
      "\n",
      "  sort=sort)\n"
     ]
    },
    {
     "name": "stdout",
     "output_type": "stream",
     "text": [
      "   Key  Level         MSE     Model        R2\n",
      "4  1_0      1  156.928759  PPFD_Avg  0.020519\n",
      "5  1_0      1  111.500804  PPFD_Avg  0.125517\n",
      "6  1_0      1  160.275501  PPFD_Avg -0.000370\n",
      "7  1_0      1  112.999256  PPFD_Avg  0.113765\n",
      "0 0\n",
      "50 0\n",
      "0 1\n",
      "50 1\n",
      "    Key  Level         MSE      Model        R2\n",
      "8   1_1      1  144.679532  AirTC_Avg  0.096973\n",
      "9   1_1      1  106.692538  AirTC_Avg  0.163227\n",
      "10  1_1      1  144.785640  AirTC_Avg  0.096311\n",
      "11  1_1      1  105.806188  AirTC_Avg  0.170179\n",
      "0 0\n",
      "50 0\n",
      "0 1\n",
      "50 1\n",
      "    Key  Level         MSE  Model        R2\n",
      "12  1_2      1  132.513821  Sedge  0.172906\n",
      "13  1_2      1  102.942992  Sedge  0.192634\n",
      "14  1_2      1  133.338375  Sedge  0.167760\n",
      "15  1_2      1  110.322274  Sedge  0.134760\n",
      "0 0\n",
      "50 0\n",
      "0 1\n",
      "50 1\n",
      "    Key  Level         MSE Model        R2\n",
      "16  1_3      1  145.962868   VWC  0.088963\n",
      "17  1_3      1  119.087847   VWC  0.066013\n",
      "18  1_3      1  144.894838   VWC  0.095629\n",
      "19  1_3      1  119.577213   VWC  0.062175\n",
      "0 0\n",
      "50 0\n",
      "0 1\n",
      "50 1\n",
      "    Key  Level         MSE  Model        R2\n",
      "20  1_4      1  158.289517  Grass  0.012026\n",
      "21  1_4      1  113.384676  Grass  0.110742\n",
      "22  1_4      1  149.564612  Grass  0.066483\n",
      "23  1_4      1  113.371811  Grass  0.110843\n",
      "['Sedge']\n",
      "Level:  2\n",
      "0 0\n",
      "50 0\n",
      "0 1\n",
      "50 1\n",
      "    Key  Level         MSE           Model        R2\n",
      "24  2_0      2  108.455816  PPFD_Avg+Sedge  0.323066\n",
      "25  2_0      2   84.966904  PPFD_Avg+Sedge  0.333618\n",
      "26  2_0      2  114.434288  PPFD_Avg+Sedge  0.285751\n",
      "27  2_0      2   92.562386  PPFD_Avg+Sedge  0.274048\n",
      "0 0\n",
      "50 0\n",
      "0 1\n",
      "50 1\n",
      "    Key  Level         MSE            Model        R2\n",
      "28  2_1      2  122.458104  AirTC_Avg+Sedge  0.235670\n",
      "29  2_1      2   92.310684  AirTC_Avg+Sedge  0.276022\n",
      "30  2_1      2  125.315861  AirTC_Avg+Sedge  0.217833\n",
      "31  2_1      2   98.085035  AirTC_Avg+Sedge  0.230735\n",
      "0 0\n",
      "50 0\n",
      "0 1\n",
      "50 1\n",
      "    Key  Level        MSE      Model        R2\n",
      "32  2_2      2  71.408571  Sedge+VWC  0.554299\n",
      "33  2_2      2  59.095274  Sedge+VWC  0.536525\n",
      "34  2_2      2  72.912875  Sedge+VWC  0.544910\n",
      "35  2_2      2  55.087228  Sedge+VWC  0.567960\n",
      "0 0\n",
      "50 0\n",
      "0 1\n",
      "50 1\n",
      "    Key  Level         MSE        Model        R2\n",
      "36  2_3      2  127.982192  Sedge+Grass  0.201191\n",
      "37  2_3      2   98.623506  Sedge+Grass  0.226512\n",
      "38  2_3      2  127.867658  Sedge+Grass  0.201906\n",
      "39  2_3      2   99.030269  Sedge+Grass  0.223321\n",
      "['Sedge+VWC']\n",
      "Level:  3\n",
      "0 0\n",
      "50 0\n",
      "0 1\n",
      "50 1\n",
      "    Key  Level        MSE               Model        R2\n",
      "40  3_0      3  63.122090  PPFD_Avg+Sedge+VWC  0.606019\n",
      "41  3_0      3  43.560972  PPFD_Avg+Sedge+VWC  0.658358\n",
      "42  3_0      3  65.725232  PPFD_Avg+Sedge+VWC  0.589772\n",
      "43  3_0      3  46.668836  PPFD_Avg+Sedge+VWC  0.633984\n",
      "0 0\n",
      "50 0\n",
      "0 1\n",
      "50 1\n",
      "    Key  Level        MSE                Model        R2\n",
      "44  3_1      3  61.140185  AirTC_Avg+Sedge+VWC  0.618390\n",
      "45  3_1      3  48.147751  AirTC_Avg+Sedge+VWC  0.622385\n",
      "46  3_1      3  65.924519  AirTC_Avg+Sedge+VWC  0.588528\n",
      "47  3_1      3  54.456264  AirTC_Avg+Sedge+VWC  0.572908\n",
      "0 0\n",
      "50 0\n",
      "0 1\n",
      "50 1\n",
      "    Key  Level        MSE            Model        R2\n",
      "48  3_2      3  65.725619  Sedge+VWC+Grass  0.589769\n",
      "49  3_2      3  51.727835  Sedge+VWC+Grass  0.594307\n",
      "50  3_2      3  66.921395  Sedge+VWC+Grass  0.582306\n",
      "51  3_2      3  48.550850  Sedge+VWC+Grass  0.619223\n",
      "['PPFD_Avg+Sedge+VWC']\n",
      "Level:  4\n",
      "0 0\n",
      "50 0\n",
      "0 1\n",
      "50 1\n",
      "    Key  Level        MSE                         Model        R2\n",
      "52  4_0      4  59.508642  PPFD_Avg+AirTC_Avg+Sedge+VWC  0.628573\n",
      "53  4_0      4  45.476041  PPFD_Avg+AirTC_Avg+Sedge+VWC  0.643339\n",
      "54  4_0      4  64.741395  PPFD_Avg+AirTC_Avg+Sedge+VWC  0.595912\n",
      "55  4_0      4  51.021476  PPFD_Avg+AirTC_Avg+Sedge+VWC  0.599847\n",
      "0 0\n",
      "50 0\n",
      "0 1\n",
      "50 1\n",
      "    Key  Level        MSE                     Model        R2\n",
      "56  4_1      4  58.657979  PPFD_Avg+Sedge+VWC+Grass  0.633882\n",
      "57  4_1      4  40.665684  PPFD_Avg+Sedge+VWC+Grass  0.681066\n",
      "58  4_1      4  64.304213  PPFD_Avg+Sedge+VWC+Grass  0.598641\n",
      "59  4_1      4  43.019062  PPFD_Avg+Sedge+VWC+Grass  0.662608\n",
      "['PPFD_Avg+Sedge+VWC+Grass']\n"
     ]
    }
   ],
   "source": [
    "for i in range(1,len(FullModel)):\n",
    "    print('Level: ',i)\n",
    "    if i == 1:\n",
    "        Models = Combos(FullModel,i)\n",
    "    else:\n",
    "        Models = Combos(FullModel,i,factor = Best)\n",
    "    Values = []\n",
    "    Names = []\n",
    "    for i,model in enumerate(Models):\n",
    "        level = len(model)\n",
    "        key = str(level)+'_'+str(i)\n",
    "        Name = '+'.join(model)\n",
    "        NewRow = Scores.iloc[-1].copy()\n",
    "        NewRow['Model'] = 'Model: '+Name\n",
    "        Results = RunReps(model,params,pool)\n",
    "        MSE = Results[0]\n",
    "        R2 = Results[1]\n",
    "        d = {'Model':'+'.join(model),'MSE':MSE,'Key':key,'R2':R2,'Level':level}#,'Best':'N'\n",
    "        score = pd.DataFrame(index=[x for x in range(params['K'])],data=d)\n",
    "        Scores = Scores.append(score,ignore_index=True)\n",
    "        print(Scores.loc[Scores['Key']==key])\n",
    "        ModelRuns['Model: '+'+'.join(model)] = Results[2]    \n",
    "    Group = Scores.groupby('Key').agg({'Model': 'first', \n",
    "                                            'Level': 'first', \n",
    "                                            'MSE': 'mean', \n",
    "                                            'R2': 'mean'})#.reset_index()#mean()  \n",
    "    Group['SD'] = Scores[['Key','MSE']].groupby('Key').std()\n",
    "    Group['SE'] = Scores[['Key','MSE']].groupby('Key').sem()\n",
    "    Min = Group.loc[Group['Level']==level]\n",
    "    Best = Min.loc[Min['MSE'] == Min['MSE'].min(),'Model'].values\n",
    "    print(Best)\n",
    "    "
   ]
  },
  {
   "cell_type": "code",
   "execution_count": 27,
   "metadata": {
    "scrolled": false
   },
   "outputs": [
    {
     "name": "stdout",
     "output_type": "stream",
     "text": [
      "                                  Model  Level         MSE        R2  \\\n",
      "Key                                                                    \n",
      "1_2                               Sedge      1  119.779365  0.167015   \n",
      "2_2                           Sedge+VWC      2   64.625987  0.550923   \n",
      "3_0                  PPFD_Avg+Sedge+VWC      3   54.769283  0.622033   \n",
      "4_1            PPFD_Avg+Sedge+VWC+Grass      4   51.661734  0.644049   \n",
      "5_0  PPFD_Avg+AirTC_Avg+Sedge+VWC+Grass      5   52.436264  0.635284   \n",
      "\n",
      "            SD        SE  \n",
      "Key                       \n",
      "1_2  15.480236  7.740118  \n",
      "2_2   8.874170  4.437085  \n",
      "3_0  11.270103  5.635052  \n",
      "4_1  11.610177  5.805088  \n",
      "5_0   7.445421  3.722710  \n",
      "                Model  Level        MSE        R2         SD        SE\n",
      "2  PPFD_Avg+Sedge+VWC      3  54.769283  0.622033  11.270103  5.635052\n",
      "0 0\n"
     ]
    },
    {
     "name": "stderr",
     "output_type": "stream",
     "text": [
      "C:\\Anaconda3\\lib\\site-packages\\ipykernel_launcher.py:12: SettingWithCopyWarning: \n",
      "A value is trying to be set on a copy of a slice from a DataFrame\n",
      "\n",
      "See the caveats in the documentation: http://pandas.pydata.org/pandas-docs/stable/indexing.html#indexing-view-versus-copy\n",
      "  if sys.path[0] == '':\n"
     ]
    },
    {
     "name": "stdout",
     "output_type": "stream",
     "text": [
      "50 0\n",
      "0 1\n",
      "50 1\n",
      "   N        MSE        R2  Model\n",
      "0  4  86.451533  0.460407      0\n",
      "1  4  56.663666  0.555596      0\n",
      "2  4  83.724931  0.477425      0\n",
      "3  4  64.584409  0.493475      0\n",
      "0 0\n",
      "50 0\n",
      "0 1\n",
      "50 1\n",
      "    N        MSE        R2  Model\n",
      "4  16  49.759454  0.689423      0\n",
      "5  16  33.857783  0.734459      0\n",
      "6  16  52.697319  0.671086      0\n",
      "7  16  42.234299  0.668763      0\n",
      "0 0\n",
      "50 0\n",
      "0 1\n",
      "50 1\n",
      "     N        MSE        R2  Model\n",
      "8   36  49.930280  0.688357      0\n",
      "9   36  36.330119  0.715069      0\n",
      "10  36  48.360029  0.698158      0\n",
      "11  36  33.165266  0.739890      0\n",
      "          MSE        R2  Model         SD        SE\n",
      "N                                                  \n",
      "4   72.850111  0.496759      0  14.521783  7.260891\n",
      "16  44.638434  0.690925      0   8.430864  4.215432\n",
      "36  41.997871  0.710038      0   8.500114  4.250057\n",
      "11\n"
     ]
    },
    {
     "name": "stderr",
     "output_type": "stream",
     "text": [
      "C:\\Anaconda3\\lib\\site-packages\\ipykernel_launcher.py:22: RuntimeWarning: invalid value encountered in power\n"
     ]
    },
    {
     "data": {
      "image/png": "[encoded data removed]",
      "text/plain": [
       "<matplotlib.figure.Figure at 0x2c33d5fd860>"
      ]
     },
     "metadata": {},
     "output_type": "display_data"
    },
    {
     "name": "stdout",
     "output_type": "stream",
     "text": [
      "11\n"
     ]
    }
   ],
   "source": [
    "Group = Scores.groupby('Key').agg({'Model': 'first', \n",
    "                                        'Level': 'first', \n",
    "                                        'MSE': 'mean', \n",
    "                                        'R2': 'mean'})#.reset_index()#mean()  \n",
    "Group['SD'] = Scores[['Key','MSE']].groupby('Key').std()\n",
    "Group['SE'] = Scores[['Key','MSE']].groupby('Key').sem()\n",
    "Min = Group.loc[Group['Level']==level]\n",
    "\n",
    "Levels = Group.groupby('Level').min()\n",
    "Sub=Group[Group['MSE'].isin(Levels['MSE'].values)]\n",
    "print(Sub)\n",
    "Sub.sort_values('Level',inplace=True)\n",
    "Sub = Sub.loc[Sub['Level']>=1]\n",
    "Sub.reset_index(inplace=True,drop=True)\n",
    "Min = Sub.loc[Sub['MSE']==Sub['MSE'].min()]\n",
    "Parsimony = (Sub.loc[Sub['MSE']<(Min['MSE'].values+Min['SE'].values)[0]])\n",
    "Parsimony = Parsimony.loc[Parsimony['Level']==Parsimony['Level'].min()]\n",
    "print(Parsimony)\n",
    "Best = Parsimony['Model'].values\n",
    "\n",
    "def Curve(x,a,b,c):\n",
    "    return (a/(b+x)**c)\n",
    "\n",
    "N = Runs['N']\n",
    "NRuns = Runs*0\n",
    "NRuns['N']=N\n",
    "\n",
    "model = Best[0].split('+')\n",
    "NRuns = RunLoop(NRuns)\n",
    "Group = Runs.groupby('N').mean()\n",
    "Group['SD'] = Runs[['N','MSE']].groupby('N').std()\n",
    "Group['SE'] = Runs[['N','MSE']].groupby('N').sem()\n",
    "\n",
    "print(Group)\n",
    "Min = Group.loc[Group['MSE']==Group['MSE'].min()]\n",
    "\n",
    "fig,ax = plt.subplots(figsize=(8,8))\n",
    "ax.scatter(Runs['N'],Runs['MSE'])\n",
    "popt, pcov = curve_fit(Curve, NRuns['N'].values, NRuns['MSE'].values)\n",
    "\n",
    "N = np.arange(NRuns['N'].min(),NRuns['N'].max())\n",
    "Fit = Curve(N,*popt)\n",
    "ax.plot(N,Fit,color='r')\n",
    "Max = (Min['MSE']+Min['SE']).values[0]\n",
    "ax.plot(N,N*0+Max,color = 'black')\n",
    "try:\n",
    "    params['N']=N[Fit<Max].min()\n",
    "except:\n",
    "    params['N']=N[-1]\n",
    "    pass\n",
    "print(params['N'])\n",
    "plt.grid()\n",
    "plt.show()\n",
    "print(params['N'])"
   ]
  },
  {
   "cell_type": "code",
   "execution_count": 28,
   "metadata": {},
   "outputs": [
    {
     "name": "stdout",
     "output_type": "stream",
     "text": [
      "['PPFD_Avg+Sedge+VWC']\n",
      "0 0\n",
      "Saved model to disk\n",
      "50 0\n",
      "Saved model to disk\n",
      "0 1\n",
      "Saved model to disk\n",
      "50 1\n",
      "Saved model to disk\n",
      "11\n",
      "     Key  Level         MSE                               Model        R2\n",
      "0    5_0      5   58.541215  PPFD_Avg+AirTC_Avg+Sedge+VWC+Grass  0.634611\n",
      "1    5_0      5   42.468487  PPFD_Avg+AirTC_Avg+Sedge+VWC+Grass  0.666926\n",
      "2    5_0      5   57.700480  PPFD_Avg+AirTC_Avg+Sedge+VWC+Grass  0.639859\n",
      "3    5_0      5   51.034873  PPFD_Avg+AirTC_Avg+Sedge+VWC+Grass  0.599742\n",
      "4    1_0      1  156.928759                            PPFD_Avg  0.020519\n",
      "5    1_0      1  111.500804                            PPFD_Avg  0.125517\n",
      "6    1_0      1  160.275501                            PPFD_Avg -0.000370\n",
      "7    1_0      1  112.999256                            PPFD_Avg  0.113765\n",
      "8    1_1      1  144.679532                           AirTC_Avg  0.096973\n",
      "9    1_1      1  106.692538                           AirTC_Avg  0.163227\n",
      "10   1_1      1  144.785640                           AirTC_Avg  0.096311\n",
      "11   1_1      1  105.806188                           AirTC_Avg  0.170179\n",
      "12   1_2      1  132.513821                               Sedge  0.172906\n",
      "13   1_2      1  102.942992                               Sedge  0.192634\n",
      "14   1_2      1  133.338375                               Sedge  0.167760\n",
      "15   1_2      1  110.322274                               Sedge  0.134760\n",
      "16   1_3      1  145.962868                                 VWC  0.088963\n",
      "17   1_3      1  119.087847                                 VWC  0.066013\n",
      "18   1_3      1  144.894838                                 VWC  0.095629\n",
      "19   1_3      1  119.577213                                 VWC  0.062175\n",
      "20   1_4      1  158.289517                               Grass  0.012026\n",
      "21   1_4      1  113.384676                               Grass  0.110742\n",
      "22   1_4      1  149.564612                               Grass  0.066483\n",
      "23   1_4      1  113.371811                               Grass  0.110843\n",
      "24   2_0      2  108.455816                      PPFD_Avg+Sedge  0.323066\n",
      "25   2_0      2   84.966904                      PPFD_Avg+Sedge  0.333618\n",
      "26   2_0      2  114.434288                      PPFD_Avg+Sedge  0.285751\n",
      "27   2_0      2   92.562386                      PPFD_Avg+Sedge  0.274048\n",
      "28   2_1      2  122.458104                     AirTC_Avg+Sedge  0.235670\n",
      "29   2_1      2   92.310684                     AirTC_Avg+Sedge  0.276022\n",
      "..   ...    ...         ...                                 ...       ...\n",
      "38   2_3      2  127.867658                         Sedge+Grass  0.201906\n",
      "39   2_3      2   99.030269                         Sedge+Grass  0.223321\n",
      "40   3_0      3   63.122090                  PPFD_Avg+Sedge+VWC  0.606019\n",
      "41   3_0      3   43.560972                  PPFD_Avg+Sedge+VWC  0.658358\n",
      "42   3_0      3   65.725232                  PPFD_Avg+Sedge+VWC  0.589772\n",
      "43   3_0      3   46.668836                  PPFD_Avg+Sedge+VWC  0.633984\n",
      "44   3_1      3   61.140185                 AirTC_Avg+Sedge+VWC  0.618390\n",
      "45   3_1      3   48.147751                 AirTC_Avg+Sedge+VWC  0.622385\n",
      "46   3_1      3   65.924519                 AirTC_Avg+Sedge+VWC  0.588528\n",
      "47   3_1      3   54.456264                 AirTC_Avg+Sedge+VWC  0.572908\n",
      "48   3_2      3   65.725619                     Sedge+VWC+Grass  0.589769\n",
      "49   3_2      3   51.727835                     Sedge+VWC+Grass  0.594307\n",
      "50   3_2      3   66.921395                     Sedge+VWC+Grass  0.582306\n",
      "51   3_2      3   48.550850                     Sedge+VWC+Grass  0.619223\n",
      "52   4_0      4   59.508642        PPFD_Avg+AirTC_Avg+Sedge+VWC  0.628573\n",
      "53   4_0      4   45.476041        PPFD_Avg+AirTC_Avg+Sedge+VWC  0.643339\n",
      "54   4_0      4   64.741395        PPFD_Avg+AirTC_Avg+Sedge+VWC  0.595912\n",
      "55   4_0      4   51.021476        PPFD_Avg+AirTC_Avg+Sedge+VWC  0.599847\n",
      "56   4_1      4   58.657979            PPFD_Avg+Sedge+VWC+Grass  0.633882\n",
      "57   4_1      4   40.665684            PPFD_Avg+Sedge+VWC+Grass  0.681066\n",
      "58   4_1      4   64.304213            PPFD_Avg+Sedge+VWC+Grass  0.598641\n",
      "59   4_1      4   43.019062            PPFD_Avg+Sedge+VWC+Grass  0.662608\n",
      "60  0_11      0   63.137161                  PPFD_Avg+Sedge+VWC  0.605925\n",
      "61  0_11      0   43.558998                  PPFD_Avg+Sedge+VWC  0.658374\n",
      "62  0_11      0   65.725550                  PPFD_Avg+Sedge+VWC  0.589770\n",
      "63  0_11      0   46.661026                  PPFD_Avg+Sedge+VWC  0.634045\n",
      "64  0_11      0   63.137161                  PPFD_Avg+Sedge+VWC  0.605925\n",
      "65  0_11      0   43.558998                  PPFD_Avg+Sedge+VWC  0.658374\n",
      "66  0_11      0   65.725550                  PPFD_Avg+Sedge+VWC  0.589770\n",
      "67  0_11      0   46.661026                  PPFD_Avg+Sedge+VWC  0.634045\n",
      "\n",
      "[68 rows x 5 columns]\n"
     ]
    },
    {
     "name": "stderr",
     "output_type": "stream",
     "text": [
      "C:\\Anaconda3\\lib\\site-packages\\pandas\\core\\frame.py:6211: FutureWarning: Sorting because non-concatenation axis is not aligned. A future version\n",
      "of pandas will change to not sort by default.\n",
      "\n",
      "To accept the future behavior, pass 'sort=False'.\n",
      "\n",
      "To retain the current behavior and silence the warning, pass 'sort=True'.\n",
      "\n",
      "  sort=sort)\n"
     ]
    }
   ],
   "source": [
    "level = 0#len(Best)\n",
    "print(Best)\n",
    "key = '0_'+str(params['N'])\n",
    "Name = '+'.join(Best)\n",
    "NewRow = Scores.iloc[-1].copy()\n",
    "NewRow['Model'] = 'BestModel: '+Name\n",
    "Results = RunReps(model,params,pool,Save=True)\n",
    "\n",
    "# Results = RunReps(FullModel,params,pool)\n",
    "MSE = Results[0]\n",
    "# for mse in MSE:\n",
    "#     Names.append(Name)\n",
    "#     Values.append(mse)\n",
    "# mean,std = MSE.mean(),MSE.std()\n",
    "# CI = std/params['K']**.5*stats.t.ppf(1-0.05, params['K']-1)\n",
    "R2 = Results[1]\n",
    "d = {'Model':'+'.join(model),'MSE':MSE,'Key':key,'R2':R2,'Level':level}#,'Best':'N'\n",
    "score = pd.DataFrame(index=[x for x in range(params['K'])],data=d)\n",
    "Scores = Scores.append(score,ignore_index=True)\n",
    "Scores = Scores.append(score,ignore_index=True)\n",
    "ModelRuns['BestModel: '+'+'.join(model)] = Results[2] \n",
    "print(params['N'])\n",
    "print(Scores)"
   ]
  },
  {
   "cell_type": "code",
   "execution_count": 29,
   "metadata": {},
   "outputs": [
    {
     "name": "stdout",
     "output_type": "stream",
     "text": [
      "458.6533782482147\n"
     ]
    }
   ],
   "source": [
    "Scores.to_csv('GapFillingSummary'+FillVar+'.csv')\n",
    "ModelRuns.to_csv('GapFilled'+FillVar+'.csv')\n",
    "\n",
    "if __name__=='__main__'and params['proc'] != 1:\n",
    "    pool.close()\n",
    "\n",
    "print(time.time()-Time)"
   ]
  },
  {
   "cell_type": "code",
   "execution_count": 30,
   "metadata": {},
   "outputs": [
    {
     "name": "stdout",
     "output_type": "stream",
     "text": [
      "Loaded model from disk\n"
     ]
    },
    {
     "data": {
      "image/png": "[encoded data removed]",
      "text/plain": [
       "<matplotlib.figure.Figure at 0x2c3655f3cf8>"
      ]
     },
     "metadata": {},
     "output_type": "display_data"
    }
   ],
   "source": [
    "from keras.models import model_from_json\n",
    "\n",
    "import ReadStandardTimeFill as RSTF\n",
    "json_file = open('C:/Users/wesle/ML_GapFilling/Weights/model0.json', 'r')\n",
    "loaded_model_json = json_file.read()\n",
    "json_file.close()\n",
    "loaded_model = model_from_json(loaded_model_json)\n",
    "# load weights into new model\n",
    "loaded_model.load_weights(\"C:/Users/wesle/ML_GapFilling/Weights/0_0.h5\")\n",
    "print(\"Loaded model from disk\")\n",
    "\n",
    "\n",
    "# plt.figure(figsize=(10,10))\n",
    "# FullModel = fco2_summary.loc[fco2_summary['Level']==0,'Model'].values[0].split('+')\n",
    "\n",
    "for i in range(2):\n",
    "    RST = RSTF.ReadStandardTimeFill('Data_Footprints_2018-06-12.csv')\n",
    "    RST.Scale('fco2',model)\n",
    "    y = RST.y*1.0\n",
    "    X = RST.X*1.0\n",
    "#     if i == 0:\n",
    "#         X[:,0]=X[:,0].min()\n",
    "#     if i == 1:\n",
    "#         X[:,0]=X[:,0].mean()\n",
    "#     if i == 2:\n",
    "#         X[:,0]=X[:,0].max()\n",
    "    loaded_model.compile(loss='mean_squared_error', optimizer='adam')#loss='binary_crossentropy', optimizer='rmsprop', metrics=['accuracy'])\n",
    "#     score = loaded_model.evaluate(X, y, verbose=1)\n",
    "    rest = loaded_model.predict(X)\n",
    "    rest = RST.YScaled.inverse_transform(rest.reshape(-1,1))\n",
    "    X = RST.XScaled.inverse_transform(X)\n",
    "#     print(score)\n",
    "    plt.scatter(X[:,1],rest,label=X[:,0].mean())\n",
    "# plt.legend()"
   ]
  },
  {
   "cell_type": "code",
   "execution_count": null,
   "metadata": {
    "collapsed": true
   },
   "outputs": [],
   "source": []
  }
 ],
 "metadata": {
  "kernelspec": {
   "display_name": "Python 3",
   "language": "python",
   "name": "python3"
  },
  "language_info": {
   "codemirror_mode": {
    "name": "ipython",
    "version": 3
   },
   "file_extension": ".py",
   "mimetype": "text/x-python",
   "name": "python",
   "nbconvert_exporter": "python",
   "pygments_lexer": "ipython3",
   "version": "3.6.2"
  }
 },
 "nbformat": 4,
 "nbformat_minor": 2
}
