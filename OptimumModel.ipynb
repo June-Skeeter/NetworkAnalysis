{
 "cells": [
  {
   "cell_type": "markdown",
   "metadata": {},
   "source": [
    "##  Optimze and a Dense Neural Network for gap filling and feature identification\n",
    "\n",
    "** With a few tweaks to RepRunner, an LSTM can be run instead"
   ]
  },
  {
   "cell_type": "code",
   "execution_count": 5,
   "metadata": {
    "collapsed": true
   },
   "outputs": [],
   "source": [
    "import time\n",
    "import math\n",
    "import numpy as np\n",
    "import pandas as pd\n",
    "import matplotlib.pyplot as plt\n",
    "from itertools import combinations\n",
    "from functools import partial\n",
    "from multiprocessing import Pool\n",
    "from sklearn.preprocessing import StandardScaler\n",
    "from sklearn import metrics\n",
    "from sklearn.model_selection import RepeatedKFold\n",
    "from sklearn.model_selection import train_test_split\n",
    "\n",
    "## Personal Modules\n",
    "import ReadStandardTimeFill as RSTF\n",
    "import importlib\n",
    "import DenseNet as Dense\n",
    "importlib.reload(Dense)\n",
    "importlib.reload(RSTF)\n",
    "\n",
    "%matplotlib inline\n",
    "%config IPCompleter.greedy=True\n",
    "\n",
    "from scipy.optimize import minimize, curve_fit\n",
    "from scipy.stats import norm\n",
    "from sklearn.gaussian_process import GaussianProcessRegressor\n",
    "from sklearn.gaussian_process.kernels import Matern, WhiteKernel, ConstantKernel\n",
    "from matplotlib import cm\n",
    "\n",
    "from scipy import stats\n",
    "from statsmodels.stats.multicomp import pairwise_tukeyhsd\n",
    "\n",
    "from ipywidgets import FloatProgress\n",
    "from IPython.display import display\n",
    "import os  "
   ]
  },
  {
   "cell_type": "code",
   "execution_count": 6,
   "metadata": {
    "collapsed": true
   },
   "outputs": [],
   "source": [
    "def Curve(x,a,b,c):\n",
    "    return (a*x**2+b*x+c)\n",
    "\n",
    "def TTV_Split(iteration,Memory,X,y,params,X_fill):\n",
    "    params['seed'] = int(iteration%params['splits_per_mod']/params['splits_per_mod']*100)\n",
    "    params['iteration'] = int(iteration/params['splits_per_mod'])\n",
    "    X_train,X_test,y_train,y_test=train_test_split(X,y, test_size=0.1, random_state=params['seed'])\n",
    "    X_train,X_val,y_train,y_val=train_test_split(X_train,y_train, test_size=0.11, random_state=params['seed'])\n",
    "    return(Dense.Train_Steps(params,X_train,X_test,X_val,y_train,y_test,\n",
    "        y_val,X_fill = X_fill,Memory=Memory),\n",
    "        y_val)\n",
    "\n",
    "def RunReps(Model,params,pool = None,FullReturn=False):\n",
    "    RST = RSTF.ReadStandardTimeFill(params['Dpath']+'ECData.csv')\n",
    "    offset = 5/params['proc']\n",
    "    Memory = (math.floor(100/params['proc'])- offset) * .01\n",
    "    MSE = []\n",
    "    RST.Scale(params['Y'],Model)\n",
    "    y = RST.y*1.0\n",
    "    X = RST.X*1.0\n",
    "    X_fill = RST.X_fill*1.0\n",
    "    MAE = []\n",
    "    R2 =[]\n",
    "    Y_fill = []\n",
    "    Yval = []\n",
    "    y_val= []\n",
    "    if params['Prelim_N']==True:\n",
    "        params['N']=int(y.shape[0]*.8/30)\n",
    "    if __name__=='__main__'and params['proc'] != 1:\n",
    "        for i,results in enumerate(pool.imap(partial(TTV_Split,Memory=Memory,X=X,y=y,params=params,X_fill=X_fill),range(params['K']))):\n",
    "            Y_fill.append(results[0][0])\n",
    "            Yval = RST.YScaled.inverse_transform(results[0][1].reshape(-1,1))\n",
    "            y_val = RST.YScaled.inverse_transform(results[1].reshape(-1,1))\n",
    "            MAE.append(metrics.mean_absolute_error(Yval,y_val))\n",
    "            R2.append(metrics.r2_score(Yval,y_val))\n",
    "    else:\n",
    "        for i in range(params['K']):\n",
    "            results = TTV_Split(i,Memory,X,y,params,X_fill)\n",
    "            Y_fill.append(results[0][0])\n",
    "            Yval = RST.YScaled.inverse_transform(results[0][1].reshape(-1,1))\n",
    "            y_val = RST.YScaled.inverse_transform(results[1].reshape(-1,1))\n",
    "            MAE.append(metrics.mean_absolute_error(y_val,Yval))\n",
    "            R2.append(metrics.r2_score(y_val,Yval))\n",
    "    Y_fill = np.asanyarray(Y_fill)\n",
    "    Y_fill = Y_fill.mean(axis=0) \n",
    "    FillVarName = FillVar.replace('f','F')\n",
    "    RST.Fill(Y_fill,FillVarName)\n",
    "    return(MAE,R2,RST.Master['TempFill'])\n",
    "\n",
    "def RunLoop(Runs,model):\n",
    "    style = {'description_width': 'initial'}\n",
    "    f = FloatProgress(min=0, max=Runs['N'].count(),description='Finding Best N:',style=style) # instantiate the bar\n",
    "    display(f) # display the bar\n",
    "    i = 0\n",
    "    for N in Runs['N'].unique():\n",
    "        params['T'] = 0\n",
    "        params['N']=N\n",
    "        Results = RunReps(model,params,pool)\n",
    "        MAE = Results[0]\n",
    "        R2 = Results[1]\n",
    "        Runs.loc[Runs['N']==N,'MAE']=MAE\n",
    "        Runs.loc[Runs['N']==N,'R2']=R2\n",
    "        f.value+=params['K']\n",
    "        MAE = Runs.loc[Runs['MAE']!=0].groupby('N').mean()#.values[0]\n",
    "        MAE['se'] = Runs.loc[Runs['MAE']!=0,['N','MAE']].groupby('N').sem()#.values[0]\n",
    "        Val = MAE['MAE'].min()+MAE.loc[MAE['MAE']==MAE['MAE'].min(),'se'].values[0]\n",
    "        if i > 2:\n",
    "            if np.asanyarray(MAE).mean()>Val:\n",
    "                Runs = Runs.loc[Runs['MAE']!=0]\n",
    "                print('Leaving at ',N)\n",
    "                break\n",
    "        i+=1                \n",
    "    return(Runs)\n",
    "\n",
    "def N_Nodes(Runs,params,model,plot=False):\n",
    "    params['Prelim_N']=False\n",
    "    Runs = RunLoop(Runs,model)\n",
    "    Group = Runs.groupby('N').mean()\n",
    "    Group['Count'] = Runs[['N','MAE']].groupby('N').count()\n",
    "    Group['SD'] = Runs[['N','MAE']].groupby('N').std()\n",
    "    Group['SE'] = Runs[['N','MAE']].groupby('N').sem()\n",
    "    Group = Group.reset_index()\n",
    "    Min = Group.loc[Group['MAE']==Group['MAE'].min()]\n",
    "    popt, pcov = curve_fit(Curve, Runs['N'].values, Runs['MAE'].values)\n",
    "    N = np.arange(Runs['N'].min(),Runs['N'].max())\n",
    "    Fit = Curve(N,*popt)\n",
    "    Max = (Min['MAE']+Min['SE']).values[0]\n",
    "    try:\n",
    "        params['N']=N[Fit<Max].min()\n",
    "    except:\n",
    "        print('Fitting failed to produce meaningful results')\n",
    "        params['N'] = Group.loc[Group['MAE']<+Min['MAE'].values[0]+Min['SE'].values[0],'N'].values[0]\n",
    "        pass\n",
    "    \n",
    "    if plot == True:\n",
    "        fig,ax = plt.subplots(figsize=(8,8))\n",
    "        ax.scatter(Runs['N'],Runs['MAE'])\n",
    "        ax.plot(N,Fit,color='r')\n",
    "        ax.plot(N,N*0+Max,color = 'black')\n",
    "        plt.grid()\n",
    "        plt.show()\n",
    "    return(params,Runs,Group)\n",
    "\n",
    "def Combos(Model,L,factor=None,BaseFactors=[]):\n",
    "    Models=[]#BaseFactors#list()\n",
    "    for c in combinations(Model,L):\n",
    "        c = list(c)+BaseFactors\n",
    "        if factor is None:\n",
    "            Models.append(c)\n",
    "        else:\n",
    "            for f in factor:\n",
    "                f = f.split('+')\n",
    "                if set(f).issubset(set(c)) and c not in Models:\n",
    "                    Models.append(c)\n",
    "                    \n",
    "    print('Models: ',Models)\n",
    "    return(Models)\n",
    "\n",
    "def FactorTest(params,FullModel,Runs,BaseFactors = []):\n",
    "    prog1 = FloatProgress(min=len(BaseFactors), max=len(FullModel+BaseFactors)-1,description='FactorTesting:') # instantiate the bar\n",
    "    display(prog1) # display the bar\n",
    "    Scores = pd.DataFrame()\n",
    "    ModelRuns = pd.DataFrame()\n",
    "    Start = 1\n",
    "    for level in range(Start,len(FullModel+BaseFactors)+1):\n",
    "        if level == 1:\n",
    "            Models = Combos(FullModel,level)\n",
    "#         elif BaseFactors != [] and i-Start == 0:\n",
    "#             Models = Combos(FullModel,level-Start+1,BaseFactors=BaseFactors)\n",
    "#         elif BaseFactors != [] and i-Start > 0:\n",
    "#             Models = Combos(FullModel,level-Start+1,factor = Best,BaseFactors=BaseFactors)\n",
    "        else:\n",
    "            Models = Combos(FullModel,level,factor = Best,BaseFactors=BaseFactors)\n",
    "        print('Number of Models: ',len(Models))\n",
    "        prog2 = FloatProgress(min=0, max=len(Models),description='Level: '+str(level)) # instantiate the bar\n",
    "        display(prog2) # display the bar\n",
    "        Values = []\n",
    "        for j,model in enumerate(Models):\n",
    "            key = str(level)+'_'+str(j)\n",
    "            Name = '+'.join(model)\n",
    "            Results = RunReps(model,params,pool)\n",
    "            MAE = Results[0]\n",
    "            R2 = Results[1]\n",
    "            d = {'Model':'+'.join(model),'MAE':MAE,'Key':key,'R2':R2,'Level':level}#,'Best':'N'\n",
    "            score = pd.DataFrame(index=[x for x in range(params['K'])],data=d)\n",
    "            Scores = Scores.append(score,ignore_index=True)## Might cause problems in older versions\n",
    "            ModelRuns['Model: '+'+'.join(model)] = Results[2]    \n",
    "            prog2.value+=1\n",
    "        Group = Scores.groupby('Key').agg({'Model': 'first','Level': 'first','MAE': 'mean','R2': 'mean'}) \n",
    "        Group['SE'] = Scores[['Key','MAE']].groupby('Key').sem()\n",
    "        Min = Group.loc[Group['Level']==level]\n",
    "#         print(Min)\n",
    "        Mod2Beat = Min.loc[Min['MAE'] == Min['MAE'].min()]\n",
    "        print('Best Model @ Level ',level)\n",
    "        print(Mod2Beat)\n",
    "        if level>Start:\n",
    "            print('Should we exit??', (Mod2Beat['MAE']+Mod2Beat['SE']).values[0],LastMin)\n",
    "            if (Mod2Beat['MAE']+Mod2Beat['SE']).values[0]>LastMin:\n",
    "                print('Exit Early')\n",
    "                Scores = Scores.loc[Scores['Level']<level]\n",
    "                break\n",
    "        LastMin = Min['MAE'].min()\n",
    "        Best = Mod2Beat['Model'].values\n",
    "        prog1.value+=1\n",
    "    Group = Scores.groupby('Key').agg({'Model': 'first','Level': 'first','MAE': 'mean','R2': 'mean'})\n",
    "    Group['SE'] = Scores[['Key','MAE']].groupby('Key').sem()\n",
    "    Min = Group.loc[Group['Level']==level]\n",
    "    return(Best,Scores,ModelRuns)\n",
    "\n",
    "def Best_Fill(Best,Runs,Scores,params):\n",
    "    N = Runs['N']\n",
    "    NRuns = Runs*0\n",
    "    NRuns['N']=N\n",
    "    model = Best[0].split('+')\n",
    "\n",
    "    params,Runs,Group = N_Nodes(NRuns,params,model,plot=True)\n",
    "    level = 0\n",
    "    key = '0_'+str(params['N'])\n",
    "    Name = '+'.join(Best)\n",
    "    Results = RunReps(model,params,pool)\n",
    "    MSE = Results[0]\n",
    "    R2 = Results[1]\n",
    "    d = {'Model':'+'.join(model),'MAE':MSE,'Key':key,'R2':R2,'Level':level}#,'Best':'N'\n",
    "    score = pd.DataFrame(index=[x for x in range(params['K'])],data=d)\n",
    "    Scores = Scores.append(score,ignore_index=True)\n",
    "    ModelRuns['BestModel: '+'+'.join(model)] = Results[2] \n",
    "    print(params['N'])\n",
    "    return(Scores,ModelRuns)"
   ]
  },
  {
   "cell_type": "markdown",
   "metadata": {},
   "source": [
    "# The \"Optimum\" Sized Model"
   ]
  },
  {
   "cell_type": "code",
   "execution_count": 7,
   "metadata": {
    "scrolled": true
   },
   "outputs": [
    {
     "name": "stdout",
     "output_type": "stream",
     "text": [
      "Illisarvik fco2\n"
     ]
    },
    {
     "data": {
      "application/vnd.jupyter.widget-view+json": {
       "model_id": "672b50b9a07147618d23df29e995290e",
       "version_major": 2,
       "version_minor": 0
      },
      "text/plain": [
       "A Jupyter Widget"
      ]
     },
     "metadata": {},
     "output_type": "display_data"
    },
    {
     "name": "stdout",
     "output_type": "stream",
     "text": [
      "Models:  [['H'], ['wind_speed'], ['air_pressure'], ['PPFD_Avg'], ['AirTC_Avg'], ['VPD'], ['Temp'], ['VWC'], ['Sedge'], ['Shrub'], ['Grass'], ['Sparse'], ['Out_of_Basin']]\n",
      "Number of Models:  13\n"
     ]
    },
    {
     "data": {
      "application/vnd.jupyter.widget-view+json": {
       "model_id": "964cdc5e88554b89bb4e9627a82cc519",
       "version_major": 2,
       "version_minor": 0
      },
      "text/plain": [
       "A Jupyter Widget"
      ]
     },
     "metadata": {},
     "output_type": "display_data"
    },
    {
     "name": "stderr",
     "output_type": "stream",
     "text": [
      "Using TensorFlow backend.\n",
      "Using TensorFlow backend.\n",
      "Using TensorFlow backend.\n",
      "Using TensorFlow backend.\n",
      "Using TensorFlow backend.\n",
      "Using TensorFlow backend.\n"
     ]
    },
    {
     "name": "stdout",
     "output_type": "stream",
     "text": [
      "Best Model @ Level  1\n",
      "        Model       R2       MAE  Level        SE\n",
      "Key                                              \n",
      "1_3  PPFD_Avg  0.81696  0.140516      1  0.000634\n",
      "Models:  [['H', 'PPFD_Avg'], ['wind_speed', 'PPFD_Avg'], ['air_pressure', 'PPFD_Avg'], ['PPFD_Avg', 'AirTC_Avg'], ['PPFD_Avg', 'VPD'], ['PPFD_Avg', 'Temp'], ['PPFD_Avg', 'VWC'], ['PPFD_Avg', 'Sedge'], ['PPFD_Avg', 'Shrub'], ['PPFD_Avg', 'Grass'], ['PPFD_Avg', 'Sparse'], ['PPFD_Avg', 'Out_of_Basin']]\n",
      "Number of Models:  12\n"
     ]
    },
    {
     "data": {
      "application/vnd.jupyter.widget-view+json": {
       "model_id": "5acd87add0124a039b7cb59ebeb3c9bf",
       "version_major": 2,
       "version_minor": 0
      },
      "text/plain": [
       "A Jupyter Widget"
      ]
     },
     "metadata": {},
     "output_type": "display_data"
    },
    {
     "name": "stderr",
     "output_type": "stream",
     "text": [
      "Using TensorFlow backend.\n",
      "Using TensorFlow backend.\n",
      "Using TensorFlow backend.\n",
      "Using TensorFlow backend.\n",
      "Using TensorFlow backend.\n",
      "Using TensorFlow backend.\n"
     ]
    },
    {
     "name": "stdout",
     "output_type": "stream",
     "text": [
      "Best Model @ Level  2\n",
      "                   Model        R2       MAE  Level       SE\n",
      "Key                                                         \n",
      "2_1  wind_speed+PPFD_Avg  0.850575  0.131233      2  0.00052\n",
      "Should we exit?? 0.131753156331 0.140515850519\n",
      "Models:  [['H', 'wind_speed', 'PPFD_Avg'], ['wind_speed', 'air_pressure', 'PPFD_Avg'], ['wind_speed', 'PPFD_Avg', 'AirTC_Avg'], ['wind_speed', 'PPFD_Avg', 'VPD'], ['wind_speed', 'PPFD_Avg', 'Temp'], ['wind_speed', 'PPFD_Avg', 'VWC'], ['wind_speed', 'PPFD_Avg', 'Sedge'], ['wind_speed', 'PPFD_Avg', 'Shrub'], ['wind_speed', 'PPFD_Avg', 'Grass'], ['wind_speed', 'PPFD_Avg', 'Sparse'], ['wind_speed', 'PPFD_Avg', 'Out_of_Basin']]\n",
      "Number of Models:  11\n"
     ]
    },
    {
     "data": {
      "application/vnd.jupyter.widget-view+json": {
       "model_id": "05d2d456553f4b149105b56d08ca4e86",
       "version_major": 2,
       "version_minor": 0
      },
      "text/plain": [
       "A Jupyter Widget"
      ]
     },
     "metadata": {},
     "output_type": "display_data"
    },
    {
     "name": "stderr",
     "output_type": "stream",
     "text": [
      "Using TensorFlow backend.\n",
      "Using TensorFlow backend.\n",
      "Using TensorFlow backend.\n"
     ]
    },
    {
     "name": "stdout",
     "output_type": "stream",
     "text": [
      "Best Model @ Level  3\n",
      "                     Model        R2       MAE  Level        SE\n",
      "Key                                                            \n",
      "3_0  H+wind_speed+PPFD_Avg  0.877816  0.116208      3  0.000581\n",
      "Should we exit?? 0.116788333278 0.131233158095\n",
      "Models:  [['H', 'wind_speed', 'air_pressure', 'PPFD_Avg'], ['H', 'wind_speed', 'PPFD_Avg', 'AirTC_Avg'], ['H', 'wind_speed', 'PPFD_Avg', 'VPD'], ['H', 'wind_speed', 'PPFD_Avg', 'Temp'], ['H', 'wind_speed', 'PPFD_Avg', 'VWC'], ['H', 'wind_speed', 'PPFD_Avg', 'Sedge'], ['H', 'wind_speed', 'PPFD_Avg', 'Shrub'], ['H', 'wind_speed', 'PPFD_Avg', 'Grass'], ['H', 'wind_speed', 'PPFD_Avg', 'Sparse'], ['H', 'wind_speed', 'PPFD_Avg', 'Out_of_Basin']]\n",
      "Number of Models:  10\n"
     ]
    },
    {
     "data": {
      "application/vnd.jupyter.widget-view+json": {
       "model_id": "12b5c2acd6ec4884987d4e4286146bc9",
       "version_major": 2,
       "version_minor": 0
      },
      "text/plain": [
       "A Jupyter Widget"
      ]
     },
     "metadata": {},
     "output_type": "display_data"
    },
    {
     "name": "stderr",
     "output_type": "stream",
     "text": [
      "Using TensorFlow backend.\n",
      "Using TensorFlow backend.\n",
      "Using TensorFlow backend.\n",
      "Using TensorFlow backend.\n",
      "Using TensorFlow backend.\n",
      "Using TensorFlow backend.\n"
     ]
    },
    {
     "name": "stdout",
     "output_type": "stream",
     "text": [
      "Best Model @ Level  4\n",
      "                         Model        R2       MAE  Level       SE\n",
      "Key                                                               \n",
      "4_4  H+wind_speed+PPFD_Avg+VWC  0.892584  0.102671      4  0.00162\n",
      "Should we exit?? 0.10429101273 0.116207783146\n",
      "Models:  [['H', 'wind_speed', 'air_pressure', 'PPFD_Avg', 'VWC'], ['H', 'wind_speed', 'PPFD_Avg', 'AirTC_Avg', 'VWC'], ['H', 'wind_speed', 'PPFD_Avg', 'VPD', 'VWC'], ['H', 'wind_speed', 'PPFD_Avg', 'Temp', 'VWC'], ['H', 'wind_speed', 'PPFD_Avg', 'VWC', 'Sedge'], ['H', 'wind_speed', 'PPFD_Avg', 'VWC', 'Shrub'], ['H', 'wind_speed', 'PPFD_Avg', 'VWC', 'Grass'], ['H', 'wind_speed', 'PPFD_Avg', 'VWC', 'Sparse'], ['H', 'wind_speed', 'PPFD_Avg', 'VWC', 'Out_of_Basin']]\n",
      "Number of Models:  9\n"
     ]
    },
    {
     "data": {
      "application/vnd.jupyter.widget-view+json": {
       "model_id": "662c57f892e84b8991ad5f325b427cc6",
       "version_major": 2,
       "version_minor": 0
      },
      "text/plain": [
       "A Jupyter Widget"
      ]
     },
     "metadata": {},
     "output_type": "display_data"
    },
    {
     "name": "stderr",
     "output_type": "stream",
     "text": [
      "Using TensorFlow backend.\n",
      "Using TensorFlow backend.\n",
      "Using TensorFlow backend.\n"
     ]
    },
    {
     "name": "stdout",
     "output_type": "stream",
     "text": [
      "Best Model @ Level  5\n",
      "                              Model        R2       MAE  Level       SE\n",
      "Key                                                                    \n",
      "5_3  H+wind_speed+PPFD_Avg+Temp+VWC  0.900678  0.100036      5  0.00131\n",
      "Should we exit?? 0.101345486614 0.10267090579\n",
      "Models:  [['H', 'wind_speed', 'air_pressure', 'PPFD_Avg', 'Temp', 'VWC'], ['H', 'wind_speed', 'PPFD_Avg', 'AirTC_Avg', 'Temp', 'VWC'], ['H', 'wind_speed', 'PPFD_Avg', 'VPD', 'Temp', 'VWC'], ['H', 'wind_speed', 'PPFD_Avg', 'Temp', 'VWC', 'Sedge'], ['H', 'wind_speed', 'PPFD_Avg', 'Temp', 'VWC', 'Shrub'], ['H', 'wind_speed', 'PPFD_Avg', 'Temp', 'VWC', 'Grass'], ['H', 'wind_speed', 'PPFD_Avg', 'Temp', 'VWC', 'Sparse'], ['H', 'wind_speed', 'PPFD_Avg', 'Temp', 'VWC', 'Out_of_Basin']]\n",
      "Number of Models:  8\n"
     ]
    },
    {
     "data": {
      "application/vnd.jupyter.widget-view+json": {
       "model_id": "0d624ba6389c4077bbdc37e207af79a8",
       "version_major": 2,
       "version_minor": 0
      },
      "text/plain": [
       "A Jupyter Widget"
      ]
     },
     "metadata": {},
     "output_type": "display_data"
    },
    {
     "name": "stderr",
     "output_type": "stream",
     "text": [
      "Using TensorFlow backend.\n",
      "Using TensorFlow backend.\n",
      "Using TensorFlow backend.\n"
     ]
    },
    {
     "name": "stdout",
     "output_type": "stream",
     "text": [
      "Best Model @ Level  6\n",
      "                                           Model        R2       MAE  Level  \\\n",
      "Key                                                                           \n",
      "6_7  H+wind_speed+PPFD_Avg+Temp+VWC+Out_of_Basin  0.896797  0.101638      6   \n",
      "\n",
      "           SE  \n",
      "Key            \n",
      "6_7  0.001535  \n",
      "Should we exit?? 0.103172875692 0.100035751052\n",
      "Exit Early\n",
      "['H+wind_speed+PPFD_Avg+Temp+VWC']       Key  Level       MAE                                   Model        R2\n",
      "0     1_0      1  0.201393                                       H  0.613369\n",
      "1     1_0      1  0.201026                                       H  0.603224\n",
      "2     1_0      1  0.201614                                       H  0.590118\n",
      "3     1_0      1  0.200790                                       H  0.608688\n",
      "4     1_0      1  0.201771                                       H  0.614691\n",
      "5     1_0      1  0.200810                                       H  0.600051\n",
      "6     1_0      1  0.202671                                       H  0.622620\n",
      "7     1_0      1  0.201345                                       H  0.617958\n",
      "8     1_0      1  0.202161                                       H  0.615418\n",
      "9     1_0      1  0.201277                                       H  0.607800\n",
      "10    1_0      1  0.200929                                       H  0.614011\n",
      "11    1_0      1  0.201715                                       H  0.611890\n",
      "12    1_0      1  0.201935                                       H  0.606056\n",
      "13    1_0      1  0.201187                                       H  0.609492\n",
      "14    1_0      1  0.200895                                       H  0.609892\n",
      "15    1_0      1  0.201291                                       H  0.605816\n",
      "16    1_0      1  0.202877                                       H  0.623195\n",
      "17    1_0      1  0.201157                                       H  0.602406\n",
      "18    1_0      1  0.200634                                       H  0.612120\n",
      "19    1_0      1  0.200543                                       H  0.604883\n",
      "20    1_0      1  0.201824                                       H  0.618336\n",
      "21    1_0      1  0.201317                                       H  0.595820\n",
      "22    1_0      1  0.202851                                       H  0.621818\n",
      "23    1_0      1  0.201547                                       H  0.604852\n",
      "24    1_0      1  0.200453                                       H  0.607356\n",
      "25    1_0      1  0.201444                                       H  0.609248\n",
      "26    1_0      1  0.201783                                       H  0.616205\n",
      "27    1_0      1  0.200865                                       H  0.605792\n",
      "28    1_0      1  0.201107                                       H  0.598244\n",
      "29    1_0      1  0.200098                                       H  0.606727\n",
      "...   ...    ...       ...                                     ...       ...\n",
      "1620  5_8      5  0.107130  H+wind_speed+PPFD_Avg+VWC+Out_of_Basin  0.888608\n",
      "1621  5_8      5  0.101771  H+wind_speed+PPFD_Avg+VWC+Out_of_Basin  0.896688\n",
      "1622  5_8      5  0.106152  H+wind_speed+PPFD_Avg+VWC+Out_of_Basin  0.881349\n",
      "1623  5_8      5  0.092267  H+wind_speed+PPFD_Avg+VWC+Out_of_Basin  0.904812\n",
      "1624  5_8      5  0.098246  H+wind_speed+PPFD_Avg+VWC+Out_of_Basin  0.899030\n",
      "1625  5_8      5  0.093412  H+wind_speed+PPFD_Avg+VWC+Out_of_Basin  0.906137\n",
      "1626  5_8      5  0.095333  H+wind_speed+PPFD_Avg+VWC+Out_of_Basin  0.899220\n",
      "1627  5_8      5  0.093708  H+wind_speed+PPFD_Avg+VWC+Out_of_Basin  0.900891\n",
      "1628  5_8      5  0.101263  H+wind_speed+PPFD_Avg+VWC+Out_of_Basin  0.893865\n",
      "1629  5_8      5  0.107073  H+wind_speed+PPFD_Avg+VWC+Out_of_Basin  0.877421\n",
      "1630  5_8      5  0.118859  H+wind_speed+PPFD_Avg+VWC+Out_of_Basin  0.862384\n",
      "1631  5_8      5  0.099557  H+wind_speed+PPFD_Avg+VWC+Out_of_Basin  0.898171\n",
      "1632  5_8      5  0.107717  H+wind_speed+PPFD_Avg+VWC+Out_of_Basin  0.883189\n",
      "1633  5_8      5  0.099765  H+wind_speed+PPFD_Avg+VWC+Out_of_Basin  0.890884\n",
      "1634  5_8      5  0.101809  H+wind_speed+PPFD_Avg+VWC+Out_of_Basin  0.898527\n",
      "1635  5_8      5  0.113210  H+wind_speed+PPFD_Avg+VWC+Out_of_Basin  0.868716\n",
      "1636  5_8      5  0.093677  H+wind_speed+PPFD_Avg+VWC+Out_of_Basin  0.898537\n",
      "1637  5_8      5  0.094584  H+wind_speed+PPFD_Avg+VWC+Out_of_Basin  0.899212\n",
      "1638  5_8      5  0.104130  H+wind_speed+PPFD_Avg+VWC+Out_of_Basin  0.887625\n",
      "1639  5_8      5  0.088517  H+wind_speed+PPFD_Avg+VWC+Out_of_Basin  0.910008\n",
      "1640  5_8      5  0.095420  H+wind_speed+PPFD_Avg+VWC+Out_of_Basin  0.900955\n",
      "1641  5_8      5  0.092779  H+wind_speed+PPFD_Avg+VWC+Out_of_Basin  0.904908\n",
      "1642  5_8      5  0.111135  H+wind_speed+PPFD_Avg+VWC+Out_of_Basin  0.876594\n",
      "1643  5_8      5  0.108269  H+wind_speed+PPFD_Avg+VWC+Out_of_Basin  0.878119\n",
      "1644  5_8      5  0.098296  H+wind_speed+PPFD_Avg+VWC+Out_of_Basin  0.895348\n",
      "1645  5_8      5  0.102194  H+wind_speed+PPFD_Avg+VWC+Out_of_Basin  0.887766\n",
      "1646  5_8      5  0.104920  H+wind_speed+PPFD_Avg+VWC+Out_of_Basin  0.890719\n",
      "1647  5_8      5  0.103678  H+wind_speed+PPFD_Avg+VWC+Out_of_Basin  0.889112\n",
      "1648  5_8      5  0.113642  H+wind_speed+PPFD_Avg+VWC+Out_of_Basin  0.874627\n",
      "1649  5_8      5  0.109446  H+wind_speed+PPFD_Avg+VWC+Out_of_Basin  0.869945\n",
      "\n",
      "[1650 rows x 5 columns]\n"
     ]
    },
    {
     "data": {
      "application/vnd.jupyter.widget-view+json": {
       "model_id": "0dbceff6e8ad40599125c5376c34f278",
       "version_major": 2,
       "version_minor": 0
      },
      "text/plain": [
       "A Jupyter Widget"
      ]
     },
     "metadata": {},
     "output_type": "display_data"
    },
    {
     "name": "stderr",
     "output_type": "stream",
     "text": [
      "Using TensorFlow backend.\n"
     ]
    },
    {
     "name": "stdout",
     "output_type": "stream",
     "text": [
      "Leaving at  140\n"
     ]
    },
    {
     "data": {
      "image/png": "[encoded data removed]",
      "text/plain": [
       "<matplotlib.figure.Figure at 0x7f3614472f28>"
      ]
     },
     "metadata": {},
     "output_type": "display_data"
    },
    {
     "name": "stderr",
     "output_type": "stream",
     "text": [
      "Using TensorFlow backend.\n"
     ]
    },
    {
     "name": "stdout",
     "output_type": "stream",
     "text": [
      "140\n",
      "Illisarvik fch4\n"
     ]
    },
    {
     "data": {
      "application/vnd.jupyter.widget-view+json": {
       "model_id": "f27920c006974947ac1ceece899d7cdb",
       "version_major": 2,
       "version_minor": 0
      },
      "text/plain": [
       "A Jupyter Widget"
      ]
     },
     "metadata": {},
     "output_type": "display_data"
    },
    {
     "name": "stdout",
     "output_type": "stream",
     "text": [
      "Models:  [['H'], ['wind_speed'], ['air_pressure'], ['PPFD_Avg'], ['AirTC_Avg'], ['VPD'], ['Temp'], ['VWC'], ['Sedge'], ['Shrub'], ['Grass'], ['Sparse'], ['Out_of_Basin']]\n",
      "Number of Models:  13\n"
     ]
    },
    {
     "data": {
      "application/vnd.jupyter.widget-view+json": {
       "model_id": "342454c53b24410a85b82f3e1de3f095",
       "version_major": 2,
       "version_minor": 0
      },
      "text/plain": [
       "A Jupyter Widget"
      ]
     },
     "metadata": {},
     "output_type": "display_data"
    },
    {
     "name": "stderr",
     "output_type": "stream",
     "text": [
      "Using TensorFlow backend.\n",
      "Using TensorFlow backend.\n",
      "Using TensorFlow backend.\n",
      "Using TensorFlow backend.\n",
      "Using TensorFlow backend.\n"
     ]
    },
    {
     "name": "stdout",
     "output_type": "stream",
     "text": [
      "Best Model @ Level  1\n",
      "     Model         R2       MAE  Level        SE\n",
      "Key                                             \n",
      "1_8  Sedge -12.400752  0.480219      1  0.000805\n",
      "Models:  [['H', 'Sedge'], ['wind_speed', 'Sedge'], ['air_pressure', 'Sedge'], ['PPFD_Avg', 'Sedge'], ['AirTC_Avg', 'Sedge'], ['VPD', 'Sedge'], ['Temp', 'Sedge'], ['VWC', 'Sedge'], ['Sedge', 'Shrub'], ['Sedge', 'Grass'], ['Sedge', 'Sparse'], ['Sedge', 'Out_of_Basin']]\n",
      "Number of Models:  12\n"
     ]
    },
    {
     "data": {
      "application/vnd.jupyter.widget-view+json": {
       "model_id": "6dccb8b51a0b426384a8469d6d4c85a8",
       "version_major": 2,
       "version_minor": 0
      },
      "text/plain": [
       "A Jupyter Widget"
      ]
     },
     "metadata": {},
     "output_type": "display_data"
    },
    {
     "name": "stderr",
     "output_type": "stream",
     "text": [
      "Using TensorFlow backend.\n",
      "Using TensorFlow backend.\n",
      "Using TensorFlow backend.\n",
      "Using TensorFlow backend.\n",
      "Using TensorFlow backend.\n"
     ]
    },
    {
     "name": "stdout",
     "output_type": "stream",
     "text": [
      "Best Model @ Level  2\n",
      "         Model        R2       MAE  Level        SE\n",
      "Key                                                \n",
      "2_7  VWC+Sedge -3.771755  0.396932      2  0.006559\n",
      "Should we exit?? 0.403491106742 0.48021912882\n",
      "Models:  [['H', 'VWC', 'Sedge'], ['wind_speed', 'VWC', 'Sedge'], ['air_pressure', 'VWC', 'Sedge'], ['PPFD_Avg', 'VWC', 'Sedge'], ['AirTC_Avg', 'VWC', 'Sedge'], ['VPD', 'VWC', 'Sedge'], ['Temp', 'VWC', 'Sedge'], ['VWC', 'Sedge', 'Shrub'], ['VWC', 'Sedge', 'Grass'], ['VWC', 'Sedge', 'Sparse'], ['VWC', 'Sedge', 'Out_of_Basin']]\n",
      "Number of Models:  11\n"
     ]
    },
    {
     "data": {
      "application/vnd.jupyter.widget-view+json": {
       "model_id": "2b219650883748ecbbf7723092aa8c86",
       "version_major": 2,
       "version_minor": 0
      },
      "text/plain": [
       "A Jupyter Widget"
      ]
     },
     "metadata": {},
     "output_type": "display_data"
    },
    {
     "name": "stderr",
     "output_type": "stream",
     "text": [
      "Using TensorFlow backend.\n",
      "Using TensorFlow backend.\n",
      "Using TensorFlow backend.\n",
      "Using TensorFlow backend.\n"
     ]
    },
    {
     "name": "stdout",
     "output_type": "stream",
     "text": [
      "Best Model @ Level  3\n",
      "               Model        R2       MAE  Level        SE\n",
      "Key                                                      \n",
      "3_8  VWC+Sedge+Grass -0.236538  0.346632      3  0.000686\n",
      "Should we exit?? 0.347317567409 0.396931898757\n",
      "Models:  [['H', 'VWC', 'Sedge', 'Grass'], ['wind_speed', 'VWC', 'Sedge', 'Grass'], ['air_pressure', 'VWC', 'Sedge', 'Grass'], ['PPFD_Avg', 'VWC', 'Sedge', 'Grass'], ['AirTC_Avg', 'VWC', 'Sedge', 'Grass'], ['VPD', 'VWC', 'Sedge', 'Grass'], ['Temp', 'VWC', 'Sedge', 'Grass'], ['VWC', 'Sedge', 'Shrub', 'Grass'], ['VWC', 'Sedge', 'Grass', 'Sparse'], ['VWC', 'Sedge', 'Grass', 'Out_of_Basin']]\n",
      "Number of Models:  10\n"
     ]
    },
    {
     "data": {
      "application/vnd.jupyter.widget-view+json": {
       "model_id": "2688588057a14340a59e93dd7e4f93e9",
       "version_major": 2,
       "version_minor": 0
      },
      "text/plain": [
       "A Jupyter Widget"
      ]
     },
     "metadata": {},
     "output_type": "display_data"
    },
    {
     "name": "stderr",
     "output_type": "stream",
     "text": [
      "Using TensorFlow backend.\n",
      "Using TensorFlow backend.\n",
      "Using TensorFlow backend.\n",
      "Using TensorFlow backend.\n"
     ]
    },
    {
     "name": "stdout",
     "output_type": "stream",
     "text": [
      "Best Model @ Level  4\n",
      "                    Model        R2       MAE  Level        SE\n",
      "Key                                                           \n",
      "4_6  Temp+VWC+Sedge+Grass  0.169222  0.317711      4  0.001378\n",
      "Should we exit?? 0.319088677377 0.346631913431\n",
      "Models:  [['H', 'Temp', 'VWC', 'Sedge', 'Grass'], ['wind_speed', 'Temp', 'VWC', 'Sedge', 'Grass'], ['air_pressure', 'Temp', 'VWC', 'Sedge', 'Grass'], ['PPFD_Avg', 'Temp', 'VWC', 'Sedge', 'Grass'], ['AirTC_Avg', 'Temp', 'VWC', 'Sedge', 'Grass'], ['VPD', 'Temp', 'VWC', 'Sedge', 'Grass'], ['Temp', 'VWC', 'Sedge', 'Shrub', 'Grass'], ['Temp', 'VWC', 'Sedge', 'Grass', 'Sparse'], ['Temp', 'VWC', 'Sedge', 'Grass', 'Out_of_Basin']]\n",
      "Number of Models:  9\n"
     ]
    },
    {
     "data": {
      "application/vnd.jupyter.widget-view+json": {
       "model_id": "d198c37a7e734dc282f43c268b0591f2",
       "version_major": 2,
       "version_minor": 0
      },
      "text/plain": [
       "A Jupyter Widget"
      ]
     },
     "metadata": {},
     "output_type": "display_data"
    },
    {
     "name": "stderr",
     "output_type": "stream",
     "text": [
      "Using TensorFlow backend.\n",
      "Using TensorFlow backend.\n",
      "Using TensorFlow backend.\n",
      "Using TensorFlow backend.\n"
     ]
    },
    {
     "name": "stdout",
     "output_type": "stream",
     "text": [
      "Best Model @ Level  5\n",
      "                               Model        R2       MAE  Level        SE\n",
      "Key                                                                      \n",
      "5_1  wind_speed+Temp+VWC+Sedge+Grass  0.245554  0.298627      5  0.001802\n",
      "Should we exit?? 0.300428958126 0.317711146468\n",
      "Models:  [['H', 'wind_speed', 'Temp', 'VWC', 'Sedge', 'Grass'], ['wind_speed', 'air_pressure', 'Temp', 'VWC', 'Sedge', 'Grass'], ['wind_speed', 'PPFD_Avg', 'Temp', 'VWC', 'Sedge', 'Grass'], ['wind_speed', 'AirTC_Avg', 'Temp', 'VWC', 'Sedge', 'Grass'], ['wind_speed', 'VPD', 'Temp', 'VWC', 'Sedge', 'Grass'], ['wind_speed', 'Temp', 'VWC', 'Sedge', 'Shrub', 'Grass'], ['wind_speed', 'Temp', 'VWC', 'Sedge', 'Grass', 'Sparse'], ['wind_speed', 'Temp', 'VWC', 'Sedge', 'Grass', 'Out_of_Basin']]\n",
      "Number of Models:  8\n"
     ]
    },
    {
     "data": {
      "application/vnd.jupyter.widget-view+json": {
       "model_id": "4d62895ba22947e3a103a0fc6f5bdd9d",
       "version_major": 2,
       "version_minor": 0
      },
      "text/plain": [
       "A Jupyter Widget"
      ]
     },
     "metadata": {},
     "output_type": "display_data"
    },
    {
     "name": "stderr",
     "output_type": "stream",
     "text": [
      "Using TensorFlow backend.\n",
      "Using TensorFlow backend.\n",
      "Using TensorFlow backend.\n"
     ]
    },
    {
     "name": "stdout",
     "output_type": "stream",
     "text": [
      "Best Model @ Level  6\n",
      "                                   Model      R2       MAE  Level        SE\n",
      "Key                                                                        \n",
      "6_4  wind_speed+VPD+Temp+VWC+Sedge+Grass  0.2989  0.287577      6  0.002293\n",
      "Should we exit?? 0.289870103508 0.298626896869\n",
      "Models:  [['H', 'wind_speed', 'VPD', 'Temp', 'VWC', 'Sedge', 'Grass'], ['wind_speed', 'air_pressure', 'VPD', 'Temp', 'VWC', 'Sedge', 'Grass'], ['wind_speed', 'PPFD_Avg', 'VPD', 'Temp', 'VWC', 'Sedge', 'Grass'], ['wind_speed', 'AirTC_Avg', 'VPD', 'Temp', 'VWC', 'Sedge', 'Grass'], ['wind_speed', 'VPD', 'Temp', 'VWC', 'Sedge', 'Shrub', 'Grass'], ['wind_speed', 'VPD', 'Temp', 'VWC', 'Sedge', 'Grass', 'Sparse'], ['wind_speed', 'VPD', 'Temp', 'VWC', 'Sedge', 'Grass', 'Out_of_Basin']]\n",
      "Number of Models:  7\n"
     ]
    },
    {
     "data": {
      "application/vnd.jupyter.widget-view+json": {
       "model_id": "b983745b1cab47d8a62061440c15679f",
       "version_major": 2,
       "version_minor": 0
      },
      "text/plain": [
       "A Jupyter Widget"
      ]
     },
     "metadata": {},
     "output_type": "display_data"
    },
    {
     "name": "stderr",
     "output_type": "stream",
     "text": [
      "Using TensorFlow backend.\n",
      "Using TensorFlow backend.\n",
      "Using TensorFlow backend.\n"
     ]
    },
    {
     "name": "stdout",
     "output_type": "stream",
     "text": [
      "Best Model @ Level  7\n",
      "                                                Model        R2       MAE  \\\n",
      "Key                                                                         \n",
      "7_1  wind_speed+air_pressure+VPD+Temp+VWC+Sedge+Grass  0.483116  0.277473   \n",
      "\n",
      "     Level        SE  \n",
      "Key                   \n",
      "7_1      7  0.002458  \n",
      "Should we exit?? 0.279931517676 0.287577441912\n",
      "Models:  [['H', 'wind_speed', 'air_pressure', 'VPD', 'Temp', 'VWC', 'Sedge', 'Grass'], ['wind_speed', 'air_pressure', 'PPFD_Avg', 'VPD', 'Temp', 'VWC', 'Sedge', 'Grass'], ['wind_speed', 'air_pressure', 'AirTC_Avg', 'VPD', 'Temp', 'VWC', 'Sedge', 'Grass'], ['wind_speed', 'air_pressure', 'VPD', 'Temp', 'VWC', 'Sedge', 'Shrub', 'Grass'], ['wind_speed', 'air_pressure', 'VPD', 'Temp', 'VWC', 'Sedge', 'Grass', 'Sparse'], ['wind_speed', 'air_pressure', 'VPD', 'Temp', 'VWC', 'Sedge', 'Grass', 'Out_of_Basin']]\n",
      "Number of Models:  6\n"
     ]
    },
    {
     "data": {
      "application/vnd.jupyter.widget-view+json": {
       "model_id": "6478d8cd59a3458b83ea4acd856e4ad9",
       "version_major": 2,
       "version_minor": 0
      },
      "text/plain": [
       "A Jupyter Widget"
      ]
     },
     "metadata": {},
     "output_type": "display_data"
    },
    {
     "name": "stderr",
     "output_type": "stream",
     "text": [
      "Using TensorFlow backend.\n",
      "Using TensorFlow backend.\n"
     ]
    },
    {
     "name": "stdout",
     "output_type": "stream",
     "text": [
      "Best Model @ Level  8\n",
      "                                                 Model        R2       MAE  \\\n",
      "Key                                                                          \n",
      "8_4  wind_speed+air_pressure+VPD+Temp+VWC+Sedge+Gra...  0.528037  0.265856   \n",
      "\n",
      "     Level        SE  \n",
      "Key                   \n",
      "8_4      8  0.002768  \n",
      "Should we exit?? 0.268623779221 0.277473378318\n",
      "Models:  [['H', 'wind_speed', 'air_pressure', 'VPD', 'Temp', 'VWC', 'Sedge', 'Grass', 'Sparse'], ['wind_speed', 'air_pressure', 'PPFD_Avg', 'VPD', 'Temp', 'VWC', 'Sedge', 'Grass', 'Sparse'], ['wind_speed', 'air_pressure', 'AirTC_Avg', 'VPD', 'Temp', 'VWC', 'Sedge', 'Grass', 'Sparse'], ['wind_speed', 'air_pressure', 'VPD', 'Temp', 'VWC', 'Sedge', 'Shrub', 'Grass', 'Sparse'], ['wind_speed', 'air_pressure', 'VPD', 'Temp', 'VWC', 'Sedge', 'Grass', 'Sparse', 'Out_of_Basin']]\n",
      "Number of Models:  5\n"
     ]
    },
    {
     "data": {
      "application/vnd.jupyter.widget-view+json": {
       "model_id": "9d2342ae0fdf400bb886a06eff7430e9",
       "version_major": 2,
       "version_minor": 0
      },
      "text/plain": [
       "A Jupyter Widget"
      ]
     },
     "metadata": {},
     "output_type": "display_data"
    },
    {
     "name": "stderr",
     "output_type": "stream",
     "text": [
      "Using TensorFlow backend.\n",
      "Using TensorFlow backend.\n"
     ]
    },
    {
     "name": "stdout",
     "output_type": "stream",
     "text": [
      "Best Model @ Level  9\n",
      "                                                 Model        R2       MAE  \\\n",
      "Key                                                                          \n",
      "9_0  H+wind_speed+air_pressure+VPD+Temp+VWC+Sedge+G...  0.572978  0.261317   \n",
      "\n",
      "     Level        SE  \n",
      "Key                   \n",
      "9_0      9  0.002639  \n",
      "Should we exit?? 0.263956229619 0.26585581761\n",
      "Models:  [['H', 'wind_speed', 'air_pressure', 'PPFD_Avg', 'VPD', 'Temp', 'VWC', 'Sedge', 'Grass', 'Sparse'], ['H', 'wind_speed', 'air_pressure', 'AirTC_Avg', 'VPD', 'Temp', 'VWC', 'Sedge', 'Grass', 'Sparse'], ['H', 'wind_speed', 'air_pressure', 'VPD', 'Temp', 'VWC', 'Sedge', 'Shrub', 'Grass', 'Sparse'], ['H', 'wind_speed', 'air_pressure', 'VPD', 'Temp', 'VWC', 'Sedge', 'Grass', 'Sparse', 'Out_of_Basin']]\n",
      "Number of Models:  4\n"
     ]
    },
    {
     "data": {
      "application/vnd.jupyter.widget-view+json": {
       "model_id": "b643df08e5214460bf40333becbcf883",
       "version_major": 2,
       "version_minor": 0
      },
      "text/plain": [
       "A Jupyter Widget"
      ]
     },
     "metadata": {},
     "output_type": "display_data"
    },
    {
     "name": "stderr",
     "output_type": "stream",
     "text": [
      "Using TensorFlow backend.\n",
      "Using TensorFlow backend.\n"
     ]
    },
    {
     "name": "stdout",
     "output_type": "stream",
     "text": [
      "Best Model @ Level  10\n",
      "                                                  Model        R2       MAE  \\\n",
      "Key                                                                           \n",
      "10_1  H+wind_speed+air_pressure+AirTC_Avg+VPD+Temp+V...  0.604536  0.256543   \n",
      "\n",
      "      Level        SE  \n",
      "Key                    \n",
      "10_1     10  0.002634  \n",
      "Should we exit?? 0.259177019078 0.261316838956\n",
      "Models:  [['H', 'wind_speed', 'air_pressure', 'PPFD_Avg', 'AirTC_Avg', 'VPD', 'Temp', 'VWC', 'Sedge', 'Grass', 'Sparse'], ['H', 'wind_speed', 'air_pressure', 'AirTC_Avg', 'VPD', 'Temp', 'VWC', 'Sedge', 'Shrub', 'Grass', 'Sparse'], ['H', 'wind_speed', 'air_pressure', 'AirTC_Avg', 'VPD', 'Temp', 'VWC', 'Sedge', 'Grass', 'Sparse', 'Out_of_Basin']]\n",
      "Number of Models:  3\n"
     ]
    },
    {
     "data": {
      "application/vnd.jupyter.widget-view+json": {
       "model_id": "1df8253668f64bbbb599835c50bb7045",
       "version_major": 2,
       "version_minor": 0
      },
      "text/plain": [
       "A Jupyter Widget"
      ]
     },
     "metadata": {},
     "output_type": "display_data"
    },
    {
     "name": "stderr",
     "output_type": "stream",
     "text": [
      "Using TensorFlow backend.\n"
     ]
    },
    {
     "name": "stdout",
     "output_type": "stream",
     "text": [
      "Best Model @ Level  11\n",
      "                                                  Model        R2       MAE  \\\n",
      "Key                                                                           \n",
      "11_2  H+wind_speed+air_pressure+AirTC_Avg+VPD+Temp+V...  0.582449  0.258209   \n",
      "\n",
      "      Level        SE  \n",
      "Key                    \n",
      "11_2     11  0.002776  \n",
      "Should we exit?? 0.260984680282 0.256542527399\n",
      "Exit Early\n",
      "['H+wind_speed+air_pressure+AirTC_Avg+VPD+Temp+VWC+Sedge+Grass+Sparse']        Key  Level       MAE  \\\n",
      "0      1_0      1  0.528986   \n",
      "1      1_0      1  0.530093   \n",
      "2      1_0      1  0.531304   \n",
      "3      1_0      1  0.529872   \n",
      "4      1_0      1  0.530259   \n",
      "5      1_0      1  0.530024   \n",
      "6      1_0      1  0.530638   \n",
      "7      1_0      1  0.530259   \n",
      "8      1_0      1  0.522616   \n",
      "9      1_0      1  0.528725   \n",
      "10     1_0      1  0.522767   \n",
      "11     1_0      1  0.529886   \n",
      "12     1_0      1  0.529422   \n",
      "13     1_0      1  0.530119   \n",
      "14     1_0      1  0.529658   \n",
      "15     1_0      1  0.530020   \n",
      "16     1_0      1  0.528522   \n",
      "17     1_0      1  0.530288   \n",
      "18     1_0      1  0.529293   \n",
      "19     1_0      1  0.528385   \n",
      "20     1_0      1  0.530073   \n",
      "21     1_0      1  0.528466   \n",
      "22     1_0      1  0.530641   \n",
      "23     1_0      1  0.529719   \n",
      "24     1_0      1  0.528374   \n",
      "25     1_0      1  0.529080   \n",
      "26     1_0      1  0.528285   \n",
      "27     1_0      1  0.528301   \n",
      "28     1_0      1  0.529919   \n",
      "29     1_0      1  0.529774   \n",
      "...    ...    ...       ...   \n",
      "2520  10_3     10  0.271496   \n",
      "2521  10_3     10  0.248594   \n",
      "2522  10_3     10  0.259901   \n",
      "2523  10_3     10  0.253498   \n",
      "2524  10_3     10  0.250488   \n",
      "2525  10_3     10  0.274449   \n",
      "2526  10_3     10  0.241466   \n",
      "2527  10_3     10  0.234429   \n",
      "2528  10_3     10  0.247690   \n",
      "2529  10_3     10  0.280504   \n",
      "2530  10_3     10  0.255105   \n",
      "2531  10_3     10  0.268189   \n",
      "2532  10_3     10  0.264016   \n",
      "2533  10_3     10  0.251620   \n",
      "2534  10_3     10  0.271608   \n",
      "2535  10_3     10  0.267503   \n",
      "2536  10_3     10  0.270345   \n",
      "2537  10_3     10  0.267364   \n",
      "2538  10_3     10  0.259186   \n",
      "2539  10_3     10  0.269357   \n",
      "2540  10_3     10  0.265948   \n",
      "2541  10_3     10  0.238246   \n",
      "2542  10_3     10  0.236757   \n",
      "2543  10_3     10  0.234059   \n",
      "2544  10_3     10  0.258411   \n",
      "2545  10_3     10  0.277975   \n",
      "2546  10_3     10  0.253764   \n",
      "2547  10_3     10  0.266294   \n",
      "2548  10_3     10  0.256668   \n",
      "2549  10_3     10  0.254272   \n",
      "\n",
      "                                                  Model          R2  \n",
      "0                                                     H -194.790429  \n",
      "1                                                     H -166.108606  \n",
      "2                                                     H -154.012511  \n",
      "3                                                     H -205.147272  \n",
      "4                                                     H -174.636467  \n",
      "5                                                     H -183.296480  \n",
      "6                                                     H -190.756944  \n",
      "7                                                     H -204.163362  \n",
      "8                                                     H -205.377654  \n",
      "9                                                     H -233.923305  \n",
      "10                                                    H -116.385231  \n",
      "11                                                    H -190.810398  \n",
      "12                                                    H -213.926757  \n",
      "13                                                    H -207.840038  \n",
      "14                                                    H -155.590645  \n",
      "15                                                    H -190.173620  \n",
      "16                                                    H -240.516716  \n",
      "17                                                    H -189.423324  \n",
      "18                                                    H -232.118038  \n",
      "19                                                    H -209.269472  \n",
      "20                                                    H -199.703946  \n",
      "21                                                    H -200.859091  \n",
      "22                                                    H -201.487414  \n",
      "23                                                    H -214.349527  \n",
      "24                                                    H -181.513555  \n",
      "25                                                    H -174.940284  \n",
      "26                                                    H -204.302949  \n",
      "27                                                    H -217.637607  \n",
      "28                                                    H -178.028868  \n",
      "29                                                    H -182.366702  \n",
      "...                                                 ...         ...  \n",
      "2520  H+wind_speed+air_pressure+VPD+Temp+VWC+Sedge+G...    0.448873  \n",
      "2521  H+wind_speed+air_pressure+VPD+Temp+VWC+Sedge+G...    0.688077  \n",
      "2522  H+wind_speed+air_pressure+VPD+Temp+VWC+Sedge+G...    0.577511  \n",
      "2523  H+wind_speed+air_pressure+VPD+Temp+VWC+Sedge+G...    0.604094  \n",
      "2524  H+wind_speed+air_pressure+VPD+Temp+VWC+Sedge+G...    0.609515  \n",
      "2525  H+wind_speed+air_pressure+VPD+Temp+VWC+Sedge+G...    0.483562  \n",
      "2526  H+wind_speed+air_pressure+VPD+Temp+VWC+Sedge+G...    0.609722  \n",
      "2527  H+wind_speed+air_pressure+VPD+Temp+VWC+Sedge+G...    0.693550  \n",
      "2528  H+wind_speed+air_pressure+VPD+Temp+VWC+Sedge+G...    0.641011  \n",
      "2529  H+wind_speed+air_pressure+VPD+Temp+VWC+Sedge+G...    0.365372  \n",
      "2530  H+wind_speed+air_pressure+VPD+Temp+VWC+Sedge+G...    0.612600  \n",
      "2531  H+wind_speed+air_pressure+VPD+Temp+VWC+Sedge+G...    0.431321  \n",
      "2532  H+wind_speed+air_pressure+VPD+Temp+VWC+Sedge+G...    0.603994  \n",
      "2533  H+wind_speed+air_pressure+VPD+Temp+VWC+Sedge+G...    0.657621  \n",
      "2534  H+wind_speed+air_pressure+VPD+Temp+VWC+Sedge+G...    0.464329  \n",
      "2535  H+wind_speed+air_pressure+VPD+Temp+VWC+Sedge+G...    0.448301  \n",
      "2536  H+wind_speed+air_pressure+VPD+Temp+VWC+Sedge+G...    0.476508  \n",
      "2537  H+wind_speed+air_pressure+VPD+Temp+VWC+Sedge+G...    0.514498  \n",
      "2538  H+wind_speed+air_pressure+VPD+Temp+VWC+Sedge+G...    0.608642  \n",
      "2539  H+wind_speed+air_pressure+VPD+Temp+VWC+Sedge+G...    0.508131  \n",
      "2540  H+wind_speed+air_pressure+VPD+Temp+VWC+Sedge+G...    0.533729  \n",
      "2541  H+wind_speed+air_pressure+VPD+Temp+VWC+Sedge+G...    0.699855  \n",
      "2542  H+wind_speed+air_pressure+VPD+Temp+VWC+Sedge+G...    0.682827  \n",
      "2543  H+wind_speed+air_pressure+VPD+Temp+VWC+Sedge+G...    0.713148  \n",
      "2544  H+wind_speed+air_pressure+VPD+Temp+VWC+Sedge+G...    0.579316  \n",
      "2545  H+wind_speed+air_pressure+VPD+Temp+VWC+Sedge+G...    0.501890  \n",
      "2546  H+wind_speed+air_pressure+VPD+Temp+VWC+Sedge+G...    0.579577  \n",
      "2547  H+wind_speed+air_pressure+VPD+Temp+VWC+Sedge+G...    0.526893  \n",
      "2548  H+wind_speed+air_pressure+VPD+Temp+VWC+Sedge+G...    0.648287  \n",
      "2549  H+wind_speed+air_pressure+VPD+Temp+VWC+Sedge+G...    0.595661  \n",
      "\n",
      "[2550 rows x 5 columns]\n"
     ]
    },
    {
     "data": {
      "application/vnd.jupyter.widget-view+json": {
       "model_id": "b8475b2db18b4b4d980e39d09fdd0fdd",
       "version_major": 2,
       "version_minor": 0
      },
      "text/plain": [
       "A Jupyter Widget"
      ]
     },
     "metadata": {},
     "output_type": "display_data"
    },
    {
     "name": "stderr",
     "output_type": "stream",
     "text": [
      "Using TensorFlow backend.\n"
     ]
    },
    {
     "name": "stdout",
     "output_type": "stream",
     "text": [
      "Leaving at  140\n"
     ]
    },
    {
     "data": {
      "image/png": "[encoded data removed]",
      "text/plain": [
       "<matplotlib.figure.Figure at 0x7f361425be80>"
      ]
     },
     "metadata": {},
     "output_type": "display_data"
    },
    {
     "name": "stderr",
     "output_type": "stream",
     "text": [
      "Using TensorFlow backend.\n"
     ]
    },
    {
     "name": "stdout",
     "output_type": "stream",
     "text": [
      "181\n",
      "FishIsland fco2\n"
     ]
    },
    {
     "data": {
      "application/vnd.jupyter.widget-view+json": {
       "model_id": "187656d5db6e4835a990f588651f54a1",
       "version_major": 2,
       "version_minor": 0
      },
      "text/plain": [
       "A Jupyter Widget"
      ]
     },
     "metadata": {},
     "output_type": "display_data"
    },
    {
     "name": "stdout",
     "output_type": "stream",
     "text": [
      "Models:  [['H'], ['Wind Spd'], ['air pressure'], ['Ta'], ['Rn'], ['PPFD'], ['Rain'], ['Water Table'], ['Ts 2.5 cm'], ['Ts 15 cm'], ['VWC'], ['Active Layer'], ['24H Rain'], ['Wtr Tbl Trnd']]\n",
      "Number of Models:  14\n"
     ]
    },
    {
     "data": {
      "application/vnd.jupyter.widget-view+json": {
       "model_id": "34daf04aedcc49fb8ffc3ebd85a93d67",
       "version_major": 2,
       "version_minor": 0
      },
      "text/plain": [
       "A Jupyter Widget"
      ]
     },
     "metadata": {},
     "output_type": "display_data"
    },
    {
     "name": "stderr",
     "output_type": "stream",
     "text": [
      "Using TensorFlow backend.\n",
      "Using TensorFlow backend.\n",
      "Using TensorFlow backend.\n",
      "Using TensorFlow backend.\n",
      "Using TensorFlow backend.\n"
     ]
    },
    {
     "name": "stdout",
     "output_type": "stream",
     "text": [
      "Best Model @ Level  1\n",
      "    Model        R2       MAE  Level        SE\n",
      "Key                                           \n",
      "1_5  PPFD  0.409655  0.062283      1  0.000051\n",
      "Models:  [['H', 'PPFD'], ['Wind Spd', 'PPFD'], ['air pressure', 'PPFD'], ['Ta', 'PPFD'], ['Rn', 'PPFD'], ['PPFD', 'Rain'], ['PPFD', 'Water Table'], ['PPFD', 'Ts 2.5 cm'], ['PPFD', 'Ts 15 cm'], ['PPFD', 'VWC'], ['PPFD', 'Active Layer'], ['PPFD', '24H Rain'], ['PPFD', 'Wtr Tbl Trnd']]\n",
      "Number of Models:  13\n"
     ]
    },
    {
     "data": {
      "application/vnd.jupyter.widget-view+json": {
       "model_id": "afe891f2aac348fda04d6fdfbcb4bd54",
       "version_major": 2,
       "version_minor": 0
      },
      "text/plain": [
       "A Jupyter Widget"
      ]
     },
     "metadata": {},
     "output_type": "display_data"
    },
    {
     "name": "stderr",
     "output_type": "stream",
     "text": [
      "Using TensorFlow backend.\n",
      "Using TensorFlow backend.\n",
      "Using TensorFlow backend.\n",
      "Using TensorFlow backend.\n",
      "Using TensorFlow backend.\n",
      "Using TensorFlow backend.\n"
     ]
    },
    {
     "name": "stdout",
     "output_type": "stream",
     "text": [
      "Best Model @ Level  2\n",
      "                  Model        R2       MAE  Level        SE\n",
      "Key                                                         \n",
      "2_10  PPFD+Active Layer  0.484223  0.057834      2  0.000091\n",
      "Should we exit?? 0.0579249075659 0.0622829525676\n",
      "Models:  [['H', 'PPFD', 'Active Layer'], ['Wind Spd', 'PPFD', 'Active Layer'], ['air pressure', 'PPFD', 'Active Layer'], ['Ta', 'PPFD', 'Active Layer'], ['Rn', 'PPFD', 'Active Layer'], ['PPFD', 'Rain', 'Active Layer'], ['PPFD', 'Water Table', 'Active Layer'], ['PPFD', 'Ts 2.5 cm', 'Active Layer'], ['PPFD', 'Ts 15 cm', 'Active Layer'], ['PPFD', 'VWC', 'Active Layer'], ['PPFD', 'Active Layer', '24H Rain'], ['PPFD', 'Active Layer', 'Wtr Tbl Trnd']]\n",
      "Number of Models:  12\n"
     ]
    },
    {
     "data": {
      "application/vnd.jupyter.widget-view+json": {
       "model_id": "702707035c7a4c75b6a90e9f37c548ce",
       "version_major": 2,
       "version_minor": 0
      },
      "text/plain": [
       "A Jupyter Widget"
      ]
     },
     "metadata": {},
     "output_type": "display_data"
    },
    {
     "name": "stderr",
     "output_type": "stream",
     "text": [
      "Using TensorFlow backend.\n",
      "Using TensorFlow backend.\n",
      "Using TensorFlow backend.\n",
      "Using TensorFlow backend.\n"
     ]
    },
    {
     "name": "stdout",
     "output_type": "stream",
     "text": [
      "Best Model @ Level  3\n",
      "                           Model        R2       MAE  Level        SE\n",
      "Key                                                                  \n",
      "3_7  PPFD+Ts 2.5 cm+Active Layer  0.572815  0.053439      3  0.000138\n",
      "Should we exit?? 0.0535771514654 0.057834120839\n",
      "Models:  [['H', 'PPFD', 'Ts 2.5 cm', 'Active Layer'], ['Wind Spd', 'PPFD', 'Ts 2.5 cm', 'Active Layer'], ['air pressure', 'PPFD', 'Ts 2.5 cm', 'Active Layer'], ['Ta', 'PPFD', 'Ts 2.5 cm', 'Active Layer'], ['Rn', 'PPFD', 'Ts 2.5 cm', 'Active Layer'], ['PPFD', 'Rain', 'Ts 2.5 cm', 'Active Layer'], ['PPFD', 'Water Table', 'Ts 2.5 cm', 'Active Layer'], ['PPFD', 'Ts 2.5 cm', 'Ts 15 cm', 'Active Layer'], ['PPFD', 'Ts 2.5 cm', 'VWC', 'Active Layer'], ['PPFD', 'Ts 2.5 cm', 'Active Layer', '24H Rain'], ['PPFD', 'Ts 2.5 cm', 'Active Layer', 'Wtr Tbl Trnd']]\n",
      "Number of Models:  11\n"
     ]
    },
    {
     "data": {
      "application/vnd.jupyter.widget-view+json": {
       "model_id": "5e0df90501f94f3e8cc1cdcd0b53ce39",
       "version_major": 2,
       "version_minor": 0
      },
      "text/plain": [
       "A Jupyter Widget"
      ]
     },
     "metadata": {},
     "output_type": "display_data"
    },
    {
     "name": "stderr",
     "output_type": "stream",
     "text": [
      "Using TensorFlow backend.\n",
      "Using TensorFlow backend.\n",
      "Using TensorFlow backend.\n",
      "Using TensorFlow backend.\n",
      "Using TensorFlow backend.\n"
     ]
    },
    {
     "name": "stdout",
     "output_type": "stream",
     "text": [
      "Best Model @ Level  4\n",
      "                             Model        R2       MAE  Level        SE\n",
      "Key                                                                    \n",
      "4_0  H+PPFD+Ts 2.5 cm+Active Layer  0.596879  0.052556      4  0.000152\n",
      "Should we exit?? 0.0527081162935 0.0534393849402\n",
      "Models:  [['H', 'Wind Spd', 'PPFD', 'Ts 2.5 cm', 'Active Layer'], ['H', 'air pressure', 'PPFD', 'Ts 2.5 cm', 'Active Layer'], ['H', 'Ta', 'PPFD', 'Ts 2.5 cm', 'Active Layer'], ['H', 'Rn', 'PPFD', 'Ts 2.5 cm', 'Active Layer'], ['H', 'PPFD', 'Rain', 'Ts 2.5 cm', 'Active Layer'], ['H', 'PPFD', 'Water Table', 'Ts 2.5 cm', 'Active Layer'], ['H', 'PPFD', 'Ts 2.5 cm', 'Ts 15 cm', 'Active Layer'], ['H', 'PPFD', 'Ts 2.5 cm', 'VWC', 'Active Layer'], ['H', 'PPFD', 'Ts 2.5 cm', 'Active Layer', '24H Rain'], ['H', 'PPFD', 'Ts 2.5 cm', 'Active Layer', 'Wtr Tbl Trnd']]\n",
      "Number of Models:  10\n"
     ]
    },
    {
     "data": {
      "application/vnd.jupyter.widget-view+json": {
       "model_id": "26978c25fcd64fea952529634e8e5a1f",
       "version_major": 2,
       "version_minor": 0
      },
      "text/plain": [
       "A Jupyter Widget"
      ]
     },
     "metadata": {},
     "output_type": "display_data"
    },
    {
     "name": "stderr",
     "output_type": "stream",
     "text": [
      "Using TensorFlow backend.\n",
      "Using TensorFlow backend.\n",
      "Using TensorFlow backend.\n",
      "Using TensorFlow backend.\n"
     ]
    },
    {
     "name": "stdout",
     "output_type": "stream",
     "text": [
      "Best Model @ Level  5\n",
      "                                         Model        R2       MAE  Level  \\\n",
      "Key                                                                         \n",
      "5_5  H+PPFD+Water Table+Ts 2.5 cm+Active Layer  0.624871  0.051196      5   \n",
      "\n",
      "          SE  \n",
      "Key           \n",
      "5_5  0.00028  \n",
      "Should we exit?? 0.0514760651556 0.0525563459285\n",
      "Models:  [['H', 'Wind Spd', 'PPFD', 'Water Table', 'Ts 2.5 cm', 'Active Layer'], ['H', 'air pressure', 'PPFD', 'Water Table', 'Ts 2.5 cm', 'Active Layer'], ['H', 'Ta', 'PPFD', 'Water Table', 'Ts 2.5 cm', 'Active Layer'], ['H', 'Rn', 'PPFD', 'Water Table', 'Ts 2.5 cm', 'Active Layer'], ['H', 'PPFD', 'Rain', 'Water Table', 'Ts 2.5 cm', 'Active Layer'], ['H', 'PPFD', 'Water Table', 'Ts 2.5 cm', 'Ts 15 cm', 'Active Layer'], ['H', 'PPFD', 'Water Table', 'Ts 2.5 cm', 'VWC', 'Active Layer'], ['H', 'PPFD', 'Water Table', 'Ts 2.5 cm', 'Active Layer', '24H Rain'], ['H', 'PPFD', 'Water Table', 'Ts 2.5 cm', 'Active Layer', 'Wtr Tbl Trnd']]\n",
      "Number of Models:  9\n"
     ]
    },
    {
     "data": {
      "application/vnd.jupyter.widget-view+json": {
       "model_id": "ff903556a98a4c26b973e644150f1822",
       "version_major": 2,
       "version_minor": 0
      },
      "text/plain": [
       "A Jupyter Widget"
      ]
     },
     "metadata": {},
     "output_type": "display_data"
    },
    {
     "name": "stderr",
     "output_type": "stream",
     "text": [
      "Using TensorFlow backend.\n",
      "Using TensorFlow backend.\n",
      "Using TensorFlow backend.\n",
      "Using TensorFlow backend.\n"
     ]
    },
    {
     "name": "stdout",
     "output_type": "stream",
     "text": [
      "Best Model @ Level  6\n",
      "                                                 Model        R2       MAE  \\\n",
      "Key                                                                          \n",
      "6_0  H+Wind Spd+PPFD+Water Table+Ts 2.5 cm+Active L...  0.690391  0.049118   \n",
      "\n",
      "     Level        SE  \n",
      "Key                   \n",
      "6_0      6  0.000211  \n",
      "Should we exit?? 0.0493288441461 0.0511956144699\n",
      "Models:  [['H', 'Wind Spd', 'air pressure', 'PPFD', 'Water Table', 'Ts 2.5 cm', 'Active Layer'], ['H', 'Wind Spd', 'Ta', 'PPFD', 'Water Table', 'Ts 2.5 cm', 'Active Layer'], ['H', 'Wind Spd', 'Rn', 'PPFD', 'Water Table', 'Ts 2.5 cm', 'Active Layer'], ['H', 'Wind Spd', 'PPFD', 'Rain', 'Water Table', 'Ts 2.5 cm', 'Active Layer'], ['H', 'Wind Spd', 'PPFD', 'Water Table', 'Ts 2.5 cm', 'Ts 15 cm', 'Active Layer'], ['H', 'Wind Spd', 'PPFD', 'Water Table', 'Ts 2.5 cm', 'VWC', 'Active Layer'], ['H', 'Wind Spd', 'PPFD', 'Water Table', 'Ts 2.5 cm', 'Active Layer', '24H Rain'], ['H', 'Wind Spd', 'PPFD', 'Water Table', 'Ts 2.5 cm', 'Active Layer', 'Wtr Tbl Trnd']]\n",
      "Number of Models:  8\n"
     ]
    },
    {
     "data": {
      "application/vnd.jupyter.widget-view+json": {
       "model_id": "90f396ff4c68428bb0a2b8eef52e56a3",
       "version_major": 2,
       "version_minor": 0
      },
      "text/plain": [
       "A Jupyter Widget"
      ]
     },
     "metadata": {},
     "output_type": "display_data"
    },
    {
     "name": "stderr",
     "output_type": "stream",
     "text": [
      "Using TensorFlow backend.\n",
      "Using TensorFlow backend.\n",
      "Using TensorFlow backend.\n"
     ]
    },
    {
     "name": "stdout",
     "output_type": "stream",
     "text": [
      "Best Model @ Level  7\n",
      "                                                 Model        R2       MAE  \\\n",
      "Key                                                                          \n",
      "7_5  H+Wind Spd+PPFD+Water Table+Ts 2.5 cm+VWC+Acti...  0.687449  0.048886   \n",
      "\n",
      "     Level        SE  \n",
      "Key                   \n",
      "7_5      7  0.000238  \n",
      "Should we exit?? 0.0491249748565 0.0491178910087\n",
      "Exit Early\n",
      "['H+Wind Spd+PPFD+Water Table+Ts 2.5 cm+Active Layer']       Key  Level       MAE                                              Model  \\\n",
      "0     1_0      1  0.070497                                                  H   \n",
      "1     1_0      1  0.069919                                                  H   \n",
      "2     1_0      1  0.069546                                                  H   \n",
      "3     1_0      1  0.069171                                                  H   \n",
      "4     1_0      1  0.070485                                                  H   \n",
      "5     1_0      1  0.069599                                                  H   \n",
      "6     1_0      1  0.070217                                                  H   \n",
      "7     1_0      1  0.069866                                                  H   \n",
      "8     1_0      1  0.070699                                                  H   \n",
      "9     1_0      1  0.070180                                                  H   \n",
      "10    1_0      1  0.070902                                                  H   \n",
      "11    1_0      1  0.069968                                                  H   \n",
      "12    1_0      1  0.070531                                                  H   \n",
      "13    1_0      1  0.070465                                                  H   \n",
      "14    1_0      1  0.070120                                                  H   \n",
      "15    1_0      1  0.069993                                                  H   \n",
      "16    1_0      1  0.070479                                                  H   \n",
      "17    1_0      1  0.070564                                                  H   \n",
      "18    1_0      1  0.070866                                                  H   \n",
      "19    1_0      1  0.070727                                                  H   \n",
      "20    1_0      1  0.070103                                                  H   \n",
      "21    1_0      1  0.070362                                                  H   \n",
      "22    1_0      1  0.069716                                                  H   \n",
      "23    1_0      1  0.069813                                                  H   \n",
      "24    1_0      1  0.069413                                                  H   \n",
      "25    1_0      1  0.070179                                                  H   \n",
      "26    1_0      1  0.070579                                                  H   \n",
      "27    1_0      1  0.070027                                                  H   \n",
      "28    1_0      1  0.070040                                                  H   \n",
      "29    1_0      1  0.070264                                                  H   \n",
      "...   ...    ...       ...                                                ...   \n",
      "2040  6_8      6  0.050274  H+PPFD+Water Table+Ts 2.5 cm+Active Layer+Wtr ...   \n",
      "2041  6_8      6  0.050804  H+PPFD+Water Table+Ts 2.5 cm+Active Layer+Wtr ...   \n",
      "2042  6_8      6  0.051528  H+PPFD+Water Table+Ts 2.5 cm+Active Layer+Wtr ...   \n",
      "2043  6_8      6  0.051138  H+PPFD+Water Table+Ts 2.5 cm+Active Layer+Wtr ...   \n",
      "2044  6_8      6  0.051166  H+PPFD+Water Table+Ts 2.5 cm+Active Layer+Wtr ...   \n",
      "2045  6_8      6  0.050363  H+PPFD+Water Table+Ts 2.5 cm+Active Layer+Wtr ...   \n",
      "2046  6_8      6  0.052180  H+PPFD+Water Table+Ts 2.5 cm+Active Layer+Wtr ...   \n",
      "2047  6_8      6  0.050476  H+PPFD+Water Table+Ts 2.5 cm+Active Layer+Wtr ...   \n",
      "2048  6_8      6  0.052094  H+PPFD+Water Table+Ts 2.5 cm+Active Layer+Wtr ...   \n",
      "2049  6_8      6  0.053234  H+PPFD+Water Table+Ts 2.5 cm+Active Layer+Wtr ...   \n",
      "2050  6_8      6  0.054040  H+PPFD+Water Table+Ts 2.5 cm+Active Layer+Wtr ...   \n",
      "2051  6_8      6  0.053882  H+PPFD+Water Table+Ts 2.5 cm+Active Layer+Wtr ...   \n",
      "2052  6_8      6  0.049288  H+PPFD+Water Table+Ts 2.5 cm+Active Layer+Wtr ...   \n",
      "2053  6_8      6  0.049099  H+PPFD+Water Table+Ts 2.5 cm+Active Layer+Wtr ...   \n",
      "2054  6_8      6  0.050704  H+PPFD+Water Table+Ts 2.5 cm+Active Layer+Wtr ...   \n",
      "2055  6_8      6  0.052490  H+PPFD+Water Table+Ts 2.5 cm+Active Layer+Wtr ...   \n",
      "2056  6_8      6  0.049171  H+PPFD+Water Table+Ts 2.5 cm+Active Layer+Wtr ...   \n",
      "2057  6_8      6  0.052094  H+PPFD+Water Table+Ts 2.5 cm+Active Layer+Wtr ...   \n",
      "2058  6_8      6  0.049861  H+PPFD+Water Table+Ts 2.5 cm+Active Layer+Wtr ...   \n",
      "2059  6_8      6  0.055499  H+PPFD+Water Table+Ts 2.5 cm+Active Layer+Wtr ...   \n",
      "2060  6_8      6  0.049126  H+PPFD+Water Table+Ts 2.5 cm+Active Layer+Wtr ...   \n",
      "2061  6_8      6  0.053473  H+PPFD+Water Table+Ts 2.5 cm+Active Layer+Wtr ...   \n",
      "2062  6_8      6  0.050009  H+PPFD+Water Table+Ts 2.5 cm+Active Layer+Wtr ...   \n",
      "2063  6_8      6  0.050665  H+PPFD+Water Table+Ts 2.5 cm+Active Layer+Wtr ...   \n",
      "2064  6_8      6  0.051982  H+PPFD+Water Table+Ts 2.5 cm+Active Layer+Wtr ...   \n",
      "2065  6_8      6  0.053706  H+PPFD+Water Table+Ts 2.5 cm+Active Layer+Wtr ...   \n",
      "2066  6_8      6  0.051273  H+PPFD+Water Table+Ts 2.5 cm+Active Layer+Wtr ...   \n",
      "2067  6_8      6  0.050430  H+PPFD+Water Table+Ts 2.5 cm+Active Layer+Wtr ...   \n",
      "2068  6_8      6  0.049602  H+PPFD+Water Table+Ts 2.5 cm+Active Layer+Wtr ...   \n",
      "2069  6_8      6  0.050314  H+PPFD+Water Table+Ts 2.5 cm+Active Layer+Wtr ...   \n",
      "\n",
      "            R2  \n",
      "0     0.305499  \n",
      "1     0.309169  \n",
      "2     0.342655  \n",
      "3     0.320945  \n",
      "4     0.225965  \n",
      "5     0.272699  \n",
      "6     0.303481  \n",
      "7     0.278964  \n",
      "8     0.275748  \n",
      "9     0.306841  \n",
      "10    0.240736  \n",
      "11    0.316130  \n",
      "12    0.319726  \n",
      "13    0.295904  \n",
      "14    0.305628  \n",
      "15    0.302743  \n",
      "16    0.296202  \n",
      "17    0.292900  \n",
      "18    0.300325  \n",
      "19    0.231804  \n",
      "20    0.330241  \n",
      "21    0.317763  \n",
      "22    0.305574  \n",
      "23    0.319398  \n",
      "24    0.303903  \n",
      "25    0.317256  \n",
      "26    0.283607  \n",
      "27    0.287117  \n",
      "28    0.310522  \n",
      "29    0.264183  \n",
      "...        ...  \n",
      "2040  0.639230  \n",
      "2041  0.663178  \n",
      "2042  0.587904  \n",
      "2043  0.612890  \n",
      "2044  0.605014  \n",
      "2045  0.647927  \n",
      "2046  0.649374  \n",
      "2047  0.642725  \n",
      "2048  0.601063  \n",
      "2049  0.617291  \n",
      "2050  0.513315  \n",
      "2051  0.535994  \n",
      "2052  0.699379  \n",
      "2053  0.692311  \n",
      "2054  0.603399  \n",
      "2055  0.605906  \n",
      "2056  0.661758  \n",
      "2057  0.664583  \n",
      "2058  0.649840  \n",
      "2059  0.485660  \n",
      "2060  0.662775  \n",
      "2061  0.582853  \n",
      "2062  0.626055  \n",
      "2063  0.635093  \n",
      "2064  0.613471  \n",
      "2065  0.638141  \n",
      "2066  0.626399  \n",
      "2067  0.657372  \n",
      "2068  0.672484  \n",
      "2069  0.591233  \n",
      "\n",
      "[2070 rows x 5 columns]\n"
     ]
    },
    {
     "data": {
      "application/vnd.jupyter.widget-view+json": {
       "model_id": "f2a01d9e7fcf4db085b830cc237e4b15",
       "version_major": 2,
       "version_minor": 0
      },
      "text/plain": [
       "A Jupyter Widget"
      ]
     },
     "metadata": {},
     "output_type": "display_data"
    },
    {
     "name": "stderr",
     "output_type": "stream",
     "text": [
      "Using TensorFlow backend.\n"
     ]
    },
    {
     "name": "stdout",
     "output_type": "stream",
     "text": [
      "Leaving at  140\n"
     ]
    },
    {
     "data": {
      "image/png": "[encoded data removed]",
      "text/plain": [
       "<matplotlib.figure.Figure at 0x7f361463dfd0>"
      ]
     },
     "metadata": {},
     "output_type": "display_data"
    },
    {
     "name": "stderr",
     "output_type": "stream",
     "text": [
      "Using TensorFlow backend.\n"
     ]
    },
    {
     "name": "stdout",
     "output_type": "stream",
     "text": [
      "155\n",
      "FishIsland fch4\n"
     ]
    },
    {
     "data": {
      "application/vnd.jupyter.widget-view+json": {
       "model_id": "87809c054ce34a32b74686180e976f7b",
       "version_major": 2,
       "version_minor": 0
      },
      "text/plain": [
       "A Jupyter Widget"
      ]
     },
     "metadata": {},
     "output_type": "display_data"
    },
    {
     "name": "stdout",
     "output_type": "stream",
     "text": [
      "Models:  [['H'], ['Wind Spd'], ['air pressure'], ['Ta'], ['Rn'], ['PPFD'], ['Rain'], ['Water Table'], ['Ts 2.5 cm'], ['Ts 15 cm'], ['VWC'], ['Active Layer'], ['24H Rain'], ['Wtr Tbl Trnd']]\n",
      "Number of Models:  14\n"
     ]
    },
    {
     "data": {
      "application/vnd.jupyter.widget-view+json": {
       "model_id": "cffc4dc5230147c2a43553f8b84e89a0",
       "version_major": 2,
       "version_minor": 0
      },
      "text/plain": [
       "A Jupyter Widget"
      ]
     },
     "metadata": {},
     "output_type": "display_data"
    },
    {
     "name": "stderr",
     "output_type": "stream",
     "text": [
      "Using TensorFlow backend.\n",
      "Using TensorFlow backend.\n",
      "Using TensorFlow backend.\n",
      "Using TensorFlow backend.\n",
      "Using TensorFlow backend.\n"
     ]
    },
    {
     "name": "stdout",
     "output_type": "stream",
     "text": [
      "Best Model @ Level  1\n",
      "    Model        R2       MAE  Level        SE\n",
      "Key                                           \n",
      "1_0     H -2.001093  0.567885      1  0.000299\n",
      "Models:  [['H', 'Wind Spd'], ['H', 'air pressure'], ['H', 'Ta'], ['H', 'Rn'], ['H', 'PPFD'], ['H', 'Rain'], ['H', 'Water Table'], ['H', 'Ts 2.5 cm'], ['H', 'Ts 15 cm'], ['H', 'VWC'], ['H', 'Active Layer'], ['H', '24H Rain'], ['H', 'Wtr Tbl Trnd']]\n",
      "Number of Models:  13\n"
     ]
    },
    {
     "data": {
      "application/vnd.jupyter.widget-view+json": {
       "model_id": "87dd0be313ce4ffcb8089ee7f43fb78e",
       "version_major": 2,
       "version_minor": 0
      },
      "text/plain": [
       "A Jupyter Widget"
      ]
     },
     "metadata": {},
     "output_type": "display_data"
    },
    {
     "name": "stderr",
     "output_type": "stream",
     "text": [
      "Using TensorFlow backend.\n",
      "Using TensorFlow backend.\n",
      "Using TensorFlow backend.\n",
      "Using TensorFlow backend.\n",
      "Using TensorFlow backend.\n"
     ]
    },
    {
     "name": "stdout",
     "output_type": "stream",
     "text": [
      "Best Model @ Level  2\n",
      "               Model        R2       MAE  Level        SE\n",
      "Key                                                      \n",
      "2_10  H+Active Layer -1.026304  0.529161      2  0.000367\n",
      "Should we exit?? 0.529527999721 0.567885483006\n",
      "Models:  [['H', 'Wind Spd', 'Active Layer'], ['H', 'air pressure', 'Active Layer'], ['H', 'Ta', 'Active Layer'], ['H', 'Rn', 'Active Layer'], ['H', 'PPFD', 'Active Layer'], ['H', 'Rain', 'Active Layer'], ['H', 'Water Table', 'Active Layer'], ['H', 'Ts 2.5 cm', 'Active Layer'], ['H', 'Ts 15 cm', 'Active Layer'], ['H', 'VWC', 'Active Layer'], ['H', 'Active Layer', '24H Rain'], ['H', 'Active Layer', 'Wtr Tbl Trnd']]\n",
      "Number of Models:  12\n"
     ]
    },
    {
     "data": {
      "application/vnd.jupyter.widget-view+json": {
       "model_id": "a50100f7d6af45828d20e12adce64dc1",
       "version_major": 2,
       "version_minor": 0
      },
      "text/plain": [
       "A Jupyter Widget"
      ]
     },
     "metadata": {},
     "output_type": "display_data"
    },
    {
     "name": "stderr",
     "output_type": "stream",
     "text": [
      "Using TensorFlow backend.\n",
      "Using TensorFlow backend.\n",
      "Using TensorFlow backend.\n",
      "Using TensorFlow backend.\n",
      "Using TensorFlow backend.\n"
     ]
    },
    {
     "name": "stdout",
     "output_type": "stream",
     "text": [
      "Best Model @ Level  3\n",
      "                       Model       R2       MAE  Level        SE\n",
      "Key                                                             \n",
      "3_0  H+Wind Spd+Active Layer -0.81838  0.510064      3  0.000724\n",
      "Should we exit?? 0.51078850017 0.529161496704\n",
      "Models:  [['H', 'Wind Spd', 'air pressure', 'Active Layer'], ['H', 'Wind Spd', 'Ta', 'Active Layer'], ['H', 'Wind Spd', 'Rn', 'Active Layer'], ['H', 'Wind Spd', 'PPFD', 'Active Layer'], ['H', 'Wind Spd', 'Rain', 'Active Layer'], ['H', 'Wind Spd', 'Water Table', 'Active Layer'], ['H', 'Wind Spd', 'Ts 2.5 cm', 'Active Layer'], ['H', 'Wind Spd', 'Ts 15 cm', 'Active Layer'], ['H', 'Wind Spd', 'VWC', 'Active Layer'], ['H', 'Wind Spd', 'Active Layer', '24H Rain'], ['H', 'Wind Spd', 'Active Layer', 'Wtr Tbl Trnd']]\n",
      "Number of Models:  11\n"
     ]
    },
    {
     "data": {
      "application/vnd.jupyter.widget-view+json": {
       "model_id": "80a4d746e30c4c9eae57f7223c92e61b",
       "version_major": 2,
       "version_minor": 0
      },
      "text/plain": [
       "A Jupyter Widget"
      ]
     },
     "metadata": {},
     "output_type": "display_data"
    },
    {
     "name": "stderr",
     "output_type": "stream",
     "text": [
      "Using TensorFlow backend.\n",
      "Using TensorFlow backend.\n",
      "Using TensorFlow backend.\n",
      "Using TensorFlow backend.\n"
     ]
    },
    {
     "name": "stdout",
     "output_type": "stream",
     "text": [
      "Best Model @ Level  4\n",
      "                                    Model        R2       MAE  Level        SE\n",
      "Key                                                                           \n",
      "4_0  H+Wind Spd+air pressure+Active Layer -0.693198  0.494012      4  0.000849\n",
      "Should we exit?? 0.494861222845 0.510064125563\n",
      "Models:  [['H', 'Wind Spd', 'air pressure', 'Ta', 'Active Layer'], ['H', 'Wind Spd', 'air pressure', 'Rn', 'Active Layer'], ['H', 'Wind Spd', 'air pressure', 'PPFD', 'Active Layer'], ['H', 'Wind Spd', 'air pressure', 'Rain', 'Active Layer'], ['H', 'Wind Spd', 'air pressure', 'Water Table', 'Active Layer'], ['H', 'Wind Spd', 'air pressure', 'Ts 2.5 cm', 'Active Layer'], ['H', 'Wind Spd', 'air pressure', 'Ts 15 cm', 'Active Layer'], ['H', 'Wind Spd', 'air pressure', 'VWC', 'Active Layer'], ['H', 'Wind Spd', 'air pressure', 'Active Layer', '24H Rain'], ['H', 'Wind Spd', 'air pressure', 'Active Layer', 'Wtr Tbl Trnd']]\n",
      "Number of Models:  10\n"
     ]
    },
    {
     "data": {
      "application/vnd.jupyter.widget-view+json": {
       "model_id": "41be684d2ded4379a78f3886dc913b46",
       "version_major": 2,
       "version_minor": 0
      },
      "text/plain": [
       "A Jupyter Widget"
      ]
     },
     "metadata": {},
     "output_type": "display_data"
    },
    {
     "name": "stderr",
     "output_type": "stream",
     "text": [
      "Using TensorFlow backend.\n",
      "Using TensorFlow backend.\n",
      "Using TensorFlow backend.\n",
      "Using TensorFlow backend.\n",
      "Using TensorFlow backend.\n"
     ]
    },
    {
     "name": "stdout",
     "output_type": "stream",
     "text": [
      "Best Model @ Level  5\n",
      "                                                Model        R2       MAE  \\\n",
      "Key                                                                         \n",
      "5_4  H+Wind Spd+air pressure+Water Table+Active Layer -0.548851  0.480725   \n",
      "\n",
      "     Level        SE  \n",
      "Key                   \n",
      "5_4      5  0.001189  \n",
      "Should we exit?? 0.481914053721 0.494011754748\n",
      "Models:  [['H', 'Wind Spd', 'air pressure', 'Ta', 'Water Table', 'Active Layer'], ['H', 'Wind Spd', 'air pressure', 'Rn', 'Water Table', 'Active Layer'], ['H', 'Wind Spd', 'air pressure', 'PPFD', 'Water Table', 'Active Layer'], ['H', 'Wind Spd', 'air pressure', 'Rain', 'Water Table', 'Active Layer'], ['H', 'Wind Spd', 'air pressure', 'Water Table', 'Ts 2.5 cm', 'Active Layer'], ['H', 'Wind Spd', 'air pressure', 'Water Table', 'Ts 15 cm', 'Active Layer'], ['H', 'Wind Spd', 'air pressure', 'Water Table', 'VWC', 'Active Layer'], ['H', 'Wind Spd', 'air pressure', 'Water Table', 'Active Layer', '24H Rain'], ['H', 'Wind Spd', 'air pressure', 'Water Table', 'Active Layer', 'Wtr Tbl Trnd']]\n",
      "Number of Models:  9\n"
     ]
    },
    {
     "data": {
      "application/vnd.jupyter.widget-view+json": {
       "model_id": "55f17c2efffb42fcb8d508fd2c439408",
       "version_major": 2,
       "version_minor": 0
      },
      "text/plain": [
       "A Jupyter Widget"
      ]
     },
     "metadata": {},
     "output_type": "display_data"
    },
    {
     "name": "stderr",
     "output_type": "stream",
     "text": [
      "Using TensorFlow backend.\n",
      "Using TensorFlow backend.\n",
      "Using TensorFlow backend.\n",
      "Using TensorFlow backend.\n"
     ]
    },
    {
     "name": "stdout",
     "output_type": "stream",
     "text": [
      "Best Model @ Level  6\n",
      "                                                 Model       R2       MAE  \\\n",
      "Key                                                                         \n",
      "6_0  H+Wind Spd+air pressure+Ta+Water Table+Active ... -0.45707  0.472662   \n",
      "\n",
      "     Level        SE  \n",
      "Key                   \n",
      "6_0      6  0.002427  \n",
      "Should we exit?? 0.4750895719 0.48072508068\n",
      "Models:  [['H', 'Wind Spd', 'air pressure', 'Ta', 'Rn', 'Water Table', 'Active Layer'], ['H', 'Wind Spd', 'air pressure', 'Ta', 'PPFD', 'Water Table', 'Active Layer'], ['H', 'Wind Spd', 'air pressure', 'Ta', 'Rain', 'Water Table', 'Active Layer'], ['H', 'Wind Spd', 'air pressure', 'Ta', 'Water Table', 'Ts 2.5 cm', 'Active Layer'], ['H', 'Wind Spd', 'air pressure', 'Ta', 'Water Table', 'Ts 15 cm', 'Active Layer'], ['H', 'Wind Spd', 'air pressure', 'Ta', 'Water Table', 'VWC', 'Active Layer'], ['H', 'Wind Spd', 'air pressure', 'Ta', 'Water Table', 'Active Layer', '24H Rain'], ['H', 'Wind Spd', 'air pressure', 'Ta', 'Water Table', 'Active Layer', 'Wtr Tbl Trnd']]\n",
      "Number of Models:  8\n"
     ]
    },
    {
     "data": {
      "application/vnd.jupyter.widget-view+json": {
       "model_id": "938ccfe656344c3f99362dc08d9e1d92",
       "version_major": 2,
       "version_minor": 0
      },
      "text/plain": [
       "A Jupyter Widget"
      ]
     },
     "metadata": {},
     "output_type": "display_data"
    },
    {
     "name": "stderr",
     "output_type": "stream",
     "text": [
      "Using TensorFlow backend.\n",
      "Using TensorFlow backend.\n",
      "Using TensorFlow backend.\n"
     ]
    },
    {
     "name": "stdout",
     "output_type": "stream",
     "text": [
      "Best Model @ Level  7\n",
      "                                                 Model        R2       MAE  \\\n",
      "Key                                                                          \n",
      "7_5  H+Wind Spd+air pressure+Ta+Water Table+VWC+Act... -0.318697  0.467037   \n",
      "\n",
      "     Level        SE  \n",
      "Key                   \n",
      "7_5      7  0.001933  \n",
      "Should we exit?? 0.46896978364 0.472662314666\n",
      "Models:  [['H', 'Wind Spd', 'air pressure', 'Ta', 'Rn', 'Water Table', 'VWC', 'Active Layer'], ['H', 'Wind Spd', 'air pressure', 'Ta', 'PPFD', 'Water Table', 'VWC', 'Active Layer'], ['H', 'Wind Spd', 'air pressure', 'Ta', 'Rain', 'Water Table', 'VWC', 'Active Layer'], ['H', 'Wind Spd', 'air pressure', 'Ta', 'Water Table', 'Ts 2.5 cm', 'VWC', 'Active Layer'], ['H', 'Wind Spd', 'air pressure', 'Ta', 'Water Table', 'Ts 15 cm', 'VWC', 'Active Layer'], ['H', 'Wind Spd', 'air pressure', 'Ta', 'Water Table', 'VWC', 'Active Layer', '24H Rain'], ['H', 'Wind Spd', 'air pressure', 'Ta', 'Water Table', 'VWC', 'Active Layer', 'Wtr Tbl Trnd']]\n",
      "Number of Models:  7\n"
     ]
    },
    {
     "data": {
      "application/vnd.jupyter.widget-view+json": {
       "model_id": "9f0a07dd389941089c2dc557869ad08d",
       "version_major": 2,
       "version_minor": 0
      },
      "text/plain": [
       "A Jupyter Widget"
      ]
     },
     "metadata": {},
     "output_type": "display_data"
    },
    {
     "name": "stderr",
     "output_type": "stream",
     "text": [
      "Using TensorFlow backend.\n",
      "Using TensorFlow backend.\n",
      "Using TensorFlow backend.\n"
     ]
    },
    {
     "name": "stdout",
     "output_type": "stream",
     "text": [
      "Best Model @ Level  8\n",
      "                                                 Model        R2       MAE  \\\n",
      "Key                                                                          \n",
      "8_5  H+Wind Spd+air pressure+Ta+Water Table+VWC+Act... -0.199196  0.459278   \n",
      "\n",
      "     Level        SE  \n",
      "Key                   \n",
      "8_5      8  0.002259  \n",
      "Should we exit?? 0.461536142314 0.467036721553\n",
      "Models:  [['H', 'Wind Spd', 'air pressure', 'Ta', 'Rn', 'Water Table', 'VWC', 'Active Layer', '24H Rain'], ['H', 'Wind Spd', 'air pressure', 'Ta', 'PPFD', 'Water Table', 'VWC', 'Active Layer', '24H Rain'], ['H', 'Wind Spd', 'air pressure', 'Ta', 'Rain', 'Water Table', 'VWC', 'Active Layer', '24H Rain'], ['H', 'Wind Spd', 'air pressure', 'Ta', 'Water Table', 'Ts 2.5 cm', 'VWC', 'Active Layer', '24H Rain'], ['H', 'Wind Spd', 'air pressure', 'Ta', 'Water Table', 'Ts 15 cm', 'VWC', 'Active Layer', '24H Rain'], ['H', 'Wind Spd', 'air pressure', 'Ta', 'Water Table', 'VWC', 'Active Layer', '24H Rain', 'Wtr Tbl Trnd']]\n",
      "Number of Models:  6\n"
     ]
    },
    {
     "data": {
      "application/vnd.jupyter.widget-view+json": {
       "model_id": "c1d0bf028bb54e53afef2884af76e678",
       "version_major": 2,
       "version_minor": 0
      },
      "text/plain": [
       "A Jupyter Widget"
      ]
     },
     "metadata": {},
     "output_type": "display_data"
    },
    {
     "name": "stderr",
     "output_type": "stream",
     "text": [
      "Using TensorFlow backend.\n",
      "Using TensorFlow backend.\n"
     ]
    },
    {
     "name": "stdout",
     "output_type": "stream",
     "text": [
      "Best Model @ Level  9\n",
      "                                                 Model        R2       MAE  \\\n",
      "Key                                                                          \n",
      "9_4  H+Wind Spd+air pressure+Ta+Water Table+Ts 15 c... -0.204513  0.456831   \n",
      "\n",
      "     Level        SE  \n",
      "Key                   \n",
      "9_4      9  0.002124  \n",
      "Should we exit?? 0.458954872107 0.459277501117\n",
      "Models:  [['H', 'Wind Spd', 'air pressure', 'Ta', 'Rn', 'Water Table', 'Ts 15 cm', 'VWC', 'Active Layer', '24H Rain'], ['H', 'Wind Spd', 'air pressure', 'Ta', 'PPFD', 'Water Table', 'Ts 15 cm', 'VWC', 'Active Layer', '24H Rain'], ['H', 'Wind Spd', 'air pressure', 'Ta', 'Rain', 'Water Table', 'Ts 15 cm', 'VWC', 'Active Layer', '24H Rain'], ['H', 'Wind Spd', 'air pressure', 'Ta', 'Water Table', 'Ts 2.5 cm', 'Ts 15 cm', 'VWC', 'Active Layer', '24H Rain'], ['H', 'Wind Spd', 'air pressure', 'Ta', 'Water Table', 'Ts 15 cm', 'VWC', 'Active Layer', '24H Rain', 'Wtr Tbl Trnd']]\n",
      "Number of Models:  5\n"
     ]
    },
    {
     "data": {
      "application/vnd.jupyter.widget-view+json": {
       "model_id": "6e2cd6903fe04d76b4c5ce4736e4c7b2",
       "version_major": 2,
       "version_minor": 0
      },
      "text/plain": [
       "A Jupyter Widget"
      ]
     },
     "metadata": {},
     "output_type": "display_data"
    },
    {
     "name": "stderr",
     "output_type": "stream",
     "text": [
      "Using TensorFlow backend.\n"
     ]
    },
    {
     "name": "stdout",
     "output_type": "stream",
     "text": [
      "Best Model @ Level  10\n",
      "                                                  Model        R2       MAE  \\\n",
      "Key                                                                           \n",
      "10_3  H+Wind Spd+air pressure+Ta+Water Table+Ts 2.5 ... -0.275939  0.461126   \n",
      "\n",
      "      Level        SE  \n",
      "Key                    \n",
      "10_3     10  0.002649  \n",
      "Should we exit?? 0.463775166613 0.456830810919\n",
      "Exit Early\n",
      "[ 'H+Wind Spd+air pressure+Ta+Water Table+Ts 15 cm+VWC+Active Layer+24H Rain']       Key  Level       MAE                                              Model  \\\n",
      "0     1_0      1  0.567917                                                  H   \n",
      "1     1_0      1  0.566274                                                  H   \n",
      "2     1_0      1  0.566542                                                  H   \n",
      "3     1_0      1  0.566027                                                  H   \n",
      "4     1_0      1  0.571881                                                  H   \n",
      "5     1_0      1  0.566837                                                  H   \n",
      "6     1_0      1  0.565587                                                  H   \n",
      "7     1_0      1  0.569095                                                  H   \n",
      "8     1_0      1  0.568440                                                  H   \n",
      "9     1_0      1  0.567080                                                  H   \n",
      "10    1_0      1  0.569759                                                  H   \n",
      "11    1_0      1  0.567027                                                  H   \n",
      "12    1_0      1  0.566150                                                  H   \n",
      "13    1_0      1  0.567511                                                  H   \n",
      "14    1_0      1  0.568603                                                  H   \n",
      "15    1_0      1  0.567230                                                  H   \n",
      "16    1_0      1  0.565944                                                  H   \n",
      "17    1_0      1  0.566120                                                  H   \n",
      "18    1_0      1  0.569040                                                  H   \n",
      "19    1_0      1  0.569185                                                  H   \n",
      "20    1_0      1  0.567139                                                  H   \n",
      "21    1_0      1  0.567092                                                  H   \n",
      "22    1_0      1  0.567911                                                  H   \n",
      "23    1_0      1  0.567949                                                  H   \n",
      "24    1_0      1  0.570745                                                  H   \n",
      "25    1_0      1  0.569372                                                  H   \n",
      "26    1_0      1  0.569291                                                  H   \n",
      "27    1_0      1  0.568810                                                  H   \n",
      "28    1_0      1  0.565507                                                  H   \n",
      "29    1_0      1  0.570497                                                  H   \n",
      "...   ...    ...       ...                                                ...   \n",
      "2670  9_5      9  0.483493  H+Wind Spd+air pressure+Ta+Water Table+VWC+Act...   \n",
      "2671  9_5      9  0.475201  H+Wind Spd+air pressure+Ta+Water Table+VWC+Act...   \n",
      "2672  9_5      9  0.472696  H+Wind Spd+air pressure+Ta+Water Table+VWC+Act...   \n",
      "2673  9_5      9  0.456370  H+Wind Spd+air pressure+Ta+Water Table+VWC+Act...   \n",
      "2674  9_5      9  0.473614  H+Wind Spd+air pressure+Ta+Water Table+VWC+Act...   \n",
      "2675  9_5      9  0.458088  H+Wind Spd+air pressure+Ta+Water Table+VWC+Act...   \n",
      "2676  9_5      9  0.461136  H+Wind Spd+air pressure+Ta+Water Table+VWC+Act...   \n",
      "2677  9_5      9  0.460657  H+Wind Spd+air pressure+Ta+Water Table+VWC+Act...   \n",
      "2678  9_5      9  0.458981  H+Wind Spd+air pressure+Ta+Water Table+VWC+Act...   \n",
      "2679  9_5      9  0.466735  H+Wind Spd+air pressure+Ta+Water Table+VWC+Act...   \n",
      "2680  9_5      9  0.466977  H+Wind Spd+air pressure+Ta+Water Table+VWC+Act...   \n",
      "2681  9_5      9  0.472016  H+Wind Spd+air pressure+Ta+Water Table+VWC+Act...   \n",
      "2682  9_5      9  0.466262  H+Wind Spd+air pressure+Ta+Water Table+VWC+Act...   \n",
      "2683  9_5      9  0.451304  H+Wind Spd+air pressure+Ta+Water Table+VWC+Act...   \n",
      "2684  9_5      9  0.468591  H+Wind Spd+air pressure+Ta+Water Table+VWC+Act...   \n",
      "2685  9_5      9  0.469367  H+Wind Spd+air pressure+Ta+Water Table+VWC+Act...   \n",
      "2686  9_5      9  0.468865  H+Wind Spd+air pressure+Ta+Water Table+VWC+Act...   \n",
      "2687  9_5      9  0.465119  H+Wind Spd+air pressure+Ta+Water Table+VWC+Act...   \n",
      "2688  9_5      9  0.494192  H+Wind Spd+air pressure+Ta+Water Table+VWC+Act...   \n",
      "2689  9_5      9  0.470733  H+Wind Spd+air pressure+Ta+Water Table+VWC+Act...   \n",
      "2690  9_5      9  0.458185  H+Wind Spd+air pressure+Ta+Water Table+VWC+Act...   \n",
      "2691  9_5      9  0.456569  H+Wind Spd+air pressure+Ta+Water Table+VWC+Act...   \n",
      "2692  9_5      9  0.455022  H+Wind Spd+air pressure+Ta+Water Table+VWC+Act...   \n",
      "2693  9_5      9  0.474741  H+Wind Spd+air pressure+Ta+Water Table+VWC+Act...   \n",
      "2694  9_5      9  0.460897  H+Wind Spd+air pressure+Ta+Water Table+VWC+Act...   \n",
      "2695  9_5      9  0.473603  H+Wind Spd+air pressure+Ta+Water Table+VWC+Act...   \n",
      "2696  9_5      9  0.467630  H+Wind Spd+air pressure+Ta+Water Table+VWC+Act...   \n",
      "2697  9_5      9  0.456886  H+Wind Spd+air pressure+Ta+Water Table+VWC+Act...   \n",
      "2698  9_5      9  0.477144  H+Wind Spd+air pressure+Ta+Water Table+VWC+Act...   \n",
      "2699  9_5      9  0.443462  H+Wind Spd+air pressure+Ta+Water Table+VWC+Act...   \n",
      "\n",
      "            R2  \n",
      "0    -2.021763  \n",
      "1    -2.077020  \n",
      "2    -1.987774  \n",
      "3    -2.090174  \n",
      "4    -2.034293  \n",
      "5    -2.003376  \n",
      "6    -2.121010  \n",
      "7    -1.887312  \n",
      "8    -2.057152  \n",
      "9    -1.798183  \n",
      "10   -1.896643  \n",
      "11   -2.025154  \n",
      "12   -1.986184  \n",
      "13   -1.940498  \n",
      "14   -2.065430  \n",
      "15   -2.025357  \n",
      "16   -1.957678  \n",
      "17   -2.036270  \n",
      "18   -2.020513  \n",
      "19   -1.908678  \n",
      "20   -2.198193  \n",
      "21   -2.016406  \n",
      "22   -2.020881  \n",
      "23   -2.004976  \n",
      "24   -2.019324  \n",
      "25   -1.884480  \n",
      "26   -1.950102  \n",
      "27   -1.925422  \n",
      "28   -2.044252  \n",
      "29   -2.028296  \n",
      "...        ...  \n",
      "2670 -0.274789  \n",
      "2671 -0.426106  \n",
      "2672 -0.399703  \n",
      "2673 -0.070886  \n",
      "2674 -0.218784  \n",
      "2675 -0.227781  \n",
      "2676 -0.146950  \n",
      "2677 -0.117355  \n",
      "2678 -0.040183  \n",
      "2679 -0.128174  \n",
      "2680 -0.183806  \n",
      "2681 -0.275141  \n",
      "2682 -0.187745  \n",
      "2683 -0.178906  \n",
      "2684 -0.210320  \n",
      "2685 -0.273714  \n",
      "2686 -0.252321  \n",
      "2687 -0.255908  \n",
      "2688 -0.807457  \n",
      "2689 -0.324056  \n",
      "2690 -0.084777  \n",
      "2691 -0.128637  \n",
      "2692 -0.194508  \n",
      "2693 -0.153365  \n",
      "2694 -0.162397  \n",
      "2695 -0.565891  \n",
      "2696 -0.195791  \n",
      "2697 -0.080138  \n",
      "2698 -0.252414  \n",
      "2699 -0.087924  \n",
      "\n",
      "[2700 rows x 5 columns]\n"
     ]
    },
    {
     "data": {
      "application/vnd.jupyter.widget-view+json": {
       "model_id": "d4e558c61d074184bad6a1d155e3fdf2",
       "version_major": 2,
       "version_minor": 0
      },
      "text/plain": [
       "A Jupyter Widget"
      ]
     },
     "metadata": {},
     "output_type": "display_data"
    },
    {
     "name": "stderr",
     "output_type": "stream",
     "text": [
      "Using TensorFlow backend.\n",
      "Using TensorFlow backend.\n",
      "Using TensorFlow backend.\n",
      "Using TensorFlow backend.\n",
      "Using TensorFlow backend.\n"
     ]
    },
    {
     "data": {
      "image/png": "[encoded data removed]",
      "text/plain": [
       "<matplotlib.figure.Figure at 0x7f36147fbc18>"
      ]
     },
     "metadata": {},
     "output_type": "display_data"
    },
    {
     "name": "stdout",
     "output_type": "stream",
     "text": [
      "105\n"
     ]
    }
   ],
   "source": [
    "# pool.close()\n",
    "# Site = 'Illisarvik'#'FishIsland'#\n",
    "Scope = 'Full'\n",
    "cwd = os.getcwd()\n",
    "def ModSelect(Scope,Site):\n",
    "    if Site == 'Illisarvik':\n",
    "        BaseFactors = ['Sedge','Shrub','Grass','Sparse','Out_of_Basin']\n",
    "        BaseFactors = []\n",
    "        if Scope == 'Full':\n",
    "            Model = ['H','wind_speed','air_pressure','PPFD_Avg','AirTC_Avg','VPD',\n",
    "                    'Temp','VWC','Sedge','Shrub','Grass','Sparse','Out_of_Basin']\n",
    "        if Scope == 'Test':\n",
    "            Model = ['PPFD_Avg','wind_speed','air_pressure']\n",
    "    if Site == 'FishIsland':\n",
    "        BaseFactors = []\n",
    "        if Scope == 'Full':\n",
    "            Model = ['H','Wind Spd','air pressure','Ta','Rn','PPFD','Rain','Water Table',\n",
    "            'Ts 2.5 cm','Ts 15 cm','VWC','Active Layer','24H Rain','Wtr Tbl Trnd']\n",
    "        if Scope == 'Test':\n",
    "            Model = ['H','Water Table','Wind Spd','Active Layer']\n",
    "    return(Model,BaseFactors)\n",
    "\n",
    "def Params(Func,Y,MP = True):\n",
    "    params = {}\n",
    "    params['proc']=3\n",
    "    if MP == False:\n",
    "        params['proc']=1\n",
    "    if Func == 'Full':\n",
    "        epochs = 200\n",
    "        K = 30\n",
    "        splits_per_mod = 1\n",
    "        N = np.linspace(200,20,10,dtype='int32')\n",
    "    elif Func == 'Test':\n",
    "        epochs = 200\n",
    "        K = 30\n",
    "        splits_per_mod = 1\n",
    "        N = np.linspace(70,10,5,dtype='int32')\n",
    "    N = np.repeat(N,K)\n",
    "    d = {'N':N.astype(int)}\n",
    "    Runs = pd.DataFrame(data=d)\n",
    "    Runs['MAE'] = 0.0\n",
    "    Runs['R2'] = 0.0\n",
    "    Runs['Model']=0\n",
    "    params['K'] = K\n",
    "    params['epochs'] = epochs\n",
    "    params['Y'] = Y\n",
    "    params['splits_per_mod'] = splits_per_mod\n",
    "    params['Save'] = {}\n",
    "    params['Save']['Weights']=False\n",
    "    params['Save']['Model']=False\n",
    "    \n",
    "    return(Runs,params)\n",
    "\n",
    "\n",
    "MP=True\n",
    "if Scope == 'Full':\n",
    "    MP = True\n",
    "if __name__=='__main__'and MP==True:\n",
    "    pool = Pool(processes=3,maxtasksperchild=75)\n",
    "else:pool=None\n",
    "    \n",
    "for Site in ['Illisarvik','FishIsland']:\n",
    "#     Site='Illisarvik'\n",
    "#     FillVar = 'fco2'\n",
    "    for FillVar in ['fco2','fch4']:\n",
    "        print(Site,FillVar)\n",
    "        FullModel,BaseFactors = ModSelect(Scope,Site)\n",
    "        Runs,params = Params(Scope,FillVar,MP)\n",
    "        params['Dpath'] = cwd+'/'+Site+'/'\n",
    "        params['Prelim_N']=True\n",
    "        Best,Scores,ModelRuns = FactorTest(params,FullModel,Runs,BaseFactors)\n",
    "        print(Best,Scores)\n",
    "        Scores,ModelRuns = Best_Fill(Best,Runs,Scores,params)\n",
    "        Scores.to_csv(params['Dpath']+FillVar+'/GapFillingSummary.csv')\n",
    "        ModelRuns.to_csv(params['Dpath']+FillVar+'/GapFilled.csv')\n",
    "\n",
    "if __name__=='__main__'and MP==True:\n",
    "    pool.close()"
   ]
  },
  {
   "cell_type": "code",
   "execution_count": 8,
   "metadata": {},
   "outputs": [
    {
     "name": "stdout",
     "output_type": "stream",
     "text": [
      "                                                    Level       MAE  \\\n",
      "Model                                                                 \n",
      "24H Rain                                              1.0  0.743331   \n",
      "Active Layer                                          1.0  0.676252   \n",
      "H                                                     1.0  0.567885   \n",
      "H+24H Rain                                            2.0  0.562922   \n",
      "H+Active Layer                                        2.0  0.529161   \n",
      "H+Active Layer+24H Rain                               3.0  0.530674   \n",
      "H+Active Layer+Wtr Tbl Trnd                           3.0  0.531754   \n",
      "H+PPFD                                                2.0  0.561504   \n",
      "H+PPFD+Active Layer                                   3.0  0.519745   \n",
      "H+Rain                                                2.0  0.567766   \n",
      "H+Rain+Active Layer                                   3.0  0.529028   \n",
      "H+Rn                                                  2.0  0.559136   \n",
      "H+Rn+Active Layer                                     3.0  0.516340   \n",
      "H+Ta                                                  2.0  0.565041   \n",
      "H+Ta+Active Layer                                     3.0  0.519196   \n",
      "H+Ts 15 cm                                            2.0  0.569045   \n",
      "H+Ts 15 cm+Active Layer                               3.0  0.528575   \n",
      "H+Ts 2.5 cm                                           2.0  0.559297   \n",
      "H+Ts 2.5 cm+Active Layer                              3.0  0.522030   \n",
      "H+VWC                                                 2.0  0.529295   \n",
      "H+VWC+Active Layer                                    3.0  0.517668   \n",
      "H+Water Table                                         2.0  0.532146   \n",
      "H+Water Table+Active Layer                            3.0  0.515784   \n",
      "H+Wind Spd                                            2.0  0.544416   \n",
      "H+Wind Spd+Active Layer                               3.0  0.510064   \n",
      "H+Wind Spd+Active Layer+24H Rain                      4.0  0.497964   \n",
      "H+Wind Spd+Active Layer+Wtr Tbl Trnd                  4.0  0.513306   \n",
      "H+Wind Spd+PPFD+Active Layer                          4.0  0.505301   \n",
      "H+Wind Spd+Rain+Active Layer                          4.0  0.510676   \n",
      "H+Wind Spd+Rn+Active Layer                            4.0  0.503428   \n",
      "...                                                   ...       ...   \n",
      "H+Wind Spd+air pressure+Ta+Water Table+Ts 2.5 c...    7.0  0.468226   \n",
      "H+Wind Spd+air pressure+Ta+Water Table+Ts 2.5 c...    8.0  0.472434   \n",
      "H+Wind Spd+air pressure+Ta+Water Table+Ts 2.5 c...    9.0  0.463996   \n",
      "H+Wind Spd+air pressure+Ta+Water Table+VWC+Acti...    7.0  0.467037   \n",
      "H+Wind Spd+air pressure+Ta+Water Table+VWC+Acti...    8.0  0.459278   \n",
      "H+Wind Spd+air pressure+Ta+Water Table+VWC+Acti...    9.0  0.466151   \n",
      "H+Wind Spd+air pressure+Ta+Water Table+VWC+Acti...    8.0  0.473638   \n",
      "H+Wind Spd+air pressure+Ts 15 cm+Active Layer         5.0  0.498888   \n",
      "H+Wind Spd+air pressure+Ts 2.5 cm+Active Layer        5.0  0.491007   \n",
      "H+Wind Spd+air pressure+VWC+Active Layer              5.0  0.485374   \n",
      "H+Wind Spd+air pressure+Water Table+Active Layer      5.0  0.480725   \n",
      "H+Wind Spd+air pressure+Water Table+Active Laye...    6.0  0.473977   \n",
      "H+Wind Spd+air pressure+Water Table+Active Laye...    6.0  0.488823   \n",
      "H+Wind Spd+air pressure+Water Table+Ts 15 cm+Ac...    6.0  0.486474   \n",
      "H+Wind Spd+air pressure+Water Table+Ts 2.5 cm+A...    6.0  0.480650   \n",
      "H+Wind Spd+air pressure+Water Table+VWC+Active ...    6.0  0.479517   \n",
      "H+Wtr Tbl Trnd                                        2.0  0.568252   \n",
      "H+air pressure                                        2.0  0.560438   \n",
      "H+air pressure+Active Layer                           3.0  0.514292   \n",
      "PPFD                                                  1.0  0.582777   \n",
      "Rain                                                  1.0  0.746475   \n",
      "Rn                                                    1.0  0.586225   \n",
      "Ta                                                    1.0  0.708225   \n",
      "Ts 15 cm                                              1.0  0.674632   \n",
      "Ts 2.5 cm                                             1.0  0.750727   \n",
      "VWC                                                   1.0  0.717915   \n",
      "Water Table                                           1.0  0.713649   \n",
      "Wind Spd                                              1.0  0.693530   \n",
      "Wtr Tbl Trnd                                          1.0  0.719801   \n",
      "air pressure                                          1.0  0.750501   \n",
      "\n",
      "                                                              R2        SE  \n",
      "Model                                                                       \n",
      "24H Rain                                           -4.742358e+02  0.000194  \n",
      "Active Layer                                       -6.693848e+00  0.000248  \n",
      "H                                                  -2.001093e+00  0.000299  \n",
      "H+24H Rain                                         -1.867711e+00  0.000302  \n",
      "H+Active Layer                                     -1.026304e+00  0.000367  \n",
      "H+Active Layer+24H Rain                            -9.087883e-01  0.000647  \n",
      "H+Active Layer+Wtr Tbl Trnd                        -1.031718e+00  0.000485  \n",
      "H+PPFD                                             -1.921345e+00  0.000309  \n",
      "H+PPFD+Active Layer                                -1.016672e+00  0.000702  \n",
      "H+Rain                                             -1.998699e+00  0.000308  \n",
      "H+Rain+Active Layer                                -1.014147e+00  0.000317  \n",
      "H+Rn                                               -1.923296e+00  0.000423  \n",
      "H+Rn+Active Layer                                  -1.043583e+00  0.000644  \n",
      "H+Ta                                               -2.007329e+00  0.000251  \n",
      "H+Ta+Active Layer                                  -9.332405e-01  0.000700  \n",
      "H+Ts 15 cm                                         -1.839014e+00  0.000302  \n",
      "H+Ts 15 cm+Active Layer                            -1.037997e+00  0.000462  \n",
      "H+Ts 2.5 cm                                        -2.006085e+00  0.000449  \n",
      "H+Ts 2.5 cm+Active Layer                           -1.056785e+00  0.000846  \n",
      "H+VWC                                              -1.368056e+00  0.000968  \n",
      "H+VWC+Active Layer                                 -9.326289e-01  0.000793  \n",
      "H+Water Table                                      -1.413403e+00  0.000253  \n",
      "H+Water Table+Active Layer                         -8.891453e-01  0.000627  \n",
      "H+Wind Spd                                         -1.572857e+00  0.000797  \n",
      "H+Wind Spd+Active Layer                            -8.183800e-01  0.000724  \n",
      "H+Wind Spd+Active Layer+24H Rain                   -5.026679e-01  0.001083  \n",
      "H+Wind Spd+Active Layer+Wtr Tbl Trnd               -7.715206e-01  0.000760  \n",
      "H+Wind Spd+PPFD+Active Layer                       -7.869117e-01  0.000919  \n",
      "H+Wind Spd+Rain+Active Layer                       -7.878826e-01  0.000774  \n",
      "H+Wind Spd+Rn+Active Layer                         -7.790406e-01  0.000630  \n",
      "...                                                          ...       ...  \n",
      "H+Wind Spd+air pressure+Ta+Water Table+Ts 2.5 c... -4.334508e-01  0.001598  \n",
      "H+Wind Spd+air pressure+Ta+Water Table+Ts 2.5 c... -4.195972e-01  0.001860  \n",
      "H+Wind Spd+air pressure+Ta+Water Table+Ts 2.5 c... -2.573630e-01  0.002649  \n",
      "H+Wind Spd+air pressure+Ta+Water Table+VWC+Acti... -3.186967e-01  0.001933  \n",
      "H+Wind Spd+air pressure+Ta+Water Table+VWC+Acti... -1.991956e-01  0.002259  \n",
      "H+Wind Spd+air pressure+Ta+Water Table+VWC+Acti... -2.301975e-01  0.001856  \n",
      "H+Wind Spd+air pressure+Ta+Water Table+VWC+Acti... -3.576407e-01  0.002290  \n",
      "H+Wind Spd+air pressure+Ts 15 cm+Active Layer      -6.972716e-01  0.001242  \n",
      "H+Wind Spd+air pressure+Ts 2.5 cm+Active Layer     -6.365022e-01  0.001386  \n",
      "H+Wind Spd+air pressure+VWC+Active Layer           -6.414449e-01  0.001207  \n",
      "H+Wind Spd+air pressure+Water Table+Active Layer   -5.488513e-01  0.001189  \n",
      "H+Wind Spd+air pressure+Water Table+Active Laye... -3.566362e-01  0.001504  \n",
      "H+Wind Spd+air pressure+Water Table+Active Laye... -6.152256e-01  0.001361  \n",
      "H+Wind Spd+air pressure+Water Table+Ts 15 cm+Ac... -6.222573e-01  0.001679  \n",
      "H+Wind Spd+air pressure+Water Table+Ts 2.5 cm+A... -5.839786e-01  0.002591  \n",
      "H+Wind Spd+air pressure+Water Table+VWC+Active ... -5.113382e-01  0.001513  \n",
      "H+Wtr Tbl Trnd                                     -1.975665e+00  0.000455  \n",
      "H+air pressure                                     -1.640647e+00  0.000396  \n",
      "H+air pressure+Active Layer                        -9.239047e-01  0.000663  \n",
      "PPFD                                               -2.217998e+00  0.000286  \n",
      "Rain                                               -2.389218e+13  0.000012  \n",
      "Rn                                                 -2.266631e+00  0.000341  \n",
      "Ta                                                 -1.449393e+01  0.000258  \n",
      "Ts 15 cm                                           -5.492320e+00  0.000341  \n",
      "Ts 2.5 cm                                          -3.847573e+02  0.000208  \n",
      "VWC                                                -3.594242e+01  0.000650  \n",
      "Water Table                                        -1.284466e+01  0.000173  \n",
      "Wind Spd                                           -1.392150e+01  0.000350  \n",
      "Wtr Tbl Trnd                                       -3.321679e+01  0.000798  \n",
      "air pressure                                       -7.608875e+01  0.000271  \n",
      "\n",
      "[90 rows x 4 columns]\n"
     ]
    }
   ],
   "source": [
    "Grp = Scores.groupby('Model').mean()\n",
    "Grp['SE'] = Scores[['Model','MAE']].groupby('Model').sem()\n",
    "# Grp['SE'] = Scores[['Key','MAE']].groupby('Key').sem()\n",
    "print(Grp)\n",
    "# plt.bar(Grp.index,Grp['MAE'],yerr=Grp['SE'])"
   ]
  },
  {
   "cell_type": "code",
   "execution_count": null,
   "metadata": {
    "collapsed": true
   },
   "outputs": [],
   "source": []
  }
 ],
 "metadata": {
  "kernelspec": {
   "display_name": "Python 3",
   "language": "python",
   "name": "python3"
  },
  "language_info": {
   "codemirror_mode": {
    "name": "ipython",
    "version": 3
   },
   "file_extension": ".py",
   "mimetype": "text/x-python",
   "name": "python",
   "nbconvert_exporter": "python",
   "pygments_lexer": "ipython3",
   "version": "3.6.2"
  }
 },
 "nbformat": 4,
 "nbformat_minor": 2
}
