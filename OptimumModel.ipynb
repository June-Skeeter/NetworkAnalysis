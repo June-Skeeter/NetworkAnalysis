{
 "cells": [
  {
   "cell_type": "markdown",
   "metadata": {},
   "source": [
    "##  Optimze and a Dense Neural Network for gap filling and feature identification\n",
    "\n",
    "** With a few tweaks to RepRunner, an LSTM can be run instead"
   ]
  },
  {
   "cell_type": "code",
   "execution_count": 1,
   "metadata": {
    "collapsed": true
   },
   "outputs": [],
   "source": [
    "import time\n",
    "import math\n",
    "import numpy as np\n",
    "import pandas as pd\n",
    "import matplotlib.pyplot as plt\n",
    "from itertools import combinations\n",
    "from functools import partial\n",
    "from multiprocessing import Pool\n",
    "from sklearn.preprocessing import StandardScaler\n",
    "from sklearn import metrics\n",
    "from sklearn.model_selection import RepeatedKFold\n",
    "from sklearn.model_selection import train_test_split\n",
    "\n",
    "## Personal Modules\n",
    "import ReadStandardTimeFill as RSTF\n",
    "import importlib\n",
    "import DenseNet as Dense\n",
    "importlib.reload(Dense)\n",
    "importlib.reload(RSTF)\n",
    "\n",
    "%matplotlib inline\n",
    "%config IPCompleter.greedy=True\n",
    "\n",
    "from scipy.optimize import minimize, curve_fit\n",
    "from scipy.stats import norm\n",
    "from sklearn.gaussian_process import GaussianProcessRegressor\n",
    "from sklearn.gaussian_process.kernels import Matern, WhiteKernel, ConstantKernel\n",
    "from matplotlib import cm\n",
    "\n",
    "from scipy import stats\n",
    "from statsmodels.stats.multicomp import pairwise_tukeyhsd\n",
    "\n",
    "from ipywidgets import FloatProgress\n",
    "from IPython.display import display\n",
    "import os  "
   ]
  },
  {
   "cell_type": "code",
   "execution_count": 2,
   "metadata": {
    "collapsed": true
   },
   "outputs": [],
   "source": [
    "# def Curve(x,a,b,c,o):\n",
    "#     return (a/(b+x)**c+o)\n",
    "\n",
    "def Curve(x,a,b,c):\n",
    "    return (a*x**2+b*x+c)\n",
    "\n",
    "def Combos(Model,L,factor=None):\n",
    "    Models=list()\n",
    "    for c in combinations(Model,L):\n",
    "        c = list(c)\n",
    "        if factor is None:\n",
    "            Models.append(c)\n",
    "        else:\n",
    "            for f in factor:\n",
    "                f = f.split('+')\n",
    "                if set(f).issubset(set(c)) and c not in Models:\n",
    "                    Models.append(c)\n",
    "    return(Models)\n",
    "\n",
    "def TTV_Split(iteration,Memory,X,y,params,X_fill):\n",
    "    params['seed'] = int(iteration%params['splits_per_mod']/params['splits_per_mod']*100)\n",
    "    params['iteration'] = int(iteration/params['splits_per_mod'])\n",
    "    X_train,X_test,y_train,y_test=train_test_split(X,y, test_size=0.1, random_state=params['seed'])\n",
    "    X_train,X_val,y_train,y_val=train_test_split(X_train,y_train, test_size=0.11, random_state=params['seed'])\n",
    "    return(Dense.Train_Steps(params,X_train,X_test,X_val,y_train,y_test,\n",
    "        y_val,X_fill = X_fill,Memory=Memory),\n",
    "        y_val)\n",
    "\n",
    "def RunReps(Model,params,pool = None,FullReturn=False):\n",
    "    RST = RSTF.ReadStandardTimeFill(params['Dpath']+'ECData.csv')\n",
    "    offset = 5/params['proc']\n",
    "    Memory = (math.floor(100/params['proc'])- offset) * .01\n",
    "    MSE = []\n",
    "    RST.Scale(params['Y'],Model)\n",
    "    if params['T'] >0:\n",
    "        RST.TimeShape(params['T'])\n",
    "    y = RST.y*1.0\n",
    "    X = RST.X*1.0\n",
    "    X_fill = RST.X_fill*1.0\n",
    "    MSE = []\n",
    "    R2 =[]\n",
    "    Y_fill = []\n",
    "    Yval = []\n",
    "    y_val= []\n",
    "    if __name__=='__main__'and params['proc'] != 1:\n",
    "        for i,results in enumerate(pool.imap(partial(TTV_Split,Memory=Memory,X=X,y=y,params=params,X_fill=X_fill),range(params['K']))):\n",
    "            Y_fill.append(results[0][0])\n",
    "            Yval = RST.YScaled.inverse_transform(results[0][1].reshape(-1,1))\n",
    "            y_val = RST.YScaled.inverse_transform(results[1].reshape(-1,1))\n",
    "            MSE.append(metrics.mean_squared_error(Yval,y_val))\n",
    "            R2.append(metrics.r2_score(Yval,y_val))\n",
    "    else:\n",
    "        for i in range(params['K']):\n",
    "            results = TTV_Split(i,Memory,X,y,params,X_fill)\n",
    "            Y_fill.append(results[0][0])\n",
    "            Yval = RST.YScaled.inverse_transform(results[0][1].reshape(-1,1))\n",
    "            y_val = RST.YScaled.inverse_transform(results[1].reshape(-1,1))\n",
    "            MSE.append(metrics.mean_squared_error(y_val,Yval))\n",
    "            R2.append(metrics.r2_score(y_val,Yval))\n",
    "    Y_fill = np.asanyarray(Y_fill)\n",
    "    Y_fill = Y_fill.mean(axis=0) \n",
    "    FillVarName = FillVar.replace('f','F')\n",
    "    RST.Fill(Y_fill,FillVarName)\n",
    "    return(MSE,R2,RST.Master['TempFill'])\n",
    "\n",
    "def RunLoop(Runs,model):\n",
    "    style = {'description_width': 'initial'}\n",
    "    f = FloatProgress(min=0, max=Runs['N'].count(),description='Finding Best N:',style=style) # instantiate the bar\n",
    "    display(f) # display the bar\n",
    "    for N in Runs['N'].unique():\n",
    "        params['T'] = 0\n",
    "        params['N']=N\n",
    "        Results = RunReps(model,params,pool)\n",
    "        MSE = Results[0]\n",
    "        R2 = Results[1]\n",
    "        Runs.loc[Runs['N']==N,'MSE']=MSE\n",
    "        Runs.loc[Runs['N']==N,'R2']=R2\n",
    "        f.value+=params['K']\n",
    "    return(Runs)\n",
    "\n",
    "def N_Nodes(Runs,params,model,plot=False):\n",
    "    Runs = RunLoop(Runs,model)\n",
    "    Group = Runs.groupby('N').mean()\n",
    "    Group['SD'] = Runs[['N','MSE']].groupby('N').std()\n",
    "    Group['SE'] = Runs[['N','MSE']].groupby('N').sem()\n",
    "    Group = Group.reset_index()\n",
    "    Min = Group.loc[Group['MSE']==Group['MSE'].min()]\n",
    "    popt, pcov = curve_fit(Curve, Runs['N'].values, Runs['MSE'].values)\n",
    "    N = np.arange(Runs['N'].min(),Runs['N'].max())\n",
    "    Fit = Curve(N,*popt)\n",
    "    Max = (Min['MSE']+Min['SE']).values[0]\n",
    "    try:\n",
    "        params['N']=N[Fit<Max].min()\n",
    "    except:\n",
    "#         params['N']=N[-1]\n",
    "        print('Fitting failed to produce meaningful results')\n",
    "        params['N'] = Group.loc[Group['MSE']<+Min['MSE'].values[0]+Min['SE'].values[0],'N'].values[0]\n",
    "        pass\n",
    "    \n",
    "    if plot == True:\n",
    "        fig,ax = plt.subplots(figsize=(8,8))\n",
    "        ax.scatter(Runs['N'],Runs['MSE'])\n",
    "        ax.plot(N,Fit,color='r')\n",
    "        ax.plot(N,N*0+Max,color = 'black')\n",
    "        plt.grid()\n",
    "        plt.show()\n",
    "        print(params['N'])\n",
    "    return(params)\n",
    "\n",
    "def FactorTest(params,FullModel,Runs):\n",
    "    prog1 = FloatProgress(min=0, max=len(FullModel)-1,description='FactorTesting:') # instantiate the bar\n",
    "    display(prog1) # display the bar\n",
    "    Scores = Runs[['MSE','R2']].reset_index(drop=True)\n",
    "    Scores = (Scores.iloc[0:params['K']])*0\n",
    "    Scores['Level'] = len(FullModel)\n",
    "    Scores['Key'] = str(Scores['Level'][0])+'_0'\n",
    "    Scores['Model'] = '+'.join(FullModel)\n",
    "    Results = RunReps(FullModel,params,pool)\n",
    "    MSE = Results[0]\n",
    "    R2 = Results[1]\n",
    "    Scores['MSE']=Results[0]\n",
    "    Scores['R2']=Results[1]\n",
    "    ModelRuns = Results[2]\n",
    "    ModelRuns = ModelRuns.to_frame()\n",
    "    ModelRuns['Model: '+'+'.join(FullModel)]=ModelRuns['TempFill']\n",
    "    ModelRuns=ModelRuns.drop('TempFill',axis=1)\n",
    "    for i in range(1,len(FullModel)):\n",
    "        if i == 1:\n",
    "            Models = Combos(FullModel,i)\n",
    "        else:\n",
    "            Models = Combos(FullModel,i,factor = Best)\n",
    "        print('Number of Models: ',len(Models))\n",
    "        prog2 = FloatProgress(min=0, max=len(Models),description='Level: '+str(i)) # instantiate the bar\n",
    "        display(prog2) # display the bar\n",
    "        Values = []\n",
    "        Names = []\n",
    "        for i,model in enumerate(Models):\n",
    "            level = len(model)\n",
    "            key = str(level)+'_'+str(i)\n",
    "            Name = '+'.join(model)\n",
    "#             NewRow = Scores.iloc[-1].copy()\n",
    "#             NewRow['Model'] = 'Model: '+Name\n",
    "            Results = RunReps(model,params,pool)\n",
    "            MSE = Results[0]\n",
    "            R2 = Results[1]\n",
    "            d = {'Model':'+'.join(model),'MSE':MSE,'Key':key,'R2':R2,'Level':level}#,'Best':'N'\n",
    "            score = pd.DataFrame(index=[x for x in range(params['K'])],data=d)\n",
    "            Scores = Scores.append(score,ignore_index=True)## Might cause problems in older versions\n",
    "            ModelRuns['Model: '+'+'.join(model)] = Results[2]    \n",
    "            prog2.value+=1\n",
    "        Group = Scores.groupby('Key').agg({'Model': 'first', \n",
    "            'Level': 'first','MSE': 'mean','R2': 'mean'})#.reset_index()#mean()  \n",
    "        Group['SD'] = Scores[['Key','MSE']].groupby('Key').std()\n",
    "        Group['SE'] = Scores[['Key','MSE']].groupby('Key').sem()\n",
    "        Min = Group.loc[Group['Level']==level]\n",
    "        Best = Min.loc[Min['MSE'] == Min['MSE'].min(),'Model'].values\n",
    "        print(Best)  \n",
    "        prog1.value+=1\n",
    "    Group = Scores.groupby('Key').agg({'Model': 'first', \n",
    "        'Level': 'first','MSE': 'mean','R2': 'mean'})#.reset_index()#mean()  \n",
    "    Group['SD'] = Scores[['Key','MSE']].groupby('Key').std()\n",
    "    Group['SE'] = Scores[['Key','MSE']].groupby('Key').sem()\n",
    "    Min = Group.loc[Group['Level']==level]\n",
    "\n",
    "    Levels = Group.groupby('Level').min()\n",
    "    Sub=Group[Group['MSE'].isin(Levels['MSE'].values)]\n",
    "    print(Sub)\n",
    "    Sub.sort_values('Level',inplace=True)\n",
    "    Sub = Sub.loc[Sub['Level']>=1]\n",
    "    Sub.reset_index(inplace=True,drop=True)\n",
    "    Min = Sub.loc[Sub['MSE']==Sub['MSE'].min()]\n",
    "    Parsimony = (Sub.loc[Sub['MSE']<(Min['MSE'].values+Min['SE'].values)[0]])\n",
    "    Parsimony = Parsimony.loc[Parsimony['Level']==Parsimony['Level'].min()]\n",
    "    print(Parsimony)\n",
    "    Best = Parsimony['Model'].values\n",
    "    return(Best,Scores,ModelRuns)\n",
    "def Best_Fill(Best,Runs,Scores,params):\n",
    "    N = Runs['N']\n",
    "    NRuns = Runs*0\n",
    "    NRuns['N']=N\n",
    "    model = Best[0].split('+')\n",
    "\n",
    "    params = N_Nodes(NRuns,params,model,plot=True)\n",
    "    level = 0#len(Best)\n",
    "    print(Best)\n",
    "    key = '0_'+str(params['N'])\n",
    "    Name = '+'.join(Best)\n",
    "#     NewRow = Scores.iloc[-1].copy()\n",
    "#     NewRow['Model'] = 'BestModel: '+Name\n",
    "    Results = RunReps(model,params,pool)\n",
    "    MSE = Results[0]\n",
    "    R2 = Results[1]\n",
    "    d = {'Model':'+'.join(model),'MSE':MSE,'Key':key,'R2':R2,'Level':level}#,'Best':'N'\n",
    "    score = pd.DataFrame(index=[x for x in range(params['K'])],data=d)\n",
    "    Scores = Scores.append(score,ignore_index=True)\n",
    "#     Scores = Scores.append(score,ignore_index=True)\n",
    "    ModelRuns['BestModel: '+'+'.join(model)] = Results[2] \n",
    "    print(params['N'])\n",
    "    return(Scores,ModelRuns)\n",
    "#     print(Scores)\n",
    "# pool.close()"
   ]
  },
  {
   "cell_type": "markdown",
   "metadata": {},
   "source": [
    "# The \"Optimum\" Sized Model"
   ]
  },
  {
   "cell_type": "code",
   "execution_count": 3,
   "metadata": {
    "scrolled": false
   },
   "outputs": [
    {
     "name": "stdout",
     "output_type": "stream",
     "text": [
      "{'Y': 'fco2', 'proc': 3, 'epochs': 200, 'splits_per_mod': 4, 'Dpath': '/home/ubuntu/NetworkAnalysis/Illisarvik/', 'K': 20, 'Save': {'Weights': False, 'Model': False}}\n"
     ]
    },
    {
     "data": {
      "application/vnd.jupyter.widget-view+json": {
       "model_id": "fd8a432fac274b68bd8734f8a8e1ba12",
       "version_major": 2,
       "version_minor": 0
      },
      "text/plain": [
       "A Jupyter Widget"
      ]
     },
     "metadata": {},
     "output_type": "display_data"
    },
    {
     "name": "stderr",
     "output_type": "stream",
     "text": [
      "Using TensorFlow backend.\n",
      "Using TensorFlow backend.\n",
      "Using TensorFlow backend.\n",
      "Using TensorFlow backend.\n",
      "Using TensorFlow backend.\n",
      "Using TensorFlow backend.\n"
     ]
    },
    {
     "data": {
      "image/png": "[encoded data removed]",
      "text/plain": [
       "<matplotlib.figure.Figure at 0x7fb991551550>"
      ]
     },
     "metadata": {},
     "output_type": "display_data"
    },
    {
     "name": "stdout",
     "output_type": "stream",
     "text": [
      "48\n"
     ]
    },
    {
     "data": {
      "application/vnd.jupyter.widget-view+json": {
       "model_id": "46d299a406894e3dbae0e197438475bd",
       "version_major": 2,
       "version_minor": 0
      },
      "text/plain": [
       "A Jupyter Widget"
      ]
     },
     "metadata": {},
     "output_type": "display_data"
    },
    {
     "name": "stdout",
     "output_type": "stream",
     "text": [
      "Number of Models:  13\n"
     ]
    },
    {
     "data": {
      "application/vnd.jupyter.widget-view+json": {
       "model_id": "316af57fe39d44d093c1d6ba4b9698c0",
       "version_major": 2,
       "version_minor": 0
      },
      "text/plain": [
       "A Jupyter Widget"
      ]
     },
     "metadata": {},
     "output_type": "display_data"
    },
    {
     "name": "stderr",
     "output_type": "stream",
     "text": [
      "Using TensorFlow backend.\n",
      "Using TensorFlow backend.\n",
      "Using TensorFlow backend.\n"
     ]
    },
    {
     "name": "stdout",
     "output_type": "stream",
     "text": [
      "['PPFD_Avg']\n",
      "Number of Models:  12\n"
     ]
    },
    {
     "data": {
      "application/vnd.jupyter.widget-view+json": {
       "model_id": "37f72deecd6145ae86a8ca8613fa633b",
       "version_major": 2,
       "version_minor": 0
      },
      "text/plain": [
       "A Jupyter Widget"
      ]
     },
     "metadata": {},
     "output_type": "display_data"
    },
    {
     "name": "stderr",
     "output_type": "stream",
     "text": [
      "Using TensorFlow backend.\n",
      "Using TensorFlow backend.\n",
      "Using TensorFlow backend.\n"
     ]
    },
    {
     "name": "stdout",
     "output_type": "stream",
     "text": [
      "['wind_speed+PPFD_Avg']\n",
      "Number of Models:  11\n"
     ]
    },
    {
     "data": {
      "application/vnd.jupyter.widget-view+json": {
       "model_id": "36090e73ca054db081c56b748f314e03",
       "version_major": 2,
       "version_minor": 0
      },
      "text/plain": [
       "A Jupyter Widget"
      ]
     },
     "metadata": {},
     "output_type": "display_data"
    },
    {
     "name": "stderr",
     "output_type": "stream",
     "text": [
      "Using TensorFlow backend.\n",
      "Using TensorFlow backend.\n",
      "Using TensorFlow backend.\n"
     ]
    },
    {
     "name": "stdout",
     "output_type": "stream",
     "text": [
      "['wind_speed+PPFD_Avg+VPD']\n",
      "Number of Models:  10\n"
     ]
    },
    {
     "data": {
      "application/vnd.jupyter.widget-view+json": {
       "model_id": "dde30cd7a1b14663acc9e4982c256452",
       "version_major": 2,
       "version_minor": 0
      },
      "text/plain": [
       "A Jupyter Widget"
      ]
     },
     "metadata": {},
     "output_type": "display_data"
    },
    {
     "name": "stderr",
     "output_type": "stream",
     "text": [
      "Using TensorFlow backend.\n",
      "Using TensorFlow backend.\n",
      "Using TensorFlow backend.\n"
     ]
    },
    {
     "name": "stdout",
     "output_type": "stream",
     "text": [
      "['H+wind_speed+PPFD_Avg+VPD']\n",
      "Number of Models:  9\n"
     ]
    },
    {
     "data": {
      "application/vnd.jupyter.widget-view+json": {
       "model_id": "f9e99167e13946c4aa6a35330972ff2c",
       "version_major": 2,
       "version_minor": 0
      },
      "text/plain": [
       "A Jupyter Widget"
      ]
     },
     "metadata": {},
     "output_type": "display_data"
    },
    {
     "name": "stderr",
     "output_type": "stream",
     "text": [
      "Using TensorFlow backend.\n",
      "Using TensorFlow backend.\n",
      "Using TensorFlow backend.\n"
     ]
    },
    {
     "name": "stdout",
     "output_type": "stream",
     "text": [
      "['H+wind_speed+PPFD_Avg+VPD+VWC']\n",
      "Number of Models:  8\n"
     ]
    },
    {
     "data": {
      "application/vnd.jupyter.widget-view+json": {
       "model_id": "b2876bae5ab04a01b62a5f034d7be121",
       "version_major": 2,
       "version_minor": 0
      },
      "text/plain": [
       "A Jupyter Widget"
      ]
     },
     "metadata": {},
     "output_type": "display_data"
    },
    {
     "name": "stderr",
     "output_type": "stream",
     "text": [
      "Using TensorFlow backend.\n",
      "Using TensorFlow backend.\n"
     ]
    },
    {
     "name": "stdout",
     "output_type": "stream",
     "text": [
      "['H+wind_speed+PPFD_Avg+VPD+VWC+Sedge']\n",
      "Number of Models:  7\n"
     ]
    },
    {
     "data": {
      "application/vnd.jupyter.widget-view+json": {
       "model_id": "7c6115027924415580612c0cb52cce92",
       "version_major": 2,
       "version_minor": 0
      },
      "text/plain": [
       "A Jupyter Widget"
      ]
     },
     "metadata": {},
     "output_type": "display_data"
    },
    {
     "name": "stderr",
     "output_type": "stream",
     "text": [
      "Using TensorFlow backend.\n"
     ]
    },
    {
     "name": "stdout",
     "output_type": "stream",
     "text": [
      "['H+wind_speed+air_pressure+PPFD_Avg+VPD+VWC+Sedge']\n",
      "Number of Models:  6\n"
     ]
    },
    {
     "data": {
      "application/vnd.jupyter.widget-view+json": {
       "model_id": "355acbdedae342b3952c02bb82a5c0bb",
       "version_major": 2,
       "version_minor": 0
      },
      "text/plain": [
       "A Jupyter Widget"
      ]
     },
     "metadata": {},
     "output_type": "display_data"
    },
    {
     "name": "stderr",
     "output_type": "stream",
     "text": [
      "Using TensorFlow backend.\n",
      "Using TensorFlow backend.\n",
      "Using TensorFlow backend.\n"
     ]
    },
    {
     "name": "stdout",
     "output_type": "stream",
     "text": [
      "['H+wind_speed+air_pressure+PPFD_Avg+AirTC_Avg+VPD+VWC+Sedge']\n",
      "Number of Models:  5\n"
     ]
    },
    {
     "data": {
      "application/vnd.jupyter.widget-view+json": {
       "model_id": "d2c6f80f791445b29bf6a8be3d419c34",
       "version_major": 2,
       "version_minor": 0
      },
      "text/plain": [
       "A Jupyter Widget"
      ]
     },
     "metadata": {},
     "output_type": "display_data"
    },
    {
     "name": "stdout",
     "output_type": "stream",
     "text": [
      "['H+wind_speed+air_pressure+PPFD_Avg+AirTC_Avg+VPD+VWC+Sedge+Sparse']\n",
      "Number of Models:  4\n"
     ]
    },
    {
     "data": {
      "application/vnd.jupyter.widget-view+json": {
       "model_id": "7602f760ddf94251aef0751a77e55ada",
       "version_major": 2,
       "version_minor": 0
      },
      "text/plain": [
       "A Jupyter Widget"
      ]
     },
     "metadata": {},
     "output_type": "display_data"
    },
    {
     "name": "stderr",
     "output_type": "stream",
     "text": [
      "Using TensorFlow backend.\n"
     ]
    },
    {
     "name": "stdout",
     "output_type": "stream",
     "text": [
      "[ 'H+wind_speed+air_pressure+PPFD_Avg+AirTC_Avg+VPD+VWC+Sedge+Sparse+Out_of_Basin']\n",
      "Number of Models:  3\n"
     ]
    },
    {
     "data": {
      "application/vnd.jupyter.widget-view+json": {
       "model_id": "c4adf512c9ec4f9188392a78c02fbde0",
       "version_major": 2,
       "version_minor": 0
      },
      "text/plain": [
       "A Jupyter Widget"
      ]
     },
     "metadata": {},
     "output_type": "display_data"
    },
    {
     "name": "stderr",
     "output_type": "stream",
     "text": [
      "Using TensorFlow backend.\n",
      "Using TensorFlow backend.\n"
     ]
    },
    {
     "name": "stdout",
     "output_type": "stream",
     "text": [
      "[ 'H+wind_speed+air_pressure+PPFD_Avg+AirTC_Avg+VPD+VWC+Sedge+Shrub+Sparse+Out_of_Basin']\n",
      "Number of Models:  2\n"
     ]
    },
    {
     "data": {
      "application/vnd.jupyter.widget-view+json": {
       "model_id": "4058c13d3e0c402488410457da7510bb",
       "version_major": 2,
       "version_minor": 0
      },
      "text/plain": [
       "A Jupyter Widget"
      ]
     },
     "metadata": {},
     "output_type": "display_data"
    },
    {
     "name": "stdout",
     "output_type": "stream",
     "text": [
      "[ 'H+wind_speed+air_pressure+PPFD_Avg+AirTC_Avg+VPD+Temp+VWC+Sedge+Shrub+Sparse+Out_of_Basin']\n",
      "                                                  Model       MSE        R2  \\\n",
      "Key                                                                           \n",
      "10_3  H+wind_speed+air_pressure+PPFD_Avg+AirTC_Avg+V...  0.740938  0.916654   \n",
      "11_1  H+wind_speed+air_pressure+PPFD_Avg+AirTC_Avg+V...  0.786313  0.911176   \n",
      "12_0  H+wind_speed+air_pressure+PPFD_Avg+AirTC_Avg+V...  0.767655  0.914937   \n",
      "13_0  H+wind_speed+air_pressure+PPFD_Avg+AirTC_Avg+V...  0.842020  0.905609   \n",
      "1_3                                            PPFD_Avg  1.441129  0.828802   \n",
      "2_1                                 wind_speed+PPFD_Avg  1.406932  0.836983   \n",
      "3_3                             wind_speed+PPFD_Avg+VPD  1.302429  0.848050   \n",
      "4_0                           H+wind_speed+PPFD_Avg+VPD  1.149979  0.866317   \n",
      "5_3                       H+wind_speed+PPFD_Avg+VPD+VWC  1.010507  0.886106   \n",
      "6_3                 H+wind_speed+PPFD_Avg+VPD+VWC+Sedge  0.883240  0.901866   \n",
      "7_0    H+wind_speed+air_pressure+PPFD_Avg+VPD+VWC+Sedge  0.826241  0.907121   \n",
      "8_0   H+wind_speed+air_pressure+PPFD_Avg+AirTC_Avg+V...  0.745425  0.915945   \n",
      "9_3   H+wind_speed+air_pressure+PPFD_Avg+AirTC_Avg+V...  0.747592  0.916048   \n",
      "\n",
      "      Level        SD        SE  \n",
      "Key                              \n",
      "10_3     10  0.216685  0.048452  \n",
      "11_1     11  0.194100  0.043402  \n",
      "12_0     12  0.174836  0.039094  \n",
      "13_0     13  0.243192  0.054379  \n",
      "1_3       1  0.573793  0.128304  \n",
      "2_1       2  0.536003  0.119854  \n",
      "3_3       3  0.450216  0.100671  \n",
      "4_0       4  0.395266  0.088384  \n",
      "5_3       5  0.453775  0.101467  \n",
      "6_3       6  0.296252  0.066244  \n",
      "7_0       7  0.200340  0.044797  \n",
      "8_0       8  0.197458  0.044153  \n",
      "9_3       9  0.190322  0.042557  \n",
      "                                               Model       MSE        R2  \\\n",
      "7  H+wind_speed+air_pressure+PPFD_Avg+AirTC_Avg+V...  0.745425  0.915945   \n",
      "\n",
      "   Level        SD        SE  \n",
      "7      8  0.197458  0.044153  \n"
     ]
    },
    {
     "name": "stderr",
     "output_type": "stream",
     "text": [
      "/usr/local/lib/python3.5/dist-packages/ipykernel_launcher.py:168: SettingWithCopyWarning: \n",
      "A value is trying to be set on a copy of a slice from a DataFrame\n",
      "\n",
      "See the caveats in the documentation: http://pandas.pydata.org/pandas-docs/stable/indexing.html#indexing-view-versus-copy\n"
     ]
    },
    {
     "data": {
      "application/vnd.jupyter.widget-view+json": {
       "model_id": "a52776bdd0984f41b5b8bb29fe4b16d8",
       "version_major": 2,
       "version_minor": 0
      },
      "text/plain": [
       "A Jupyter Widget"
      ]
     },
     "metadata": {},
     "output_type": "display_data"
    },
    {
     "name": "stderr",
     "output_type": "stream",
     "text": [
      "Using TensorFlow backend.\n",
      "Using TensorFlow backend.\n",
      "Using TensorFlow backend.\n"
     ]
    },
    {
     "data": {
      "image/png": "[encoded data removed]",
      "text/plain": [
       "<matplotlib.figure.Figure at 0x7fb9918ecd30>"
      ]
     },
     "metadata": {},
     "output_type": "display_data"
    },
    {
     "name": "stdout",
     "output_type": "stream",
     "text": [
      "51\n",
      "['H+wind_speed+air_pressure+PPFD_Avg+AirTC_Avg+VPD+VWC+Sedge']\n",
      "51\n",
      "51\n",
      "5468.77739071846\n",
      "{'Y': 'fch4', 'proc': 3, 'epochs': 200, 'splits_per_mod': 4, 'Dpath': '/home/ubuntu/NetworkAnalysis/Illisarvik/', 'K': 20, 'Save': {'Weights': False, 'Model': False}}\n"
     ]
    },
    {
     "data": {
      "application/vnd.jupyter.widget-view+json": {
       "model_id": "5bcf17cde25541ec829c30e73cb81f71",
       "version_major": 2,
       "version_minor": 0
      },
      "text/plain": [
       "A Jupyter Widget"
      ]
     },
     "metadata": {},
     "output_type": "display_data"
    },
    {
     "name": "stderr",
     "output_type": "stream",
     "text": [
      "Using TensorFlow backend.\n",
      "Using TensorFlow backend.\n",
      "Using TensorFlow backend.\n",
      "Using TensorFlow backend.\n",
      "Using TensorFlow backend.\n",
      "Using TensorFlow backend.\n"
     ]
    },
    {
     "data": {
      "image/png": "[encoded data removed]",
      "text/plain": [
       "<matplotlib.figure.Figure at 0x7fb991592cf8>"
      ]
     },
     "metadata": {},
     "output_type": "display_data"
    },
    {
     "name": "stdout",
     "output_type": "stream",
     "text": [
      "42\n"
     ]
    },
    {
     "data": {
      "application/vnd.jupyter.widget-view+json": {
       "model_id": "d851dff2343446778d0ba37bb2c9c656",
       "version_major": 2,
       "version_minor": 0
      },
      "text/plain": [
       "A Jupyter Widget"
      ]
     },
     "metadata": {},
     "output_type": "display_data"
    },
    {
     "name": "stdout",
     "output_type": "stream",
     "text": [
      "Number of Models:  13\n"
     ]
    },
    {
     "data": {
      "application/vnd.jupyter.widget-view+json": {
       "model_id": "56937229e6dd4c3f9e57cb910598434f",
       "version_major": 2,
       "version_minor": 0
      },
      "text/plain": [
       "A Jupyter Widget"
      ]
     },
     "metadata": {},
     "output_type": "display_data"
    },
    {
     "name": "stderr",
     "output_type": "stream",
     "text": [
      "Using TensorFlow backend.\n",
      "Using TensorFlow backend.\n",
      "Using TensorFlow backend.\n"
     ]
    },
    {
     "name": "stdout",
     "output_type": "stream",
     "text": [
      "['Sedge']\n",
      "Number of Models:  12\n"
     ]
    },
    {
     "data": {
      "application/vnd.jupyter.widget-view+json": {
       "model_id": "35ed43f3b9494198bc0d30100e0160bf",
       "version_major": 2,
       "version_minor": 0
      },
      "text/plain": [
       "A Jupyter Widget"
      ]
     },
     "metadata": {},
     "output_type": "display_data"
    },
    {
     "name": "stderr",
     "output_type": "stream",
     "text": [
      "Using TensorFlow backend.\n",
      "Using TensorFlow backend.\n",
      "Using TensorFlow backend.\n"
     ]
    },
    {
     "name": "stdout",
     "output_type": "stream",
     "text": [
      "['VWC+Sedge']\n",
      "Number of Models:  11\n"
     ]
    },
    {
     "data": {
      "application/vnd.jupyter.widget-view+json": {
       "model_id": "1c2f94515ab144c18b874212b84bedba",
       "version_major": 2,
       "version_minor": 0
      },
      "text/plain": [
       "A Jupyter Widget"
      ]
     },
     "metadata": {},
     "output_type": "display_data"
    },
    {
     "name": "stderr",
     "output_type": "stream",
     "text": [
      "Using TensorFlow backend.\n",
      "Using TensorFlow backend.\n",
      "Using TensorFlow backend.\n"
     ]
    },
    {
     "name": "stdout",
     "output_type": "stream",
     "text": [
      "['VWC+Sedge+Out_of_Basin']\n",
      "Number of Models:  10\n"
     ]
    },
    {
     "data": {
      "application/vnd.jupyter.widget-view+json": {
       "model_id": "bf3714bb39b04d1ea792ea88b6a53a3c",
       "version_major": 2,
       "version_minor": 0
      },
      "text/plain": [
       "A Jupyter Widget"
      ]
     },
     "metadata": {},
     "output_type": "display_data"
    },
    {
     "name": "stderr",
     "output_type": "stream",
     "text": [
      "Using TensorFlow backend.\n",
      "Using TensorFlow backend.\n",
      "Using TensorFlow backend.\n"
     ]
    },
    {
     "name": "stdout",
     "output_type": "stream",
     "text": [
      "['H+VWC+Sedge+Out_of_Basin']\n",
      "Number of Models:  9\n"
     ]
    },
    {
     "data": {
      "application/vnd.jupyter.widget-view+json": {
       "model_id": "36a952a383e244e08f42ecd79852774c",
       "version_major": 2,
       "version_minor": 0
      },
      "text/plain": [
       "A Jupyter Widget"
      ]
     },
     "metadata": {},
     "output_type": "display_data"
    },
    {
     "name": "stderr",
     "output_type": "stream",
     "text": [
      "Using TensorFlow backend.\n",
      "Using TensorFlow backend.\n",
      "Using TensorFlow backend.\n"
     ]
    },
    {
     "name": "stdout",
     "output_type": "stream",
     "text": [
      "['H+VPD+VWC+Sedge+Out_of_Basin']\n",
      "Number of Models:  8\n"
     ]
    },
    {
     "data": {
      "application/vnd.jupyter.widget-view+json": {
       "model_id": "c70e685077d84e3b8f216669ee56a8da",
       "version_major": 2,
       "version_minor": 0
      },
      "text/plain": [
       "A Jupyter Widget"
      ]
     },
     "metadata": {},
     "output_type": "display_data"
    },
    {
     "name": "stderr",
     "output_type": "stream",
     "text": [
      "Using TensorFlow backend.\n"
     ]
    },
    {
     "name": "stdout",
     "output_type": "stream",
     "text": [
      "['H+VPD+Temp+VWC+Sedge+Out_of_Basin']\n",
      "Number of Models:  7\n"
     ]
    },
    {
     "data": {
      "application/vnd.jupyter.widget-view+json": {
       "model_id": "9e20e6f27bb14bb9a8807fe6396afee4",
       "version_major": 2,
       "version_minor": 0
      },
      "text/plain": [
       "A Jupyter Widget"
      ]
     },
     "metadata": {},
     "output_type": "display_data"
    },
    {
     "name": "stderr",
     "output_type": "stream",
     "text": [
      "Using TensorFlow backend.\n",
      "Using TensorFlow backend.\n"
     ]
    },
    {
     "name": "stdout",
     "output_type": "stream",
     "text": [
      "['H+wind_speed+VPD+Temp+VWC+Sedge+Out_of_Basin']\n",
      "Number of Models:  6\n"
     ]
    },
    {
     "data": {
      "application/vnd.jupyter.widget-view+json": {
       "model_id": "d0a8dba17dfd48c9908489b590a1d801",
       "version_major": 2,
       "version_minor": 0
      },
      "text/plain": [
       "A Jupyter Widget"
      ]
     },
     "metadata": {},
     "output_type": "display_data"
    },
    {
     "name": "stderr",
     "output_type": "stream",
     "text": [
      "Using TensorFlow backend.\n"
     ]
    },
    {
     "name": "stdout",
     "output_type": "stream",
     "text": [
      "['H+wind_speed+VPD+Temp+VWC+Sedge+Shrub+Out_of_Basin']\n",
      "Number of Models:  5\n"
     ]
    },
    {
     "data": {
      "application/vnd.jupyter.widget-view+json": {
       "model_id": "66084fd646a44c068e11b16a2774eceb",
       "version_major": 2,
       "version_minor": 0
      },
      "text/plain": [
       "A Jupyter Widget"
      ]
     },
     "metadata": {},
     "output_type": "display_data"
    },
    {
     "name": "stderr",
     "output_type": "stream",
     "text": [
      "Using TensorFlow backend.\n",
      "Using TensorFlow backend.\n"
     ]
    },
    {
     "name": "stdout",
     "output_type": "stream",
     "text": [
      "['H+wind_speed+air_pressure+VPD+Temp+VWC+Sedge+Shrub+Out_of_Basin']\n",
      "Number of Models:  4\n"
     ]
    },
    {
     "data": {
      "application/vnd.jupyter.widget-view+json": {
       "model_id": "f59acc7511c04787a677d3c845630198",
       "version_major": 2,
       "version_minor": 0
      },
      "text/plain": [
       "A Jupyter Widget"
      ]
     },
     "metadata": {},
     "output_type": "display_data"
    },
    {
     "name": "stderr",
     "output_type": "stream",
     "text": [
      "Using TensorFlow backend.\n"
     ]
    },
    {
     "name": "stdout",
     "output_type": "stream",
     "text": [
      "[ 'H+wind_speed+air_pressure+AirTC_Avg+VPD+Temp+VWC+Sedge+Shrub+Out_of_Basin']\n",
      "Number of Models:  3\n"
     ]
    },
    {
     "data": {
      "application/vnd.jupyter.widget-view+json": {
       "model_id": "eead360b9ced4d3f8e374624708d463c",
       "version_major": 2,
       "version_minor": 0
      },
      "text/plain": [
       "A Jupyter Widget"
      ]
     },
     "metadata": {},
     "output_type": "display_data"
    },
    {
     "name": "stdout",
     "output_type": "stream",
     "text": [
      "[ 'H+wind_speed+air_pressure+AirTC_Avg+VPD+Temp+VWC+Sedge+Shrub+Sparse+Out_of_Basin']\n",
      "Number of Models:  2\n"
     ]
    },
    {
     "data": {
      "application/vnd.jupyter.widget-view+json": {
       "model_id": "72d355af770c4aefac2c56d81f5295c7",
       "version_major": 2,
       "version_minor": 0
      },
      "text/plain": [
       "A Jupyter Widget"
      ]
     },
     "metadata": {},
     "output_type": "display_data"
    },
    {
     "name": "stderr",
     "output_type": "stream",
     "text": [
      "Using TensorFlow backend.\n",
      "Using TensorFlow backend.\n"
     ]
    },
    {
     "name": "stdout",
     "output_type": "stream",
     "text": [
      "[ 'H+wind_speed+air_pressure+PPFD_Avg+AirTC_Avg+VPD+Temp+VWC+Sedge+Shrub+Sparse+Out_of_Basin']\n",
      "                                                  Model         MSE        R2  \\\n",
      "Key                                                                             \n",
      "10_1  H+wind_speed+air_pressure+AirTC_Avg+VPD+Temp+V...   32.071373  0.579861   \n",
      "11_2  H+wind_speed+air_pressure+AirTC_Avg+VPD+Temp+V...   31.385239  0.597440   \n",
      "12_0  H+wind_speed+air_pressure+PPFD_Avg+AirTC_Avg+V...   31.571358  0.592033   \n",
      "13_0  H+wind_speed+air_pressure+PPFD_Avg+AirTC_Avg+V...   31.278362  0.590724   \n",
      "1_8                                               Sedge  111.685820 -5.686639   \n",
      "2_7                                           VWC+Sedge   65.284980 -0.543810   \n",
      "3_10                             VWC+Sedge+Out_of_Basin   54.566901 -0.091268   \n",
      "4_0                            H+VWC+Sedge+Out_of_Basin   46.477541  0.243552   \n",
      "5_4                        H+VPD+VWC+Sedge+Out_of_Basin   44.500672  0.292752   \n",
      "6_4                   H+VPD+Temp+VWC+Sedge+Out_of_Basin   40.627263  0.388621   \n",
      "7_0        H+wind_speed+VPD+Temp+VWC+Sedge+Out_of_Basin   36.242144  0.484604   \n",
      "8_3   H+wind_speed+VPD+Temp+VWC+Sedge+Shrub+Out_of_B...   34.278926  0.526345   \n",
      "9_0   H+wind_speed+air_pressure+VPD+Temp+VWC+Sedge+S...   32.247932  0.583282   \n",
      "\n",
      "      Level         SD        SE  \n",
      "Key                               \n",
      "10_1     10   8.313612  1.858980  \n",
      "11_2     11   7.999462  1.788734  \n",
      "12_0     12   7.822858  1.749244  \n",
      "13_0     13   8.391922  1.876491  \n",
      "1_8       1  11.745163  2.626298  \n",
      "2_7       2  14.224801  3.180762  \n",
      "3_10      3  11.016866  2.463446  \n",
      "4_0       4   9.330924  2.086458  \n",
      "5_4       5   8.475899  1.895269  \n",
      "6_4       6   6.726273  1.504040  \n",
      "7_0       7   8.239261  1.842355  \n",
      "8_3       8   6.755380  1.510549  \n",
      "9_0       9   6.789581  1.518196  \n",
      "                                               Model        MSE        R2  \\\n",
      "8  H+wind_speed+air_pressure+VPD+Temp+VWC+Sedge+S...  32.247932  0.583282   \n",
      "\n",
      "   Level        SD        SE  \n",
      "8      9  6.789581  1.518196  \n"
     ]
    },
    {
     "data": {
      "application/vnd.jupyter.widget-view+json": {
       "model_id": "419588c1f0724bb4abc49ef6368b4d73",
       "version_major": 2,
       "version_minor": 0
      },
      "text/plain": [
       "A Jupyter Widget"
      ]
     },
     "metadata": {},
     "output_type": "display_data"
    },
    {
     "name": "stderr",
     "output_type": "stream",
     "text": [
      "Using TensorFlow backend.\n",
      "Using TensorFlow backend.\n",
      "Using TensorFlow backend.\n"
     ]
    },
    {
     "data": {
      "image/png": "[encoded data removed]",
      "text/plain": [
       "<matplotlib.figure.Figure at 0x7fb991550ba8>"
      ]
     },
     "metadata": {},
     "output_type": "display_data"
    },
    {
     "name": "stdout",
     "output_type": "stream",
     "text": [
      "45\n",
      "['H+wind_speed+air_pressure+VPD+Temp+VWC+Sedge+Shrub+Out_of_Basin']\n",
      "45\n",
      "45\n",
      "4878.171691417694\n",
      "{'Y': 'fco2', 'proc': 3, 'epochs': 200, 'splits_per_mod': 4, 'Dpath': '/home/ubuntu/NetworkAnalysis/FishIsland/', 'K': 20, 'Save': {'Weights': False, 'Model': False}}\n"
     ]
    },
    {
     "data": {
      "application/vnd.jupyter.widget-view+json": {
       "model_id": "9410dffa6b704d2ab87b9ea559fe990f",
       "version_major": 2,
       "version_minor": 0
      },
      "text/plain": [
       "A Jupyter Widget"
      ]
     },
     "metadata": {},
     "output_type": "display_data"
    },
    {
     "name": "stderr",
     "output_type": "stream",
     "text": [
      "Using TensorFlow backend.\n",
      "Using TensorFlow backend.\n",
      "Using TensorFlow backend.\n",
      "Using TensorFlow backend.\n"
     ]
    },
    {
     "data": {
      "image/png": "[encoded data removed]",
      "text/plain": [
       "<matplotlib.figure.Figure at 0x7fb9915a7eb8>"
      ]
     },
     "metadata": {},
     "output_type": "display_data"
    },
    {
     "name": "stdout",
     "output_type": "stream",
     "text": [
      "47\n"
     ]
    },
    {
     "data": {
      "application/vnd.jupyter.widget-view+json": {
       "model_id": "dcbc1e4ff607480c9d1759e20f2c9d9b",
       "version_major": 2,
       "version_minor": 0
      },
      "text/plain": [
       "A Jupyter Widget"
      ]
     },
     "metadata": {},
     "output_type": "display_data"
    },
    {
     "name": "stdout",
     "output_type": "stream",
     "text": [
      "Number of Models:  14\n"
     ]
    },
    {
     "data": {
      "application/vnd.jupyter.widget-view+json": {
       "model_id": "0c1bae95f63448059f36fbfc242ceeb8",
       "version_major": 2,
       "version_minor": 0
      },
      "text/plain": [
       "A Jupyter Widget"
      ]
     },
     "metadata": {},
     "output_type": "display_data"
    },
    {
     "name": "stderr",
     "output_type": "stream",
     "text": [
      "Using TensorFlow backend.\n",
      "Using TensorFlow backend.\n",
      "Using TensorFlow backend.\n",
      "Using TensorFlow backend.\n",
      "Using TensorFlow backend.\n"
     ]
    },
    {
     "name": "stdout",
     "output_type": "stream",
     "text": [
      "['PPFD']\n",
      "Number of Models:  13\n"
     ]
    },
    {
     "data": {
      "application/vnd.jupyter.widget-view+json": {
       "model_id": "09677f2551784b0f999df4300a718ad3",
       "version_major": 2,
       "version_minor": 0
      },
      "text/plain": [
       "A Jupyter Widget"
      ]
     },
     "metadata": {},
     "output_type": "display_data"
    },
    {
     "name": "stderr",
     "output_type": "stream",
     "text": [
      "Using TensorFlow backend.\n",
      "Using TensorFlow backend.\n",
      "Using TensorFlow backend.\n"
     ]
    },
    {
     "name": "stdout",
     "output_type": "stream",
     "text": [
      "['Ta+PPFD']\n",
      "Number of Models:  12\n"
     ]
    },
    {
     "data": {
      "application/vnd.jupyter.widget-view+json": {
       "model_id": "1061dbc3198e4f32af4bb03e9fa42b96",
       "version_major": 2,
       "version_minor": 0
      },
      "text/plain": [
       "A Jupyter Widget"
      ]
     },
     "metadata": {},
     "output_type": "display_data"
    },
    {
     "name": "stderr",
     "output_type": "stream",
     "text": [
      "Using TensorFlow backend.\n",
      "Using TensorFlow backend.\n",
      "Using TensorFlow backend.\n"
     ]
    },
    {
     "name": "stdout",
     "output_type": "stream",
     "text": [
      "['Ta+PPFD+Active Layer']\n",
      "Number of Models:  11\n"
     ]
    },
    {
     "data": {
      "application/vnd.jupyter.widget-view+json": {
       "model_id": "5176f6e24fdf4e0bbfed2590acfe2902",
       "version_major": 2,
       "version_minor": 0
      },
      "text/plain": [
       "A Jupyter Widget"
      ]
     },
     "metadata": {},
     "output_type": "display_data"
    },
    {
     "name": "stderr",
     "output_type": "stream",
     "text": [
      "Using TensorFlow backend.\n",
      "Using TensorFlow backend.\n",
      "Using TensorFlow backend.\n"
     ]
    },
    {
     "name": "stdout",
     "output_type": "stream",
     "text": [
      "['H+Ta+PPFD+Active Layer']\n",
      "Number of Models:  10\n"
     ]
    },
    {
     "data": {
      "application/vnd.jupyter.widget-view+json": {
       "model_id": "7e7a7b0decda4d18a11acbdb85ab0049",
       "version_major": 2,
       "version_minor": 0
      },
      "text/plain": [
       "A Jupyter Widget"
      ]
     },
     "metadata": {},
     "output_type": "display_data"
    },
    {
     "name": "stderr",
     "output_type": "stream",
     "text": [
      "Using TensorFlow backend.\n",
      "Using TensorFlow backend.\n",
      "Using TensorFlow backend.\n"
     ]
    },
    {
     "name": "stdout",
     "output_type": "stream",
     "text": [
      "['H+Wind Spd+Ta+PPFD+Active Layer']\n",
      "Number of Models:  9\n"
     ]
    },
    {
     "data": {
      "application/vnd.jupyter.widget-view+json": {
       "model_id": "ce5f22aa9d05492d8f12ed6719b7d4c4",
       "version_major": 2,
       "version_minor": 0
      },
      "text/plain": [
       "A Jupyter Widget"
      ]
     },
     "metadata": {},
     "output_type": "display_data"
    },
    {
     "name": "stderr",
     "output_type": "stream",
     "text": [
      "Using TensorFlow backend.\n",
      "Using TensorFlow backend.\n"
     ]
    },
    {
     "name": "stdout",
     "output_type": "stream",
     "text": [
      "['H+Wind Spd+Ta+PPFD+VWC+Active Layer']\n",
      "Number of Models:  8\n"
     ]
    },
    {
     "data": {
      "application/vnd.jupyter.widget-view+json": {
       "model_id": "b912eb06dabd4f089a131d3f505877df",
       "version_major": 2,
       "version_minor": 0
      },
      "text/plain": [
       "A Jupyter Widget"
      ]
     },
     "metadata": {},
     "output_type": "display_data"
    },
    {
     "name": "stderr",
     "output_type": "stream",
     "text": [
      "Using TensorFlow backend.\n",
      "Using TensorFlow backend.\n",
      "Using TensorFlow backend.\n"
     ]
    },
    {
     "name": "stdout",
     "output_type": "stream",
     "text": [
      "['H+Wind Spd+Ta+PPFD+Water Table+VWC+Active Layer']\n",
      "Number of Models:  7\n"
     ]
    },
    {
     "data": {
      "application/vnd.jupyter.widget-view+json": {
       "model_id": "6a81f1923260488a931e2654e8949375",
       "version_major": 2,
       "version_minor": 0
      },
      "text/plain": [
       "A Jupyter Widget"
      ]
     },
     "metadata": {},
     "output_type": "display_data"
    },
    {
     "name": "stderr",
     "output_type": "stream",
     "text": [
      "Using TensorFlow backend.\n"
     ]
    },
    {
     "name": "stdout",
     "output_type": "stream",
     "text": [
      "['H+Wind Spd+air pressure+Ta+PPFD+Water Table+VWC+Active Layer']\n",
      "Number of Models:  6\n"
     ]
    },
    {
     "data": {
      "application/vnd.jupyter.widget-view+json": {
       "model_id": "558215bb0ce442e5b02a823dcd17d0ea",
       "version_major": 2,
       "version_minor": 0
      },
      "text/plain": [
       "A Jupyter Widget"
      ]
     },
     "metadata": {},
     "output_type": "display_data"
    },
    {
     "name": "stderr",
     "output_type": "stream",
     "text": [
      "Using TensorFlow backend.\n",
      "Using TensorFlow backend.\n"
     ]
    },
    {
     "name": "stdout",
     "output_type": "stream",
     "text": [
      "['H+Wind Spd+air pressure+Ta+PPFD+Water Table+VWC+Active Layer+24H Rain']\n",
      "Number of Models:  5\n"
     ]
    },
    {
     "data": {
      "application/vnd.jupyter.widget-view+json": {
       "model_id": "1d2ce6b5b23c43c5a93e1f1649d3a61c",
       "version_major": 2,
       "version_minor": 0
      },
      "text/plain": [
       "A Jupyter Widget"
      ]
     },
     "metadata": {},
     "output_type": "display_data"
    },
    {
     "name": "stderr",
     "output_type": "stream",
     "text": [
      "Using TensorFlow backend.\n"
     ]
    },
    {
     "name": "stdout",
     "output_type": "stream",
     "text": [
      "[ 'H+Wind Spd+air pressure+Ta+PPFD+Water Table+VWC+Active Layer+24H Rain+Wtr Tbl Trnd']\n",
      "Number of Models:  4\n"
     ]
    },
    {
     "data": {
      "application/vnd.jupyter.widget-view+json": {
       "model_id": "baa9bf8d05d3441fa8bd59a7d021b121",
       "version_major": 2,
       "version_minor": 0
      },
      "text/plain": [
       "A Jupyter Widget"
      ]
     },
     "metadata": {},
     "output_type": "display_data"
    },
    {
     "name": "stderr",
     "output_type": "stream",
     "text": [
      "Using TensorFlow backend.\n",
      "Using TensorFlow backend.\n"
     ]
    },
    {
     "name": "stdout",
     "output_type": "stream",
     "text": [
      "[ 'H+Wind Spd+air pressure+Ta+Rn+PPFD+Water Table+VWC+Active Layer+24H Rain+Wtr Tbl Trnd']\n",
      "Number of Models:  3\n"
     ]
    },
    {
     "data": {
      "application/vnd.jupyter.widget-view+json": {
       "model_id": "a9c6a711a527417eb6e0734fcafe299c",
       "version_major": 2,
       "version_minor": 0
      },
      "text/plain": [
       "A Jupyter Widget"
      ]
     },
     "metadata": {},
     "output_type": "display_data"
    },
    {
     "name": "stdout",
     "output_type": "stream",
     "text": [
      "[ 'H+Wind Spd+air pressure+Ta+Rn+PPFD+Rain+Water Table+VWC+Active Layer+24H Rain+Wtr Tbl Trnd']\n",
      "Number of Models:  2\n"
     ]
    },
    {
     "data": {
      "application/vnd.jupyter.widget-view+json": {
       "model_id": "beed38deafd84683938b1e7e22769393",
       "version_major": 2,
       "version_minor": 0
      },
      "text/plain": [
       "A Jupyter Widget"
      ]
     },
     "metadata": {},
     "output_type": "display_data"
    },
    {
     "name": "stdout",
     "output_type": "stream",
     "text": [
      "[ 'H+Wind Spd+air pressure+Ta+Rn+PPFD+Rain+Water Table+Ts 15 cm+VWC+Active Layer+24H Rain+Wtr Tbl Trnd']\n",
      "                                                  Model       MSE        R2  \\\n",
      "Key                                                                           \n",
      "10_4  H+Wind Spd+air pressure+Ta+PPFD+Water Table+VW...  0.160152  0.778534   \n",
      "11_0  H+Wind Spd+air pressure+Ta+Rn+PPFD+Water Table...  0.162469  0.775042   \n",
      "12_0  H+Wind Spd+air pressure+Ta+Rn+PPFD+Rain+Water ...  0.167902  0.762280   \n",
      "13_1  H+Wind Spd+air pressure+Ta+Rn+PPFD+Rain+Water ...  0.172613  0.762566   \n",
      "14_0  H+Wind Spd+air pressure+Ta+Rn+PPFD+Rain+Water ...  0.175038  0.756697   \n",
      "1_5                                                PPFD  0.265861  0.576599   \n",
      "2_3                                             Ta+PPFD  0.244982  0.615411   \n",
      "3_9                                Ta+PPFD+Active Layer  0.216893  0.673366   \n",
      "4_0                              H+Ta+PPFD+Active Layer  0.194372  0.716142   \n",
      "5_0                     H+Wind Spd+Ta+PPFD+Active Layer  0.168763  0.759040   \n",
      "6_6                 H+Wind Spd+Ta+PPFD+VWC+Active Layer  0.158742  0.779339   \n",
      "7_3     H+Wind Spd+Ta+PPFD+Water Table+VWC+Active Layer  0.157602  0.781788   \n",
      "8_0   H+Wind Spd+air pressure+Ta+PPFD+Water Table+VW...  0.155861  0.784642   \n",
      "9_4   H+Wind Spd+air pressure+Ta+PPFD+Water Table+VW...  0.157398  0.784322   \n",
      "\n",
      "      Level        SD        SE  \n",
      "Key                              \n",
      "10_4     10  0.018623  0.004164  \n",
      "11_0     11  0.021209  0.004742  \n",
      "12_0     12  0.021025  0.004701  \n",
      "13_1     13  0.021674  0.004846  \n",
      "14_0     14  0.024238  0.005420  \n",
      "1_5       1  0.020894  0.004672  \n",
      "2_3       2  0.021970  0.004913  \n",
      "3_9       3  0.012750  0.002851  \n",
      "4_0       4  0.008604  0.001924  \n",
      "5_0       5  0.016798  0.003756  \n",
      "6_6       6  0.015531  0.003473  \n",
      "7_3       7  0.015805  0.003534  \n",
      "8_0       8  0.016606  0.003713  \n",
      "9_4       9  0.017824  0.003986  \n",
      "                                 Model       MSE        R2  Level        SD  \\\n",
      "5  H+Wind Spd+Ta+PPFD+VWC+Active Layer  0.158742  0.779339      6  0.015531   \n",
      "\n",
      "         SE  \n",
      "5  0.003473  \n"
     ]
    },
    {
     "data": {
      "application/vnd.jupyter.widget-view+json": {
       "model_id": "56ec9061b79347c68d33f826718f2334",
       "version_major": 2,
       "version_minor": 0
      },
      "text/plain": [
       "A Jupyter Widget"
      ]
     },
     "metadata": {},
     "output_type": "display_data"
    },
    {
     "name": "stderr",
     "output_type": "stream",
     "text": [
      "Using TensorFlow backend.\n",
      "Using TensorFlow backend.\n",
      "Using TensorFlow backend.\n",
      "Using TensorFlow backend.\n"
     ]
    },
    {
     "data": {
      "image/png": "[encoded data removed]",
      "text/plain": [
       "<matplotlib.figure.Figure at 0x7fb991947be0>"
      ]
     },
     "metadata": {},
     "output_type": "display_data"
    },
    {
     "name": "stdout",
     "output_type": "stream",
     "text": [
      "43\n",
      "['H+Wind Spd+Ta+PPFD+VWC+Active Layer']\n"
     ]
    },
    {
     "name": "stderr",
     "output_type": "stream",
     "text": [
      "Using TensorFlow backend.\n"
     ]
    },
    {
     "name": "stdout",
     "output_type": "stream",
     "text": [
      "43\n",
      "43\n",
      "10042.08648967743\n",
      "{'Y': 'fch4', 'proc': 3, 'epochs': 200, 'splits_per_mod': 4, 'Dpath': '/home/ubuntu/NetworkAnalysis/FishIsland/', 'K': 20, 'Save': {'Weights': False, 'Model': False}}\n"
     ]
    },
    {
     "data": {
      "application/vnd.jupyter.widget-view+json": {
       "model_id": "199bcbafb59e44a99c7a13eff4a7c4d6",
       "version_major": 2,
       "version_minor": 0
      },
      "text/plain": [
       "A Jupyter Widget"
      ]
     },
     "metadata": {},
     "output_type": "display_data"
    },
    {
     "name": "stderr",
     "output_type": "stream",
     "text": [
      "Using TensorFlow backend.\n",
      "Using TensorFlow backend.\n",
      "Using TensorFlow backend.\n",
      "Using TensorFlow backend.\n"
     ]
    },
    {
     "data": {
      "image/png": "[encoded data removed]",
      "text/plain": [
       "<matplotlib.figure.Figure at 0x7fb991947b00>"
      ]
     },
     "metadata": {},
     "output_type": "display_data"
    },
    {
     "name": "stdout",
     "output_type": "stream",
     "text": [
      "43\n"
     ]
    },
    {
     "data": {
      "application/vnd.jupyter.widget-view+json": {
       "model_id": "abea3e408d054ef981b3e64bea3a6df4",
       "version_major": 2,
       "version_minor": 0
      },
      "text/plain": [
       "A Jupyter Widget"
      ]
     },
     "metadata": {},
     "output_type": "display_data"
    },
    {
     "name": "stdout",
     "output_type": "stream",
     "text": [
      "Number of Models:  14\n"
     ]
    },
    {
     "data": {
      "application/vnd.jupyter.widget-view+json": {
       "model_id": "0d334d6b837d4f91969d76cf4c84bd88",
       "version_major": 2,
       "version_minor": 0
      },
      "text/plain": [
       "A Jupyter Widget"
      ]
     },
     "metadata": {},
     "output_type": "display_data"
    },
    {
     "name": "stderr",
     "output_type": "stream",
     "text": [
      "Using TensorFlow backend.\n",
      "Using TensorFlow backend.\n",
      "Using TensorFlow backend.\n",
      "Using TensorFlow backend.\n"
     ]
    },
    {
     "name": "stdout",
     "output_type": "stream",
     "text": [
      "['H']\n",
      "Number of Models:  13\n"
     ]
    },
    {
     "data": {
      "application/vnd.jupyter.widget-view+json": {
       "model_id": "7f39d30c064e4f2c80bbfe93abb8cbe3",
       "version_major": 2,
       "version_minor": 0
      },
      "text/plain": [
       "A Jupyter Widget"
      ]
     },
     "metadata": {},
     "output_type": "display_data"
    },
    {
     "name": "stderr",
     "output_type": "stream",
     "text": [
      "Using TensorFlow backend.\n",
      "Using TensorFlow backend.\n",
      "Using TensorFlow backend.\n"
     ]
    },
    {
     "name": "stdout",
     "output_type": "stream",
     "text": [
      "['H+VWC']\n",
      "Number of Models:  12\n"
     ]
    },
    {
     "data": {
      "application/vnd.jupyter.widget-view+json": {
       "model_id": "3f8873917cbe4ba29d894bcc8c7babf2",
       "version_major": 2,
       "version_minor": 0
      },
      "text/plain": [
       "A Jupyter Widget"
      ]
     },
     "metadata": {},
     "output_type": "display_data"
    },
    {
     "name": "stderr",
     "output_type": "stream",
     "text": [
      "Using TensorFlow backend.\n",
      "Using TensorFlow backend.\n",
      "Using TensorFlow backend.\n"
     ]
    },
    {
     "name": "stdout",
     "output_type": "stream",
     "text": [
      "['H+VWC+Active Layer']\n",
      "Number of Models:  11\n"
     ]
    },
    {
     "data": {
      "application/vnd.jupyter.widget-view+json": {
       "model_id": "d5345644ea744988babc884f519422e4",
       "version_major": 2,
       "version_minor": 0
      },
      "text/plain": [
       "A Jupyter Widget"
      ]
     },
     "metadata": {},
     "output_type": "display_data"
    },
    {
     "name": "stderr",
     "output_type": "stream",
     "text": [
      "Using TensorFlow backend.\n",
      "Using TensorFlow backend.\n",
      "Using TensorFlow backend.\n"
     ]
    },
    {
     "name": "stdout",
     "output_type": "stream",
     "text": [
      "['H+Water Table+VWC+Active Layer']\n",
      "Number of Models:  10\n"
     ]
    },
    {
     "data": {
      "application/vnd.jupyter.widget-view+json": {
       "model_id": "094e4c5e7cfa48b8b120573e7b19d16c",
       "version_major": 2,
       "version_minor": 0
      },
      "text/plain": [
       "A Jupyter Widget"
      ]
     },
     "metadata": {},
     "output_type": "display_data"
    },
    {
     "name": "stderr",
     "output_type": "stream",
     "text": [
      "Using TensorFlow backend.\n",
      "Using TensorFlow backend.\n",
      "Using TensorFlow backend.\n"
     ]
    },
    {
     "name": "stdout",
     "output_type": "stream",
     "text": [
      "['H+Ta+Water Table+VWC+Active Layer']\n",
      "Number of Models:  9\n"
     ]
    },
    {
     "data": {
      "application/vnd.jupyter.widget-view+json": {
       "model_id": "f49d4339c4c34d2982d292fdd9f59d19",
       "version_major": 2,
       "version_minor": 0
      },
      "text/plain": [
       "A Jupyter Widget"
      ]
     },
     "metadata": {},
     "output_type": "display_data"
    },
    {
     "name": "stderr",
     "output_type": "stream",
     "text": [
      "Using TensorFlow backend.\n",
      "Using TensorFlow backend.\n"
     ]
    },
    {
     "name": "stdout",
     "output_type": "stream",
     "text": [
      "['H+air pressure+Ta+Water Table+VWC+Active Layer']\n",
      "Number of Models:  8\n"
     ]
    },
    {
     "data": {
      "application/vnd.jupyter.widget-view+json": {
       "model_id": "1b735ee7d32644628c4dcc7ff0229bd9",
       "version_major": 2,
       "version_minor": 0
      },
      "text/plain": [
       "A Jupyter Widget"
      ]
     },
     "metadata": {},
     "output_type": "display_data"
    },
    {
     "name": "stderr",
     "output_type": "stream",
     "text": [
      "Using TensorFlow backend.\n",
      "Using TensorFlow backend.\n",
      "Using TensorFlow backend.\n"
     ]
    },
    {
     "name": "stdout",
     "output_type": "stream",
     "text": [
      "['H+air pressure+Ta+Water Table+VWC+Active Layer+24H Rain']\n",
      "Number of Models:  7\n"
     ]
    },
    {
     "data": {
      "application/vnd.jupyter.widget-view+json": {
       "model_id": "0d8512430e2248eb89687b151f2fbc74",
       "version_major": 2,
       "version_minor": 0
      },
      "text/plain": [
       "A Jupyter Widget"
      ]
     },
     "metadata": {},
     "output_type": "display_data"
    },
    {
     "name": "stderr",
     "output_type": "stream",
     "text": [
      "Using TensorFlow backend.\n"
     ]
    },
    {
     "name": "stdout",
     "output_type": "stream",
     "text": [
      "['H+air pressure+Ta+Water Table+Ts 15 cm+VWC+Active Layer+24H Rain']\n",
      "Number of Models:  6\n"
     ]
    },
    {
     "data": {
      "application/vnd.jupyter.widget-view+json": {
       "model_id": "c6eca02c507447ef9800ad8f6fb2d8bf",
       "version_major": 2,
       "version_minor": 0
      },
      "text/plain": [
       "A Jupyter Widget"
      ]
     },
     "metadata": {},
     "output_type": "display_data"
    },
    {
     "name": "stderr",
     "output_type": "stream",
     "text": [
      "Using TensorFlow backend.\n",
      "Using TensorFlow backend.\n"
     ]
    },
    {
     "name": "stdout",
     "output_type": "stream",
     "text": [
      "['H+air pressure+Ta+Rain+Water Table+Ts 15 cm+VWC+Active Layer+24H Rain']\n",
      "Number of Models:  5\n"
     ]
    },
    {
     "data": {
      "application/vnd.jupyter.widget-view+json": {
       "model_id": "53e5d353bd854c5fa88e2d796864435b",
       "version_major": 2,
       "version_minor": 0
      },
      "text/plain": [
       "A Jupyter Widget"
      ]
     },
     "metadata": {},
     "output_type": "display_data"
    },
    {
     "name": "stderr",
     "output_type": "stream",
     "text": [
      "Using TensorFlow backend.\n"
     ]
    },
    {
     "name": "stdout",
     "output_type": "stream",
     "text": [
      "[ 'H+air pressure+Ta+PPFD+Rain+Water Table+Ts 15 cm+VWC+Active Layer+24H Rain']\n",
      "Number of Models:  4\n"
     ]
    },
    {
     "data": {
      "application/vnd.jupyter.widget-view+json": {
       "model_id": "1c57eeee7da9406691014aa5f7ba499c",
       "version_major": 2,
       "version_minor": 0
      },
      "text/plain": [
       "A Jupyter Widget"
      ]
     },
     "metadata": {},
     "output_type": "display_data"
    },
    {
     "name": "stderr",
     "output_type": "stream",
     "text": [
      "Using TensorFlow backend.\n",
      "Using TensorFlow backend.\n"
     ]
    },
    {
     "name": "stdout",
     "output_type": "stream",
     "text": [
      "[ 'H+air pressure+Ta+PPFD+Rain+Water Table+Ts 2.5 cm+Ts 15 cm+VWC+Active Layer+24H Rain']\n",
      "Number of Models:  3\n"
     ]
    },
    {
     "data": {
      "application/vnd.jupyter.widget-view+json": {
       "model_id": "9d23565d26a54153be365061caae4fc5",
       "version_major": 2,
       "version_minor": 0
      },
      "text/plain": [
       "A Jupyter Widget"
      ]
     },
     "metadata": {},
     "output_type": "display_data"
    },
    {
     "name": "stdout",
     "output_type": "stream",
     "text": [
      "[ 'H+Wind Spd+air pressure+Ta+PPFD+Rain+Water Table+Ts 2.5 cm+Ts 15 cm+VWC+Active Layer+24H Rain']\n",
      "Number of Models:  2\n"
     ]
    },
    {
     "data": {
      "application/vnd.jupyter.widget-view+json": {
       "model_id": "163e765c38dc4bec8e36ac606a2d9711",
       "version_major": 2,
       "version_minor": 0
      },
      "text/plain": [
       "A Jupyter Widget"
      ]
     },
     "metadata": {},
     "output_type": "display_data"
    },
    {
     "name": "stderr",
     "output_type": "stream",
     "text": [
      "Using TensorFlow backend.\n"
     ]
    },
    {
     "name": "stdout",
     "output_type": "stream",
     "text": [
      "[ 'H+Wind Spd+air pressure+Ta+Rn+PPFD+Rain+Water Table+Ts 2.5 cm+Ts 15 cm+VWC+Active Layer+24H Rain']\n",
      "                                                  Model         MSE        R2  \\\n",
      "Key                                                                             \n",
      "10_2  H+air pressure+Ta+PPFD+Rain+Water Table+Ts 15 ...  163.763939 -0.191203   \n",
      "11_2  H+air pressure+Ta+PPFD+Rain+Water Table+Ts 2.5...  165.434413 -0.216983   \n",
      "12_0  H+Wind Spd+air pressure+Ta+PPFD+Rain+Water Tab...  166.916815 -0.187391   \n",
      "13_0  H+Wind Spd+air pressure+Ta+Rn+PPFD+Rain+Water ...  167.109613 -0.179055   \n",
      "14_0  H+Wind Spd+air pressure+Ta+Rn+PPFD+Rain+Water ...  172.499873 -0.242075   \n",
      "1_0                                                   H  230.261833 -1.695693   \n",
      "2_9                                               H+VWC  208.256221 -1.113283   \n",
      "3_9                                  H+VWC+Active Layer  198.818667 -0.836055   \n",
      "4_6                      H+Water Table+VWC+Active Layer  184.127736 -0.543372   \n",
      "5_2                   H+Ta+Water Table+VWC+Active Layer  176.639412 -0.397921   \n",
      "6_1      H+air pressure+Ta+Water Table+VWC+Active Layer  172.539702 -0.416166   \n",
      "7_6   H+air pressure+Ta+Water Table+VWC+Active Layer...  165.156218 -0.217409   \n",
      "8_5   H+air pressure+Ta+Water Table+Ts 15 cm+VWC+Act...  161.718662 -0.162151   \n",
      "9_3   H+air pressure+Ta+Rain+Water Table+Ts 15 cm+VW...  163.428686 -0.181934   \n",
      "\n",
      "      Level         SD        SE  \n",
      "Key                               \n",
      "10_2     10  14.914400  3.334961  \n",
      "11_2     11  14.720252  3.291548  \n",
      "12_0     12  22.715069  5.079244  \n",
      "13_0     13  18.513079  4.139650  \n",
      "14_0     14  22.732632  5.083171  \n",
      "1_0       1  26.346135  5.891175  \n",
      "2_9       2  22.527214  5.037238  \n",
      "3_9       3  19.263936  4.307547  \n",
      "4_6       4  12.276202  2.745042  \n",
      "5_2       5  14.697834  3.286536  \n",
      "6_1       6  18.118468  4.051413  \n",
      "7_6       7  17.947200  4.013116  \n",
      "8_5       8  14.701508  3.287357  \n",
      "9_3       9  15.922527  3.560385  \n",
      "                                               Model         MSE        R2  \\\n",
      "7  H+air pressure+Ta+Water Table+Ts 15 cm+VWC+Act...  161.718662 -0.162151   \n",
      "\n",
      "   Level         SD        SE  \n",
      "7      8  14.701508  3.287357  \n"
     ]
    },
    {
     "data": {
      "application/vnd.jupyter.widget-view+json": {
       "model_id": "551cc47fc64f43119e51ae1beb5866e6",
       "version_major": 2,
       "version_minor": 0
      },
      "text/plain": [
       "A Jupyter Widget"
      ]
     },
     "metadata": {},
     "output_type": "display_data"
    },
    {
     "name": "stderr",
     "output_type": "stream",
     "text": [
      "Using TensorFlow backend.\n",
      "Using TensorFlow backend.\n",
      "Using TensorFlow backend.\n",
      "Using TensorFlow backend.\n"
     ]
    },
    {
     "data": {
      "image/png": "[encoded data removed]",
      "text/plain": [
       "<matplotlib.figure.Figure at 0x7fb990445e10>"
      ]
     },
     "metadata": {},
     "output_type": "display_data"
    },
    {
     "name": "stdout",
     "output_type": "stream",
     "text": [
      "41\n",
      "['H+air pressure+Ta+Water Table+Ts 15 cm+VWC+Active Layer+24H Rain']\n"
     ]
    },
    {
     "name": "stderr",
     "output_type": "stream",
     "text": [
      "Using TensorFlow backend.\n"
     ]
    },
    {
     "name": "stdout",
     "output_type": "stream",
     "text": [
      "41\n",
      "41\n",
      "6666.668730020523\n"
     ]
    }
   ],
   "source": [
    "# pool.close()\n",
    "# Site = 'Illisarvik'#'FishIsland'#\n",
    "Scope = 'Full'\n",
    "cwd = os.getcwd()\n",
    "def ModSelect(Scope,Site):\n",
    "    if Site == 'Illisarvik':\n",
    "        if Scope == 'Full':\n",
    "            Model = ['H','wind_speed','air_pressure','PPFD_Avg','AirTC_Avg',\n",
    "                     'VPD','Temp','VWC','Sedge','Shrub','Grass','Sparse','Out_of_Basin']\n",
    "        if Scope == 'Test':\n",
    "            Model = ['PPFD_Avg','AirTC_Avg','Sedge']\n",
    "    if Site == 'FishIsland':\n",
    "        if Scope == 'Full':\n",
    "            Model = ['H','Wind Spd','air pressure','Ta','Rn','PPFD','Rain','Water Table',\n",
    "            'Ts 2.5 cm','Ts 15 cm','VWC','Active Layer','24H Rain','Wtr Tbl Trnd']\n",
    "        if Scope == 'Test':\n",
    "            Model = ['H','Water Table','Wind Spd','Active Layer']\n",
    "    return(Model)\n",
    "\n",
    "\n",
    "MP=False\n",
    "if Scope == 'Full':\n",
    "    MP = True\n",
    "if __name__=='__main__'and MP==True:\n",
    "    pool = Pool(processes=3,maxtasksperchild=75)\n",
    "else:pool=None\n",
    "    \n",
    "for Site in ['Illisarvik','FishIsland']:\n",
    "    for FillVar in ['fco2','fch4']:\n",
    "        FullModel = ModSelect(Scope,Site)\n",
    "        Time = time.time()\n",
    "        Runs,params = Dense.Params(Scope,FillVar,MP)\n",
    "        params['Dpath'] = cwd+'/'+Site+'/'\n",
    "        print(params)\n",
    "        params = N_Nodes(Runs,params,FullModel,plot=True)\n",
    "        Best,Scores,ModelRuns = FactorTest(params,FullModel,Runs)\n",
    "        Scores,ModelRuns = Best_Fill(Best,Runs,Scores,params)\n",
    "        Scores.to_csv(params['Dpath']+FillVar+'/GapFillingSummary.csv')\n",
    "        ModelRuns.to_csv(params['Dpath']+FillVar+'/GapFilled.csv')\n",
    "        print(params['N'])\n",
    "        print(time.time()-Time)"
   ]
  },
  {
   "cell_type": "code",
   "execution_count": 4,
   "metadata": {
    "collapsed": true
   },
   "outputs": [],
   "source": [
    "# 46"
   ]
  }
 ],
 "metadata": {
  "kernelspec": {
   "display_name": "Python 3",
   "language": "python",
   "name": "python3"
  },
  "language_info": {
   "codemirror_mode": {
    "name": "ipython",
    "version": 3
   },
   "file_extension": ".py",
   "mimetype": "text/x-python",
   "name": "python",
   "nbconvert_exporter": "python",
   "pygments_lexer": "ipython3",
   "version": "3.5.2"
  }
 },
 "nbformat": 4,
 "nbformat_minor": 2
}
