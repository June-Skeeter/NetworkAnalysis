{
 "cells": [
  {
   "cell_type": "markdown",
   "metadata": {},
   "source": [
    "##  Optimze and a Dense Neural Network for gap filling and feature identification\n",
    "\n",
    "** With a few tweaks to RepRunner, an LSTM can be run instead"
   ]
  },
  {
   "cell_type": "code",
   "execution_count": 1,
   "metadata": {},
   "outputs": [
    {
     "name": "stdout",
     "output_type": "stream",
     "text": [
      "loo\n"
     ]
    }
   ],
   "source": [
    "a = (list())\n",
    "b = []\n",
    "if a == b:print('loo')"
   ]
  },
  {
   "cell_type": "code",
   "execution_count": 2,
   "metadata": {
    "collapsed": true
   },
   "outputs": [],
   "source": [
    "import time\n",
    "import math\n",
    "import numpy as np\n",
    "import pandas as pd\n",
    "import matplotlib.pyplot as plt\n",
    "from itertools import combinations\n",
    "from functools import partial\n",
    "from multiprocessing import Pool\n",
    "from sklearn.preprocessing import StandardScaler\n",
    "from sklearn import metrics\n",
    "from sklearn.model_selection import RepeatedKFold\n",
    "from sklearn.model_selection import train_test_split\n",
    "\n",
    "## Personal Modules\n",
    "import ReadStandardTimeFill as RSTF\n",
    "import importlib\n",
    "import DenseNet as Dense\n",
    "importlib.reload(Dense)\n",
    "importlib.reload(RSTF)\n",
    "\n",
    "%matplotlib inline\n",
    "%config IPCompleter.greedy=True\n",
    "\n",
    "from scipy.optimize import minimize, curve_fit\n",
    "from scipy.stats import norm\n",
    "from sklearn.gaussian_process import GaussianProcessRegressor\n",
    "from sklearn.gaussian_process.kernels import Matern, WhiteKernel, ConstantKernel\n",
    "from matplotlib import cm\n",
    "\n",
    "from scipy import stats\n",
    "from statsmodels.stats.multicomp import pairwise_tukeyhsd\n",
    "\n",
    "from ipywidgets import FloatProgress\n",
    "from IPython.display import display\n",
    "import os  "
   ]
  },
  {
   "cell_type": "code",
   "execution_count": 3,
   "metadata": {
    "collapsed": true
   },
   "outputs": [],
   "source": [
    "# def Curve(x,a,b,c,o):\n",
    "#     return (a/(b+x)**c+o)\n",
    "\n",
    "def Curve(x,a,b,c):\n",
    "    return (a*x**2+b*x+c)\n",
    "\n",
    "\n",
    "def TTV_Split(iteration,Memory,X,y,params,X_fill):\n",
    "    params['seed'] = int(iteration%params['splits_per_mod']/params['splits_per_mod']*100)\n",
    "    params['iteration'] = int(iteration/params['splits_per_mod'])\n",
    "    X_train,X_test,y_train,y_test=train_test_split(X,y, test_size=0.1, random_state=params['seed'])\n",
    "    X_train,X_val,y_train,y_val=train_test_split(X_train,y_train, test_size=0.11, random_state=params['seed'])\n",
    "    return(Dense.Train_Steps(params,X_train,X_test,X_val,y_train,y_test,\n",
    "        y_val,X_fill = X_fill,Memory=Memory),\n",
    "        y_val)\n",
    "\n",
    "def RunReps(Model,params,pool = None,FullReturn=False):\n",
    "    RST = RSTF.ReadStandardTimeFill(params['Dpath']+'ECData.csv')\n",
    "    offset = 5/params['proc']\n",
    "    Memory = (math.floor(100/params['proc'])- offset) * .01\n",
    "    MSE = []\n",
    "    RST.Scale(params['Y'],Model)\n",
    "#     if params['T'] >0:\n",
    "#         RST.TimeShape(params['T'])\n",
    "    y = RST.y*1.0\n",
    "    X = RST.X*1.0\n",
    "    X_fill = RST.X_fill*1.0\n",
    "    MSE = []\n",
    "    R2 =[]\n",
    "    Y_fill = []\n",
    "    Yval = []\n",
    "    y_val= []\n",
    "    if __name__=='__main__'and params['proc'] != 1:\n",
    "        for i,results in enumerate(pool.imap(partial(TTV_Split,Memory=Memory,X=X,y=y,params=params,X_fill=X_fill),range(params['K']))):\n",
    "            Y_fill.append(results[0][0])\n",
    "            Yval = RST.YScaled.inverse_transform(results[0][1].reshape(-1,1))\n",
    "            y_val = RST.YScaled.inverse_transform(results[1].reshape(-1,1))\n",
    "            MSE.append(metrics.mean_squared_error(Yval,y_val))\n",
    "            R2.append(metrics.r2_score(Yval,y_val))\n",
    "    else:\n",
    "        for i in range(params['K']):\n",
    "            results = TTV_Split(i,Memory,X,y,params,X_fill)\n",
    "            Y_fill.append(results[0][0])\n",
    "            Yval = RST.YScaled.inverse_transform(results[0][1].reshape(-1,1))\n",
    "            y_val = RST.YScaled.inverse_transform(results[1].reshape(-1,1))\n",
    "            MSE.append(metrics.mean_squared_error(y_val,Yval))\n",
    "            R2.append(metrics.r2_score(y_val,Yval))\n",
    "    Y_fill = np.asanyarray(Y_fill)\n",
    "    Y_fill = Y_fill.mean(axis=0) \n",
    "    FillVarName = FillVar.replace('f','F')\n",
    "    RST.Fill(Y_fill,FillVarName)\n",
    "    return(MSE,R2,RST.Master['TempFill'])\n",
    "\n",
    "def RunLoop(Runs,model):\n",
    "    style = {'description_width': 'initial'}\n",
    "    f = FloatProgress(min=0, max=Runs['N'].count(),description='Finding Best N:',style=style) # instantiate the bar\n",
    "    display(f) # display the bar\n",
    "    for N in Runs['N'].unique():\n",
    "        params['T'] = 0\n",
    "        params['N']=N\n",
    "        Results = RunReps(model,params,pool)\n",
    "        MSE = Results[0]\n",
    "        R2 = Results[1]\n",
    "        Runs.loc[Runs['N']==N,'MSE']=MSE\n",
    "        Runs.loc[Runs['N']==N,'R2']=R2\n",
    "        f.value+=params['K']\n",
    "    return(Runs)\n",
    "\n",
    "def N_Nodes(Runs,params,model,plot=False):\n",
    "    Runs = RunLoop(Runs,model)\n",
    "    Group = Runs.groupby('N').mean()\n",
    "    Group['SD'] = Runs[['N','MSE']].groupby('N').std()\n",
    "    Group['SE'] = Runs[['N','MSE']].groupby('N').sem()\n",
    "    Group = Group.reset_index()\n",
    "    Min = Group.loc[Group['MSE']==Group['MSE'].min()]\n",
    "    popt, pcov = curve_fit(Curve, Runs['N'].values, Runs['MSE'].values)\n",
    "    N = np.arange(Runs['N'].min(),Runs['N'].max())\n",
    "    Fit = Curve(N,*popt)\n",
    "    Max = (Min['MSE']+Min['SE']).values[0]\n",
    "    try:\n",
    "        params['N']=N[Fit<Max].min()\n",
    "    except:\n",
    "#         params['N']=N[-1]\n",
    "        print('Fitting failed to produce meaningful results')\n",
    "        params['N'] = Group.loc[Group['MSE']<+Min['MSE'].values[0]+Min['SE'].values[0],'N'].values[0]\n",
    "        pass\n",
    "    \n",
    "    if plot == True:\n",
    "        fig,ax = plt.subplots(figsize=(8,8))\n",
    "        ax.scatter(Runs['N'],Runs['MSE'])\n",
    "        ax.plot(N,Fit,color='r')\n",
    "        ax.plot(N,N*0+Max,color = 'black')\n",
    "        plt.grid()\n",
    "        plt.show()\n",
    "        print(params['N'])\n",
    "    return(params)\n",
    "\n",
    "def Combos(Model,L,factor=None,BaseFactors=[]):\n",
    "    Models=[]#BaseFactors#list()\n",
    "    for c in combinations(Model,L):\n",
    "        c = list(c)+BaseFactors\n",
    "        if factor is None:\n",
    "            Models.append(c)\n",
    "        else:\n",
    "            for f in factor:\n",
    "                f = f.split('+')\n",
    "                if set(f).issubset(set(c)) and c not in Models:\n",
    "                    Models.append(c)\n",
    "                    \n",
    "        print('Models: ',Models)\n",
    "    return(Models)\n",
    "\n",
    "def FactorTest(params,FullModel,Runs,BaseFactors = []):\n",
    "    prog1 = FloatProgress(min=len(BaseFactors), max=len(FullModel+BaseFactors)-1,description='FactorTesting:') # instantiate the bar\n",
    "    display(prog1) # display the bar\n",
    "    Scores = Runs[['MSE','R2']].reset_index(drop=True)\n",
    "    Scores = (Scores.iloc[0:params['K']])*0\n",
    "    Scores['Level'] = len(FullModel+BaseFactors)\n",
    "    Scores['Key'] = str(Scores['Level'][0])+'_0'\n",
    "    Scores['Model'] = '+'.join(FullModel+BaseFactors)\n",
    "    Results = RunReps(FullModel+BaseFactors,params,pool)\n",
    "#     MSE = Results[0]\n",
    "#     R2 = Results[1]\n",
    "    Scores['MSE']=Results[0]\n",
    "    Scores['R2']=Results[1]\n",
    "    ModelRuns = Results[2]\n",
    "    ModelRuns = ModelRuns.to_frame()\n",
    "    ModelRuns['Model: '+'+'.join(FullModel+BaseFactors)]=ModelRuns['TempFill']\n",
    "    ModelRuns=ModelRuns.drop('TempFill',axis=1)\n",
    "    Start = 1\n",
    "    if BaseFactors != []:\n",
    "        Results = RunReps(BaseFactors,params,pool)\n",
    "    #     MSE = Results[0]\n",
    "    #     R2 = Results[1]\n",
    "        Scores['MSE']=Results[0]\n",
    "        Scores['R2']=Results[1]\n",
    "#         ModelRuns = Results[2]\n",
    "#         ModelRuns = ModelRuns.to_frame()\n",
    "        ModelRuns['Model: '+'+'.join(BaseFactors)]= Results[2]#    ModelRuns['TempFill']\n",
    "#         ModelRuns=ModelRuns.drop('TempFill',axis=1)\n",
    "        Start = len(BaseFactors)\n",
    "    print(Start)\n",
    "    for i in range(Start,len(FullModel+BaseFactors)):\n",
    "        if i == 1:\n",
    "            Models = Combos(FullModel,i)\n",
    "        elif BaseFactors != [] and i-Start == 0:\n",
    "            Models = Combos(FullModel,i-Start+1,BaseFactors=BaseFactors)\n",
    "        elif BaseFactors != [] and i-Start > 0:\n",
    "            Models = Combos(FullModel,i-Start+1,factor = Best,BaseFactors=BaseFactors)\n",
    "        else:\n",
    "            Models = Combos(FullModel,i,factor = Best,BaseFactors=BaseFactors)\n",
    "        print('Number of Models: ',len(Models))\n",
    "        print(Models)\n",
    "        prog2 = FloatProgress(min=0, max=len(Models),description='Level: '+str(i)) # instantiate the bar\n",
    "        display(prog2) # display the bar\n",
    "        Values = []\n",
    "#         Names = \n",
    "        for i,model in enumerate(Models):\n",
    "            level = len(model)\n",
    "            key = str(level)+'_'+str(i)\n",
    "            Name = '+'.join(model)\n",
    "#             NewRow = Scores.iloc[-1].copy()\n",
    "#             NewRow['Model'] = 'Model: '+Name\n",
    "            Results = RunReps(model,params,pool)\n",
    "            MSE = Results[0]\n",
    "            R2 = Results[1]\n",
    "            d = {'Model':'+'.join(model),'MSE':MSE,'Key':key,'R2':R2,'Level':level}#,'Best':'N'\n",
    "            score = pd.DataFrame(index=[x for x in range(params['K'])],data=d)\n",
    "            Scores = Scores.append(score,ignore_index=True)## Might cause problems in older versions\n",
    "            ModelRuns['Model: '+'+'.join(model)] = Results[2]    \n",
    "            prog2.value+=1\n",
    "        Group = Scores.groupby('Key').agg({'Model': 'first', \n",
    "            'Level': 'first','MSE': 'mean','R2': 'mean'})#.reset_index()#mean()  \n",
    "        Group['SD'] = Scores[['Key','MSE']].groupby('Key').std()\n",
    "        Group['SE'] = Scores[['Key','MSE']].groupby('Key').sem()\n",
    "        Min = Group.loc[Group['Level']==level]\n",
    "        Best = Min.loc[Min['MSE'] == Min['MSE'].min(),'Model'].values\n",
    "        print(Best)  \n",
    "        prog1.value+=1\n",
    "    Group = Scores.groupby('Key').agg({'Model': 'first', \n",
    "        'Level': 'first','MSE': 'mean','R2': 'mean'})#.reset_index()#mean()  \n",
    "    Group['SD'] = Scores[['Key','MSE']].groupby('Key').std()\n",
    "    Group['SE'] = Scores[['Key','MSE']].groupby('Key').sem()\n",
    "    Min = Group.loc[Group['Level']==level]\n",
    "\n",
    "    Levels = Group.groupby('Level').min()\n",
    "    Sub=Group[Group['MSE'].isin(Levels['MSE'].values)]\n",
    "    print(Sub)\n",
    "    Sub.sort_values('Level',inplace=True)\n",
    "    Sub = Sub.loc[Sub['Level']>=1]\n",
    "    Sub.reset_index(inplace=True,drop=True)\n",
    "    Min = Sub.loc[Sub['MSE']==Sub['MSE'].min()]\n",
    "    Parsimony = (Sub.loc[Sub['MSE']<(Min['MSE'].values+Min['SE'].values)[0]])\n",
    "    Parsimony = Parsimony.loc[Parsimony['Level']==Parsimony['Level'].min()]\n",
    "    print(Parsimony)\n",
    "    Best = Parsimony['Model'].values\n",
    "    return(Best,Scores,ModelRuns)\n",
    "\n",
    "def Best_Fill(Best,Runs,Scores,params):\n",
    "    N = Runs['N']\n",
    "    NRuns = Runs*0\n",
    "    NRuns['N']=N\n",
    "    model = Best[0].split('+')\n",
    "\n",
    "    params = N_Nodes(NRuns,params,model,plot=True)\n",
    "    level = 0#len(Best)\n",
    "    print(Best)\n",
    "    key = '0_'+str(params['N'])\n",
    "    Name = '+'.join(Best)\n",
    "#     NewRow = Scores.iloc[-1].copy()\n",
    "#     NewRow['Model'] = 'BestModel: '+Name\n",
    "    Results = RunReps(model,params,pool)\n",
    "    MSE = Results[0]\n",
    "    R2 = Results[1]\n",
    "    d = {'Model':'+'.join(model),'MSE':MSE,'Key':key,'R2':R2,'Level':level}#,'Best':'N'\n",
    "    score = pd.DataFrame(index=[x for x in range(params['K'])],data=d)\n",
    "    Scores = Scores.append(score,ignore_index=True)\n",
    "#     Scores = Scores.append(score,ignore_index=True)\n",
    "    ModelRuns['BestModel: '+'+'.join(model)] = Results[2] \n",
    "    print(params['N'])\n",
    "    return(Scores,ModelRuns)\n",
    "#     print(Scores)\n",
    "# pool.close()"
   ]
  },
  {
   "cell_type": "markdown",
   "metadata": {},
   "source": [
    "# The \"Optimum\" Sized Model"
   ]
  },
  {
   "cell_type": "code",
   "execution_count": 4,
   "metadata": {
    "scrolled": false
   },
   "outputs": [
    {
     "name": "stdout",
     "output_type": "stream",
     "text": [
      "{'proc': 1, 'K': 4, 'epochs': 100, 'Y': 'fco2', 'splits_per_mod': 2, 'Save': {'Weights': False, 'Model': False}, 'Dpath': 'C:\\\\Users\\\\wesle\\\\NetworkAnalysis/Illisarvik/'}\n"
     ]
    },
    {
     "data": {
      "application/vnd.jupyter.widget-view+json": {
       "model_id": "61d279bf78b340ad8c9ca1c0a6ba4320",
       "version_major": 2,
       "version_minor": 0
      },
      "text/plain": [
       "A Jupyter Widget"
      ]
     },
     "metadata": {},
     "output_type": "display_data"
    },
    {
     "name": "stderr",
     "output_type": "stream",
     "text": [
      "C:\\Anaconda3\\lib\\site-packages\\h5py\\__init__.py:34: FutureWarning: Conversion of the second argument of issubdtype from `float` to `np.floating` is deprecated. In future, it will be treated as `np.float64 == np.dtype(float).type`.\n",
      "  from ._conv import register_converters as _register_converters\n",
      "Using TensorFlow backend.\n"
     ]
    },
    {
     "name": "stdout",
     "output_type": "stream",
     "text": [
      "5\n",
      "Models:  [['PPFD_Avg', 'Sedge', 'Shrub', 'Grass', 'Sparse', 'Out_of_Basin']]\n",
      "Models:  [['PPFD_Avg', 'Sedge', 'Shrub', 'Grass', 'Sparse', 'Out_of_Basin'], ['AirTC_Avg', 'Sedge', 'Shrub', 'Grass', 'Sparse', 'Out_of_Basin']]\n",
      "Models:  [['PPFD_Avg', 'Sedge', 'Shrub', 'Grass', 'Sparse', 'Out_of_Basin'], ['AirTC_Avg', 'Sedge', 'Shrub', 'Grass', 'Sparse', 'Out_of_Basin'], ['VWC', 'Sedge', 'Shrub', 'Grass', 'Sparse', 'Out_of_Basin']]\n",
      "Number of Models:  3\n",
      "[['PPFD_Avg', 'Sedge', 'Shrub', 'Grass', 'Sparse', 'Out_of_Basin'], ['AirTC_Avg', 'Sedge', 'Shrub', 'Grass', 'Sparse', 'Out_of_Basin'], ['VWC', 'Sedge', 'Shrub', 'Grass', 'Sparse', 'Out_of_Basin']]\n"
     ]
    },
    {
     "data": {
      "application/vnd.jupyter.widget-view+json": {
       "model_id": "130d957e6e4b4de1af19d738ea27bd6a",
       "version_major": 2,
       "version_minor": 0
      },
      "text/plain": [
       "A Jupyter Widget"
      ]
     },
     "metadata": {},
     "output_type": "display_data"
    },
    {
     "name": "stderr",
     "output_type": "stream",
     "text": [
      "C:\\Anaconda3\\lib\\site-packages\\pandas\\core\\frame.py:6211: FutureWarning: Sorting because non-concatenation axis is not aligned. A future version\n",
      "of pandas will change to not sort by default.\n",
      "\n",
      "To accept the future behavior, pass 'sort=False'.\n",
      "\n",
      "To retain the current behavior and silence the warning, pass 'sort=True'.\n",
      "\n",
      "  sort=sort)\n"
     ]
    },
    {
     "name": "stdout",
     "output_type": "stream",
     "text": [
      "['PPFD_Avg+Sedge+Shrub+Grass+Sparse+Out_of_Basin']\n",
      "Models:  [['PPFD_Avg', 'AirTC_Avg', 'Sedge', 'Shrub', 'Grass', 'Sparse', 'Out_of_Basin']]\n",
      "Models:  [['PPFD_Avg', 'AirTC_Avg', 'Sedge', 'Shrub', 'Grass', 'Sparse', 'Out_of_Basin'], ['PPFD_Avg', 'VWC', 'Sedge', 'Shrub', 'Grass', 'Sparse', 'Out_of_Basin']]\n",
      "Models:  [['PPFD_Avg', 'AirTC_Avg', 'Sedge', 'Shrub', 'Grass', 'Sparse', 'Out_of_Basin'], ['PPFD_Avg', 'VWC', 'Sedge', 'Shrub', 'Grass', 'Sparse', 'Out_of_Basin']]\n",
      "Number of Models:  2\n",
      "[['PPFD_Avg', 'AirTC_Avg', 'Sedge', 'Shrub', 'Grass', 'Sparse', 'Out_of_Basin'], ['PPFD_Avg', 'VWC', 'Sedge', 'Shrub', 'Grass', 'Sparse', 'Out_of_Basin']]\n"
     ]
    },
    {
     "data": {
      "application/vnd.jupyter.widget-view+json": {
       "model_id": "6c0edf41af964e51ab471d68a392c751",
       "version_major": 2,
       "version_minor": 0
      },
      "text/plain": [
       "A Jupyter Widget"
      ]
     },
     "metadata": {},
     "output_type": "display_data"
    },
    {
     "name": "stdout",
     "output_type": "stream",
     "text": [
      "['PPFD_Avg+VWC+Sedge+Shrub+Grass+Sparse+Out_of_Basin']\n",
      "Models:  [['PPFD_Avg', 'AirTC_Avg', 'VWC', 'Sedge', 'Shrub', 'Grass', 'Sparse', 'Out_of_Basin']]\n",
      "Number of Models:  1\n",
      "[['PPFD_Avg', 'AirTC_Avg', 'VWC', 'Sedge', 'Shrub', 'Grass', 'Sparse', 'Out_of_Basin']]\n"
     ]
    },
    {
     "data": {
      "application/vnd.jupyter.widget-view+json": {
       "model_id": "8a3f609798b04dba85e0875c2041cf3c",
       "version_major": 2,
       "version_minor": 0
      },
      "text/plain": [
       "A Jupyter Widget"
      ]
     },
     "metadata": {},
     "output_type": "display_data"
    },
    {
     "name": "stdout",
     "output_type": "stream",
     "text": [
      "['PPFD_Avg+AirTC_Avg+VWC+Sedge+Shrub+Grass+Sparse+Out_of_Basin']\n",
      "                                                 Model  Level       MSE  \\\n",
      "Key                                                                       \n",
      "6_0     PPFD_Avg+Sedge+Shrub+Grass+Sparse+Out_of_Basin      6  1.321076   \n",
      "7_1  PPFD_Avg+VWC+Sedge+Shrub+Grass+Sparse+Out_of_B...      7  1.147807   \n",
      "8_0  PPFD_Avg+AirTC_Avg+VWC+Sedge+Shrub+Grass+Spars...      8  4.717370   \n",
      "\n",
      "           R2        SD        SE  \n",
      "Key                                \n",
      "6_0  0.857355  0.160247  0.080123  \n",
      "7_1  0.875968  0.211214  0.105607  \n",
      "8_0  0.490689  3.807820  1.346268  \n",
      "                                               Model  Level       MSE  \\\n",
      "1  PPFD_Avg+VWC+Sedge+Shrub+Grass+Sparse+Out_of_B...      7  1.147807   \n",
      "\n",
      "         R2        SD        SE  \n",
      "1  0.875968  0.211214  0.105607  \n",
      "['PPFD_Avg+VWC+Sedge+Shrub+Grass+Sparse+Out_of_Basin']     Key  Level       MSE                                              Model  \\\n",
      "0   8_0      8  8.779637  PPFD_Avg+AirTC_Avg+VWC+Sedge+Shrub+Grass+Spars...   \n",
      "1   8_0      8  7.602336  PPFD_Avg+AirTC_Avg+VWC+Sedge+Shrub+Grass+Spars...   \n",
      "2   8_0      8  8.898273  PPFD_Avg+AirTC_Avg+VWC+Sedge+Shrub+Grass+Spars...   \n",
      "3   8_0      8  7.733391  PPFD_Avg+AirTC_Avg+VWC+Sedge+Shrub+Grass+Spars...   \n",
      "4   6_0      6  1.446173     PPFD_Avg+Sedge+Shrub+Grass+Sparse+Out_of_Basin   \n",
      "5   6_0      6  1.087819     PPFD_Avg+Sedge+Shrub+Grass+Sparse+Out_of_Basin   \n",
      "6   6_0      6  1.398920     PPFD_Avg+Sedge+Shrub+Grass+Sparse+Out_of_Basin   \n",
      "7   6_0      6  1.351393     PPFD_Avg+Sedge+Shrub+Grass+Sparse+Out_of_Basin   \n",
      "8   6_1      6  9.157495    AirTC_Avg+Sedge+Shrub+Grass+Sparse+Out_of_Basin   \n",
      "9   6_1      6  6.079369    AirTC_Avg+Sedge+Shrub+Grass+Sparse+Out_of_Basin   \n",
      "10  6_1      6  8.904520    AirTC_Avg+Sedge+Shrub+Grass+Sparse+Out_of_Basin   \n",
      "11  6_1      6  6.217549    AirTC_Avg+Sedge+Shrub+Grass+Sparse+Out_of_Basin   \n",
      "12  6_2      6  8.688185          VWC+Sedge+Shrub+Grass+Sparse+Out_of_Basin   \n",
      "13  6_2      6  8.012818          VWC+Sedge+Shrub+Grass+Sparse+Out_of_Basin   \n",
      "14  6_2      6  8.870127          VWC+Sedge+Shrub+Grass+Sparse+Out_of_Basin   \n",
      "15  6_2      6  8.458340          VWC+Sedge+Shrub+Grass+Sparse+Out_of_Basin   \n",
      "16  7_0      7  1.446107  PPFD_Avg+AirTC_Avg+Sedge+Shrub+Grass+Sparse+Ou...   \n",
      "17  7_0      7  1.175773  PPFD_Avg+AirTC_Avg+Sedge+Shrub+Grass+Sparse+Ou...   \n",
      "18  7_0      7  1.245543  PPFD_Avg+AirTC_Avg+Sedge+Shrub+Grass+Sparse+Ou...   \n",
      "19  7_0      7  1.086631  PPFD_Avg+AirTC_Avg+Sedge+Shrub+Grass+Sparse+Ou...   \n",
      "20  7_1      7  1.398872  PPFD_Avg+VWC+Sedge+Shrub+Grass+Sparse+Out_of_B...   \n",
      "21  7_1      7  1.194109  PPFD_Avg+VWC+Sedge+Shrub+Grass+Sparse+Out_of_B...   \n",
      "22  7_1      7  1.109674  PPFD_Avg+VWC+Sedge+Shrub+Grass+Sparse+Out_of_B...   \n",
      "23  7_1      7  0.888573  PPFD_Avg+VWC+Sedge+Shrub+Grass+Sparse+Out_of_B...   \n",
      "24  8_0      8  1.268646  PPFD_Avg+AirTC_Avg+VWC+Sedge+Shrub+Grass+Spars...   \n",
      "25  8_0      8  0.956833  PPFD_Avg+AirTC_Avg+VWC+Sedge+Shrub+Grass+Spars...   \n",
      "26  8_0      8  1.331647  PPFD_Avg+AirTC_Avg+VWC+Sedge+Shrub+Grass+Spars...   \n",
      "27  8_0      8  1.168197  PPFD_Avg+AirTC_Avg+VWC+Sedge+Shrub+Grass+Spars...   \n",
      "\n",
      "          R2  \n",
      "0   0.009510  \n",
      "1   0.222050  \n",
      "2  -0.003874  \n",
      "3   0.208639  \n",
      "4   0.836848  \n",
      "5   0.888683  \n",
      "6   0.842178  \n",
      "7   0.861711  \n",
      "8  -0.033119  \n",
      "9   0.377896  \n",
      "10 -0.004579  \n",
      "11  0.363756  \n",
      "12  0.019827  \n",
      "13  0.180045  \n",
      "14 -0.000699  \n",
      "15  0.134455  \n",
      "16  0.836855  \n",
      "17  0.879683  \n",
      "18  0.859482  \n",
      "19  0.888805  \n",
      "20  0.842184  \n",
      "21  0.877806  \n",
      "22  0.874810  \n",
      "23  0.909072  \n",
      "24  0.856876  \n",
      "25  0.902087  \n",
      "26  0.849768  \n",
      "27  0.880458  \n",
      "{'proc': 1, 'K': 4, 'epochs': 100, 'Y': 'fch4', 'splits_per_mod': 2, 'Save': {'Weights': False, 'Model': False}, 'Dpath': 'C:\\\\Users\\\\wesle\\\\NetworkAnalysis/Illisarvik/'}\n"
     ]
    },
    {
     "name": "stderr",
     "output_type": "stream",
     "text": [
      "C:\\Anaconda3\\lib\\site-packages\\ipykernel_launcher.py:189: SettingWithCopyWarning: \n",
      "A value is trying to be set on a copy of a slice from a DataFrame\n",
      "\n",
      "See the caveats in the documentation: http://pandas.pydata.org/pandas-docs/stable/indexing.html#indexing-view-versus-copy\n"
     ]
    },
    {
     "data": {
      "application/vnd.jupyter.widget-view+json": {
       "model_id": "4d589afd60f545cfa52b63ed4db61f28",
       "version_major": 2,
       "version_minor": 0
      },
      "text/plain": [
       "A Jupyter Widget"
      ]
     },
     "metadata": {},
     "output_type": "display_data"
    },
    {
     "name": "stdout",
     "output_type": "stream",
     "text": [
      "5\n",
      "Models:  [['PPFD_Avg', 'Sedge', 'Shrub', 'Grass', 'Sparse', 'Out_of_Basin']]\n",
      "Models:  [['PPFD_Avg', 'Sedge', 'Shrub', 'Grass', 'Sparse', 'Out_of_Basin'], ['AirTC_Avg', 'Sedge', 'Shrub', 'Grass', 'Sparse', 'Out_of_Basin']]\n",
      "Models:  [['PPFD_Avg', 'Sedge', 'Shrub', 'Grass', 'Sparse', 'Out_of_Basin'], ['AirTC_Avg', 'Sedge', 'Shrub', 'Grass', 'Sparse', 'Out_of_Basin'], ['VWC', 'Sedge', 'Shrub', 'Grass', 'Sparse', 'Out_of_Basin']]\n",
      "Number of Models:  3\n",
      "[['PPFD_Avg', 'Sedge', 'Shrub', 'Grass', 'Sparse', 'Out_of_Basin'], ['AirTC_Avg', 'Sedge', 'Shrub', 'Grass', 'Sparse', 'Out_of_Basin'], ['VWC', 'Sedge', 'Shrub', 'Grass', 'Sparse', 'Out_of_Basin']]\n"
     ]
    },
    {
     "data": {
      "application/vnd.jupyter.widget-view+json": {
       "model_id": "932ee620bef94c15a6a03bde2a35b8f4",
       "version_major": 2,
       "version_minor": 0
      },
      "text/plain": [
       "A Jupyter Widget"
      ]
     },
     "metadata": {},
     "output_type": "display_data"
    },
    {
     "name": "stdout",
     "output_type": "stream",
     "text": [
      "['VWC+Sedge+Shrub+Grass+Sparse+Out_of_Basin']\n",
      "Models:  []\n",
      "Models:  [['PPFD_Avg', 'VWC', 'Sedge', 'Shrub', 'Grass', 'Sparse', 'Out_of_Basin']]\n",
      "Models:  [['PPFD_Avg', 'VWC', 'Sedge', 'Shrub', 'Grass', 'Sparse', 'Out_of_Basin'], ['AirTC_Avg', 'VWC', 'Sedge', 'Shrub', 'Grass', 'Sparse', 'Out_of_Basin']]\n",
      "Number of Models:  2\n",
      "[['PPFD_Avg', 'VWC', 'Sedge', 'Shrub', 'Grass', 'Sparse', 'Out_of_Basin'], ['AirTC_Avg', 'VWC', 'Sedge', 'Shrub', 'Grass', 'Sparse', 'Out_of_Basin']]\n"
     ]
    },
    {
     "data": {
      "application/vnd.jupyter.widget-view+json": {
       "model_id": "615eb95f65fc4b0594ba369eaa7d3944",
       "version_major": 2,
       "version_minor": 0
      },
      "text/plain": [
       "A Jupyter Widget"
      ]
     },
     "metadata": {},
     "output_type": "display_data"
    },
    {
     "name": "stdout",
     "output_type": "stream",
     "text": [
      "['AirTC_Avg+VWC+Sedge+Shrub+Grass+Sparse+Out_of_Basin']\n",
      "Models:  [['PPFD_Avg', 'AirTC_Avg', 'VWC', 'Sedge', 'Shrub', 'Grass', 'Sparse', 'Out_of_Basin']]\n",
      "Number of Models:  1\n",
      "[['PPFD_Avg', 'AirTC_Avg', 'VWC', 'Sedge', 'Shrub', 'Grass', 'Sparse', 'Out_of_Basin']]\n"
     ]
    },
    {
     "data": {
      "application/vnd.jupyter.widget-view+json": {
       "model_id": "90a09089291c4902aa5765f092102021",
       "version_major": 2,
       "version_minor": 0
      },
      "text/plain": [
       "A Jupyter Widget"
      ]
     },
     "metadata": {},
     "output_type": "display_data"
    },
    {
     "name": "stdout",
     "output_type": "stream",
     "text": [
      "['PPFD_Avg+AirTC_Avg+VWC+Sedge+Shrub+Grass+Sparse+Out_of_Basin']\n",
      "                                                 Model  Level        MSE  \\\n",
      "Key                                                                        \n",
      "6_2          VWC+Sedge+Shrub+Grass+Sparse+Out_of_Basin      6  48.452138   \n",
      "7_1  AirTC_Avg+VWC+Sedge+Shrub+Grass+Sparse+Out_of_...      7  43.772371   \n",
      "8_0  PPFD_Avg+AirTC_Avg+VWC+Sedge+Shrub+Grass+Spars...      8  78.367400   \n",
      "\n",
      "           R2         SD         SE  \n",
      "Key                                  \n",
      "6_2  0.667471  12.820073   6.410037  \n",
      "7_1  0.698450  10.319504   5.159752  \n",
      "8_0  0.457554  40.141133  14.192034  \n",
      "                                       Model  Level        MSE        R2  \\\n",
      "0  VWC+Sedge+Shrub+Grass+Sparse+Out_of_Basin      6  48.452138  0.667471   \n",
      "\n",
      "          SD        SE  \n",
      "0  12.820073  6.410037  \n",
      "['VWC+Sedge+Shrub+Grass+Sparse+Out_of_Basin']     Key  Level         MSE                                              Model  \\\n",
      "0   8_0      8  126.492075  PPFD_Avg+AirTC_Avg+VWC+Sedge+Shrub+Grass+Spars...   \n",
      "1   8_0      8   93.600373  PPFD_Avg+AirTC_Avg+VWC+Sedge+Shrub+Grass+Spars...   \n",
      "2   8_0      8  129.716283  PPFD_Avg+AirTC_Avg+VWC+Sedge+Shrub+Grass+Spars...   \n",
      "3   8_0      8  104.850083  PPFD_Avg+AirTC_Avg+VWC+Sedge+Shrub+Grass+Spars...   \n",
      "4   6_0      6  102.379308     PPFD_Avg+Sedge+Shrub+Grass+Sparse+Out_of_Basin   \n",
      "5   6_0      6   74.148075     PPFD_Avg+Sedge+Shrub+Grass+Sparse+Out_of_Basin   \n",
      "6   6_0      6  106.055271     PPFD_Avg+Sedge+Shrub+Grass+Sparse+Out_of_Basin   \n",
      "7   6_0      6   72.083169     PPFD_Avg+Sedge+Shrub+Grass+Sparse+Out_of_Basin   \n",
      "8   6_1      6  115.166222    AirTC_Avg+Sedge+Shrub+Grass+Sparse+Out_of_Basin   \n",
      "9   6_1      6   84.210721    AirTC_Avg+Sedge+Shrub+Grass+Sparse+Out_of_Basin   \n",
      "10  6_1      6  114.224467    AirTC_Avg+Sedge+Shrub+Grass+Sparse+Out_of_Basin   \n",
      "11  6_1      6   78.551923    AirTC_Avg+Sedge+Shrub+Grass+Sparse+Out_of_Basin   \n",
      "12  6_2      6   61.147320          VWC+Sedge+Shrub+Grass+Sparse+Out_of_Basin   \n",
      "13  6_2      6   40.432246          VWC+Sedge+Shrub+Grass+Sparse+Out_of_Basin   \n",
      "14  6_2      6   57.442497          VWC+Sedge+Shrub+Grass+Sparse+Out_of_Basin   \n",
      "15  6_2      6   34.786489          VWC+Sedge+Shrub+Grass+Sparse+Out_of_Basin   \n",
      "16  7_0      7   50.182132  PPFD_Avg+VWC+Sedge+Shrub+Grass+Sparse+Out_of_B...   \n",
      "17  7_0      7   34.465034  PPFD_Avg+VWC+Sedge+Shrub+Grass+Sparse+Out_of_B...   \n",
      "18  7_0      7   56.737520  PPFD_Avg+VWC+Sedge+Shrub+Grass+Sparse+Out_of_B...   \n",
      "19  7_0      7   38.333674  PPFD_Avg+VWC+Sedge+Shrub+Grass+Sparse+Out_of_B...   \n",
      "20  7_1      7   49.986773  AirTC_Avg+VWC+Sedge+Shrub+Grass+Sparse+Out_of_...   \n",
      "21  7_1      7   31.542354  AirTC_Avg+VWC+Sedge+Shrub+Grass+Sparse+Out_of_...   \n",
      "22  7_1      7   54.303162  AirTC_Avg+VWC+Sedge+Shrub+Grass+Sparse+Out_of_...   \n",
      "23  7_1      7   39.257194  AirTC_Avg+VWC+Sedge+Shrub+Grass+Sparse+Out_of_...   \n",
      "24  8_0      8   46.028933  PPFD_Avg+AirTC_Avg+VWC+Sedge+Shrub+Grass+Spars...   \n",
      "25  8_0      8   34.462643  PPFD_Avg+AirTC_Avg+VWC+Sedge+Shrub+Grass+Spars...   \n",
      "26  8_0      8   58.358571  PPFD_Avg+AirTC_Avg+VWC+Sedge+Shrub+Grass+Spars...   \n",
      "27  8_0      8   33.430239  PPFD_Avg+AirTC_Avg+VWC+Sedge+Shrub+Grass+Spars...   \n",
      "\n",
      "          R2  \n",
      "0   0.210492  \n",
      "1   0.265907  \n",
      "2   0.190367  \n",
      "3   0.177677  \n",
      "4   0.360993  \n",
      "5   0.418468  \n",
      "6   0.338049  \n",
      "7   0.434663  \n",
      "8   0.281183  \n",
      "9   0.339549  \n",
      "10  0.287061  \n",
      "11  0.383930  \n",
      "12  0.618345  \n",
      "13  0.682896  \n",
      "14  0.641469  \n",
      "15  0.727175  \n",
      "16  0.686785  \n",
      "17  0.729696  \n",
      "18  0.645869  \n",
      "19  0.699355  \n",
      "20  0.688004  \n",
      "21  0.752618  \n",
      "22  0.661063  \n",
      "23  0.692112  \n",
      "24  0.712707  \n",
      "25  0.729715  \n",
      "26  0.635751  \n",
      "27  0.737812  \n"
     ]
    }
   ],
   "source": [
    "# pool.close()\n",
    "# Site = 'Illisarvik'#'FishIsland'#\n",
    "Scope = 'Test'\n",
    "cwd = os.getcwd()\n",
    "def ModSelect(Scope,Site):\n",
    "    if Site == 'Illisarvik':\n",
    "        BaseFactors = ['Sedge','Shrub','Grass','Sparse','Out_of_Basin']\n",
    "        if Scope == 'Full':\n",
    "            Model = ['H','wind_speed','air_pressure','PPFD_Avg','AirTC_Avg',\n",
    "                     'VPD','Temp','VWC']\n",
    "        if Scope == 'Test':\n",
    "            Model = ['PPFD_Avg','AirTC_Avg','VWC']\n",
    "    if Site == 'FishIsland':\n",
    "        BaseFactors = []\n",
    "        if Scope == 'Full':\n",
    "            Model = ['H','Wind Spd','air pressure','Ta','Rn','PPFD','Rain','Water Table',\n",
    "            'Ts 2.5 cm','Ts 15 cm','VWC','Active Layer','24H Rain','Wtr Tbl Trnd']\n",
    "        if Scope == 'Test':\n",
    "            Model = ['H','Water Table','Wind Spd','Active Layer']\n",
    "    return(Model,BaseFactors)\n",
    "\n",
    "\n",
    "MP=False\n",
    "if Scope == 'Full':\n",
    "    MP = True\n",
    "if __name__=='__main__'and MP==True:\n",
    "    pool = Pool(processes=3,maxtasksperchild=75)\n",
    "else:pool=None\n",
    "    \n",
    "# for Site in ['Illisarvik','FishIsland']:\n",
    "Site='Illisarvik'\n",
    "for FillVar in ['fco2','fch4']:\n",
    "    FullModel,BaseFactors = ModSelect(Scope,Site)\n",
    "#     print(FullModel)\n",
    "    Time = time.time()\n",
    "    Runs,params = Dense.Params(Scope,FillVar,MP)\n",
    "    params['Dpath'] = cwd+'/'+Site+'/'\n",
    "    print(params)\n",
    "#     params = N_Nodes(Runs,params,FullModel + BaseFactors,plot=True)\n",
    "    params['N']=10\n",
    "    Best,Scores,ModelRuns = FactorTest(params,FullModel,Runs,BaseFactors)\n",
    "    print(Best,Scores)\n",
    "#         Scores,ModelRuns = Best_Fill(Best,Runs,Scores,params)\n",
    "#         Scores.to_csv(params['Dpath']+FillVar+'/GapFillingSummary.csv')\n",
    "#         ModelRuns.to_csv(params['Dpath']+FillVar+'/GapFilled.csv')\n",
    "#         print(params['N'])\n",
    "#         print(time.time()-Time)"
   ]
  },
  {
   "cell_type": "code",
   "execution_count": 5,
   "metadata": {
    "collapsed": true
   },
   "outputs": [],
   "source": [
    "# 46"
   ]
  }
 ],
 "metadata": {
  "kernelspec": {
   "display_name": "Python 3",
   "language": "python",
   "name": "python3"
  },
  "language_info": {
   "codemirror_mode": {
    "name": "ipython",
    "version": 3
   },
   "file_extension": ".py",
   "mimetype": "text/x-python",
   "name": "python",
   "nbconvert_exporter": "python",
   "pygments_lexer": "ipython3",
   "version": "3.6.2"
  }
 },
 "nbformat": 4,
 "nbformat_minor": 2
}
