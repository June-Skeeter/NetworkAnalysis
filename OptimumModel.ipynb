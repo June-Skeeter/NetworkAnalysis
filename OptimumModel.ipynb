{
 "cells": [
  {
   "cell_type": "markdown",
   "metadata": {},
   "source": [
    "##  Optimze and a Dense Neural Network for gap filling and feature identification\n",
    "\n",
    "** With a few tweaks to RepRunner, an LSTM can be run instead"
   ]
  },
  {
   "cell_type": "code",
   "execution_count": 4,
   "metadata": {
    "collapsed": true
   },
   "outputs": [],
   "source": [
    "import time\n",
    "import math\n",
    "import numpy as np\n",
    "import pandas as pd\n",
    "import matplotlib.pyplot as plt\n",
    "from itertools import combinations\n",
    "from functools import partial\n",
    "from multiprocessing import Pool\n",
    "from sklearn.preprocessing import StandardScaler\n",
    "from sklearn import metrics\n",
    "from sklearn.model_selection import RepeatedKFold\n",
    "from sklearn.model_selection import train_test_split\n",
    "\n",
    "## Personal Modules\n",
    "import ReadStandardTimeFill as RSTF\n",
    "import importlib\n",
    "import DenseNet as Dense\n",
    "importlib.reload(Dense)\n",
    "importlib.reload(RSTF)\n",
    "\n",
    "%matplotlib inline\n",
    "%config IPCompleter.greedy=True\n",
    "\n",
    "from scipy.optimize import minimize, curve_fit\n",
    "from scipy.stats import norm\n",
    "from sklearn.gaussian_process import GaussianProcessRegressor\n",
    "from sklearn.gaussian_process.kernels import Matern, WhiteKernel, ConstantKernel\n",
    "from matplotlib import cm\n",
    "\n",
    "from scipy import stats\n",
    "from statsmodels.stats.multicomp import pairwise_tukeyhsd\n",
    "\n",
    "from ipywidgets import FloatProgress\n",
    "from IPython.display import display\n",
    "import os  "
   ]
  },
  {
   "cell_type": "code",
   "execution_count": 5,
   "metadata": {
    "collapsed": true
   },
   "outputs": [],
   "source": [
    "# def Curve(x,a,b,c,o):\n",
    "#     return (a/(b+x)**c+o)\n",
    "\n",
    "def Curve(x,a,b,c):\n",
    "    return (a*x**2+b*x+c)\n",
    "\n",
    "def Combos(Model,L,factor=None):\n",
    "    Models=list()\n",
    "    for c in combinations(Model,L):\n",
    "        c = list(c)\n",
    "        if factor is None:\n",
    "            Models.append(c)\n",
    "        else:\n",
    "            for f in factor:\n",
    "                f = f.split('+')\n",
    "                if set(f).issubset(set(c)) and c not in Models:\n",
    "                    Models.append(c)\n",
    "    return(Models)\n",
    "\n",
    "def TTV_Split(iteration,Memory,X,y,params,X_fill):\n",
    "    params['seed'] = int(iteration%params['splits_per_mod']/params['splits_per_mod']*100)\n",
    "    params['iteration'] = int(iteration/params['splits_per_mod'])\n",
    "    X_train,X_test,y_train,y_test=train_test_split(X,y, test_size=0.1, random_state=params['seed'])\n",
    "    X_train,X_val,y_train,y_val=train_test_split(X_train,y_train, test_size=0.11, random_state=params['seed'])\n",
    "    return(Dense.Train_Steps(params,X_train,X_test,X_val,y_train,y_test,\n",
    "        y_val,X_fill = X_fill,Memory=Memory),\n",
    "        y_val)\n",
    "\n",
    "def RunReps(Model,params,pool = None,FullReturn=False):\n",
    "    RST = RSTF.ReadStandardTimeFill(params['Dpath']+'ECData.csv')\n",
    "    offset = 5/params['proc']\n",
    "    Memory = (math.floor(100/params['proc'])- offset) * .01\n",
    "    MSE = []\n",
    "    RST.Scale(params['Y'],Model)\n",
    "    if params['T'] >0:\n",
    "        RST.TimeShape(params['T'])\n",
    "    y = RST.y*1.0\n",
    "    X = RST.X*1.0\n",
    "    X_fill = RST.X_fill*1.0\n",
    "    MSE = []\n",
    "    R2 =[]\n",
    "    Y_fill = []\n",
    "    Yval = []\n",
    "    y_val= []\n",
    "    if __name__=='__main__'and params['proc'] != 1:\n",
    "        for i,results in enumerate(pool.imap(partial(TTV_Split,Memory=Memory,X=X,y=y,params=params,X_fill=X_fill),range(params['K']))):\n",
    "            Y_fill.append(results[0][0])\n",
    "            Yval = RST.YScaled.inverse_transform(results[0][1].reshape(-1,1))\n",
    "            y_val = RST.YScaled.inverse_transform(results[1].reshape(-1,1))\n",
    "            MSE.append(metrics.mean_squared_error(Yval,y_val))\n",
    "            R2.append(metrics.r2_score(Yval,y_val))\n",
    "    else:\n",
    "        for i in range(params['K']):\n",
    "            results = TTV_Split(i,Memory,X,y,params,X_fill)\n",
    "            Y_fill.append(results[0][0])\n",
    "            Yval = RST.YScaled.inverse_transform(results[0][1].reshape(-1,1))\n",
    "            y_val = RST.YScaled.inverse_transform(results[1].reshape(-1,1))\n",
    "            MSE.append(metrics.mean_squared_error(y_val,Yval))\n",
    "            R2.append(metrics.r2_score(y_val,Yval))\n",
    "    Y_fill = np.asanyarray(Y_fill)\n",
    "    Y_fill = Y_fill.mean(axis=0) \n",
    "    FillVarName = FillVar.replace('f','F')\n",
    "    RST.Fill(Y_fill,FillVarName)\n",
    "    return(MSE,R2,RST.Master['TempFill'])\n",
    "\n",
    "def RunLoop(Runs,model):\n",
    "    style = {'description_width': 'initial'}\n",
    "    f = FloatProgress(min=0, max=Runs['N'].count(),description='Finding Best N:',style=style) # instantiate the bar\n",
    "    display(f) # display the bar\n",
    "    for N in Runs['N'].unique():\n",
    "        params['T'] = 0\n",
    "        params['N']=N\n",
    "        Results = RunReps(model,params,pool)\n",
    "        MSE = Results[0]\n",
    "        R2 = Results[1]\n",
    "        Runs.loc[Runs['N']==N,'MSE']=MSE\n",
    "        Runs.loc[Runs['N']==N,'R2']=R2\n",
    "        f.value+=params['K']\n",
    "    return(Runs)\n",
    "\n",
    "def N_Nodes(Runs,params,model,plot=False):\n",
    "    Runs = RunLoop(Runs,model)\n",
    "    Group = Runs.groupby('N').mean()\n",
    "    Group['SD'] = Runs[['N','MSE']].groupby('N').std()\n",
    "    Group['SE'] = Runs[['N','MSE']].groupby('N').sem()\n",
    "    Group = Group.reset_index()\n",
    "    Min = Group.loc[Group['MSE']==Group['MSE'].min()]\n",
    "    popt, pcov = curve_fit(Curve, Runs['N'].values, Runs['MSE'].values)\n",
    "    N = np.arange(Runs['N'].min(),Runs['N'].max())\n",
    "    Fit = Curve(N,*popt)\n",
    "    Max = (Min['MSE']+Min['SE']).values[0]\n",
    "    try:\n",
    "        params['N']=N[Fit<Max].min()\n",
    "    except:\n",
    "#         params['N']=N[-1]\n",
    "        print('Fitting failed to produce meaningful results')\n",
    "        params['N'] = Group.loc[Group['MSE']<+Min['MSE'].values[0]+Min['SE'].values[0],'N'].values[0]\n",
    "        pass\n",
    "    \n",
    "    if plot == True:\n",
    "        fig,ax = plt.subplots(figsize=(8,8))\n",
    "        ax.scatter(Runs['N'],Runs['MSE'])\n",
    "        ax.plot(N,Fit,color='r')\n",
    "        ax.plot(N,N*0+Max,color = 'black')\n",
    "        plt.grid()\n",
    "        plt.show()\n",
    "        print(params['N'])\n",
    "    return(params)\n",
    "\n",
    "def FactorTest(params,FullModel,Runs):\n",
    "    prog1 = FloatProgress(min=0, max=len(FullModel)-1,description='FactorTesting:') # instantiate the bar\n",
    "    display(prog1) # display the bar\n",
    "    Scores = Runs[['MSE','R2']].reset_index(drop=True)\n",
    "    Scores = (Scores.iloc[0:params['K']])*0\n",
    "    Scores['Level'] = len(FullModel)\n",
    "    Scores['Key'] = str(Scores['Level'][0])+'_0'\n",
    "    Scores['Model'] = '+'.join(FullModel)\n",
    "    Results = RunReps(FullModel,params,pool)\n",
    "    MSE = Results[0]\n",
    "    R2 = Results[1]\n",
    "    Scores['MSE']=Results[0]\n",
    "    Scores['R2']=Results[1]\n",
    "    ModelRuns = Results[2]\n",
    "    ModelRuns = ModelRuns.to_frame()\n",
    "    ModelRuns['Model: '+'+'.join(FullModel)]=ModelRuns['TempFill']\n",
    "    ModelRuns=ModelRuns.drop('TempFill',axis=1)\n",
    "    for i in range(1,len(FullModel)):\n",
    "        if i == 1:\n",
    "            Models = Combos(FullModel,i)\n",
    "        else:\n",
    "            Models = Combos(FullModel,i,factor = Best)\n",
    "        print('Number of Models: ',len(Models))\n",
    "        prog2 = FloatProgress(min=0, max=len(Models),description='Level: '+str(i)) # instantiate the bar\n",
    "        display(prog2) # display the bar\n",
    "        Values = []\n",
    "        Names = []\n",
    "        for i,model in enumerate(Models):\n",
    "            level = len(model)\n",
    "            key = str(level)+'_'+str(i)\n",
    "            Name = '+'.join(model)\n",
    "            NewRow = Scores.iloc[-1].copy()\n",
    "            NewRow['Model'] = 'Model: '+Name\n",
    "            Results = RunReps(model,params,pool)\n",
    "            MSE = Results[0]\n",
    "            R2 = Results[1]\n",
    "            d = {'Model':'+'.join(model),'MSE':MSE,'Key':key,'R2':R2,'Level':level}#,'Best':'N'\n",
    "            score = pd.DataFrame(index=[x for x in range(params['K'])],data=d)\n",
    "            Scores = Scores.append(score,ignore_index=True)#,sort=False)\n",
    "            ModelRuns['Model: '+'+'.join(model)] = Results[2]    \n",
    "            prog2.value+=1\n",
    "        Group = Scores.groupby('Key').agg({'Model': 'first', \n",
    "            'Level': 'first','MSE': 'mean','R2': 'mean'})#.reset_index()#mean()  \n",
    "        Group['SD'] = Scores[['Key','MSE']].groupby('Key').std()\n",
    "        Group['SE'] = Scores[['Key','MSE']].groupby('Key').sem()\n",
    "        Min = Group.loc[Group['Level']==level]\n",
    "        Best = Min.loc[Min['MSE'] == Min['MSE'].min(),'Model'].values\n",
    "        print(Best)  \n",
    "        prog1.value+=1\n",
    "    Group = Scores.groupby('Key').agg({'Model': 'first', \n",
    "        'Level': 'first','MSE': 'mean','R2': 'mean'})#.reset_index()#mean()  \n",
    "    Group['SD'] = Scores[['Key','MSE']].groupby('Key').std()\n",
    "    Group['SE'] = Scores[['Key','MSE']].groupby('Key').sem()\n",
    "    Min = Group.loc[Group['Level']==level]\n",
    "\n",
    "    Levels = Group.groupby('Level').min()\n",
    "    Sub=Group[Group['MSE'].isin(Levels['MSE'].values)]\n",
    "    print(Sub)\n",
    "    Sub.sort_values('Level',inplace=True)\n",
    "    Sub = Sub.loc[Sub['Level']>=1]\n",
    "    Sub.reset_index(inplace=True,drop=True)\n",
    "    Min = Sub.loc[Sub['MSE']==Sub['MSE'].min()]\n",
    "    Parsimony = (Sub.loc[Sub['MSE']<(Min['MSE'].values+Min['SE'].values)[0]])\n",
    "    Parsimony = Parsimony.loc[Parsimony['Level']==Parsimony['Level'].min()]\n",
    "    print(Parsimony)\n",
    "    Best = Parsimony['Model'].values\n",
    "    return(Best,Scores,ModelRuns)\n",
    "def Best_Fill(Best,Runs,Scores,params):\n",
    "    N = Runs['N']\n",
    "    NRuns = Runs*0\n",
    "    NRuns['N']=N\n",
    "    model = Best[0].split('+')\n",
    "\n",
    "    params = N_Nodes(NRuns,params,model,plot=True)\n",
    "    level = 0#len(Best)\n",
    "    print(Best)\n",
    "    key = '0_'+str(params['N'])\n",
    "    Name = '+'.join(Best)\n",
    "    NewRow = Scores.iloc[-1].copy()\n",
    "    NewRow['Model'] = 'BestModel: '+Name\n",
    "    Results = RunReps(model,params,pool)\n",
    "    MSE = Results[0]\n",
    "    R2 = Results[1]\n",
    "    d = {'Model':'+'.join(model),'MSE':MSE,'Key':key,'R2':R2,'Level':level}#,'Best':'N'\n",
    "    score = pd.DataFrame(index=[x for x in range(params['K'])],data=d)\n",
    "    Scores = Scores.append(score,ignore_index=True)\n",
    "    Scores = Scores.append(score,ignore_index=True)\n",
    "    ModelRuns['BestModel: '+'+'.join(model)] = Results[2] \n",
    "    print(params['N'])\n",
    "    return(Scores,ModelRuns)\n",
    "#     print(Scores)\n",
    "# pool.close()"
   ]
  },
  {
   "cell_type": "markdown",
   "metadata": {},
   "source": [
    "# The \"Optimum\" Sized Model"
   ]
  },
  {
   "cell_type": "code",
   "execution_count": 6,
   "metadata": {
    "scrolled": false
   },
   "outputs": [
    {
     "name": "stdout",
     "output_type": "stream",
     "text": [
      "{'Save': {'Weights': False, 'Model': False}, 'K': 20, 'Dpath': '/home/ubuntu/NetworkAnalysis/FishIsland/', 'splits_per_mod': 4, 'epochs': 200, 'proc': 3, 'Y': 'fco2'}\n"
     ]
    },
    {
     "data": {
      "application/vnd.jupyter.widget-view+json": {
       "model_id": "10018fe32f424a2ab1cc79d60d428538",
       "version_major": 2,
       "version_minor": 0
      },
      "text/plain": [
       "A Jupyter Widget"
      ]
     },
     "metadata": {},
     "output_type": "display_data"
    },
    {
     "name": "stderr",
     "output_type": "stream",
     "text": [
      "Using TensorFlow backend.\n",
      "Using TensorFlow backend.\n",
      "Using TensorFlow backend.\n",
      "Using TensorFlow backend.\n",
      "Using TensorFlow backend.\n",
      "Using TensorFlow backend.\n"
     ]
    },
    {
     "data": {
      "image/png": "[encoded data removed]",
      "text/plain": [
       "<matplotlib.figure.Figure at 0x7f0d6160f978>"
      ]
     },
     "metadata": {},
     "output_type": "display_data"
    },
    {
     "name": "stdout",
     "output_type": "stream",
     "text": [
      "46\n"
     ]
    },
    {
     "data": {
      "application/vnd.jupyter.widget-view+json": {
       "model_id": "df4de595866a4b86b0acfe4318077bb3",
       "version_major": 2,
       "version_minor": 0
      },
      "text/plain": [
       "A Jupyter Widget"
      ]
     },
     "metadata": {},
     "output_type": "display_data"
    },
    {
     "name": "stdout",
     "output_type": "stream",
     "text": [
      "Number of Models:  14\n"
     ]
    },
    {
     "data": {
      "application/vnd.jupyter.widget-view+json": {
       "model_id": "df9d817e2e784562a2c504b54d8dc06d",
       "version_major": 2,
       "version_minor": 0
      },
      "text/plain": [
       "A Jupyter Widget"
      ]
     },
     "metadata": {},
     "output_type": "display_data"
    },
    {
     "name": "stderr",
     "output_type": "stream",
     "text": [
      "Using TensorFlow backend.\n",
      "Using TensorFlow backend.\n",
      "Using TensorFlow backend.\n"
     ]
    },
    {
     "name": "stdout",
     "output_type": "stream",
     "text": [
      "['PPFD']\n",
      "Number of Models:  13\n"
     ]
    },
    {
     "data": {
      "application/vnd.jupyter.widget-view+json": {
       "model_id": "a5e83601d2fa43588fd3eaeffd57f316",
       "version_major": 2,
       "version_minor": 0
      },
      "text/plain": [
       "A Jupyter Widget"
      ]
     },
     "metadata": {},
     "output_type": "display_data"
    },
    {
     "name": "stderr",
     "output_type": "stream",
     "text": [
      "Using TensorFlow backend.\n",
      "Using TensorFlow backend.\n",
      "Using TensorFlow backend.\n"
     ]
    },
    {
     "name": "stdout",
     "output_type": "stream",
     "text": [
      "['Ta+PPFD']\n",
      "Number of Models:  12\n"
     ]
    },
    {
     "data": {
      "application/vnd.jupyter.widget-view+json": {
       "model_id": "0be7a714e71f4576bc2e02c676a34dba",
       "version_major": 2,
       "version_minor": 0
      },
      "text/plain": [
       "A Jupyter Widget"
      ]
     },
     "metadata": {},
     "output_type": "display_data"
    },
    {
     "name": "stderr",
     "output_type": "stream",
     "text": [
      "Using TensorFlow backend.\n",
      "Using TensorFlow backend.\n",
      "Using TensorFlow backend.\n"
     ]
    },
    {
     "name": "stdout",
     "output_type": "stream",
     "text": [
      "['Ta+PPFD+Active Layer']\n",
      "Number of Models:  11\n"
     ]
    },
    {
     "data": {
      "application/vnd.jupyter.widget-view+json": {
       "model_id": "67ff158422964074aee12515a1c8c701",
       "version_major": 2,
       "version_minor": 0
      },
      "text/plain": [
       "A Jupyter Widget"
      ]
     },
     "metadata": {},
     "output_type": "display_data"
    },
    {
     "name": "stderr",
     "output_type": "stream",
     "text": [
      "Using TensorFlow backend.\n",
      "Using TensorFlow backend.\n",
      "Using TensorFlow backend.\n"
     ]
    },
    {
     "name": "stdout",
     "output_type": "stream",
     "text": [
      "['H+Ta+PPFD+Active Layer']\n",
      "Number of Models:  10\n"
     ]
    },
    {
     "data": {
      "application/vnd.jupyter.widget-view+json": {
       "model_id": "dc719d661b9a40f4af710a6642460d2b",
       "version_major": 2,
       "version_minor": 0
      },
      "text/plain": [
       "A Jupyter Widget"
      ]
     },
     "metadata": {},
     "output_type": "display_data"
    },
    {
     "name": "stderr",
     "output_type": "stream",
     "text": [
      "Using TensorFlow backend.\n",
      "Using TensorFlow backend.\n",
      "Using TensorFlow backend.\n"
     ]
    },
    {
     "name": "stdout",
     "output_type": "stream",
     "text": [
      "['H+Wind Spd+Ta+PPFD+Active Layer']\n",
      "Number of Models:  9\n"
     ]
    },
    {
     "data": {
      "application/vnd.jupyter.widget-view+json": {
       "model_id": "2ce259599e554b31a230e43b5e092fa6",
       "version_major": 2,
       "version_minor": 0
      },
      "text/plain": [
       "A Jupyter Widget"
      ]
     },
     "metadata": {},
     "output_type": "display_data"
    },
    {
     "name": "stderr",
     "output_type": "stream",
     "text": [
      "Using TensorFlow backend.\n",
      "Using TensorFlow backend.\n",
      "Using TensorFlow backend.\n"
     ]
    },
    {
     "name": "stdout",
     "output_type": "stream",
     "text": [
      "['H+Wind Spd+Ta+PPFD+VWC+Active Layer']\n",
      "Number of Models:  8\n"
     ]
    },
    {
     "data": {
      "application/vnd.jupyter.widget-view+json": {
       "model_id": "90ec10b13bf5432fa14737d1613592e1",
       "version_major": 2,
       "version_minor": 0
      },
      "text/plain": [
       "A Jupyter Widget"
      ]
     },
     "metadata": {},
     "output_type": "display_data"
    },
    {
     "name": "stderr",
     "output_type": "stream",
     "text": [
      "Using TensorFlow backend.\n",
      "Using TensorFlow backend.\n",
      "Using TensorFlow backend.\n"
     ]
    },
    {
     "name": "stdout",
     "output_type": "stream",
     "text": [
      "['H+Wind Spd+Ta+PPFD+Water Table+VWC+Active Layer']\n",
      "Number of Models:  7\n"
     ]
    },
    {
     "data": {
      "application/vnd.jupyter.widget-view+json": {
       "model_id": "94e4bda00eca4cf3802b009d732476ea",
       "version_major": 2,
       "version_minor": 0
      },
      "text/plain": [
       "A Jupyter Widget"
      ]
     },
     "metadata": {},
     "output_type": "display_data"
    },
    {
     "name": "stdout",
     "output_type": "stream",
     "text": [
      "['H+Wind Spd+Ta+Rn+PPFD+Water Table+VWC+Active Layer']\n",
      "Number of Models:  6\n"
     ]
    },
    {
     "data": {
      "application/vnd.jupyter.widget-view+json": {
       "model_id": "a2f4f122e210493394e08f6f4b291267",
       "version_major": 2,
       "version_minor": 0
      },
      "text/plain": [
       "A Jupyter Widget"
      ]
     },
     "metadata": {},
     "output_type": "display_data"
    },
    {
     "name": "stderr",
     "output_type": "stream",
     "text": [
      "Using TensorFlow backend.\n",
      "Using TensorFlow backend.\n",
      "Using TensorFlow backend.\n"
     ]
    },
    {
     "name": "stdout",
     "output_type": "stream",
     "text": [
      "['H+Wind Spd+Ta+Rn+PPFD+Water Table+VWC+Active Layer+Wtr Tbl Trnd']\n",
      "Number of Models:  5\n"
     ]
    },
    {
     "data": {
      "application/vnd.jupyter.widget-view+json": {
       "model_id": "3f56c1398a7b4cf1848a7828326ead8c",
       "version_major": 2,
       "version_minor": 0
      },
      "text/plain": [
       "A Jupyter Widget"
      ]
     },
     "metadata": {},
     "output_type": "display_data"
    },
    {
     "name": "stdout",
     "output_type": "stream",
     "text": [
      "[ 'H+Wind Spd+air pressure+Ta+Rn+PPFD+Water Table+VWC+Active Layer+Wtr Tbl Trnd']\n",
      "Number of Models:  4\n"
     ]
    },
    {
     "data": {
      "application/vnd.jupyter.widget-view+json": {
       "model_id": "3714fb8db4af4ba586fc61ba7016f18b",
       "version_major": 2,
       "version_minor": 0
      },
      "text/plain": [
       "A Jupyter Widget"
      ]
     },
     "metadata": {},
     "output_type": "display_data"
    },
    {
     "name": "stderr",
     "output_type": "stream",
     "text": [
      "Using TensorFlow backend.\n",
      "Using TensorFlow backend.\n",
      "Using TensorFlow backend.\n"
     ]
    },
    {
     "name": "stdout",
     "output_type": "stream",
     "text": [
      "[ 'H+Wind Spd+air pressure+Ta+Rn+PPFD+Water Table+VWC+Active Layer+24H Rain+Wtr Tbl Trnd']\n",
      "Number of Models:  3\n"
     ]
    },
    {
     "data": {
      "application/vnd.jupyter.widget-view+json": {
       "model_id": "b913f967b5394abd9ea39c31bb6874f2",
       "version_major": 2,
       "version_minor": 0
      },
      "text/plain": [
       "A Jupyter Widget"
      ]
     },
     "metadata": {},
     "output_type": "display_data"
    },
    {
     "name": "stdout",
     "output_type": "stream",
     "text": [
      "[ 'H+Wind Spd+air pressure+Ta+Rn+PPFD+Water Table+Ts 15 cm+VWC+Active Layer+24H Rain+Wtr Tbl Trnd']\n",
      "Number of Models:  2\n"
     ]
    },
    {
     "data": {
      "application/vnd.jupyter.widget-view+json": {
       "model_id": "11e2021f35944221a11d2eb2c4567644",
       "version_major": 2,
       "version_minor": 0
      },
      "text/plain": [
       "A Jupyter Widget"
      ]
     },
     "metadata": {},
     "output_type": "display_data"
    },
    {
     "name": "stdout",
     "output_type": "stream",
     "text": [
      "[ 'H+Wind Spd+air pressure+Ta+Rn+PPFD+Rain+Water Table+Ts 15 cm+VWC+Active Layer+24H Rain+Wtr Tbl Trnd']\n",
      "            R2  Level       MSE  \\\n",
      "Key                               \n",
      "10_0  0.780958     10  0.158986   \n",
      "11_3  0.776256     11  0.162937   \n",
      "12_2  0.768138     12  0.166230   \n",
      "13_0  0.764558     13  0.167741   \n",
      "14_0  0.758224     14  0.172694   \n",
      "1_5   0.576629      1  0.265651   \n",
      "2_3   0.620405      2  0.244089   \n",
      "3_9   0.675468      3  0.217353   \n",
      "4_0   0.707503      4  0.197097   \n",
      "5_0   0.755179      5  0.172041   \n",
      "6_6   0.770835      6  0.161383   \n",
      "7_3   0.782824      7  0.155700   \n",
      "8_1   0.785045      8  0.156612   \n",
      "9_5   0.780358      9  0.157154   \n",
      "\n",
      "                                                  Model        SD        SE  \n",
      "Key                                                                          \n",
      "10_0  H+Wind Spd+air pressure+Ta+Rn+PPFD+Water Table...  0.017160  0.003837  \n",
      "11_3  H+Wind Spd+air pressure+Ta+Rn+PPFD+Water Table...  0.017884  0.003999  \n",
      "12_2  H+Wind Spd+air pressure+Ta+Rn+PPFD+Water Table...  0.019819  0.004432  \n",
      "13_0  H+Wind Spd+air pressure+Ta+Rn+PPFD+Rain+Water ...  0.022125  0.004947  \n",
      "14_0  H+Wind Spd+air pressure+Ta+Rn+PPFD+Rain+Water ...  0.020853  0.004663  \n",
      "1_5                                                PPFD  0.020619  0.004611  \n",
      "2_3                                             Ta+PPFD  0.022627  0.005059  \n",
      "3_9                                Ta+PPFD+Active Layer  0.012852  0.002874  \n",
      "4_0                              H+Ta+PPFD+Active Layer  0.010534  0.002356  \n",
      "5_0                     H+Wind Spd+Ta+PPFD+Active Layer  0.019391  0.004336  \n",
      "6_6                 H+Wind Spd+Ta+PPFD+VWC+Active Layer  0.018023  0.004030  \n",
      "7_3     H+Wind Spd+Ta+PPFD+Water Table+VWC+Active Layer  0.016314  0.003648  \n",
      "8_1   H+Wind Spd+Ta+Rn+PPFD+Water Table+VWC+Active L...  0.014757  0.003300  \n",
      "9_5   H+Wind Spd+Ta+Rn+PPFD+Water Table+VWC+Active L...  0.017087  0.003821  \n",
      "         R2  Level     MSE                                            Model  \\\n",
      "6  0.782824      7  0.1557  H+Wind Spd+Ta+PPFD+Water Table+VWC+Active Layer   \n",
      "\n",
      "         SD        SE  \n",
      "6  0.016314  0.003648  \n"
     ]
    },
    {
     "name": "stderr",
     "output_type": "stream",
     "text": [
      "/usr/local/lib/python3.5/dist-packages/ipykernel_launcher.py:168: SettingWithCopyWarning: \n",
      "A value is trying to be set on a copy of a slice from a DataFrame\n",
      "\n",
      "See the caveats in the documentation: http://pandas.pydata.org/pandas-docs/stable/indexing.html#indexing-view-versus-copy\n"
     ]
    },
    {
     "data": {
      "application/vnd.jupyter.widget-view+json": {
       "model_id": "12a5571cd79847d792833677e5834881",
       "version_major": 2,
       "version_minor": 0
      },
      "text/plain": [
       "A Jupyter Widget"
      ]
     },
     "metadata": {},
     "output_type": "display_data"
    },
    {
     "name": "stderr",
     "output_type": "stream",
     "text": [
      "Using TensorFlow backend.\n",
      "Using TensorFlow backend.\n",
      "Using TensorFlow backend.\n",
      "Using TensorFlow backend.\n",
      "Using TensorFlow backend.\n"
     ]
    },
    {
     "data": {
      "image/png": "[encoded data removed]",
      "text/plain": [
       "<matplotlib.figure.Figure at 0x7f0d61857588>"
      ]
     },
     "metadata": {},
     "output_type": "display_data"
    },
    {
     "name": "stdout",
     "output_type": "stream",
     "text": [
      "44\n",
      "['H+Wind Spd+Ta+PPFD+Water Table+VWC+Active Layer']\n"
     ]
    },
    {
     "name": "stderr",
     "output_type": "stream",
     "text": [
      "Using TensorFlow backend.\n"
     ]
    },
    {
     "name": "stdout",
     "output_type": "stream",
     "text": [
      "44\n",
      "44\n",
      "8994.961411237717\n",
      "{'Save': {'Weights': False, 'Model': False}, 'K': 20, 'Dpath': '/home/ubuntu/NetworkAnalysis/FishIsland/', 'splits_per_mod': 4, 'epochs': 200, 'proc': 3, 'Y': 'fch4'}\n"
     ]
    },
    {
     "data": {
      "application/vnd.jupyter.widget-view+json": {
       "model_id": "54c0596f114a47d0984ec5e1d34980e3",
       "version_major": 2,
       "version_minor": 0
      },
      "text/plain": [
       "A Jupyter Widget"
      ]
     },
     "metadata": {},
     "output_type": "display_data"
    },
    {
     "name": "stderr",
     "output_type": "stream",
     "text": [
      "Using TensorFlow backend.\n",
      "Using TensorFlow backend.\n",
      "Using TensorFlow backend.\n"
     ]
    },
    {
     "data": {
      "image/png": "[encoded data removed]",
      "text/plain": [
       "<matplotlib.figure.Figure at 0x7f0d615dc710>"
      ]
     },
     "metadata": {},
     "output_type": "display_data"
    },
    {
     "name": "stdout",
     "output_type": "stream",
     "text": [
      "43\n"
     ]
    },
    {
     "data": {
      "application/vnd.jupyter.widget-view+json": {
       "model_id": "925453c1882042319f197ee1ac124ef8",
       "version_major": 2,
       "version_minor": 0
      },
      "text/plain": [
       "A Jupyter Widget"
      ]
     },
     "metadata": {},
     "output_type": "display_data"
    },
    {
     "name": "stdout",
     "output_type": "stream",
     "text": [
      "Number of Models:  14\n"
     ]
    },
    {
     "data": {
      "application/vnd.jupyter.widget-view+json": {
       "model_id": "08a897e470064cdca0c60bcf7f71d465",
       "version_major": 2,
       "version_minor": 0
      },
      "text/plain": [
       "A Jupyter Widget"
      ]
     },
     "metadata": {},
     "output_type": "display_data"
    },
    {
     "name": "stderr",
     "output_type": "stream",
     "text": [
      "Using TensorFlow backend.\n",
      "Using TensorFlow backend.\n",
      "Using TensorFlow backend.\n"
     ]
    },
    {
     "name": "stdout",
     "output_type": "stream",
     "text": [
      "['H']\n",
      "Number of Models:  13\n"
     ]
    },
    {
     "data": {
      "application/vnd.jupyter.widget-view+json": {
       "model_id": "f2af6cbb4f9a46ee9cd04a65f624a7d7",
       "version_major": 2,
       "version_minor": 0
      },
      "text/plain": [
       "A Jupyter Widget"
      ]
     },
     "metadata": {},
     "output_type": "display_data"
    },
    {
     "name": "stderr",
     "output_type": "stream",
     "text": [
      "Using TensorFlow backend.\n",
      "Using TensorFlow backend.\n",
      "Using TensorFlow backend.\n"
     ]
    },
    {
     "name": "stdout",
     "output_type": "stream",
     "text": [
      "['H+VWC']\n",
      "Number of Models:  12\n"
     ]
    },
    {
     "data": {
      "application/vnd.jupyter.widget-view+json": {
       "model_id": "e0e810e97c0549089dd36c7404ad67d2",
       "version_major": 2,
       "version_minor": 0
      },
      "text/plain": [
       "A Jupyter Widget"
      ]
     },
     "metadata": {},
     "output_type": "display_data"
    },
    {
     "name": "stderr",
     "output_type": "stream",
     "text": [
      "Using TensorFlow backend.\n",
      "Using TensorFlow backend.\n",
      "Using TensorFlow backend.\n",
      "Using TensorFlow backend.\n"
     ]
    },
    {
     "name": "stdout",
     "output_type": "stream",
     "text": [
      "['H+VWC+Active Layer']\n",
      "Number of Models:  11\n"
     ]
    },
    {
     "data": {
      "application/vnd.jupyter.widget-view+json": {
       "model_id": "076f78c24efd4141b618ce147adcbb09",
       "version_major": 2,
       "version_minor": 0
      },
      "text/plain": [
       "A Jupyter Widget"
      ]
     },
     "metadata": {},
     "output_type": "display_data"
    },
    {
     "name": "stderr",
     "output_type": "stream",
     "text": [
      "Using TensorFlow backend.\n",
      "Using TensorFlow backend.\n",
      "Using TensorFlow backend.\n"
     ]
    },
    {
     "name": "stdout",
     "output_type": "stream",
     "text": [
      "['H+Water Table+VWC+Active Layer']\n",
      "Number of Models:  10\n"
     ]
    },
    {
     "data": {
      "application/vnd.jupyter.widget-view+json": {
       "model_id": "5e3df6fe54df488fbede4224629cb900",
       "version_major": 2,
       "version_minor": 0
      },
      "text/plain": [
       "A Jupyter Widget"
      ]
     },
     "metadata": {},
     "output_type": "display_data"
    },
    {
     "name": "stderr",
     "output_type": "stream",
     "text": [
      "Using TensorFlow backend.\n",
      "Using TensorFlow backend.\n"
     ]
    },
    {
     "name": "stdout",
     "output_type": "stream",
     "text": [
      "['H+Ta+Water Table+VWC+Active Layer']\n",
      "Number of Models:  9\n"
     ]
    },
    {
     "data": {
      "application/vnd.jupyter.widget-view+json": {
       "model_id": "fafbc530819045c1a8e4108b4ca88b62",
       "version_major": 2,
       "version_minor": 0
      },
      "text/plain": [
       "A Jupyter Widget"
      ]
     },
     "metadata": {},
     "output_type": "display_data"
    },
    {
     "name": "stderr",
     "output_type": "stream",
     "text": [
      "Using TensorFlow backend.\n",
      "Using TensorFlow backend.\n",
      "Using TensorFlow backend.\n"
     ]
    },
    {
     "name": "stdout",
     "output_type": "stream",
     "text": [
      "['H+air pressure+Ta+Water Table+VWC+Active Layer']\n",
      "Number of Models:  8\n"
     ]
    },
    {
     "data": {
      "application/vnd.jupyter.widget-view+json": {
       "model_id": "049ce56f260f4883b36d8f3b40f51637",
       "version_major": 2,
       "version_minor": 0
      },
      "text/plain": [
       "A Jupyter Widget"
      ]
     },
     "metadata": {},
     "output_type": "display_data"
    },
    {
     "name": "stderr",
     "output_type": "stream",
     "text": [
      "Using TensorFlow backend.\n",
      "Using TensorFlow backend.\n",
      "Using TensorFlow backend.\n"
     ]
    },
    {
     "name": "stdout",
     "output_type": "stream",
     "text": [
      "['H+air pressure+Ta+Water Table+VWC+Active Layer+24H Rain']\n",
      "Number of Models:  7\n"
     ]
    },
    {
     "data": {
      "application/vnd.jupyter.widget-view+json": {
       "model_id": "aabe479e46944704a48941ea7cd81745",
       "version_major": 2,
       "version_minor": 0
      },
      "text/plain": [
       "A Jupyter Widget"
      ]
     },
     "metadata": {},
     "output_type": "display_data"
    },
    {
     "name": "stderr",
     "output_type": "stream",
     "text": [
      "Using TensorFlow backend.\n"
     ]
    },
    {
     "name": "stdout",
     "output_type": "stream",
     "text": [
      "['H+air pressure+Ta+Water Table+Ts 15 cm+VWC+Active Layer+24H Rain']\n",
      "Number of Models:  6\n"
     ]
    },
    {
     "data": {
      "application/vnd.jupyter.widget-view+json": {
       "model_id": "a61b9ff9a4e34f3f8783e178c6cbf485",
       "version_major": 2,
       "version_minor": 0
      },
      "text/plain": [
       "A Jupyter Widget"
      ]
     },
     "metadata": {},
     "output_type": "display_data"
    },
    {
     "name": "stderr",
     "output_type": "stream",
     "text": [
      "Using TensorFlow backend.\n",
      "Using TensorFlow backend.\n"
     ]
    },
    {
     "name": "stdout",
     "output_type": "stream",
     "text": [
      "['H+air pressure+Ta+Rain+Water Table+Ts 15 cm+VWC+Active Layer+24H Rain']\n",
      "Number of Models:  5\n"
     ]
    },
    {
     "data": {
      "application/vnd.jupyter.widget-view+json": {
       "model_id": "29d67fe4923149eea77f75bb561f2863",
       "version_major": 2,
       "version_minor": 0
      },
      "text/plain": [
       "A Jupyter Widget"
      ]
     },
     "metadata": {},
     "output_type": "display_data"
    },
    {
     "name": "stderr",
     "output_type": "stream",
     "text": [
      "Using TensorFlow backend.\n"
     ]
    },
    {
     "name": "stdout",
     "output_type": "stream",
     "text": [
      "[ 'H+air pressure+Ta+PPFD+Rain+Water Table+Ts 15 cm+VWC+Active Layer+24H Rain']\n",
      "Number of Models:  4\n"
     ]
    },
    {
     "data": {
      "application/vnd.jupyter.widget-view+json": {
       "model_id": "b791ac750cf04e8e899e2e91bfc30e1d",
       "version_major": 2,
       "version_minor": 0
      },
      "text/plain": [
       "A Jupyter Widget"
      ]
     },
     "metadata": {},
     "output_type": "display_data"
    },
    {
     "name": "stderr",
     "output_type": "stream",
     "text": [
      "Using TensorFlow backend.\n",
      "Using TensorFlow backend.\n"
     ]
    },
    {
     "name": "stdout",
     "output_type": "stream",
     "text": [
      "[ 'H+air pressure+Ta+PPFD+Rain+Water Table+Ts 2.5 cm+Ts 15 cm+VWC+Active Layer+24H Rain']\n",
      "Number of Models:  3\n"
     ]
    },
    {
     "data": {
      "application/vnd.jupyter.widget-view+json": {
       "model_id": "a6bea6f5afa84899b4709a6a9dd51e8f",
       "version_major": 2,
       "version_minor": 0
      },
      "text/plain": [
       "A Jupyter Widget"
      ]
     },
     "metadata": {},
     "output_type": "display_data"
    },
    {
     "name": "stdout",
     "output_type": "stream",
     "text": [
      "[ 'H+Wind Spd+air pressure+Ta+PPFD+Rain+Water Table+Ts 2.5 cm+Ts 15 cm+VWC+Active Layer+24H Rain']\n",
      "Number of Models:  2\n"
     ]
    },
    {
     "data": {
      "application/vnd.jupyter.widget-view+json": {
       "model_id": "8688a389c41d4237974d61f872fe186e",
       "version_major": 2,
       "version_minor": 0
      },
      "text/plain": [
       "A Jupyter Widget"
      ]
     },
     "metadata": {},
     "output_type": "display_data"
    },
    {
     "name": "stdout",
     "output_type": "stream",
     "text": [
      "[ 'H+Wind Spd+air pressure+Ta+Rn+PPFD+Rain+Water Table+Ts 2.5 cm+Ts 15 cm+VWC+Active Layer+24H Rain']\n",
      "            R2  Level         MSE  \\\n",
      "Key                                 \n",
      "10_2 -0.189717     10  163.513161   \n",
      "11_2 -0.214794     11  165.483760   \n",
      "12_0 -0.190458     12  167.866149   \n",
      "13_0 -0.198945     13  168.218165   \n",
      "14_0 -0.251232     14  172.732061   \n",
      "1_0  -1.697951      1  230.318533   \n",
      "2_9  -1.115053      2  208.147413   \n",
      "3_9  -0.841125      3  199.439941   \n",
      "4_6  -0.543301      4  184.269748   \n",
      "5_2  -0.400816      5  176.837305   \n",
      "6_1  -0.414616      6  172.491639   \n",
      "7_6  -0.215934      7  165.482308   \n",
      "8_5  -0.162122      8  161.724734   \n",
      "9_3  -0.186418      9  163.738694   \n",
      "\n",
      "                                                  Model         SD        SE  \n",
      "Key                                                                           \n",
      "10_2  H+air pressure+Ta+PPFD+Rain+Water Table+Ts 15 ...  14.647131  3.275198  \n",
      "11_2  H+air pressure+Ta+PPFD+Rain+Water Table+Ts 2.5...  14.617427  3.268556  \n",
      "12_0  H+Wind Spd+air pressure+Ta+PPFD+Rain+Water Tab...  23.546897  5.265246  \n",
      "13_0  H+Wind Spd+air pressure+Ta+Rn+PPFD+Rain+Water ...  20.134507  4.502213  \n",
      "14_0  H+Wind Spd+air pressure+Ta+Rn+PPFD+Rain+Water ...  23.094571  5.164103  \n",
      "1_0                                                   H  26.362494  5.894833  \n",
      "2_9                                               H+VWC  22.527478  5.037297  \n",
      "3_9                                  H+VWC+Active Layer  19.590684  4.380610  \n",
      "4_6                      H+Water Table+VWC+Active Layer  12.094143  2.704333  \n",
      "5_2                   H+Ta+Water Table+VWC+Active Layer  14.541914  3.251671  \n",
      "6_1      H+air pressure+Ta+Water Table+VWC+Active Layer  18.135162  4.055145  \n",
      "7_6   H+air pressure+Ta+Water Table+VWC+Active Layer...  17.682742  3.953981  \n",
      "8_5   H+air pressure+Ta+Water Table+Ts 15 cm+VWC+Act...  14.636981  3.272928  \n",
      "9_3   H+air pressure+Ta+Rain+Water Table+Ts 15 cm+VW...  16.218258  3.626513  \n",
      "         R2  Level         MSE  \\\n",
      "7 -0.162122      8  161.724734   \n",
      "\n",
      "                                               Model         SD        SE  \n",
      "7  H+air pressure+Ta+Water Table+Ts 15 cm+VWC+Act...  14.636981  3.272928  \n"
     ]
    },
    {
     "data": {
      "application/vnd.jupyter.widget-view+json": {
       "model_id": "2ae12b54468e47a2ab7a91cc9b4d72fc",
       "version_major": 2,
       "version_minor": 0
      },
      "text/plain": [
       "A Jupyter Widget"
      ]
     },
     "metadata": {},
     "output_type": "display_data"
    },
    {
     "name": "stderr",
     "output_type": "stream",
     "text": [
      "Using TensorFlow backend.\n",
      "Using TensorFlow backend.\n",
      "Using TensorFlow backend.\n",
      "Using TensorFlow backend.\n",
      "Using TensorFlow backend.\n",
      "Using TensorFlow backend.\n"
     ]
    },
    {
     "data": {
      "image/png": "[encoded data removed]",
      "text/plain": [
       "<matplotlib.figure.Figure at 0x7f0d617dc710>"
      ]
     },
     "metadata": {},
     "output_type": "display_data"
    },
    {
     "name": "stdout",
     "output_type": "stream",
     "text": [
      "44\n",
      "['H+air pressure+Ta+Water Table+Ts 15 cm+VWC+Active Layer+24H Rain']\n",
      "44\n",
      "44\n",
      "6027.069519042969\n"
     ]
    }
   ],
   "source": [
    "# pool.close()\n",
    "Site = 'FishIsland'#'Illisarvik'#\n",
    "cwd = os.getcwd()\n",
    "# FullModel = ['H','wind_speed','air_pressure','PPFD_Avg','AirTC_Avg',\n",
    "#              'VPD','Temp','VWC','Sedge','Shrub','Grass','Sparse','Out_of_Basin']\n",
    "# FullModel = ['PPFD_Avg','AirTC_Avg','Sedge']\n",
    "\n",
    "FullModel = ['H','Wind Spd','air pressure','Ta','Rn','PPFD','Rain','Water Table',\n",
    "        'Ts 2.5 cm','Ts 15 cm','VWC','Active Layer','24H Rain','Wtr Tbl Trnd']\n",
    "\n",
    "# FullModel = ['H','Water Table','Wind Spd','Active Layer']\n",
    "MP=True\n",
    "if __name__=='__main__'and MP==True:\n",
    "    pool = Pool(processes=3,maxtasksperchild=75)\n",
    "else:pool=None\n",
    "\n",
    "\n",
    "for FillVar in ['fco2','fch4']:\n",
    "# FillVar = 'fch4'https://ec2-52-33-244-45.us-west-2.compute.amazonaws.com:8888/kernelspecs/python3/logo-64x64.png\n",
    "    Time = time.time()\n",
    "    #     Path = 'Data_Footprints_2018-06-12.csv'\n",
    "    Runs,params = Dense.Params('Full',FillVar,MP)\n",
    "    params['Dpath'] = cwd+'/'+Site+'/'\n",
    "    print(params)\n",
    "    params = N_Nodes(Runs,params,FullModel,plot=True)\n",
    "    Best,Scores,ModelRuns = FactorTest(params,FullModel,Runs)\n",
    "    Best_Fill(Best,Runs,Scores,params)\n",
    "\n",
    "    Scores.to_csv(params['Dpath']+FillVar+'/GapFillingSummary.csv')\n",
    "    ModelRuns.to_csv(params['Dpath']+FillVar+'/GapFilled.csv')\n",
    "    print(params['N'])\n",
    "    print(time.time()-Time)"
   ]
  },
  {
   "cell_type": "code",
   "execution_count": 7,
   "metadata": {
    "collapsed": true
   },
   "outputs": [],
   "source": [
    "# 46"
   ]
  }
 ],
 "metadata": {
  "kernelspec": {
   "display_name": "Python 3",
   "language": "python",
   "name": "python3"
  },
  "language_info": {
   "codemirror_mode": {
    "name": "ipython",
    "version": 3
   },
   "file_extension": ".py",
   "mimetype": "text/x-python",
   "name": "python",
   "nbconvert_exporter": "python",
   "pygments_lexer": "ipython3",
   "version": "3.5.2"
  }
 },
 "nbformat": 4,
 "nbformat_minor": 2
}
