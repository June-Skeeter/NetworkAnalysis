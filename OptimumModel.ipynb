{
 "cells": [
  {
   "cell_type": "markdown",
   "metadata": {},
   "source": [
    "##  Optimze and a Dense Neural Network for gap filling and feature identification\n",
    "\n",
    "** With a few tweaks to RepRunner, an LSTM can be run instead"
   ]
  },
  {
   "cell_type": "code",
   "execution_count": 1,
   "metadata": {},
   "outputs": [],
   "source": [
    "import time\n",
    "import math\n",
    "import numpy as np\n",
    "import pandas as pd\n",
    "import matplotlib.pyplot as plt\n",
    "from itertools import combinations\n",
    "from functools import partial\n",
    "from multiprocessing import Pool\n",
    "from sklearn.preprocessing import StandardScaler\n",
    "from sklearn import metrics\n",
    "from sklearn.model_selection import RepeatedKFold\n",
    "from sklearn.model_selection import train_test_split\n",
    "\n",
    "## Personal Modules\n",
    "import ReadStandardTimeFill as RSTF\n",
    "import importlib\n",
    "import DenseNet as Dense\n",
    "importlib.reload(Dense)\n",
    "importlib.reload(RSTF)\n",
    "\n",
    "%matplotlib inline\n",
    "%config IPCompleter.greedy=True\n",
    "\n",
    "from scipy.optimize import minimize, curve_fit\n",
    "from scipy.stats import norm\n",
    "from sklearn.gaussian_process import GaussianProcessRegressor\n",
    "from sklearn.gaussian_process.kernels import Matern, WhiteKernel, ConstantKernel\n",
    "from matplotlib import cm\n",
    "\n",
    "from scipy import stats\n",
    "from statsmodels.stats.multicomp import pairwise_tukeyhsd\n",
    "\n",
    "from ipywidgets import FloatProgress\n",
    "from IPython.display import display\n",
    "import os  "
   ]
  },
  {
   "cell_type": "code",
   "execution_count": 6,
   "metadata": {},
   "outputs": [],
   "source": [
    "def Curve(x,a,b,c):\n",
    "    return (a*x**2+b*x+c)\n",
    "\n",
    "def TTV_Split(iteration,Memory,X,y,params,X_fill):\n",
    "    params['seed'] = int(iteration%params['splits_per_mod']/params['splits_per_mod']*100)\n",
    "    params['iteration'] = int(iteration/params['splits_per_mod'])\n",
    "    X_train,X_test,y_train,y_test=train_test_split(X,y, test_size=0.1, random_state=params['seed'])\n",
    "    X_train,X_val,y_train,y_val=train_test_split(X_train,y_train, test_size=0.11, random_state=params['seed'])\n",
    "    return(Dense.Train_Steps(params,X_train,X_test,X_val,y_train,y_test,\n",
    "        y_val,X_fill = X_fill,Memory=Memory),\n",
    "        y_val)\n",
    "\n",
    "def RunReps(Model,params,pool = None,FullReturn=False):\n",
    "    RST = RSTF.ReadStandardTimeFill(params['Dpath']+'ECData.csv')\n",
    "    offset = 5/params['proc']\n",
    "    Memory = (math.floor(100/params['proc'])- offset) * .01\n",
    "    MSE = []\n",
    "    RST.Scale(params['Y'],Model)\n",
    "    y = RST.y*1.0\n",
    "    X = RST.X*1.0\n",
    "    X_fill = RST.X_fill*1.0\n",
    "    RMSE = []\n",
    "    R2 =[]\n",
    "    Y_fill = []\n",
    "    Yval = []\n",
    "    y_val= []\n",
    "    if params['Prelim_N']==True:\n",
    "        params['N']=int(y.shape[0]*.8/30)\n",
    "    if __name__=='__main__'and params['proc'] != 1:\n",
    "        for i,results in enumerate(pool.imap(partial(TTV_Split,Memory=Memory,X=X,y=y,params=params,X_fill=X_fill),range(params['K']))):\n",
    "            Y_fill.append(results[0][0])\n",
    "            Yval = RST.YScaled.inverse_transform(results[0][1].reshape(-1,1))\n",
    "            y_val = RST.YScaled.inverse_transform(results[1].reshape(-1,1))\n",
    "            RMSE.append(metrics.mean_squared_error(Yval,y_val)**.5)\n",
    "            R2.append(metrics.r2_score(Yval,y_val))\n",
    "    else:\n",
    "        for i in range(params['K']):\n",
    "            results = TTV_Split(i,Memory,X,y,params,X_fill)\n",
    "            Y_fill.append(results[0][0])\n",
    "            Yval = RST.YScaled.inverse_transform(results[0][1].reshape(-1,1))\n",
    "            y_val = RST.YScaled.inverse_transform(results[1].reshape(-1,1))\n",
    "            RMSE.append(metrics.mean_squared_error(y_val,Yval)**.5)\n",
    "            R2.append(metrics.r2_score(y_val,Yval))\n",
    "    Y_fill = np.asanyarray(Y_fill)\n",
    "    Y_fill = Y_fill.mean(axis=0) \n",
    "    FillVarName = FillVar.replace('f','F')\n",
    "    RST.Fill(Y_fill,FillVarName)\n",
    "    return(RMSE,R2,RST.Master['TempFill'])\n",
    "\n",
    "def RunLoop(Runs,model):\n",
    "    style = {'description_width': 'initial'}\n",
    "    f = FloatProgress(min=0, max=Runs['N'].count(),description='Finding Best N:',style=style) # instantiate the bar\n",
    "    display(f) # display the bar\n",
    "    i = 0\n",
    "    for N in Runs['N'].unique():\n",
    "        params['T'] = 0\n",
    "        params['N']=N\n",
    "        Results = RunReps(model,params,pool)\n",
    "        RMSE = Results[0]\n",
    "        R2 = Results[1]\n",
    "        Runs.loc[Runs['N']==N,'RMSE']=RMSE\n",
    "        Runs.loc[Runs['N']==N,'R2']=R2\n",
    "        f.value+=params['K']\n",
    "        rmse = Runs.loc[Runs['RMSE']!=0].groupby('N').mean()#.values[0]\n",
    "        rmse['se'] = Runs.loc[Runs['RMSE']!=0,['N','RMSE']].groupby('N').sem()#.values[0]\n",
    "        Val = rmse['RMSE'].min()+rmse.loc[rmse['RMSE']==rmse['RMSE'].min(),'se'].values[0]\n",
    "        if i > 1:\n",
    "            if np.asanyarray(RMSE).mean()>Val:\n",
    "                Runs = Runs.loc[Runs['RMSE']!=0]\n",
    "                print('Leaving at ',N)\n",
    "                break\n",
    "        i+=1                \n",
    "    return(Runs)\n",
    "\n",
    "def N_Nodes(Runs,params,model,plot=False):\n",
    "    params['Prelim_N']=False\n",
    "    Runs = RunLoop(Runs,model)\n",
    "    Group = Runs.groupby('N').mean()\n",
    "    Group['Count'] = Runs[['N','RMSE']].groupby('N').count()\n",
    "    Group['SD'] = Runs[['N','RMSE']].groupby('N').std()\n",
    "    Group['SE'] = Runs[['N','RMSE']].groupby('N').sem()\n",
    "    Group = Group.reset_index()\n",
    "    Min = Group.loc[Group['RMSE']==Group['RMSE'].min()]\n",
    "    popt, pcov = curve_fit(Curve, Runs['N'].values, Runs['RMSE'].values)\n",
    "    N = np.arange(Runs['N'].min(),Runs['N'].max())\n",
    "    Fit = Curve(N,*popt)\n",
    "    Max = (Min['RMSE']+Min['SE']).values[0]\n",
    "    try:\n",
    "        params['N']=N[Fit<Max].min()\n",
    "    except:\n",
    "        print('Fitting failed to produce meaningful results')\n",
    "        params['N'] = Group.loc[Group['RMSE']<+Min['RMSE'].values[0]+Min['SE'].values[0],'N'].values[0]\n",
    "        pass\n",
    "    \n",
    "    if plot == True:\n",
    "        fig,ax = plt.subplots(figsize=(8,8))\n",
    "        ax.scatter(Runs['N'],Runs['RMSE'])\n",
    "        ax.plot(N,Fit,color='r')\n",
    "        ax.plot(N,N*0+Max,color = 'black')\n",
    "        plt.grid()\n",
    "        plt.show()\n",
    "    return(params,Runs,Group)\n",
    "\n",
    "def Combos(Model,L,factor=None,BaseFactors=[]):\n",
    "    Models=[]#BaseFactors#list()\n",
    "    for c in combinations(Model,L):\n",
    "        c = list(c)+BaseFactors\n",
    "        if factor is None:\n",
    "            Models.append(c)\n",
    "        else:\n",
    "            for f in factor:\n",
    "                f = f.split('+')\n",
    "                if set(f).issubset(set(c)) and c not in Models:\n",
    "                    Models.append(c)\n",
    "                    \n",
    "    print('Models: ',Models)\n",
    "    return(Models)\n",
    "\n",
    "def FactorTest(params,FullModel,Runs,BaseFactors = []):\n",
    "    prog1 = FloatProgress(min=len(BaseFactors), max=len(FullModel+BaseFactors)-1,description='FactorTesting:') # instantiate the bar\n",
    "    display(prog1) # display the bar\n",
    "    Scores = pd.DataFrame()\n",
    "    ModelRuns = pd.DataFrame()\n",
    "    Start = 1\n",
    "    for level in range(Start,len(FullModel+BaseFactors)+1):\n",
    "        if level == 1:\n",
    "            Models = Combos(FullModel,level)\n",
    "#         elif BaseFactors != [] and i-Start == 0:\n",
    "#             Models = Combos(FullModel,level-Start+1,BaseFactors=BaseFactors)\n",
    "#         elif BaseFactors != [] and i-Start > 0:\n",
    "#             Models = Combos(FullModel,level-Start+1,factor = Best,BaseFactors=BaseFactors)\n",
    "        else:\n",
    "            Models = Combos(FullModel,level,factor = Best,BaseFactors=BaseFactors)\n",
    "        print('Number of Models: ',len(Models))\n",
    "        prog2 = FloatProgress(min=0, max=len(Models),description='Level: '+str(level)) # instantiate the bar\n",
    "        display(prog2) # display the bar\n",
    "        Values = []\n",
    "        for j,model in enumerate(Models):\n",
    "            key = str(level)+'_'+str(j)\n",
    "            Name = '+'.join(model)\n",
    "            Results = RunReps(model,params,pool)\n",
    "            RMSE = Results[0]\n",
    "            R2 = Results[1]\n",
    "            d = {'Model':'+'.join(model),'RMSE':RMSE,'Key':key,'R2':R2,'Level':level}#,'Best':'N'\n",
    "            score = pd.DataFrame(index=[x for x in range(params['K'])],data=d)\n",
    "            Scores = Scores.append(score,ignore_index=True)## Might cause problems in older versions\n",
    "            ModelRuns['Model: '+'+'.join(model)] = Results[2]    \n",
    "            prog2.value+=1\n",
    "        Group = Scores.groupby('Key').agg({'Model': 'first','Level': 'first','RMSE': 'mean','R2': 'mean'}) \n",
    "        Group['SE'] = Scores[['Key','RMSE']].groupby('Key').sem()\n",
    "        Min = Group.loc[Group['Level']==level]\n",
    "#         print(Min)\n",
    "        Mod2Beat = Min.loc[Min['RMSE'] == Min['RMSE'].min()]\n",
    "        print('Best Model @ Level ',level)\n",
    "        print(Mod2Beat)\n",
    "        if level>Start:\n",
    "            print('Should we exit??', (Mod2Beat['RMSE']+Mod2Beat['SE']).values[0],LastMin)\n",
    "            if (Mod2Beat['RMSE']+Mod2Beat['SE']).values[0]>LastMin:\n",
    "                print('Exit Early')\n",
    "                Scores = Scores.loc[Scores['Level']<level]\n",
    "                break\n",
    "        LastMin = Min['RMSE'].min()\n",
    "        Best = Mod2Beat['Model'].values\n",
    "        prog1.value+=1\n",
    "    Group = Scores.groupby('Key').agg({'Model': 'first','Level': 'first','RMSE': 'mean','R2': 'mean'})\n",
    "    Group['SE'] = Scores[['Key','RMSE']].groupby('Key').sem()\n",
    "    Min = Group.loc[Group['Level']==level]\n",
    "    return(Best,Scores,ModelRuns)\n",
    "\n",
    "def Best_Fill(Best,Runs,Scores,params):\n",
    "    N = Runs['N']\n",
    "    NRuns = Runs*0\n",
    "    NRuns['N']=N\n",
    "    model = Best[0].split('+')\n",
    "\n",
    "    params,Runs,Group = N_Nodes(NRuns,params,model,plot=True)\n",
    "    level = 0\n",
    "    key = '0_'+str(params['N'])\n",
    "    Name = '+'.join(Best)\n",
    "    Results = RunReps(model,params,pool)\n",
    "    MSE = Results[0]\n",
    "    R2 = Results[1]\n",
    "    d = {'Model':'+'.join(model),'RMSE':MSE,'Key':key,'R2':R2,'Level':level}#,'Best':'N'\n",
    "    score = pd.DataFrame(index=[x for x in range(params['K'])],data=d)\n",
    "    Scores = Scores.append(score,ignore_index=True)\n",
    "    ModelRuns['BestModel: '+'+'.join(model)] = Results[2] \n",
    "    print(params['N'])\n",
    "    return(Scores,ModelRuns)"
   ]
  },
  {
   "cell_type": "markdown",
   "metadata": {},
   "source": [
    "# The \"Optimum\" Sized Model"
   ]
  },
  {
   "cell_type": "code",
   "execution_count": 8,
   "metadata": {
    "scrolled": true
   },
   "outputs": [
    {
     "name": "stdout",
     "output_type": "stream",
     "text": [
      "Illisarvik fco2\n"
     ]
    },
    {
     "data": {
      "application/vnd.jupyter.widget-view+json": {
       "model_id": "9613e65ae8b942f3a0ea078842653aaf",
       "version_major": 2,
       "version_minor": 0
      },
      "text/plain": [
       "A Jupyter Widget"
      ]
     },
     "metadata": {},
     "output_type": "display_data"
    },
    {
     "name": "stdout",
     "output_type": "stream",
     "text": [
      "Models:  [['H'], ['wind_speed'], ['air_pressure'], ['PPFD_Avg'], ['AirTC_Avg'], ['VPD'], ['Temp'], ['VWC'], ['Sedge'], ['Shrub'], ['Grass'], ['Sparse'], ['Out_of_Basin']]\n",
      "Number of Models:  13\n"
     ]
    },
    {
     "data": {
      "application/vnd.jupyter.widget-view+json": {
       "model_id": "e2425f016f0a4bdab789093ad9f12d75",
       "version_major": 2,
       "version_minor": 0
      },
      "text/plain": [
       "A Jupyter Widget"
      ]
     },
     "metadata": {},
     "output_type": "display_data"
    },
    {
     "name": "stderr",
     "output_type": "stream",
     "text": [
      "Using TensorFlow backend.\n",
      "Using TensorFlow backend.\n",
      "Using TensorFlow backend.\n",
      "Using TensorFlow backend.\n",
      "Using TensorFlow backend.\n",
      "Using TensorFlow backend.\n"
     ]
    },
    {
     "name": "stdout",
     "output_type": "stream",
     "text": [
      "Best Model @ Level  1\n",
      "         RMSE  Level        R2     Model        SE\n",
      "Key                                               \n",
      "1_3  0.163566      1  0.863356  PPFD_Avg  0.003037\n",
      "Models:  [['H', 'PPFD_Avg'], ['wind_speed', 'PPFD_Avg'], ['air_pressure', 'PPFD_Avg'], ['PPFD_Avg', 'AirTC_Avg'], ['PPFD_Avg', 'VPD'], ['PPFD_Avg', 'Temp'], ['PPFD_Avg', 'VWC'], ['PPFD_Avg', 'Sedge'], ['PPFD_Avg', 'Shrub'], ['PPFD_Avg', 'Grass'], ['PPFD_Avg', 'Sparse'], ['PPFD_Avg', 'Out_of_Basin']]\n",
      "Number of Models:  12\n"
     ]
    },
    {
     "data": {
      "application/vnd.jupyter.widget-view+json": {
       "model_id": "0768141ee28942fbb52dc2a5210000c2",
       "version_major": 2,
       "version_minor": 0
      },
      "text/plain": [
       "A Jupyter Widget"
      ]
     },
     "metadata": {},
     "output_type": "display_data"
    },
    {
     "name": "stderr",
     "output_type": "stream",
     "text": [
      "Using TensorFlow backend.\n",
      "Using TensorFlow backend.\n",
      "Using TensorFlow backend.\n",
      "Using TensorFlow backend.\n",
      "Using TensorFlow backend.\n",
      "Using TensorFlow backend.\n"
     ]
    },
    {
     "name": "stdout",
     "output_type": "stream",
     "text": [
      "Best Model @ Level  2\n",
      "         RMSE  Level        R2                  Model       SE\n",
      "Key                                                           \n",
      "2_2  0.159379      2  0.870095  air_pressure+PPFD_Avg  0.00306\n",
      "Should we exit?? 0.162439081847 0.163565984163\n",
      "Models:  [['H', 'air_pressure', 'PPFD_Avg'], ['wind_speed', 'air_pressure', 'PPFD_Avg'], ['air_pressure', 'PPFD_Avg', 'AirTC_Avg'], ['air_pressure', 'PPFD_Avg', 'VPD'], ['air_pressure', 'PPFD_Avg', 'Temp'], ['air_pressure', 'PPFD_Avg', 'VWC'], ['air_pressure', 'PPFD_Avg', 'Sedge'], ['air_pressure', 'PPFD_Avg', 'Shrub'], ['air_pressure', 'PPFD_Avg', 'Grass'], ['air_pressure', 'PPFD_Avg', 'Sparse'], ['air_pressure', 'PPFD_Avg', 'Out_of_Basin']]\n",
      "Number of Models:  11\n"
     ]
    },
    {
     "data": {
      "application/vnd.jupyter.widget-view+json": {
       "model_id": "61ad2fd4928445bc8f74f86e751b22d3",
       "version_major": 2,
       "version_minor": 0
      },
      "text/plain": [
       "A Jupyter Widget"
      ]
     },
     "metadata": {},
     "output_type": "display_data"
    },
    {
     "name": "stderr",
     "output_type": "stream",
     "text": [
      "Using TensorFlow backend.\n",
      "Using TensorFlow backend.\n",
      "Using TensorFlow backend.\n"
     ]
    },
    {
     "name": "stdout",
     "output_type": "stream",
     "text": [
      "Best Model @ Level  3\n",
      "         RMSE  Level        R2                            Model        SE\n",
      "Key                                                                      \n",
      "3_2  0.155795      3  0.881637  air_pressure+PPFD_Avg+AirTC_Avg  0.002209\n",
      "Should we exit?? 0.158003896667 0.159378696152\n",
      "Models:  [['H', 'air_pressure', 'PPFD_Avg', 'AirTC_Avg'], ['wind_speed', 'air_pressure', 'PPFD_Avg', 'AirTC_Avg'], ['air_pressure', 'PPFD_Avg', 'AirTC_Avg', 'VPD'], ['air_pressure', 'PPFD_Avg', 'AirTC_Avg', 'Temp'], ['air_pressure', 'PPFD_Avg', 'AirTC_Avg', 'VWC'], ['air_pressure', 'PPFD_Avg', 'AirTC_Avg', 'Sedge'], ['air_pressure', 'PPFD_Avg', 'AirTC_Avg', 'Shrub'], ['air_pressure', 'PPFD_Avg', 'AirTC_Avg', 'Grass'], ['air_pressure', 'PPFD_Avg', 'AirTC_Avg', 'Sparse'], ['air_pressure', 'PPFD_Avg', 'AirTC_Avg', 'Out_of_Basin']]\n",
      "Number of Models:  10\n"
     ]
    },
    {
     "data": {
      "application/vnd.jupyter.widget-view+json": {
       "model_id": "e1092a88013540b1ad64953d0cfbd4b2",
       "version_major": 2,
       "version_minor": 0
      },
      "text/plain": [
       "A Jupyter Widget"
      ]
     },
     "metadata": {},
     "output_type": "display_data"
    },
    {
     "name": "stderr",
     "output_type": "stream",
     "text": [
      "Using TensorFlow backend.\n",
      "Using TensorFlow backend.\n",
      "Using TensorFlow backend.\n",
      "Using TensorFlow backend.\n",
      "Using TensorFlow backend.\n",
      "Using TensorFlow backend.\n"
     ]
    },
    {
     "name": "stdout",
     "output_type": "stream",
     "text": [
      "Best Model @ Level  4\n",
      "         RMSE  Level       R2                              Model        SE\n",
      "Key                                                                       \n",
      "4_0  0.150673      4  0.88884  H+air_pressure+PPFD_Avg+AirTC_Avg  0.002552\n",
      "Should we exit?? 0.153225224895 0.155795215665\n",
      "Models:  [['H', 'wind_speed', 'air_pressure', 'PPFD_Avg', 'AirTC_Avg'], ['H', 'air_pressure', 'PPFD_Avg', 'AirTC_Avg', 'VPD'], ['H', 'air_pressure', 'PPFD_Avg', 'AirTC_Avg', 'Temp'], ['H', 'air_pressure', 'PPFD_Avg', 'AirTC_Avg', 'VWC'], ['H', 'air_pressure', 'PPFD_Avg', 'AirTC_Avg', 'Sedge'], ['H', 'air_pressure', 'PPFD_Avg', 'AirTC_Avg', 'Shrub'], ['H', 'air_pressure', 'PPFD_Avg', 'AirTC_Avg', 'Grass'], ['H', 'air_pressure', 'PPFD_Avg', 'AirTC_Avg', 'Sparse'], ['H', 'air_pressure', 'PPFD_Avg', 'AirTC_Avg', 'Out_of_Basin']]\n",
      "Number of Models:  9\n"
     ]
    },
    {
     "data": {
      "application/vnd.jupyter.widget-view+json": {
       "model_id": "14543cbe5e2445b1a109b729ff1b7f4b",
       "version_major": 2,
       "version_minor": 0
      },
      "text/plain": [
       "A Jupyter Widget"
      ]
     },
     "metadata": {},
     "output_type": "display_data"
    },
    {
     "name": "stderr",
     "output_type": "stream",
     "text": [
      "Using TensorFlow backend.\n",
      "Using TensorFlow backend.\n",
      "Using TensorFlow backend.\n"
     ]
    },
    {
     "name": "stdout",
     "output_type": "stream",
     "text": [
      "Best Model @ Level  5\n",
      "         RMSE  Level        R2                                         Model  \\\n",
      "Key                                                                            \n",
      "5_0  0.145109      5  0.900383  H+wind_speed+air_pressure+PPFD_Avg+AirTC_Avg   \n",
      "\n",
      "           SE  \n",
      "Key            \n",
      "5_0  0.001756  \n",
      "Should we exit?? 0.146865124133 0.150672909166\n",
      "Models:  [['H', 'wind_speed', 'air_pressure', 'PPFD_Avg', 'AirTC_Avg', 'VPD'], ['H', 'wind_speed', 'air_pressure', 'PPFD_Avg', 'AirTC_Avg', 'Temp'], ['H', 'wind_speed', 'air_pressure', 'PPFD_Avg', 'AirTC_Avg', 'VWC'], ['H', 'wind_speed', 'air_pressure', 'PPFD_Avg', 'AirTC_Avg', 'Sedge'], ['H', 'wind_speed', 'air_pressure', 'PPFD_Avg', 'AirTC_Avg', 'Shrub'], ['H', 'wind_speed', 'air_pressure', 'PPFD_Avg', 'AirTC_Avg', 'Grass'], ['H', 'wind_speed', 'air_pressure', 'PPFD_Avg', 'AirTC_Avg', 'Sparse'], ['H', 'wind_speed', 'air_pressure', 'PPFD_Avg', 'AirTC_Avg', 'Out_of_Basin']]\n",
      "Number of Models:  8\n"
     ]
    },
    {
     "data": {
      "application/vnd.jupyter.widget-view+json": {
       "model_id": "0d76f51ed97a4db7b2b15f31d66397d1",
       "version_major": 2,
       "version_minor": 0
      },
      "text/plain": [
       "A Jupyter Widget"
      ]
     },
     "metadata": {},
     "output_type": "display_data"
    },
    {
     "name": "stderr",
     "output_type": "stream",
     "text": [
      "Using TensorFlow backend.\n",
      "Using TensorFlow backend.\n",
      "Using TensorFlow backend.\n"
     ]
    },
    {
     "name": "stdout",
     "output_type": "stream",
     "text": [
      "Best Model @ Level  6\n",
      "         RMSE  Level        R2  \\\n",
      "Key                              \n",
      "6_2  0.137819      6  0.911112   \n",
      "\n",
      "                                                Model        SE  \n",
      "Key                                                              \n",
      "6_2  H+wind_speed+air_pressure+PPFD_Avg+AirTC_Avg+VWC  0.001305  \n",
      "Should we exit?? 0.13912351597 0.145109220317\n",
      "Models:  [['H', 'wind_speed', 'air_pressure', 'PPFD_Avg', 'AirTC_Avg', 'VPD', 'VWC'], ['H', 'wind_speed', 'air_pressure', 'PPFD_Avg', 'AirTC_Avg', 'Temp', 'VWC'], ['H', 'wind_speed', 'air_pressure', 'PPFD_Avg', 'AirTC_Avg', 'VWC', 'Sedge'], ['H', 'wind_speed', 'air_pressure', 'PPFD_Avg', 'AirTC_Avg', 'VWC', 'Shrub'], ['H', 'wind_speed', 'air_pressure', 'PPFD_Avg', 'AirTC_Avg', 'VWC', 'Grass'], ['H', 'wind_speed', 'air_pressure', 'PPFD_Avg', 'AirTC_Avg', 'VWC', 'Sparse'], ['H', 'wind_speed', 'air_pressure', 'PPFD_Avg', 'AirTC_Avg', 'VWC', 'Out_of_Basin']]\n",
      "Number of Models:  7\n"
     ]
    },
    {
     "data": {
      "application/vnd.jupyter.widget-view+json": {
       "model_id": "ab36a45d7005486b98e79f30137c1c41",
       "version_major": 2,
       "version_minor": 0
      },
      "text/plain": [
       "A Jupyter Widget"
      ]
     },
     "metadata": {},
     "output_type": "display_data"
    },
    {
     "name": "stderr",
     "output_type": "stream",
     "text": [
      "Using TensorFlow backend.\n",
      "Using TensorFlow backend.\n",
      "Using TensorFlow backend.\n"
     ]
    },
    {
     "name": "stdout",
     "output_type": "stream",
     "text": [
      "Best Model @ Level  7\n",
      "         RMSE  Level        R2  \\\n",
      "Key                              \n",
      "7_0  0.135854      7  0.911804   \n",
      "\n",
      "                                                 Model        SE  \n",
      "Key                                                               \n",
      "7_0  H+wind_speed+air_pressure+PPFD_Avg+AirTC_Avg+V...  0.002645  \n",
      "Should we exit?? 0.13849827051 0.137818701707\n",
      "Exit Early\n",
      "['H+wind_speed+air_pressure+PPFD_Avg+AirTC_Avg+VWC']       Key  Level                                              Model        R2  \\\n",
      "0     1_0      1                                                  H  0.591627   \n",
      "1     1_0      1                                                  H  0.603455   \n",
      "2     1_0      1                                                  H  0.590044   \n",
      "3     1_0      1                                                  H  0.611620   \n",
      "4     1_0      1                                                  H  0.579610   \n",
      "5     1_0      1                                                  H  0.619401   \n",
      "6     1_0      1                                                  H  0.576324   \n",
      "7     1_0      1                                                  H  0.602138   \n",
      "8     1_0      1                                                  H  0.589758   \n",
      "9     1_0      1                                                  H  0.626190   \n",
      "10    1_0      1                                                  H  0.586422   \n",
      "11    1_0      1                                                  H  0.608546   \n",
      "12    1_0      1                                                  H  0.584173   \n",
      "13    1_0      1                                                  H  0.614180   \n",
      "14    1_0      1                                                  H  0.580116   \n",
      "15    1_0      1                                                  H  0.610148   \n",
      "16    1_0      1                                                  H  0.588710   \n",
      "17    1_0      1                                                  H  0.622863   \n",
      "18    1_0      1                                                  H  0.585007   \n",
      "19    1_0      1                                                  H  0.618007   \n",
      "20    1_0      1                                                  H  0.590461   \n",
      "21    1_0      1                                                  H  0.614042   \n",
      "22    1_0      1                                                  H  0.585988   \n",
      "23    1_0      1                                                  H  0.619294   \n",
      "24    1_0      1                                                  H  0.596297   \n",
      "25    1_0      1                                                  H  0.610072   \n",
      "26    1_0      1                                                  H  0.586185   \n",
      "27    1_0      1                                                  H  0.609355   \n",
      "28    1_0      1                                                  H  0.593819   \n",
      "29    1_0      1                                                  H  0.599288   \n",
      "...   ...    ...                                                ...       ...   \n",
      "1860  6_7      6  H+wind_speed+air_pressure+PPFD_Avg+AirTC_Avg+O...  0.876386   \n",
      "1861  6_7      6  H+wind_speed+air_pressure+PPFD_Avg+AirTC_Avg+O...  0.913266   \n",
      "1862  6_7      6  H+wind_speed+air_pressure+PPFD_Avg+AirTC_Avg+O...  0.884149   \n",
      "1863  6_7      6  H+wind_speed+air_pressure+PPFD_Avg+AirTC_Avg+O...  0.910740   \n",
      "1864  6_7      6  H+wind_speed+air_pressure+PPFD_Avg+AirTC_Avg+O...  0.897669   \n",
      "1865  6_7      6  H+wind_speed+air_pressure+PPFD_Avg+AirTC_Avg+O...  0.901383   \n",
      "1866  6_7      6  H+wind_speed+air_pressure+PPFD_Avg+AirTC_Avg+O...  0.881396   \n",
      "1867  6_7      6  H+wind_speed+air_pressure+PPFD_Avg+AirTC_Avg+O...  0.931516   \n",
      "1868  6_7      6  H+wind_speed+air_pressure+PPFD_Avg+AirTC_Avg+O...  0.875100   \n",
      "1869  6_7      6  H+wind_speed+air_pressure+PPFD_Avg+AirTC_Avg+O...  0.906516   \n",
      "1870  6_7      6  H+wind_speed+air_pressure+PPFD_Avg+AirTC_Avg+O...  0.874490   \n",
      "1871  6_7      6  H+wind_speed+air_pressure+PPFD_Avg+AirTC_Avg+O...  0.918220   \n",
      "1872  6_7      6  H+wind_speed+air_pressure+PPFD_Avg+AirTC_Avg+O...  0.877646   \n",
      "1873  6_7      6  H+wind_speed+air_pressure+PPFD_Avg+AirTC_Avg+O...  0.899070   \n",
      "1874  6_7      6  H+wind_speed+air_pressure+PPFD_Avg+AirTC_Avg+O...  0.864587   \n",
      "1875  6_7      6  H+wind_speed+air_pressure+PPFD_Avg+AirTC_Avg+O...  0.904502   \n",
      "1876  6_7      6  H+wind_speed+air_pressure+PPFD_Avg+AirTC_Avg+O...  0.895774   \n",
      "1877  6_7      6  H+wind_speed+air_pressure+PPFD_Avg+AirTC_Avg+O...  0.913099   \n",
      "1878  6_7      6  H+wind_speed+air_pressure+PPFD_Avg+AirTC_Avg+O...  0.889517   \n",
      "1879  6_7      6  H+wind_speed+air_pressure+PPFD_Avg+AirTC_Avg+O...  0.900706   \n",
      "1880  6_7      6  H+wind_speed+air_pressure+PPFD_Avg+AirTC_Avg+O...  0.900829   \n",
      "1881  6_7      6  H+wind_speed+air_pressure+PPFD_Avg+AirTC_Avg+O...  0.900606   \n",
      "1882  6_7      6  H+wind_speed+air_pressure+PPFD_Avg+AirTC_Avg+O...  0.889508   \n",
      "1883  6_7      6  H+wind_speed+air_pressure+PPFD_Avg+AirTC_Avg+O...  0.908876   \n",
      "1884  6_7      6  H+wind_speed+air_pressure+PPFD_Avg+AirTC_Avg+O...  0.881176   \n",
      "1885  6_7      6  H+wind_speed+air_pressure+PPFD_Avg+AirTC_Avg+O...  0.919384   \n",
      "1886  6_7      6  H+wind_speed+air_pressure+PPFD_Avg+AirTC_Avg+O...  0.876416   \n",
      "1887  6_7      6  H+wind_speed+air_pressure+PPFD_Avg+AirTC_Avg+O...  0.893971   \n",
      "1888  6_7      6  H+wind_speed+air_pressure+PPFD_Avg+AirTC_Avg+O...  0.893558   \n",
      "1889  6_7      6  H+wind_speed+air_pressure+PPFD_Avg+AirTC_Avg+O...  0.913146   \n",
      "\n",
      "          RMSE  \n",
      "0     0.261733  \n",
      "1     0.262003  \n",
      "2     0.260223  \n",
      "3     0.261260  \n",
      "4     0.262502  \n",
      "5     0.259199  \n",
      "6     0.257466  \n",
      "7     0.263283  \n",
      "8     0.261746  \n",
      "9     0.258784  \n",
      "10    0.261341  \n",
      "11    0.260755  \n",
      "12    0.262384  \n",
      "13    0.258506  \n",
      "14    0.261073  \n",
      "15    0.259525  \n",
      "16    0.261232  \n",
      "17    0.258843  \n",
      "18    0.261290  \n",
      "19    0.259103  \n",
      "20    0.259700  \n",
      "21    0.260997  \n",
      "22    0.261964  \n",
      "23    0.258918  \n",
      "24    0.259007  \n",
      "25    0.261903  \n",
      "26    0.259775  \n",
      "27    0.260308  \n",
      "28    0.259470  \n",
      "29    0.262141  \n",
      "...        ...  \n",
      "1860  0.150273  \n",
      "1861  0.146523  \n",
      "1862  0.145890  \n",
      "1863  0.148107  \n",
      "1864  0.139613  \n",
      "1865  0.155847  \n",
      "1866  0.147861  \n",
      "1867  0.130127  \n",
      "1868  0.152105  \n",
      "1869  0.150796  \n",
      "1870  0.153973  \n",
      "1871  0.142367  \n",
      "1872  0.152036  \n",
      "1873  0.156500  \n",
      "1874  0.156562  \n",
      "1875  0.154392  \n",
      "1876  0.142619  \n",
      "1877  0.145758  \n",
      "1878  0.144314  \n",
      "1879  0.153310  \n",
      "1880  0.134897  \n",
      "1881  0.152055  \n",
      "1882  0.144511  \n",
      "1883  0.151149  \n",
      "1884  0.150681  \n",
      "1885  0.143044  \n",
      "1886  0.151139  \n",
      "1887  0.159372  \n",
      "1888  0.144032  \n",
      "1889  0.145187  \n",
      "\n",
      "[1890 rows x 5 columns]\n"
     ]
    },
    {
     "data": {
      "application/vnd.jupyter.widget-view+json": {
       "model_id": "dd92b4695f064222b389f3fd33108545",
       "version_major": 2,
       "version_minor": 0
      },
      "text/plain": [
       "A Jupyter Widget"
      ]
     },
     "metadata": {},
     "output_type": "display_data"
    },
    {
     "name": "stdout",
     "output_type": "stream",
     "text": [
      "Leaving at  74\n"
     ]
    },
    {
     "data": {
      "image/png": "[encoded data removed]",
      "text/plain": [
       "<matplotlib.figure.Figure at 0x7f5733fad320>"
      ]
     },
     "metadata": {},
     "output_type": "display_data"
    },
    {
     "name": "stdout",
     "output_type": "stream",
     "text": [
      "98\n",
      "Illisarvik fch4\n"
     ]
    },
    {
     "data": {
      "application/vnd.jupyter.widget-view+json": {
       "model_id": "0354196ed7e74db38df0a1ae235c0572",
       "version_major": 2,
       "version_minor": 0
      },
      "text/plain": [
       "A Jupyter Widget"
      ]
     },
     "metadata": {},
     "output_type": "display_data"
    },
    {
     "name": "stdout",
     "output_type": "stream",
     "text": [
      "Models:  [['H'], ['wind_speed'], ['air_pressure'], ['PPFD_Avg'], ['AirTC_Avg'], ['VPD'], ['Temp'], ['VWC'], ['Sedge'], ['Shrub'], ['Grass'], ['Sparse'], ['Out_of_Basin']]\n",
      "Number of Models:  13\n"
     ]
    },
    {
     "data": {
      "application/vnd.jupyter.widget-view+json": {
       "model_id": "5e62aa47f5ac4774a5e5bd0396128163",
       "version_major": 2,
       "version_minor": 0
      },
      "text/plain": [
       "A Jupyter Widget"
      ]
     },
     "metadata": {},
     "output_type": "display_data"
    },
    {
     "name": "stderr",
     "output_type": "stream",
     "text": [
      "Using TensorFlow backend.\n",
      "Using TensorFlow backend.\n",
      "Using TensorFlow backend.\n",
      "Using TensorFlow backend.\n",
      "Using TensorFlow backend.\n",
      "Using TensorFlow backend.\n"
     ]
    },
    {
     "name": "stdout",
     "output_type": "stream",
     "text": [
      "Best Model @ Level  1\n",
      "         RMSE  Level        R2  Model        SE\n",
      "Key                                            \n",
      "1_8  0.625577      1 -6.684796  Sedge  0.007118\n",
      "Models:  [['H', 'Sedge'], ['wind_speed', 'Sedge'], ['air_pressure', 'Sedge'], ['PPFD_Avg', 'Sedge'], ['AirTC_Avg', 'Sedge'], ['VPD', 'Sedge'], ['Temp', 'Sedge'], ['VWC', 'Sedge'], ['Sedge', 'Shrub'], ['Sedge', 'Grass'], ['Sedge', 'Sparse'], ['Sedge', 'Out_of_Basin']]\n",
      "Number of Models:  12\n"
     ]
    },
    {
     "data": {
      "application/vnd.jupyter.widget-view+json": {
       "model_id": "ea0527e4be7a4e42a65fc4b5936f16e7",
       "version_major": 2,
       "version_minor": 0
      },
      "text/plain": [
       "A Jupyter Widget"
      ]
     },
     "metadata": {},
     "output_type": "display_data"
    },
    {
     "name": "stderr",
     "output_type": "stream",
     "text": [
      "Using TensorFlow backend.\n",
      "Using TensorFlow backend.\n",
      "Using TensorFlow backend.\n",
      "Using TensorFlow backend.\n",
      "Using TensorFlow backend.\n",
      "Using TensorFlow backend.\n"
     ]
    },
    {
     "name": "stdout",
     "output_type": "stream",
     "text": [
      "Best Model @ Level  2\n",
      "        RMSE  Level        R2      Model        SE\n",
      "Key                                               \n",
      "2_7  0.46008      2 -0.187289  VWC+Sedge  0.005571\n",
      "Should we exit?? 0.465651222071 0.625576824745\n",
      "Models:  [['H', 'VWC', 'Sedge'], ['wind_speed', 'VWC', 'Sedge'], ['air_pressure', 'VWC', 'Sedge'], ['PPFD_Avg', 'VWC', 'Sedge'], ['AirTC_Avg', 'VWC', 'Sedge'], ['VPD', 'VWC', 'Sedge'], ['Temp', 'VWC', 'Sedge'], ['VWC', 'Sedge', 'Shrub'], ['VWC', 'Sedge', 'Grass'], ['VWC', 'Sedge', 'Sparse'], ['VWC', 'Sedge', 'Out_of_Basin']]\n",
      "Number of Models:  11\n"
     ]
    },
    {
     "data": {
      "application/vnd.jupyter.widget-view+json": {
       "model_id": "0b45eca33e1244a5a43a9afa5f851465",
       "version_major": 2,
       "version_minor": 0
      },
      "text/plain": [
       "A Jupyter Widget"
      ]
     },
     "metadata": {},
     "output_type": "display_data"
    },
    {
     "name": "stderr",
     "output_type": "stream",
     "text": [
      "Using TensorFlow backend.\n",
      "Using TensorFlow backend.\n",
      "Using TensorFlow backend.\n"
     ]
    },
    {
     "name": "stdout",
     "output_type": "stream",
     "text": [
      "Best Model @ Level  3\n",
      "         RMSE  Level        R2        Model        SE\n",
      "Key                                                  \n",
      "3_0  0.410092      3  0.250749  H+VWC+Sedge  0.007266\n",
      "Should we exit?? 0.41735764601 0.460080209986\n",
      "Models:  [['H', 'wind_speed', 'VWC', 'Sedge'], ['H', 'air_pressure', 'VWC', 'Sedge'], ['H', 'PPFD_Avg', 'VWC', 'Sedge'], ['H', 'AirTC_Avg', 'VWC', 'Sedge'], ['H', 'VPD', 'VWC', 'Sedge'], ['H', 'Temp', 'VWC', 'Sedge'], ['H', 'VWC', 'Sedge', 'Shrub'], ['H', 'VWC', 'Sedge', 'Grass'], ['H', 'VWC', 'Sedge', 'Sparse'], ['H', 'VWC', 'Sedge', 'Out_of_Basin']]\n",
      "Number of Models:  10\n"
     ]
    },
    {
     "data": {
      "application/vnd.jupyter.widget-view+json": {
       "model_id": "baf09cf0a3c34172866866424d24399a",
       "version_major": 2,
       "version_minor": 0
      },
      "text/plain": [
       "A Jupyter Widget"
      ]
     },
     "metadata": {},
     "output_type": "display_data"
    },
    {
     "name": "stderr",
     "output_type": "stream",
     "text": [
      "Using TensorFlow backend.\n",
      "Using TensorFlow backend.\n",
      "Using TensorFlow backend.\n",
      "Using TensorFlow backend.\n"
     ]
    },
    {
     "name": "stdout",
     "output_type": "stream",
     "text": [
      "Best Model @ Level  4\n",
      "         RMSE  Level        R2                  Model        SE\n",
      "Key                                                            \n",
      "4_3  0.381554      4  0.409871  H+AirTC_Avg+VWC+Sedge  0.005666\n",
      "Should we exit?? 0.38721948361 0.410091530256\n",
      "Models:  [['H', 'wind_speed', 'AirTC_Avg', 'VWC', 'Sedge'], ['H', 'air_pressure', 'AirTC_Avg', 'VWC', 'Sedge'], ['H', 'PPFD_Avg', 'AirTC_Avg', 'VWC', 'Sedge'], ['H', 'AirTC_Avg', 'VPD', 'VWC', 'Sedge'], ['H', 'AirTC_Avg', 'Temp', 'VWC', 'Sedge'], ['H', 'AirTC_Avg', 'VWC', 'Sedge', 'Shrub'], ['H', 'AirTC_Avg', 'VWC', 'Sedge', 'Grass'], ['H', 'AirTC_Avg', 'VWC', 'Sedge', 'Sparse'], ['H', 'AirTC_Avg', 'VWC', 'Sedge', 'Out_of_Basin']]\n",
      "Number of Models:  9\n"
     ]
    },
    {
     "data": {
      "application/vnd.jupyter.widget-view+json": {
       "model_id": "23ead612ea364d0b86e40d75cd3af3eb",
       "version_major": 2,
       "version_minor": 0
      },
      "text/plain": [
       "A Jupyter Widget"
      ]
     },
     "metadata": {},
     "output_type": "display_data"
    },
    {
     "name": "stderr",
     "output_type": "stream",
     "text": [
      "Using TensorFlow backend.\n",
      "Using TensorFlow backend.\n",
      "Using TensorFlow backend.\n",
      "Using TensorFlow backend.\n",
      "Using TensorFlow backend.\n"
     ]
    },
    {
     "name": "stdout",
     "output_type": "stream",
     "text": [
      "Best Model @ Level  5\n",
      "         RMSE  Level        R2                        Model        SE\n",
      "Key                                                                  \n",
      "5_5  0.365086      5  0.482947  H+AirTC_Avg+VWC+Sedge+Shrub  0.006432\n",
      "Should we exit?? 0.371517824668 0.381553831537\n",
      "Models:  [['H', 'wind_speed', 'AirTC_Avg', 'VWC', 'Sedge', 'Shrub'], ['H', 'air_pressure', 'AirTC_Avg', 'VWC', 'Sedge', 'Shrub'], ['H', 'PPFD_Avg', 'AirTC_Avg', 'VWC', 'Sedge', 'Shrub'], ['H', 'AirTC_Avg', 'VPD', 'VWC', 'Sedge', 'Shrub'], ['H', 'AirTC_Avg', 'Temp', 'VWC', 'Sedge', 'Shrub'], ['H', 'AirTC_Avg', 'VWC', 'Sedge', 'Shrub', 'Grass'], ['H', 'AirTC_Avg', 'VWC', 'Sedge', 'Shrub', 'Sparse'], ['H', 'AirTC_Avg', 'VWC', 'Sedge', 'Shrub', 'Out_of_Basin']]\n",
      "Number of Models:  8\n"
     ]
    },
    {
     "data": {
      "application/vnd.jupyter.widget-view+json": {
       "model_id": "11d0f6337b484c8495d876373f67c61b",
       "version_major": 2,
       "version_minor": 0
      },
      "text/plain": [
       "A Jupyter Widget"
      ]
     },
     "metadata": {},
     "output_type": "display_data"
    },
    {
     "name": "stderr",
     "output_type": "stream",
     "text": [
      "Using TensorFlow backend.\n",
      "Using TensorFlow backend.\n",
      "Using TensorFlow backend.\n"
     ]
    },
    {
     "name": "stdout",
     "output_type": "stream",
     "text": [
      "Best Model @ Level  6\n",
      "         RMSE  Level        R2                                     Model  \\\n",
      "Key                                                                        \n",
      "6_7  0.355071      6  0.523912  H+AirTC_Avg+VWC+Sedge+Shrub+Out_of_Basin   \n",
      "\n",
      "           SE  \n",
      "Key            \n",
      "6_7  0.006291  \n",
      "Should we exit?? 0.361362386346 0.365085612157\n",
      "Models:  [['H', 'wind_speed', 'AirTC_Avg', 'VWC', 'Sedge', 'Shrub', 'Out_of_Basin'], ['H', 'air_pressure', 'AirTC_Avg', 'VWC', 'Sedge', 'Shrub', 'Out_of_Basin'], ['H', 'PPFD_Avg', 'AirTC_Avg', 'VWC', 'Sedge', 'Shrub', 'Out_of_Basin'], ['H', 'AirTC_Avg', 'VPD', 'VWC', 'Sedge', 'Shrub', 'Out_of_Basin'], ['H', 'AirTC_Avg', 'Temp', 'VWC', 'Sedge', 'Shrub', 'Out_of_Basin'], ['H', 'AirTC_Avg', 'VWC', 'Sedge', 'Shrub', 'Grass', 'Out_of_Basin'], ['H', 'AirTC_Avg', 'VWC', 'Sedge', 'Shrub', 'Sparse', 'Out_of_Basin']]\n",
      "Number of Models:  7\n"
     ]
    },
    {
     "data": {
      "application/vnd.jupyter.widget-view+json": {
       "model_id": "76294faedc9443118e1ee5c397ddfd01",
       "version_major": 2,
       "version_minor": 0
      },
      "text/plain": [
       "A Jupyter Widget"
      ]
     },
     "metadata": {},
     "output_type": "display_data"
    },
    {
     "name": "stderr",
     "output_type": "stream",
     "text": [
      "Using TensorFlow backend.\n",
      "Using TensorFlow backend.\n",
      "Using TensorFlow backend.\n"
     ]
    },
    {
     "name": "stdout",
     "output_type": "stream",
     "text": [
      "Best Model @ Level  7\n",
      "         RMSE  Level        R2  \\\n",
      "Key                              \n",
      "7_0  0.346105      7  0.548055   \n",
      "\n",
      "                                                 Model        SE  \n",
      "Key                                                               \n",
      "7_0  H+wind_speed+AirTC_Avg+VWC+Sedge+Shrub+Out_of_...  0.004576  \n",
      "Should we exit?? 0.350681083908 0.35507112676\n",
      "Models:  [['H', 'wind_speed', 'air_pressure', 'AirTC_Avg', 'VWC', 'Sedge', 'Shrub', 'Out_of_Basin'], ['H', 'wind_speed', 'PPFD_Avg', 'AirTC_Avg', 'VWC', 'Sedge', 'Shrub', 'Out_of_Basin'], ['H', 'wind_speed', 'AirTC_Avg', 'VPD', 'VWC', 'Sedge', 'Shrub', 'Out_of_Basin'], ['H', 'wind_speed', 'AirTC_Avg', 'Temp', 'VWC', 'Sedge', 'Shrub', 'Out_of_Basin'], ['H', 'wind_speed', 'AirTC_Avg', 'VWC', 'Sedge', 'Shrub', 'Grass', 'Out_of_Basin'], ['H', 'wind_speed', 'AirTC_Avg', 'VWC', 'Sedge', 'Shrub', 'Sparse', 'Out_of_Basin']]\n",
      "Number of Models:  6\n"
     ]
    },
    {
     "data": {
      "application/vnd.jupyter.widget-view+json": {
       "model_id": "6ee5de2c843f45e7b099c018ded824cb",
       "version_major": 2,
       "version_minor": 0
      },
      "text/plain": [
       "A Jupyter Widget"
      ]
     },
     "metadata": {},
     "output_type": "display_data"
    },
    {
     "name": "stderr",
     "output_type": "stream",
     "text": [
      "Using TensorFlow backend.\n"
     ]
    },
    {
     "name": "stdout",
     "output_type": "stream",
     "text": [
      "Best Model @ Level  8\n",
      "         RMSE  Level        R2  \\\n",
      "Key                              \n",
      "8_5  0.341866      8  0.561339   \n",
      "\n",
      "                                                 Model        SE  \n",
      "Key                                                               \n",
      "8_5  H+wind_speed+AirTC_Avg+VWC+Sedge+Shrub+Sparse+...  0.004348  \n",
      "Should we exit?? 0.34621401949 0.346105056446\n",
      "Exit Early\n",
      "['H+wind_speed+AirTC_Avg+VWC+Sedge+Shrub+Out_of_Basin']       Key  Level                                            Model          R2  \\\n",
      "0     1_0      1                                                H -103.769870   \n",
      "1     1_0      1                                                H -154.789473   \n",
      "2     1_0      1                                                H  -71.790743   \n",
      "3     1_0      1                                                H  -87.459326   \n",
      "4     1_0      1                                                H  -84.808415   \n",
      "5     1_0      1                                                H -108.758915   \n",
      "6     1_0      1                                                H  -91.525227   \n",
      "7     1_0      1                                                H -126.896159   \n",
      "8     1_0      1                                                H  -84.740252   \n",
      "9     1_0      1                                                H -107.403336   \n",
      "10    1_0      1                                                H  -90.507258   \n",
      "11    1_0      1                                                H -107.695123   \n",
      "12    1_0      1                                                H  -94.546748   \n",
      "13    1_0      1                                                H -100.626915   \n",
      "14    1_0      1                                                H  -86.758299   \n",
      "15    1_0      1                                                H -145.620144   \n",
      "16    1_0      1                                                H  -72.086298   \n",
      "17    1_0      1                                                H  -79.499792   \n",
      "18    1_0      1                                                H  -87.664778   \n",
      "19    1_0      1                                                H -108.409143   \n",
      "20    1_0      1                                                H  -61.175128   \n",
      "21    1_0      1                                                H  -58.851545   \n",
      "22    1_0      1                                                H  -85.319446   \n",
      "23    1_0      1                                                H -116.558326   \n",
      "24    1_0      1                                                H -105.863739   \n",
      "25    1_0      1                                                H -151.567883   \n",
      "26    1_0      1                                                H -104.004727   \n",
      "27    1_0      1                                                H -142.834126   \n",
      "28    1_0      1                                                H -104.885504   \n",
      "29    1_0      1                                                H -106.124022   \n",
      "...   ...    ...                                              ...         ...   \n",
      "2070  7_6      7  H+AirTC_Avg+VWC+Sedge+Shrub+Sparse+Out_of_Basin    0.526656   \n",
      "2071  7_6      7  H+AirTC_Avg+VWC+Sedge+Shrub+Sparse+Out_of_Basin    0.586859   \n",
      "2072  7_6      7  H+AirTC_Avg+VWC+Sedge+Shrub+Sparse+Out_of_Basin    0.495325   \n",
      "2073  7_6      7  H+AirTC_Avg+VWC+Sedge+Shrub+Sparse+Out_of_Basin    0.518231   \n",
      "2074  7_6      7  H+AirTC_Avg+VWC+Sedge+Shrub+Sparse+Out_of_Basin    0.545390   \n",
      "2075  7_6      7  H+AirTC_Avg+VWC+Sedge+Shrub+Sparse+Out_of_Basin    0.574038   \n",
      "2076  7_6      7  H+AirTC_Avg+VWC+Sedge+Shrub+Sparse+Out_of_Basin    0.468485   \n",
      "2077  7_6      7  H+AirTC_Avg+VWC+Sedge+Shrub+Sparse+Out_of_Basin    0.557370   \n",
      "2078  7_6      7  H+AirTC_Avg+VWC+Sedge+Shrub+Sparse+Out_of_Basin    0.576990   \n",
      "2079  7_6      7  H+AirTC_Avg+VWC+Sedge+Shrub+Sparse+Out_of_Basin    0.606276   \n",
      "2080  7_6      7  H+AirTC_Avg+VWC+Sedge+Shrub+Sparse+Out_of_Basin    0.442447   \n",
      "2081  7_6      7  H+AirTC_Avg+VWC+Sedge+Shrub+Sparse+Out_of_Basin    0.524426   \n",
      "2082  7_6      7  H+AirTC_Avg+VWC+Sedge+Shrub+Sparse+Out_of_Basin    0.592779   \n",
      "2083  7_6      7  H+AirTC_Avg+VWC+Sedge+Shrub+Sparse+Out_of_Basin    0.549756   \n",
      "2084  7_6      7  H+AirTC_Avg+VWC+Sedge+Shrub+Sparse+Out_of_Basin    0.557860   \n",
      "2085  7_6      7  H+AirTC_Avg+VWC+Sedge+Shrub+Sparse+Out_of_Basin    0.569663   \n",
      "2086  7_6      7  H+AirTC_Avg+VWC+Sedge+Shrub+Sparse+Out_of_Basin    0.430462   \n",
      "2087  7_6      7  H+AirTC_Avg+VWC+Sedge+Shrub+Sparse+Out_of_Basin    0.452564   \n",
      "2088  7_6      7  H+AirTC_Avg+VWC+Sedge+Shrub+Sparse+Out_of_Basin    0.478889   \n",
      "2089  7_6      7  H+AirTC_Avg+VWC+Sedge+Shrub+Sparse+Out_of_Basin    0.566716   \n",
      "2090  7_6      7  H+AirTC_Avg+VWC+Sedge+Shrub+Sparse+Out_of_Basin    0.537287   \n",
      "2091  7_6      7  H+AirTC_Avg+VWC+Sedge+Shrub+Sparse+Out_of_Basin    0.593710   \n",
      "2092  7_6      7  H+AirTC_Avg+VWC+Sedge+Shrub+Sparse+Out_of_Basin    0.504864   \n",
      "2093  7_6      7  H+AirTC_Avg+VWC+Sedge+Shrub+Sparse+Out_of_Basin    0.454456   \n",
      "2094  7_6      7  H+AirTC_Avg+VWC+Sedge+Shrub+Sparse+Out_of_Basin    0.532492   \n",
      "2095  7_6      7  H+AirTC_Avg+VWC+Sedge+Shrub+Sparse+Out_of_Basin    0.491430   \n",
      "2096  7_6      7  H+AirTC_Avg+VWC+Sedge+Shrub+Sparse+Out_of_Basin    0.519217   \n",
      "2097  7_6      7  H+AirTC_Avg+VWC+Sedge+Shrub+Sparse+Out_of_Basin    0.608206   \n",
      "2098  7_6      7  H+AirTC_Avg+VWC+Sedge+Shrub+Sparse+Out_of_Basin    0.463244   \n",
      "2099  7_6      7  H+AirTC_Avg+VWC+Sedge+Shrub+Sparse+Out_of_Basin    0.601331   \n",
      "\n",
      "          RMSE  \n",
      "0     0.737719  \n",
      "1     0.637485  \n",
      "2     0.739909  \n",
      "3     0.633639  \n",
      "4     0.742598  \n",
      "5     0.635829  \n",
      "6     0.738535  \n",
      "7     0.635095  \n",
      "8     0.737254  \n",
      "9     0.637217  \n",
      "10    0.736791  \n",
      "11    0.633994  \n",
      "12    0.734968  \n",
      "13    0.639545  \n",
      "14    0.736975  \n",
      "15    0.638444  \n",
      "16    0.742713  \n",
      "17    0.636831  \n",
      "18    0.736547  \n",
      "19    0.637275  \n",
      "20    0.741444  \n",
      "21    0.632404  \n",
      "22    0.737182  \n",
      "23    0.637149  \n",
      "24    0.739136  \n",
      "25    0.638175  \n",
      "26    0.739487  \n",
      "27    0.636388  \n",
      "28    0.736452  \n",
      "29    0.635150  \n",
      "...        ...  \n",
      "2070  0.387085  \n",
      "2071  0.306994  \n",
      "2072  0.392623  \n",
      "2073  0.327533  \n",
      "2074  0.384124  \n",
      "2075  0.317859  \n",
      "2076  0.399051  \n",
      "2077  0.317870  \n",
      "2078  0.371524  \n",
      "2079  0.309712  \n",
      "2080  0.402537  \n",
      "2081  0.325881  \n",
      "2082  0.368401  \n",
      "2083  0.321024  \n",
      "2084  0.377966  \n",
      "2085  0.318967  \n",
      "2086  0.395968  \n",
      "2087  0.341363  \n",
      "2088  0.388996  \n",
      "2089  0.317609  \n",
      "2090  0.384948  \n",
      "2091  0.315671  \n",
      "2092  0.382610  \n",
      "2093  0.332808  \n",
      "2094  0.380517  \n",
      "2095  0.330321  \n",
      "2096  0.389213  \n",
      "2097  0.310823  \n",
      "2098  0.390194  \n",
      "2099  0.309882  \n",
      "\n",
      "[2100 rows x 5 columns]\n"
     ]
    },
    {
     "data": {
      "application/vnd.jupyter.widget-view+json": {
       "model_id": "b72d46bd571f410cb27f4f0f316b2938",
       "version_major": 2,
       "version_minor": 0
      },
      "text/plain": [
       "A Jupyter Widget"
      ]
     },
     "metadata": {},
     "output_type": "display_data"
    },
    {
     "name": "stderr",
     "output_type": "stream",
     "text": [
      "Using TensorFlow backend.\n",
      "Using TensorFlow backend.\n"
     ]
    },
    {
     "name": "stdout",
     "output_type": "stream",
     "text": [
      "Leaving at  74\n"
     ]
    },
    {
     "data": {
      "image/png": "[encoded data removed]",
      "text/plain": [
       "<matplotlib.figure.Figure at 0x7f575cc7a588>"
      ]
     },
     "metadata": {},
     "output_type": "display_data"
    },
    {
     "name": "stdout",
     "output_type": "stream",
     "text": [
      "81\n",
      "FishIsland fco2\n"
     ]
    },
    {
     "data": {
      "application/vnd.jupyter.widget-view+json": {
       "model_id": "a6280b776344466fab460653f00568ff",
       "version_major": 2,
       "version_minor": 0
      },
      "text/plain": [
       "A Jupyter Widget"
      ]
     },
     "metadata": {},
     "output_type": "display_data"
    },
    {
     "name": "stdout",
     "output_type": "stream",
     "text": [
      "Models:  [['H'], ['Wind Spd'], ['air pressure'], ['Ta'], ['Rn'], ['PPFD'], ['Rain'], ['Water Table'], ['Ts 2.5 cm'], ['Ts 15 cm'], ['VWC'], ['Active Layer'], ['24H Rain'], ['Wtr Tbl Trnd']]\n",
      "Number of Models:  14\n"
     ]
    },
    {
     "data": {
      "application/vnd.jupyter.widget-view+json": {
       "model_id": "b384faf33bbe4b3da6f390e791865262",
       "version_major": 2,
       "version_minor": 0
      },
      "text/plain": [
       "A Jupyter Widget"
      ]
     },
     "metadata": {},
     "output_type": "display_data"
    },
    {
     "name": "stderr",
     "output_type": "stream",
     "text": [
      "Using TensorFlow backend.\n",
      "Using TensorFlow backend.\n",
      "Using TensorFlow backend.\n",
      "Using TensorFlow backend.\n",
      "Using TensorFlow backend.\n",
      "Using TensorFlow backend.\n"
     ]
    },
    {
     "name": "stdout",
     "output_type": "stream",
     "text": [
      "Best Model @ Level  1\n",
      "         RMSE  Level        R2 Model        SE\n",
      "Key                                           \n",
      "1_5  0.081787      1  0.571307  PPFD  0.000793\n",
      "Models:  [['H', 'PPFD'], ['Wind Spd', 'PPFD'], ['air pressure', 'PPFD'], ['Ta', 'PPFD'], ['Rn', 'PPFD'], ['PPFD', 'Rain'], ['PPFD', 'Water Table'], ['PPFD', 'Ts 2.5 cm'], ['PPFD', 'Ts 15 cm'], ['PPFD', 'VWC'], ['PPFD', 'Active Layer'], ['PPFD', '24H Rain'], ['PPFD', 'Wtr Tbl Trnd']]\n",
      "Number of Models:  13\n"
     ]
    },
    {
     "data": {
      "application/vnd.jupyter.widget-view+json": {
       "model_id": "d22708d693294bf2befeedb1b005b497",
       "version_major": 2,
       "version_minor": 0
      },
      "text/plain": [
       "A Jupyter Widget"
      ]
     },
     "metadata": {},
     "output_type": "display_data"
    },
    {
     "name": "stderr",
     "output_type": "stream",
     "text": [
      "Using TensorFlow backend.\n",
      "Using TensorFlow backend.\n",
      "Using TensorFlow backend.\n",
      "Using TensorFlow backend.\n",
      "Using TensorFlow backend.\n",
      "Using TensorFlow backend.\n"
     ]
    },
    {
     "name": "stdout",
     "output_type": "stream",
     "text": [
      "Best Model @ Level  2\n",
      "        RMSE  Level        R2     Model        SE\n",
      "Key                                              \n",
      "2_9  0.07783      2  0.613745  PPFD+VWC  0.000773\n",
      "Should we exit?? 0.0786032595545 0.0817874224669\n",
      "Models:  [['H', 'PPFD', 'VWC'], ['Wind Spd', 'PPFD', 'VWC'], ['air pressure', 'PPFD', 'VWC'], ['Ta', 'PPFD', 'VWC'], ['Rn', 'PPFD', 'VWC'], ['PPFD', 'Rain', 'VWC'], ['PPFD', 'Water Table', 'VWC'], ['PPFD', 'Ts 2.5 cm', 'VWC'], ['PPFD', 'Ts 15 cm', 'VWC'], ['PPFD', 'VWC', 'Active Layer'], ['PPFD', 'VWC', '24H Rain'], ['PPFD', 'VWC', 'Wtr Tbl Trnd']]\n",
      "Number of Models:  12\n"
     ]
    },
    {
     "data": {
      "application/vnd.jupyter.widget-view+json": {
       "model_id": "242a0e4a6fd544d18d523d5b733cc105",
       "version_major": 2,
       "version_minor": 0
      },
      "text/plain": [
       "A Jupyter Widget"
      ]
     },
     "metadata": {},
     "output_type": "display_data"
    },
    {
     "name": "stderr",
     "output_type": "stream",
     "text": [
      "Using TensorFlow backend.\n",
      "Using TensorFlow backend.\n",
      "Using TensorFlow backend.\n"
     ]
    },
    {
     "name": "stdout",
     "output_type": "stream",
     "text": [
      "Best Model @ Level  3\n",
      "        RMSE  Level        R2        Model        SE\n",
      "Key                                                 \n",
      "3_3  0.07349      3  0.670059  Ta+PPFD+VWC  0.000616\n",
      "Should we exit?? 0.0741062657183 0.0778301425642\n",
      "Models:  [['H', 'Ta', 'PPFD', 'VWC'], ['Wind Spd', 'Ta', 'PPFD', 'VWC'], ['air pressure', 'Ta', 'PPFD', 'VWC'], ['Ta', 'Rn', 'PPFD', 'VWC'], ['Ta', 'PPFD', 'Rain', 'VWC'], ['Ta', 'PPFD', 'Water Table', 'VWC'], ['Ta', 'PPFD', 'Ts 2.5 cm', 'VWC'], ['Ta', 'PPFD', 'Ts 15 cm', 'VWC'], ['Ta', 'PPFD', 'VWC', 'Active Layer'], ['Ta', 'PPFD', 'VWC', '24H Rain'], ['Ta', 'PPFD', 'VWC', 'Wtr Tbl Trnd']]\n",
      "Number of Models:  11\n"
     ]
    },
    {
     "data": {
      "application/vnd.jupyter.widget-view+json": {
       "model_id": "a6f8eb91ae954e8ba40fc0b01b381b9f",
       "version_major": 2,
       "version_minor": 0
      },
      "text/plain": [
       "A Jupyter Widget"
      ]
     },
     "metadata": {},
     "output_type": "display_data"
    },
    {
     "name": "stderr",
     "output_type": "stream",
     "text": [
      "Using TensorFlow backend.\n",
      "Using TensorFlow backend.\n",
      "Using TensorFlow backend.\n",
      "Using TensorFlow backend.\n",
      "Using TensorFlow backend.\n",
      "Using TensorFlow backend.\n"
     ]
    },
    {
     "name": "stdout",
     "output_type": "stream",
     "text": [
      "Best Model @ Level  4\n",
      "         RMSE  Level        R2                     Model        SE\n",
      "Key                                                               \n",
      "4_8  0.070598      4  0.704385  Ta+PPFD+VWC+Active Layer  0.000519\n",
      "Should we exit?? 0.0711168819569 0.0734902109097\n",
      "Models:  [['H', 'Ta', 'PPFD', 'VWC', 'Active Layer'], ['Wind Spd', 'Ta', 'PPFD', 'VWC', 'Active Layer'], ['air pressure', 'Ta', 'PPFD', 'VWC', 'Active Layer'], ['Ta', 'Rn', 'PPFD', 'VWC', 'Active Layer'], ['Ta', 'PPFD', 'Rain', 'VWC', 'Active Layer'], ['Ta', 'PPFD', 'Water Table', 'VWC', 'Active Layer'], ['Ta', 'PPFD', 'Ts 2.5 cm', 'VWC', 'Active Layer'], ['Ta', 'PPFD', 'Ts 15 cm', 'VWC', 'Active Layer'], ['Ta', 'PPFD', 'VWC', 'Active Layer', '24H Rain'], ['Ta', 'PPFD', 'VWC', 'Active Layer', 'Wtr Tbl Trnd']]\n",
      "Number of Models:  10\n"
     ]
    },
    {
     "data": {
      "application/vnd.jupyter.widget-view+json": {
       "model_id": "a3b5ddc872d74e11a8254c102166efa9",
       "version_major": 2,
       "version_minor": 0
      },
      "text/plain": [
       "A Jupyter Widget"
      ]
     },
     "metadata": {},
     "output_type": "display_data"
    },
    {
     "name": "stderr",
     "output_type": "stream",
     "text": [
      "Using TensorFlow backend.\n",
      "Using TensorFlow backend.\n",
      "Using TensorFlow backend.\n"
     ]
    },
    {
     "name": "stdout",
     "output_type": "stream",
     "text": [
      "Best Model @ Level  5\n",
      "         RMSE  Level       R2                       Model        SE\n",
      "Key                                                                \n",
      "5_0  0.067596      5  0.73404  H+Ta+PPFD+VWC+Active Layer  0.000452\n",
      "Should we exit?? 0.0680476084295 0.0705978206643\n",
      "Models:  [['H', 'Wind Spd', 'Ta', 'PPFD', 'VWC', 'Active Layer'], ['H', 'air pressure', 'Ta', 'PPFD', 'VWC', 'Active Layer'], ['H', 'Ta', 'Rn', 'PPFD', 'VWC', 'Active Layer'], ['H', 'Ta', 'PPFD', 'Rain', 'VWC', 'Active Layer'], ['H', 'Ta', 'PPFD', 'Water Table', 'VWC', 'Active Layer'], ['H', 'Ta', 'PPFD', 'Ts 2.5 cm', 'VWC', 'Active Layer'], ['H', 'Ta', 'PPFD', 'Ts 15 cm', 'VWC', 'Active Layer'], ['H', 'Ta', 'PPFD', 'VWC', 'Active Layer', '24H Rain'], ['H', 'Ta', 'PPFD', 'VWC', 'Active Layer', 'Wtr Tbl Trnd']]\n",
      "Number of Models:  9\n"
     ]
    },
    {
     "data": {
      "application/vnd.jupyter.widget-view+json": {
       "model_id": "e04b49c9e2c44f6b911b1627ec27a549",
       "version_major": 2,
       "version_minor": 0
      },
      "text/plain": [
       "A Jupyter Widget"
      ]
     },
     "metadata": {},
     "output_type": "display_data"
    },
    {
     "name": "stderr",
     "output_type": "stream",
     "text": [
      "Using TensorFlow backend.\n",
      "Using TensorFlow backend.\n",
      "Using TensorFlow backend.\n"
     ]
    },
    {
     "name": "stdout",
     "output_type": "stream",
     "text": [
      "Best Model @ Level  6\n",
      "         RMSE  Level        R2                                Model        SE\n",
      "Key                                                                          \n",
      "6_0  0.063864      6  0.768424  H+Wind Spd+Ta+PPFD+VWC+Active Layer  0.000749\n",
      "Should we exit?? 0.0646126250634 0.067595648935\n",
      "Models:  [['H', 'Wind Spd', 'air pressure', 'Ta', 'PPFD', 'VWC', 'Active Layer'], ['H', 'Wind Spd', 'Ta', 'Rn', 'PPFD', 'VWC', 'Active Layer'], ['H', 'Wind Spd', 'Ta', 'PPFD', 'Rain', 'VWC', 'Active Layer'], ['H', 'Wind Spd', 'Ta', 'PPFD', 'Water Table', 'VWC', 'Active Layer'], ['H', 'Wind Spd', 'Ta', 'PPFD', 'Ts 2.5 cm', 'VWC', 'Active Layer'], ['H', 'Wind Spd', 'Ta', 'PPFD', 'Ts 15 cm', 'VWC', 'Active Layer'], ['H', 'Wind Spd', 'Ta', 'PPFD', 'VWC', 'Active Layer', '24H Rain'], ['H', 'Wind Spd', 'Ta', 'PPFD', 'VWC', 'Active Layer', 'Wtr Tbl Trnd']]\n",
      "Number of Models:  8\n"
     ]
    },
    {
     "data": {
      "application/vnd.jupyter.widget-view+json": {
       "model_id": "d548669083a34c8fac9ed3c83e559fed",
       "version_major": 2,
       "version_minor": 0
      },
      "text/plain": [
       "A Jupyter Widget"
      ]
     },
     "metadata": {},
     "output_type": "display_data"
    },
    {
     "name": "stderr",
     "output_type": "stream",
     "text": [
      "Using TensorFlow backend.\n",
      "Using TensorFlow backend.\n",
      "Using TensorFlow backend.\n",
      "Using TensorFlow backend.\n"
     ]
    },
    {
     "name": "stdout",
     "output_type": "stream",
     "text": [
      "Best Model @ Level  7\n",
      "         RMSE  Level       R2  \\\n",
      "Key                             \n",
      "7_3  0.063264      7  0.77524   \n",
      "\n",
      "                                               Model        SE  \n",
      "Key                                                             \n",
      "7_3  H+Wind Spd+Ta+PPFD+Water Table+VWC+Active Layer  0.000643  \n",
      "Should we exit?? 0.0639076638342 0.0638636232283\n",
      "Exit Early\n",
      "['H+Wind Spd+Ta+PPFD+VWC+Active Layer']       Key  Level                                    Model        R2      RMSE\n",
      "0     1_0      1                                        H  0.433179  0.092854\n",
      "1     1_0      1                                        H  0.482100  0.086947\n",
      "2     1_0      1                                        H  0.424137  0.091811\n",
      "3     1_0      1                                        H  0.505149  0.086802\n",
      "4     1_0      1                                        H  0.409785  0.091812\n",
      "5     1_0      1                                        H  0.469177  0.086742\n",
      "6     1_0      1                                        H  0.418785  0.091949\n",
      "7     1_0      1                                        H  0.462566  0.086931\n",
      "8     1_0      1                                        H  0.438334  0.092062\n",
      "9     1_0      1                                        H  0.455274  0.086437\n",
      "10    1_0      1                                        H  0.355752  0.093081\n",
      "11    1_0      1                                        H  0.486945  0.087278\n",
      "12    1_0      1                                        H  0.441300  0.092440\n",
      "13    1_0      1                                        H  0.481955  0.087041\n",
      "14    1_0      1                                        H  0.426013  0.092672\n",
      "15    1_0      1                                        H  0.463361  0.086834\n",
      "16    1_0      1                                        H  0.419469  0.092929\n",
      "17    1_0      1                                        H  0.477346  0.087390\n",
      "18    1_0      1                                        H  0.407548  0.092230\n",
      "19    1_0      1                                        H  0.483241  0.087095\n",
      "20    1_0      1                                        H  0.422559  0.092089\n",
      "21    1_0      1                                        H  0.487321  0.087419\n",
      "22    1_0      1                                        H  0.478599  0.091733\n",
      "23    1_0      1                                        H  0.477656  0.087083\n",
      "24    1_0      1                                        H  0.438159  0.092207\n",
      "25    1_0      1                                        H  0.470444  0.087391\n",
      "26    1_0      1                                        H  0.395174  0.092004\n",
      "27    1_0      1                                        H  0.487210  0.086786\n",
      "28    1_0      1                                        H  0.439126  0.091953\n",
      "29    1_0      1                                        H  0.497192  0.087108\n",
      "...   ...    ...                                      ...       ...       ...\n",
      "2040  6_8      6  H+Ta+PPFD+VWC+Active Layer+Wtr Tbl Trnd  0.726286  0.069562\n",
      "2041  6_8      6  H+Ta+PPFD+VWC+Active Layer+Wtr Tbl Trnd  0.744226  0.065668\n",
      "2042  6_8      6  H+Ta+PPFD+VWC+Active Layer+Wtr Tbl Trnd  0.705811  0.070205\n",
      "2043  6_8      6  H+Ta+PPFD+VWC+Active Layer+Wtr Tbl Trnd  0.740616  0.066751\n",
      "2044  6_8      6  H+Ta+PPFD+VWC+Active Layer+Wtr Tbl Trnd  0.669723  0.072010\n",
      "2045  6_8      6  H+Ta+PPFD+VWC+Active Layer+Wtr Tbl Trnd  0.741046  0.066113\n",
      "2046  6_8      6  H+Ta+PPFD+VWC+Active Layer+Wtr Tbl Trnd  0.728742  0.069934\n",
      "2047  6_8      6  H+Ta+PPFD+VWC+Active Layer+Wtr Tbl Trnd  0.727705  0.066882\n",
      "2048  6_8      6  H+Ta+PPFD+VWC+Active Layer+Wtr Tbl Trnd  0.697601  0.069583\n",
      "2049  6_8      6  H+Ta+PPFD+VWC+Active Layer+Wtr Tbl Trnd  0.743815  0.065497\n",
      "2050  6_8      6  H+Ta+PPFD+VWC+Active Layer+Wtr Tbl Trnd  0.729101  0.069023\n",
      "2051  6_8      6  H+Ta+PPFD+VWC+Active Layer+Wtr Tbl Trnd  0.749607  0.065667\n",
      "2052  6_8      6  H+Ta+PPFD+VWC+Active Layer+Wtr Tbl Trnd  0.713476  0.070177\n",
      "2053  6_8      6  H+Ta+PPFD+VWC+Active Layer+Wtr Tbl Trnd  0.730645  0.066318\n",
      "2054  6_8      6  H+Ta+PPFD+VWC+Active Layer+Wtr Tbl Trnd  0.745754  0.069952\n",
      "2055  6_8      6  H+Ta+PPFD+VWC+Active Layer+Wtr Tbl Trnd  0.739983  0.066951\n",
      "2056  6_8      6  H+Ta+PPFD+VWC+Active Layer+Wtr Tbl Trnd  0.690385  0.071685\n",
      "2057  6_8      6  H+Ta+PPFD+VWC+Active Layer+Wtr Tbl Trnd  0.737954  0.067525\n",
      "2058  6_8      6  H+Ta+PPFD+VWC+Active Layer+Wtr Tbl Trnd  0.747814  0.068507\n",
      "2059  6_8      6  H+Ta+PPFD+VWC+Active Layer+Wtr Tbl Trnd  0.752260  0.065823\n",
      "2060  6_8      6  H+Ta+PPFD+VWC+Active Layer+Wtr Tbl Trnd  0.609235  0.075106\n",
      "2061  6_8      6  H+Ta+PPFD+VWC+Active Layer+Wtr Tbl Trnd  0.731467  0.068574\n",
      "2062  6_8      6  H+Ta+PPFD+VWC+Active Layer+Wtr Tbl Trnd  0.729681  0.068607\n",
      "2063  6_8      6  H+Ta+PPFD+VWC+Active Layer+Wtr Tbl Trnd  0.723370  0.068008\n",
      "2064  6_8      6  H+Ta+PPFD+VWC+Active Layer+Wtr Tbl Trnd  0.702670  0.071055\n",
      "2065  6_8      6  H+Ta+PPFD+VWC+Active Layer+Wtr Tbl Trnd  0.719909  0.069073\n",
      "2066  6_8      6  H+Ta+PPFD+VWC+Active Layer+Wtr Tbl Trnd  0.698529  0.070417\n",
      "2067  6_8      6  H+Ta+PPFD+VWC+Active Layer+Wtr Tbl Trnd  0.738654  0.066380\n",
      "2068  6_8      6  H+Ta+PPFD+VWC+Active Layer+Wtr Tbl Trnd  0.675706  0.073335\n",
      "2069  6_8      6  H+Ta+PPFD+VWC+Active Layer+Wtr Tbl Trnd  0.743125  0.066191\n",
      "\n",
      "[2070 rows x 5 columns]\n"
     ]
    },
    {
     "data": {
      "application/vnd.jupyter.widget-view+json": {
       "model_id": "7638e3a19bd34dca83411b0d02f55336",
       "version_major": 2,
       "version_minor": 0
      },
      "text/plain": [
       "A Jupyter Widget"
      ]
     },
     "metadata": {},
     "output_type": "display_data"
    },
    {
     "name": "stderr",
     "output_type": "stream",
     "text": [
      "Using TensorFlow backend.\n",
      "Using TensorFlow backend.\n"
     ]
    },
    {
     "name": "stdout",
     "output_type": "stream",
     "text": [
      "Leaving at  48\n"
     ]
    },
    {
     "data": {
      "image/png": "[encoded data removed]",
      "text/plain": [
       "<matplotlib.figure.Figure at 0x7f575ceb3748>"
      ]
     },
     "metadata": {},
     "output_type": "display_data"
    },
    {
     "name": "stdout",
     "output_type": "stream",
     "text": [
      "53\n",
      "FishIsland fch4\n"
     ]
    },
    {
     "data": {
      "application/vnd.jupyter.widget-view+json": {
       "model_id": "aa9b56d7f0f2472c839787f5797a120d",
       "version_major": 2,
       "version_minor": 0
      },
      "text/plain": [
       "A Jupyter Widget"
      ]
     },
     "metadata": {},
     "output_type": "display_data"
    },
    {
     "name": "stdout",
     "output_type": "stream",
     "text": [
      "Models:  [['H'], ['Wind Spd'], ['air pressure'], ['Ta'], ['Rn'], ['PPFD'], ['Rain'], ['Water Table'], ['Ts 2.5 cm'], ['Ts 15 cm'], ['VWC'], ['Active Layer'], ['24H Rain'], ['Wtr Tbl Trnd']]\n",
      "Number of Models:  14\n"
     ]
    },
    {
     "data": {
      "application/vnd.jupyter.widget-view+json": {
       "model_id": "bb00aa0e74d84bf0adcb14b1f939a830",
       "version_major": 2,
       "version_minor": 0
      },
      "text/plain": [
       "A Jupyter Widget"
      ]
     },
     "metadata": {},
     "output_type": "display_data"
    },
    {
     "name": "stderr",
     "output_type": "stream",
     "text": [
      "Using TensorFlow backend.\n",
      "Using TensorFlow backend.\n",
      "Using TensorFlow backend.\n",
      "Using TensorFlow backend.\n",
      "Using TensorFlow backend.\n",
      "Using TensorFlow backend.\n"
     ]
    },
    {
     "name": "stdout",
     "output_type": "stream",
     "text": [
      "Best Model @ Level  1\n",
      "         RMSE  Level        R2 Model        SE\n",
      "Key                                           \n",
      "1_0  0.835651      1 -1.378954     H  0.007096\n",
      "Models:  [['H', 'Wind Spd'], ['H', 'air pressure'], ['H', 'Ta'], ['H', 'Rn'], ['H', 'PPFD'], ['H', 'Rain'], ['H', 'Water Table'], ['H', 'Ts 2.5 cm'], ['H', 'Ts 15 cm'], ['H', 'VWC'], ['H', 'Active Layer'], ['H', '24H Rain'], ['H', 'Wtr Tbl Trnd']]\n",
      "Number of Models:  13\n"
     ]
    },
    {
     "data": {
      "application/vnd.jupyter.widget-view+json": {
       "model_id": "cf114770bab04c09994e61d4396d6097",
       "version_major": 2,
       "version_minor": 0
      },
      "text/plain": [
       "A Jupyter Widget"
      ]
     },
     "metadata": {},
     "output_type": "display_data"
    },
    {
     "name": "stderr",
     "output_type": "stream",
     "text": [
      "Using TensorFlow backend.\n",
      "Using TensorFlow backend.\n",
      "Using TensorFlow backend.\n",
      "Using TensorFlow backend.\n",
      "Using TensorFlow backend.\n"
     ]
    },
    {
     "name": "stdout",
     "output_type": "stream",
     "text": [
      "Best Model @ Level  2\n",
      "         RMSE  Level        R2       Model        SE\n",
      "Key                                                 \n",
      "2_0  0.791437      2 -0.858552  H+Wind Spd  0.001795\n",
      "Should we exit?? 0.793231269338 0.835651025368\n",
      "Models:  [['H', 'Wind Spd', 'air pressure'], ['H', 'Wind Spd', 'Ta'], ['H', 'Wind Spd', 'Rn'], ['H', 'Wind Spd', 'PPFD'], ['H', 'Wind Spd', 'Rain'], ['H', 'Wind Spd', 'Water Table'], ['H', 'Wind Spd', 'Ts 2.5 cm'], ['H', 'Wind Spd', 'Ts 15 cm'], ['H', 'Wind Spd', 'VWC'], ['H', 'Wind Spd', 'Active Layer'], ['H', 'Wind Spd', '24H Rain'], ['H', 'Wind Spd', 'Wtr Tbl Trnd']]\n",
      "Number of Models:  12\n"
     ]
    },
    {
     "data": {
      "application/vnd.jupyter.widget-view+json": {
       "model_id": "8979156c4c614b23aba1e248afb737bf",
       "version_major": 2,
       "version_minor": 0
      },
      "text/plain": [
       "A Jupyter Widget"
      ]
     },
     "metadata": {},
     "output_type": "display_data"
    },
    {
     "name": "stderr",
     "output_type": "stream",
     "text": [
      "Using TensorFlow backend.\n",
      "Using TensorFlow backend.\n",
      "Using TensorFlow backend.\n",
      "Using TensorFlow backend.\n"
     ]
    },
    {
     "name": "stdout",
     "output_type": "stream",
     "text": [
      "Best Model @ Level  3\n",
      "         RMSE  Level        R2                    Model       SE\n",
      "Key                                                             \n",
      "3_9  0.757944      3 -0.466594  H+Wind Spd+Active Layer  0.00242\n",
      "Should we exit?? 0.760363470854 0.791436654085\n",
      "Models:  [['H', 'Wind Spd', 'air pressure', 'Active Layer'], ['H', 'Wind Spd', 'Ta', 'Active Layer'], ['H', 'Wind Spd', 'Rn', 'Active Layer'], ['H', 'Wind Spd', 'PPFD', 'Active Layer'], ['H', 'Wind Spd', 'Rain', 'Active Layer'], ['H', 'Wind Spd', 'Water Table', 'Active Layer'], ['H', 'Wind Spd', 'Ts 2.5 cm', 'Active Layer'], ['H', 'Wind Spd', 'Ts 15 cm', 'Active Layer'], ['H', 'Wind Spd', 'VWC', 'Active Layer'], ['H', 'Wind Spd', 'Active Layer', '24H Rain'], ['H', 'Wind Spd', 'Active Layer', 'Wtr Tbl Trnd']]\n",
      "Number of Models:  11\n"
     ]
    },
    {
     "data": {
      "application/vnd.jupyter.widget-view+json": {
       "model_id": "109f25942a3b4da090a5f0460e97543e",
       "version_major": 2,
       "version_minor": 0
      },
      "text/plain": [
       "A Jupyter Widget"
      ]
     },
     "metadata": {},
     "output_type": "display_data"
    },
    {
     "name": "stderr",
     "output_type": "stream",
     "text": [
      "Using TensorFlow backend.\n",
      "Using TensorFlow backend.\n",
      "Using TensorFlow backend.\n",
      "Using TensorFlow backend.\n",
      "Using TensorFlow backend.\n",
      "Using TensorFlow backend.\n"
     ]
    },
    {
     "name": "stdout",
     "output_type": "stream",
     "text": [
      "Best Model @ Level  4\n",
      "         RMSE  Level        R2                       Model        SE\n",
      "Key                                                                 \n",
      "4_1  0.729495      4 -0.299233  H+Wind Spd+Ta+Active Layer  0.001628\n",
      "Should we exit?? 0.731122406424 0.757943533532\n",
      "Models:  [['H', 'Wind Spd', 'air pressure', 'Ta', 'Active Layer'], ['H', 'Wind Spd', 'Ta', 'Rn', 'Active Layer'], ['H', 'Wind Spd', 'Ta', 'PPFD', 'Active Layer'], ['H', 'Wind Spd', 'Ta', 'Rain', 'Active Layer'], ['H', 'Wind Spd', 'Ta', 'Water Table', 'Active Layer'], ['H', 'Wind Spd', 'Ta', 'Ts 2.5 cm', 'Active Layer'], ['H', 'Wind Spd', 'Ta', 'Ts 15 cm', 'Active Layer'], ['H', 'Wind Spd', 'Ta', 'VWC', 'Active Layer'], ['H', 'Wind Spd', 'Ta', 'Active Layer', '24H Rain'], ['H', 'Wind Spd', 'Ta', 'Active Layer', 'Wtr Tbl Trnd']]\n",
      "Number of Models:  10\n"
     ]
    },
    {
     "data": {
      "application/vnd.jupyter.widget-view+json": {
       "model_id": "fda90545da9845a4819dac64e8852d1b",
       "version_major": 2,
       "version_minor": 0
      },
      "text/plain": [
       "A Jupyter Widget"
      ]
     },
     "metadata": {},
     "output_type": "display_data"
    },
    {
     "name": "stderr",
     "output_type": "stream",
     "text": [
      "Using TensorFlow backend.\n",
      "Using TensorFlow backend.\n",
      "Using TensorFlow backend.\n"
     ]
    },
    {
     "name": "stdout",
     "output_type": "stream",
     "text": [
      "Best Model @ Level  5\n",
      "         RMSE  Level        R2                                   Model  \\\n",
      "Key                                                                      \n",
      "5_4  0.703616      5 -0.171632  H+Wind Spd+Ta+Water Table+Active Layer   \n",
      "\n",
      "           SE  \n",
      "Key            \n",
      "5_4  0.001556  \n",
      "Should we exit?? 0.705171927818 0.729494668561\n",
      "Models:  [['H', 'Wind Spd', 'air pressure', 'Ta', 'Water Table', 'Active Layer'], ['H', 'Wind Spd', 'Ta', 'Rn', 'Water Table', 'Active Layer'], ['H', 'Wind Spd', 'Ta', 'PPFD', 'Water Table', 'Active Layer'], ['H', 'Wind Spd', 'Ta', 'Rain', 'Water Table', 'Active Layer'], ['H', 'Wind Spd', 'Ta', 'Water Table', 'Ts 2.5 cm', 'Active Layer'], ['H', 'Wind Spd', 'Ta', 'Water Table', 'Ts 15 cm', 'Active Layer'], ['H', 'Wind Spd', 'Ta', 'Water Table', 'VWC', 'Active Layer'], ['H', 'Wind Spd', 'Ta', 'Water Table', 'Active Layer', '24H Rain'], ['H', 'Wind Spd', 'Ta', 'Water Table', 'Active Layer', 'Wtr Tbl Trnd']]\n",
      "Number of Models:  9\n"
     ]
    },
    {
     "data": {
      "application/vnd.jupyter.widget-view+json": {
       "model_id": "d2b25c64b91b443b9bf2f4997f37eef3",
       "version_major": 2,
       "version_minor": 0
      },
      "text/plain": [
       "A Jupyter Widget"
      ]
     },
     "metadata": {},
     "output_type": "display_data"
    },
    {
     "name": "stderr",
     "output_type": "stream",
     "text": [
      "Using TensorFlow backend.\n",
      "Using TensorFlow backend.\n",
      "Using TensorFlow backend.\n"
     ]
    },
    {
     "name": "stdout",
     "output_type": "stream",
     "text": [
      "Best Model @ Level  6\n",
      "         RMSE  Level        R2  \\\n",
      "Key                              \n",
      "6_4  0.699286      6 -0.135717   \n",
      "\n",
      "                                                Model        SE  \n",
      "Key                                                              \n",
      "6_4  H+Wind Spd+Ta+Water Table+Ts 2.5 cm+Active Layer  0.002045  \n",
      "Should we exit?? 0.701330455482 0.703616324555\n",
      "Models:  [['H', 'Wind Spd', 'air pressure', 'Ta', 'Water Table', 'Ts 2.5 cm', 'Active Layer'], ['H', 'Wind Spd', 'Ta', 'Rn', 'Water Table', 'Ts 2.5 cm', 'Active Layer'], ['H', 'Wind Spd', 'Ta', 'PPFD', 'Water Table', 'Ts 2.5 cm', 'Active Layer'], ['H', 'Wind Spd', 'Ta', 'Rain', 'Water Table', 'Ts 2.5 cm', 'Active Layer'], ['H', 'Wind Spd', 'Ta', 'Water Table', 'Ts 2.5 cm', 'Ts 15 cm', 'Active Layer'], ['H', 'Wind Spd', 'Ta', 'Water Table', 'Ts 2.5 cm', 'VWC', 'Active Layer'], ['H', 'Wind Spd', 'Ta', 'Water Table', 'Ts 2.5 cm', 'Active Layer', '24H Rain'], ['H', 'Wind Spd', 'Ta', 'Water Table', 'Ts 2.5 cm', 'Active Layer', 'Wtr Tbl Trnd']]\n",
      "Number of Models:  8\n"
     ]
    },
    {
     "data": {
      "application/vnd.jupyter.widget-view+json": {
       "model_id": "643c84f94b9f4332a854156f847190ee",
       "version_major": 2,
       "version_minor": 0
      },
      "text/plain": [
       "A Jupyter Widget"
      ]
     },
     "metadata": {},
     "output_type": "display_data"
    },
    {
     "name": "stderr",
     "output_type": "stream",
     "text": [
      "Using TensorFlow backend.\n",
      "Using TensorFlow backend.\n",
      "Using TensorFlow backend.\n"
     ]
    },
    {
     "name": "stdout",
     "output_type": "stream",
     "text": [
      "Best Model @ Level  7\n",
      "         RMSE  Level        R2  \\\n",
      "Key                              \n",
      "7_6  0.696569      7 -0.015629   \n",
      "\n",
      "                                                 Model        SE  \n",
      "Key                                                               \n",
      "7_6  H+Wind Spd+Ta+Water Table+Ts 2.5 cm+Active Lay...  0.002032  \n",
      "Should we exit?? 0.698600719817 0.699285900184\n",
      "Models:  [['H', 'Wind Spd', 'air pressure', 'Ta', 'Water Table', 'Ts 2.5 cm', 'Active Layer', '24H Rain'], ['H', 'Wind Spd', 'Ta', 'Rn', 'Water Table', 'Ts 2.5 cm', 'Active Layer', '24H Rain'], ['H', 'Wind Spd', 'Ta', 'PPFD', 'Water Table', 'Ts 2.5 cm', 'Active Layer', '24H Rain'], ['H', 'Wind Spd', 'Ta', 'Rain', 'Water Table', 'Ts 2.5 cm', 'Active Layer', '24H Rain'], ['H', 'Wind Spd', 'Ta', 'Water Table', 'Ts 2.5 cm', 'Ts 15 cm', 'Active Layer', '24H Rain'], ['H', 'Wind Spd', 'Ta', 'Water Table', 'Ts 2.5 cm', 'VWC', 'Active Layer', '24H Rain'], ['H', 'Wind Spd', 'Ta', 'Water Table', 'Ts 2.5 cm', 'Active Layer', '24H Rain', 'Wtr Tbl Trnd']]\n",
      "Number of Models:  7\n"
     ]
    },
    {
     "data": {
      "application/vnd.jupyter.widget-view+json": {
       "model_id": "0cfa7525b8544f2582a6296d3c8aac80",
       "version_major": 2,
       "version_minor": 0
      },
      "text/plain": [
       "A Jupyter Widget"
      ]
     },
     "metadata": {},
     "output_type": "display_data"
    },
    {
     "name": "stderr",
     "output_type": "stream",
     "text": [
      "Using TensorFlow backend.\n",
      "Using TensorFlow backend.\n",
      "Using TensorFlow backend.\n"
     ]
    },
    {
     "name": "stdout",
     "output_type": "stream",
     "text": [
      "Best Model @ Level  8\n",
      "         RMSE  Level        R2  \\\n",
      "Key                              \n",
      "8_0  0.691924      8  0.041148   \n",
      "\n",
      "                                                 Model        SE  \n",
      "Key                                                               \n",
      "8_0  H+Wind Spd+air pressure+Ta+Water Table+Ts 2.5 ...  0.002506  \n",
      "Should we exit?? 0.694430669749 0.696568933234\n",
      "Models:  [['H', 'Wind Spd', 'air pressure', 'Ta', 'Rn', 'Water Table', 'Ts 2.5 cm', 'Active Layer', '24H Rain'], ['H', 'Wind Spd', 'air pressure', 'Ta', 'PPFD', 'Water Table', 'Ts 2.5 cm', 'Active Layer', '24H Rain'], ['H', 'Wind Spd', 'air pressure', 'Ta', 'Rain', 'Water Table', 'Ts 2.5 cm', 'Active Layer', '24H Rain'], ['H', 'Wind Spd', 'air pressure', 'Ta', 'Water Table', 'Ts 2.5 cm', 'Ts 15 cm', 'Active Layer', '24H Rain'], ['H', 'Wind Spd', 'air pressure', 'Ta', 'Water Table', 'Ts 2.5 cm', 'VWC', 'Active Layer', '24H Rain'], ['H', 'Wind Spd', 'air pressure', 'Ta', 'Water Table', 'Ts 2.5 cm', 'Active Layer', '24H Rain', 'Wtr Tbl Trnd']]\n",
      "Number of Models:  6\n"
     ]
    },
    {
     "data": {
      "application/vnd.jupyter.widget-view+json": {
       "model_id": "cb6258abaf484ab692601dcf58c72734",
       "version_major": 2,
       "version_minor": 0
      },
      "text/plain": [
       "A Jupyter Widget"
      ]
     },
     "metadata": {},
     "output_type": "display_data"
    },
    {
     "name": "stderr",
     "output_type": "stream",
     "text": [
      "Using TensorFlow backend.\n",
      "Using TensorFlow backend.\n",
      "Using TensorFlow backend.\n"
     ]
    },
    {
     "name": "stdout",
     "output_type": "stream",
     "text": [
      "Best Model @ Level  9\n",
      "         RMSE  Level        R2  \\\n",
      "Key                              \n",
      "9_4  0.689448      9  0.045109   \n",
      "\n",
      "                                                 Model        SE  \n",
      "Key                                                               \n",
      "9_4  H+Wind Spd+air pressure+Ta+Water Table+Ts 2.5 ...  0.004336  \n",
      "Should we exit?? 0.693784588529 0.691924289643\n",
      "Exit Early\n",
      "['H+Wind Spd+air pressure+Ta+Water Table+Ts 2.5 cm+Active Layer+24H Rain']       Key  Level                                              Model        R2  \\\n",
      "0     1_0      1                                                  H -1.552960   \n",
      "1     1_0      1                                                  H -1.399479   \n",
      "2     1_0      1                                                  H -1.567994   \n",
      "3     1_0      1                                                  H -1.301652   \n",
      "4     1_0      1                                                  H -1.445392   \n",
      "5     1_0      1                                                  H -1.150494   \n",
      "6     1_0      1                                                  H -1.482981   \n",
      "7     1_0      1                                                  H -1.276710   \n",
      "8     1_0      1                                                  H -1.568026   \n",
      "9     1_0      1                                                  H -1.248672   \n",
      "10    1_0      1                                                  H -1.442209   \n",
      "11    1_0      1                                                  H -1.250890   \n",
      "12    1_0      1                                                  H -1.484188   \n",
      "13    1_0      1                                                  H -1.273758   \n",
      "14    1_0      1                                                  H -1.484158   \n",
      "15    1_0      1                                                  H -1.221703   \n",
      "16    1_0      1                                                  H -1.432557   \n",
      "17    1_0      1                                                  H -1.178694   \n",
      "18    1_0      1                                                  H -1.461781   \n",
      "19    1_0      1                                                  H -1.207407   \n",
      "20    1_0      1                                                  H -1.548187   \n",
      "21    1_0      1                                                  H -1.178052   \n",
      "22    1_0      1                                                  H -1.535988   \n",
      "23    1_0      1                                                  H -1.292044   \n",
      "24    1_0      1                                                  H -1.529265   \n",
      "25    1_0      1                                                  H -1.239614   \n",
      "26    1_0      1                                                  H -1.505048   \n",
      "27    1_0      1                                                  H -1.274502   \n",
      "28    1_0      1                                                  H -1.570043   \n",
      "29    1_0      1                                                  H -1.264181   \n",
      "...   ...    ...                                                ...       ...   \n",
      "2490  8_6      8  H+Wind Spd+Ta+Water Table+Ts 2.5 cm+Active Lay...  0.133814   \n",
      "2491  8_6      8  H+Wind Spd+Ta+Water Table+Ts 2.5 cm+Active Lay... -0.152373   \n",
      "2492  8_6      8  H+Wind Spd+Ta+Water Table+Ts 2.5 cm+Active Lay...  0.209920   \n",
      "2493  8_6      8  H+Wind Spd+Ta+Water Table+Ts 2.5 cm+Active Lay... -0.168873   \n",
      "2494  8_6      8  H+Wind Spd+Ta+Water Table+Ts 2.5 cm+Active Lay...  0.141703   \n",
      "2495  8_6      8  H+Wind Spd+Ta+Water Table+Ts 2.5 cm+Active Lay... -0.237058   \n",
      "2496  8_6      8  H+Wind Spd+Ta+Water Table+Ts 2.5 cm+Active Lay...  0.161939   \n",
      "2497  8_6      8  H+Wind Spd+Ta+Water Table+Ts 2.5 cm+Active Lay... -0.071188   \n",
      "2498  8_6      8  H+Wind Spd+Ta+Water Table+Ts 2.5 cm+Active Lay...  0.194719   \n",
      "2499  8_6      8  H+Wind Spd+Ta+Water Table+Ts 2.5 cm+Active Lay... -0.356955   \n",
      "2500  8_6      8  H+Wind Spd+Ta+Water Table+Ts 2.5 cm+Active Lay...  0.124485   \n",
      "2501  8_6      8  H+Wind Spd+Ta+Water Table+Ts 2.5 cm+Active Lay... -0.266429   \n",
      "2502  8_6      8  H+Wind Spd+Ta+Water Table+Ts 2.5 cm+Active Lay...  0.137025   \n",
      "2503  8_6      8  H+Wind Spd+Ta+Water Table+Ts 2.5 cm+Active Lay... -0.307484   \n",
      "2504  8_6      8  H+Wind Spd+Ta+Water Table+Ts 2.5 cm+Active Lay...  0.214720   \n",
      "2505  8_6      8  H+Wind Spd+Ta+Water Table+Ts 2.5 cm+Active Lay... -0.209003   \n",
      "2506  8_6      8  H+Wind Spd+Ta+Water Table+Ts 2.5 cm+Active Lay...  0.190559   \n",
      "2507  8_6      8  H+Wind Spd+Ta+Water Table+Ts 2.5 cm+Active Lay... -0.210778   \n",
      "2508  8_6      8  H+Wind Spd+Ta+Water Table+Ts 2.5 cm+Active Lay...  0.104260   \n",
      "2509  8_6      8  H+Wind Spd+Ta+Water Table+Ts 2.5 cm+Active Lay... -0.149803   \n",
      "2510  8_6      8  H+Wind Spd+Ta+Water Table+Ts 2.5 cm+Active Lay...  0.181323   \n",
      "2511  8_6      8  H+Wind Spd+Ta+Water Table+Ts 2.5 cm+Active Lay... -0.209759   \n",
      "2512  8_6      8  H+Wind Spd+Ta+Water Table+Ts 2.5 cm+Active Lay...  0.168005   \n",
      "2513  8_6      8  H+Wind Spd+Ta+Water Table+Ts 2.5 cm+Active Lay... -0.174837   \n",
      "2514  8_6      8  H+Wind Spd+Ta+Water Table+Ts 2.5 cm+Active Lay...  0.194020   \n",
      "2515  8_6      8  H+Wind Spd+Ta+Water Table+Ts 2.5 cm+Active Lay... -0.243426   \n",
      "2516  8_6      8  H+Wind Spd+Ta+Water Table+Ts 2.5 cm+Active Lay...  0.244616   \n",
      "2517  8_6      8  H+Wind Spd+Ta+Water Table+Ts 2.5 cm+Active Lay... -0.273220   \n",
      "2518  8_6      8  H+Wind Spd+Ta+Water Table+Ts 2.5 cm+Active Lay...  0.132205   \n",
      "2519  8_6      8  H+Wind Spd+Ta+Water Table+Ts 2.5 cm+Active Lay... -0.176765   \n",
      "\n",
      "          RMSE  \n",
      "0     0.873521  \n",
      "1     0.795983  \n",
      "2     0.877402  \n",
      "3     0.795717  \n",
      "4     0.871799  \n",
      "5     0.798599  \n",
      "6     0.874783  \n",
      "7     0.796971  \n",
      "8     0.878100  \n",
      "9     0.798221  \n",
      "10    0.871265  \n",
      "11    0.798772  \n",
      "12    0.872343  \n",
      "13    0.798063  \n",
      "14    0.873129  \n",
      "15    0.798381  \n",
      "16    0.871880  \n",
      "17    0.797428  \n",
      "18    0.871867  \n",
      "19    0.797104  \n",
      "20    0.876621  \n",
      "21    0.798795  \n",
      "22    0.874078  \n",
      "23    0.797431  \n",
      "24    0.874878  \n",
      "25    0.797012  \n",
      "26    0.871443  \n",
      "27    0.796612  \n",
      "28    0.874348  \n",
      "29    0.796985  \n",
      "...        ...  \n",
      "2490  0.705850  \n",
      "2491  0.706542  \n",
      "2492  0.685483  \n",
      "2493  0.707878  \n",
      "2494  0.707803  \n",
      "2495  0.725044  \n",
      "2496  0.700466  \n",
      "2497  0.701272  \n",
      "2498  0.683707  \n",
      "2499  0.716757  \n",
      "2500  0.708910  \n",
      "2501  0.708976  \n",
      "2502  0.699530  \n",
      "2503  0.709378  \n",
      "2504  0.679741  \n",
      "2505  0.715372  \n",
      "2506  0.696890  \n",
      "2507  0.712865  \n",
      "2508  0.711303  \n",
      "2509  0.697811  \n",
      "2510  0.682414  \n",
      "2511  0.724341  \n",
      "2512  0.689303  \n",
      "2513  0.717828  \n",
      "2514  0.685302  \n",
      "2515  0.710060  \n",
      "2516  0.683578  \n",
      "2517  0.706526  \n",
      "2518  0.703231  \n",
      "2519  0.706795  \n",
      "\n",
      "[2520 rows x 5 columns]\n"
     ]
    },
    {
     "data": {
      "application/vnd.jupyter.widget-view+json": {
       "model_id": "09edd8f41a17446d920d056b7d362f16",
       "version_major": 2,
       "version_minor": 0
      },
      "text/plain": [
       "A Jupyter Widget"
      ]
     },
     "metadata": {},
     "output_type": "display_data"
    },
    {
     "name": "stderr",
     "output_type": "stream",
     "text": [
      "Using TensorFlow backend.\n",
      "Using TensorFlow backend.\n",
      "Using TensorFlow backend.\n"
     ]
    },
    {
     "name": "stdout",
     "output_type": "stream",
     "text": [
      "Leaving at  61\n"
     ]
    },
    {
     "data": {
      "image/png": "[encoded data removed]",
      "text/plain": [
       "<matplotlib.figure.Figure at 0x7f575ce4c828>"
      ]
     },
     "metadata": {},
     "output_type": "display_data"
    },
    {
     "name": "stdout",
     "output_type": "stream",
     "text": [
      "76\n"
     ]
    }
   ],
   "source": [
    "# pool.close()\n",
    "# Site = 'Illisarvik'#'FishIsland'#\n",
    "Scope = 'Full'\n",
    "cwd = os.getcwd()\n",
    "def ModSelect(Scope,Site):\n",
    "    if Site == 'Illisarvik':\n",
    "        BaseFactors = ['Sedge','Shrub','Grass','Sparse','Out_of_Basin']\n",
    "        BaseFactors = []\n",
    "        if Scope == 'Full':\n",
    "            Model = ['H','wind_speed','air_pressure','PPFD_Avg','AirTC_Avg','VPD',\n",
    "                    'Temp','VWC','Sedge','Shrub','Grass','Sparse','Out_of_Basin']\n",
    "        if Scope == 'Test':\n",
    "            Model = ['PPFD_Avg','wind_speed','VWC','VPD']\n",
    "    if Site == 'FishIsland':\n",
    "        BaseFactors = []\n",
    "        if Scope == 'Full':\n",
    "            Model = ['H','Wind Spd','air pressure','Ta','Rn','PPFD','Rain','Water Table',\n",
    "            'Ts 2.5 cm','Ts 15 cm','VWC','Active Layer','24H Rain','Wtr Tbl Trnd']\n",
    "        if Scope == 'Test':\n",
    "            Model = ['H','Water Table','Wind Spd','Active Layer']\n",
    "    return(Model,BaseFactors)\n",
    "\n",
    "def Params(Func,Y,MP = True):\n",
    "    params = {}\n",
    "    params['proc']=3\n",
    "    if MP == False:\n",
    "        params['proc']=1\n",
    "    if Func == 'Full':\n",
    "        epochs = 200\n",
    "        K = 30\n",
    "        splits_per_mod = 2\n",
    "        N = np.linspace(100,10,8,dtype='int32')\n",
    "    elif Func == 'Test':\n",
    "        epochs = 200\n",
    "        K = 30\n",
    "        splits_per_mod = 2\n",
    "        N = np.linspace(70,10,5,dtype='int32')\n",
    "    N = np.repeat(N,K)\n",
    "    d = {'N':N.astype(int)}\n",
    "    Runs = pd.DataFrame(data=d)\n",
    "    Runs['RMSE'] = 0.0\n",
    "    Runs['R2'] = 0.0\n",
    "    Runs['Model']=0\n",
    "    params['K'] = K\n",
    "    params['epochs'] = epochs\n",
    "    params['Y'] = Y\n",
    "    params['splits_per_mod'] = splits_per_mod\n",
    "    params['Save'] = {}\n",
    "    params['Save']['Weights']=False\n",
    "    params['Save']['Model']=False\n",
    "    \n",
    "    return(Runs,params)\n",
    "\n",
    "\n",
    "MP=True\n",
    "if Scope == 'Full':\n",
    "    MP = True\n",
    "if __name__=='__main__'and MP==True:\n",
    "    pool = Pool(processes=3,maxtasksperchild=75)\n",
    "else:pool=None\n",
    "    \n",
    "for Site in ['Illisarvik','FishIsland']:\n",
    "# Site='Illisarvik'\n",
    "# FillVar = 'fco2'\n",
    "    for FillVar in ['fco2','fch4']:\n",
    "        print(Site,FillVar)\n",
    "        FullModel,BaseFactors = ModSelect(Scope,Site)\n",
    "        Runs,params = Params(Scope,FillVar,MP)\n",
    "        params['Dpath'] = cwd+'/'+Site+'/'\n",
    "        params['Prelim_N']=True\n",
    "        Best,Scores,ModelRuns = FactorTest(params,FullModel,Runs,BaseFactors)\n",
    "        print(Best,Scores)\n",
    "        Scores,ModelRuns = Best_Fill(Best,Runs,Scores,params)\n",
    "        Scores.to_csv(params['Dpath']+FillVar+'/GapFillingSummary.csv')\n",
    "        ModelRuns.to_csv(params['Dpath']+FillVar+'/GapFilled.csv')\n",
    "\n",
    "if __name__=='__main__'and MP==True:\n",
    "    pool.close()"
   ]
  },
  {
   "cell_type": "code",
   "execution_count": 4,
   "metadata": {},
   "outputs": [
    {
     "name": "stdout",
     "output_type": "stream",
     "text": [
      "kitty\n"
     ]
    }
   ],
   "source": [
    "print('kitty')"
   ]
  },
  {
   "cell_type": "code",
   "execution_count": null,
   "metadata": {
    "collapsed": true
   },
   "outputs": [],
   "source": []
  }
 ],
 "metadata": {
  "kernelspec": {
   "display_name": "Python 3",
   "language": "python",
   "name": "python3"
  },
  "language_info": {
   "codemirror_mode": {
    "name": "ipython",
    "version": 3
   },
   "file_extension": ".py",
   "mimetype": "text/x-python",
   "name": "python",
   "nbconvert_exporter": "python",
   "pygments_lexer": "ipython3",
   "version": "3.5.2"
  }
 },
 "nbformat": 4,
 "nbformat_minor": 2
}
