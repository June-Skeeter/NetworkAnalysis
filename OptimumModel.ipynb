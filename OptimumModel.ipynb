{
 "cells": [
  {
   "cell_type": "markdown",
   "metadata": {},
   "source": [
    "##  Optimze and a Dense Neural Network for gap filling and feature identification\n",
    "\n",
    "** With a few tweaks to RepRunner, an LSTM can be run instead"
   ]
  },
  {
   "cell_type": "code",
   "execution_count": 12,
   "metadata": {},
   "outputs": [],
   "source": [
    "import time\n",
    "import math\n",
    "import numpy as np\n",
    "import pandas as pd\n",
    "import matplotlib.pyplot as plt\n",
    "from itertools import combinations\n",
    "from functools import partial\n",
    "from multiprocessing import Pool\n",
    "from sklearn.preprocessing import StandardScaler\n",
    "from sklearn import metrics\n",
    "from sklearn.model_selection import RepeatedKFold\n",
    "from sklearn.model_selection import train_test_split\n",
    "\n",
    "## Personal Modules\n",
    "import ReadStandardTimeFill as RSTF\n",
    "import importlib\n",
    "import DenseNet as Dense\n",
    "importlib.reload(Dense)\n",
    "importlib.reload(RSTF)\n",
    "\n",
    "%matplotlib inline\n",
    "%config IPCompleter.greedy=True\n",
    "\n",
    "from scipy.optimize import minimize, curve_fit\n",
    "from scipy.stats import norm\n",
    "from sklearn.gaussian_process import GaussianProcessRegressor\n",
    "from sklearn.gaussian_process.kernels import Matern, WhiteKernel, ConstantKernel\n",
    "from matplotlib import cm\n",
    "\n",
    "from scipy import stats\n",
    "from statsmodels.stats.multicomp import pairwise_tukeyhsd\n",
    "\n",
    "from ipywidgets import FloatProgress\n",
    "from IPython.display import display\n",
    "import os  "
   ]
  },
  {
   "cell_type": "code",
   "execution_count": 13,
   "metadata": {
    "collapsed": true
   },
   "outputs": [],
   "source": [
    "def Curve(x,a,b,c):\n",
    "    return (a/(b+x)**c)\n",
    "\n",
    "def Combos(Model,L,factor=None):\n",
    "    Models=list()\n",
    "    for c in combinations(Model,L):\n",
    "        c = list(c)\n",
    "        if factor is None:\n",
    "            Models.append(c)\n",
    "        else:\n",
    "            for f in factor:\n",
    "                f = f.split('+')\n",
    "                if set(f).issubset(set(c)) and c not in Models:\n",
    "                    Models.append(c)\n",
    "    return(Models)\n",
    "\n",
    "def TTV_Split(iteration,Memory,X,y,params,X_fill):\n",
    "    params['seed'] = int(iteration%params['splits_per_mod']/params['splits_per_mod']*100)\n",
    "    params['iteration'] = int(iteration/params['splits_per_mod'])\n",
    "    X_train,X_test,y_train,y_test=train_test_split(X,y, test_size=0.1, random_state=params['seed'])\n",
    "    X_train,X_val,y_train,y_val=train_test_split(X_train,y_train, test_size=0.11, random_state=params['seed'])\n",
    "    return(Dense.Train_Steps(params,X_train,X_test,X_val,y_train,y_test,\n",
    "        y_val,X_fill = X_fill,Memory=Memory),\n",
    "        y_val)\n",
    "\n",
    "def RunReps(Model,params,pool = None,FullReturn=False):\n",
    "    RST = RSTF.ReadStandardTimeFill(params['Dpath']+'ECData.csv')\n",
    "    offset = 5/params['proc']\n",
    "    Memory = (math.floor(100/params['proc'])- offset) * .01\n",
    "    MSE = []\n",
    "    RST.Scale(params['Y'],Model)\n",
    "    if params['T'] >0:\n",
    "        RST.TimeShape(params['T'])\n",
    "    y = RST.y*1.0\n",
    "    X = RST.X*1.0\n",
    "    X_fill = RST.X_fill*1.0\n",
    "    MSE = []\n",
    "    R2 =[]\n",
    "    Y_fill = []\n",
    "    Yval = []\n",
    "    y_val= []\n",
    "    if __name__=='__main__'and params['proc'] != 1:\n",
    "        for i,results in enumerate(pool.imap(partial(TTV_Split,Memory=Memory,X=X,y=y,params=params,X_fill=X_fill),range(params['K']))):\n",
    "            Y_fill.append(results[0][0])\n",
    "            Yval = RST.YScaled.inverse_transform(results[0][1].reshape(-1,1))\n",
    "            y_val = RST.YScaled.inverse_transform(results[1][0].reshape(-1,1))\n",
    "            MSE.append(metrics.mean_squared_error(Yval,y_val))\n",
    "            R2.append(metrics.r2_score(Yval,y_val))\n",
    "    else:\n",
    "        for i in range(params['K']):\n",
    "            results = TTV_Split(i,Memory,X,y,params,X_fill)\n",
    "            Y_fill.append(results[0][0])\n",
    "            Yval = RST.YScaled.inverse_transform(results[0][1].reshape(-1,1))\n",
    "            y_val = RST.YScaled.inverse_transform(results[1].reshape(-1,1))\n",
    "            MSE.append(metrics.mean_squared_error(y_val,Yval))\n",
    "            R2.append(metrics.r2_score(y_val,Yval))\n",
    "    Y_fill = np.asanyarray(Y_fill)\n",
    "    Y_fill = Y_fill.mean(axis=0) \n",
    "    FillVarName = FillVar.replace('f','F')\n",
    "    RST.Fill(Y_fill,FillVarName)\n",
    "    return(MSE,R2,RST.Master['TempFill'])\n",
    "\n",
    "def RunLoop(Runs,model):\n",
    "    \n",
    "    style = {'description_width': 'initial'}\n",
    "    f = FloatProgress(min=0, max=Runs['N'].count(),description='Finding Best N:',style=style) # instantiate the bar\n",
    "    display(f) # display the bar\n",
    "#     print(Runs)\n",
    "    for N in Runs['N'].unique():\n",
    "        params['T'] = 0\n",
    "        params['N']=N\n",
    "        Results = RunReps(model,params,pool)\n",
    "        MSE = Results[0]\n",
    "        R2 = Results[1]\n",
    "        Runs.loc[Runs['N']==N,'MSE']=MSE\n",
    "        Runs.loc[Runs['N']==N,'R2']=R2\n",
    "#         print(Runs.loc[Runs['N']==N])   \n",
    "        f.value+=params['K']\n",
    "    return(Runs)\n",
    "\n",
    "def N_Nodes(Runs,params,model,plot=False):\n",
    "    Runs = RunLoop(Runs,model)\n",
    "    Group = Runs.groupby('N').mean()\n",
    "    Group['SD'] = Runs[['N','MSE']].groupby('N').std()\n",
    "    Group['SE'] = Runs[['N','MSE']].groupby('N').sem()\n",
    "    Min = Group.loc[Group['MSE']==Group['MSE'].min()]\n",
    "    popt, pcov = curve_fit(Curve, Runs['N'].values, Runs['MSE'].values)\n",
    "    N = np.arange(Runs['N'].min(),Runs['N'].max())\n",
    "    Fit = Curve(N,*popt)\n",
    "    Max = (Min['MSE']+Min['SE']).values[0]\n",
    "    try:\n",
    "        params['N']=N[Fit<Max].min()\n",
    "    except:\n",
    "        params['N']=N[-1]\n",
    "        pass\n",
    "    \n",
    "    if plot == True:\n",
    "        fig,ax = plt.subplots(figsize=(8,8))\n",
    "        ax.scatter(Runs['N'],Runs['MSE'])\n",
    "        ax.plot(N,Fit,color='r')\n",
    "        ax.plot(N,N*0+Max,color = 'black')\n",
    "        plt.grid()\n",
    "        plt.show()\n",
    "    return(params)\n",
    "\n",
    "def FactorTest(params,FullModel,Runs):\n",
    "    prog1 = FloatProgress(min=0, max=len(FullModel)-1,description='FactorTesting:') # instantiate the bar\n",
    "    display(prog1) # display the bar\n",
    "    Scores = Runs[['MSE','R2']].reset_index(drop=True)\n",
    "    Scores = (Scores.iloc[0:params['K']])*0\n",
    "    Scores['Level'] = len(FullModel)\n",
    "    Scores['Key'] = str(Scores['Level'][0])+'_0'\n",
    "    Scores['Model'] = '+'.join(FullModel)\n",
    "    Results = RunReps(FullModel,params,pool)\n",
    "    MSE = Results[0]\n",
    "    R2 = Results[1]\n",
    "    Scores['MSE']=Results[0]\n",
    "    Scores['R2']=Results[1]\n",
    "    ModelRuns = Results[2]\n",
    "    ModelRuns = ModelRuns.to_frame()\n",
    "    ModelRuns['Model: '+'+'.join(FullModel)]=ModelRuns['TempFill']\n",
    "    ModelRuns=ModelRuns.drop('TempFill',axis=1)\n",
    "    for i in range(1,len(FullModel)):\n",
    "        if i == 1:\n",
    "            Models = Combos(FullModel,i)\n",
    "        else:\n",
    "            Models = Combos(FullModel,i,factor = Best)\n",
    "        print(len(Models))\n",
    "        prog2 = FloatProgress(min=0, max=len(Models),description='Level: '+str(i)) # instantiate the bar\n",
    "        display(prog2) # display the bar\n",
    "        Values = []\n",
    "        Names = []\n",
    "        for i,model in enumerate(Models):\n",
    "            level = len(model)\n",
    "            key = str(level)+'_'+str(i)\n",
    "            Name = '+'.join(model)\n",
    "            NewRow = Scores.iloc[-1].copy()\n",
    "            NewRow['Model'] = 'Model: '+Name\n",
    "            Results = RunReps(model,params,pool)\n",
    "            MSE = Results[0]\n",
    "            R2 = Results[1]\n",
    "            d = {'Model':'+'.join(model),'MSE':MSE,'Key':key,'R2':R2,'Level':level}#,'Best':'N'\n",
    "            score = pd.DataFrame(index=[x for x in range(params['K'])],data=d)\n",
    "            Scores = Scores.append(score,ignore_index=True,sort=False)\n",
    "    #         print(Scores.loc[Scores['Key']==key])\n",
    "            ModelRuns['Model: '+'+'.join(model)] = Results[2]    \n",
    "            prog2.value+=1\n",
    "        Group = Scores.groupby('Key').agg({'Model': 'first', \n",
    "            'Level': 'first','MSE': 'mean','R2': 'mean'})#.reset_index()#mean()  \n",
    "        Group['SD'] = Scores[['Key','MSE']].groupby('Key').std()\n",
    "        Group['SE'] = Scores[['Key','MSE']].groupby('Key').sem()\n",
    "        Min = Group.loc[Group['Level']==level]\n",
    "        Best = Min.loc[Min['MSE'] == Min['MSE'].min(),'Model'].values\n",
    "        print(Best)  \n",
    "        prog1.value+=1\n",
    "    Group = Scores.groupby('Key').agg({'Model': 'first', \n",
    "        'Level': 'first','MSE': 'mean','R2': 'mean'})#.reset_index()#mean()  \n",
    "    Group['SD'] = Scores[['Key','MSE']].groupby('Key').std()\n",
    "    Group['SE'] = Scores[['Key','MSE']].groupby('Key').sem()\n",
    "    Min = Group.loc[Group['Level']==level]\n",
    "\n",
    "    Levels = Group.groupby('Level').min()\n",
    "    Sub=Group[Group['MSE'].isin(Levels['MSE'].values)]\n",
    "    print(Sub)\n",
    "    Sub.sort_values('Level',inplace=True)\n",
    "    Sub = Sub.loc[Sub['Level']>=1]\n",
    "    Sub.reset_index(inplace=True,drop=True)\n",
    "    Min = Sub.loc[Sub['MSE']==Sub['MSE'].min()]\n",
    "    Parsimony = (Sub.loc[Sub['MSE']<(Min['MSE'].values+Min['SE'].values)[0]])\n",
    "    Parsimony = Parsimony.loc[Parsimony['Level']==Parsimony['Level'].min()]\n",
    "    print()\n",
    "    print(Parsimony)\n",
    "    Best = Parsimony['Model'].values\n",
    "    return(Best,Scores,ModelRuns)\n",
    "def Best_Fill(Best,Runs,Scores,params):\n",
    "    N = Runs['N']\n",
    "    NRuns = Runs*0\n",
    "    NRuns['N']=N\n",
    "    model = Best[0].split('+')\n",
    "\n",
    "    params = N_Nodes(NRuns,params,model,plot=True)\n",
    "    print(params)\n",
    "    level = 0#len(Best)\n",
    "    print(Best)\n",
    "    key = '0_'+str(params['N'])\n",
    "    Name = '+'.join(Best)\n",
    "    NewRow = Scores.iloc[-1].copy()\n",
    "    NewRow['Model'] = 'BestModel: '+Name\n",
    "    Results = RunReps(model,params,pool)\n",
    "    MSE = Results[0]\n",
    "    R2 = Results[1]\n",
    "    d = {'Model':'+'.join(model),'MSE':MSE,'Key':key,'R2':R2,'Level':level}#,'Best':'N'\n",
    "    score = pd.DataFrame(index=[x for x in range(params['K'])],data=d)\n",
    "    Scores = Scores.append(score,ignore_index=True)\n",
    "    Scores = Scores.append(score,ignore_index=True)\n",
    "    ModelRuns['BestModel: '+'+'.join(model)] = Results[2] \n",
    "    print(params['N'])\n",
    "    return(Scores,ModelRuns)\n",
    "#     print(Scores)"
   ]
  },
  {
   "cell_type": "markdown",
   "metadata": {},
   "source": [
    "# The \"Optimum\" Sized Model"
   ]
  },
  {
   "cell_type": "code",
   "execution_count": null,
   "metadata": {
    "scrolled": false
   },
   "outputs": [
    {
     "name": "stdout",
     "output_type": "stream",
     "text": [
      "{'proc': 1, 'K': 4, 'epochs': 100, 'Y': 'fco2', 'splits_per_mod': 2, 'Save': {'Weights': False, 'Model': False}, 'Dpath': 'C:\\\\Users\\\\wesle\\\\NetworkAnalysis/Illisarvik/'}\n"
     ]
    },
    {
     "data": {
      "application/vnd.jupyter.widget-view+json": {
       "model_id": "500ce8ca21b0491a9a19458c7ec01a11",
       "version_major": 2,
       "version_minor": 0
      },
      "text/plain": [
       "A Jupyter Widget"
      ]
     },
     "metadata": {},
     "output_type": "display_data"
    },
    {
     "name": "stderr",
     "output_type": "stream",
     "text": [
      "C:\\Anaconda3\\lib\\site-packages\\ipykernel_launcher.py:2: RuntimeWarning: invalid value encountered in power\n",
      "  \n"
     ]
    },
    {
     "data": {
      "image/png": "[encoded data removed]",
      "text/plain": [
       "<matplotlib.figure.Figure at 0x2858bda1f60>"
      ]
     },
     "metadata": {},
     "output_type": "display_data"
    },
    {
     "data": {
      "application/vnd.jupyter.widget-view+json": {
       "model_id": "5c41675410284fcda84c5deca2f4c02d",
       "version_major": 2,
       "version_minor": 0
      },
      "text/plain": [
       "A Jupyter Widget"
      ]
     },
     "metadata": {},
     "output_type": "display_data"
    },
    {
     "name": "stdout",
     "output_type": "stream",
     "text": [
      "3\n"
     ]
    },
    {
     "data": {
      "application/vnd.jupyter.widget-view+json": {
       "model_id": "071f19616e3c4f6f93e1b40a0f314e1e",
       "version_major": 2,
       "version_minor": 0
      },
      "text/plain": [
       "A Jupyter Widget"
      ]
     },
     "metadata": {},
     "output_type": "display_data"
    },
    {
     "name": "stdout",
     "output_type": "stream",
     "text": [
      "['PPFD_Avg']\n",
      "2\n"
     ]
    },
    {
     "data": {
      "application/vnd.jupyter.widget-view+json": {
       "model_id": "95da96f1ea64450c8eb382c75e880641",
       "version_major": 2,
       "version_minor": 0
      },
      "text/plain": [
       "A Jupyter Widget"
      ]
     },
     "metadata": {},
     "output_type": "display_data"
    },
    {
     "name": "stdout",
     "output_type": "stream",
     "text": [
      "['PPFD_Avg+Sedge']\n",
      "                        Model  Level       MSE        R2        SD        SE\n",
      "Key                                                                         \n",
      "1_0                  PPFD_Avg      1  1.260180  0.863450  0.323149  0.161575\n",
      "2_1            PPFD_Avg+Sedge      2  1.234969  0.866209  0.285404  0.142702\n",
      "3_0  PPFD_Avg+AirTC_Avg+Sedge      3  1.362385  0.852731  0.282366  0.141183\n",
      "\n",
      "      Model  Level      MSE       R2        SD        SE\n",
      "0  PPFD_Avg      1  1.26018  0.86345  0.323149  0.161575\n"
     ]
    },
    {
     "name": "stderr",
     "output_type": "stream",
     "text": [
      "C:\\Anaconda3\\lib\\site-packages\\ipykernel_launcher.py:165: SettingWithCopyWarning: \n",
      "A value is trying to be set on a copy of a slice from a DataFrame\n",
      "\n",
      "See the caveats in the documentation: http://pandas.pydata.org/pandas-docs/stable/indexing.html#indexing-view-versus-copy\n"
     ]
    },
    {
     "data": {
      "application/vnd.jupyter.widget-view+json": {
       "model_id": "e2ee292fdee84ad4b4f58e05e999ad30",
       "version_major": 2,
       "version_minor": 0
      },
      "text/plain": [
       "A Jupyter Widget"
      ]
     },
     "metadata": {},
     "output_type": "display_data"
    },
    {
     "data": {
      "image/png": "[encoded data removed]",
      "text/plain": [
       "<matplotlib.figure.Figure at 0x28597a7db70>"
      ]
     },
     "metadata": {},
     "output_type": "display_data"
    },
    {
     "name": "stdout",
     "output_type": "stream",
     "text": [
      "{'proc': 1, 'K': 4, 'epochs': 100, 'Y': 'fco2', 'splits_per_mod': 2, 'Save': {'Weights': False, 'Model': False}, 'Dpath': 'C:\\\\Users\\\\wesle\\\\NetworkAnalysis/Illisarvik/', 'T': 0, 'N': 9, 'seed': 50, 'iteration': 1}\n",
      "['PPFD_Avg']\n",
      "9\n",
      "9\n",
      "358.07195687294006\n",
      "{'proc': 1, 'K': 4, 'epochs': 100, 'Y': 'fch4', 'splits_per_mod': 2, 'Save': {'Weights': False, 'Model': False}, 'Dpath': 'C:\\\\Users\\\\wesle\\\\NetworkAnalysis/Illisarvik/'}\n"
     ]
    },
    {
     "name": "stderr",
     "output_type": "stream",
     "text": [
      "C:\\Anaconda3\\lib\\site-packages\\pandas\\core\\frame.py:6211: FutureWarning: Sorting because non-concatenation axis is not aligned. A future version\n",
      "of pandas will change to not sort by default.\n",
      "\n",
      "To accept the future behavior, pass 'sort=False'.\n",
      "\n",
      "To retain the current behavior and silence the warning, pass 'sort=True'.\n",
      "\n",
      "  sort=sort)\n"
     ]
    },
    {
     "data": {
      "application/vnd.jupyter.widget-view+json": {
       "model_id": "bbd7a14af0de44039beb2f5b876b0183",
       "version_major": 2,
       "version_minor": 0
      },
      "text/plain": [
       "A Jupyter Widget"
      ]
     },
     "metadata": {},
     "output_type": "display_data"
    },
    {
     "data": {
      "image/png": "[encoded data removed]",
      "text/plain": [
       "<matplotlib.figure.Figure at 0x28600e22d68>"
      ]
     },
     "metadata": {},
     "output_type": "display_data"
    },
    {
     "data": {
      "application/vnd.jupyter.widget-view+json": {
       "model_id": "f6832d8855414f7fa8ebe696a3c4fe32",
       "version_major": 2,
       "version_minor": 0
      },
      "text/plain": [
       "A Jupyter Widget"
      ]
     },
     "metadata": {},
     "output_type": "display_data"
    },
    {
     "name": "stdout",
     "output_type": "stream",
     "text": [
      "3\n"
     ]
    },
    {
     "data": {
      "application/vnd.jupyter.widget-view+json": {
       "model_id": "61f240c23efc4319ae516a6a17b0b6d8",
       "version_major": 2,
       "version_minor": 0
      },
      "text/plain": [
       "A Jupyter Widget"
      ]
     },
     "metadata": {},
     "output_type": "display_data"
    },
    {
     "name": "stdout",
     "output_type": "stream",
     "text": [
      "['Sedge']\n",
      "2\n"
     ]
    },
    {
     "data": {
      "application/vnd.jupyter.widget-view+json": {
       "model_id": "7e6445b46a764629b6d5d7564c33c875",
       "version_major": 2,
       "version_minor": 0
      },
      "text/plain": [
       "A Jupyter Widget"
      ]
     },
     "metadata": {},
     "output_type": "display_data"
    },
    {
     "name": "stdout",
     "output_type": "stream",
     "text": [
      "['PPFD_Avg+Sedge']\n",
      "                        Model  Level         MSE        R2         SD  \\\n",
      "Key                                                                     \n",
      "1_2                     Sedge      1  120.060650  0.164877  15.548623   \n",
      "2_0            PPFD_Avg+Sedge      2  103.824044  0.279312  15.717570   \n",
      "3_0  PPFD_Avg+AirTC_Avg+Sedge      3  103.461181  0.283092  18.090894   \n",
      "\n",
      "           SE  \n",
      "Key            \n",
      "1_2  7.774311  \n",
      "2_0  7.858785  \n",
      "3_0  9.045447  \n",
      "\n",
      "            Model  Level         MSE        R2        SD        SE\n",
      "1  PPFD_Avg+Sedge      2  103.824044  0.279312  15.71757  7.858785\n"
     ]
    },
    {
     "data": {
      "application/vnd.jupyter.widget-view+json": {
       "model_id": "282a4ba13ea440bb8f7f25101e043a1e",
       "version_major": 2,
       "version_minor": 0
      },
      "text/plain": [
       "A Jupyter Widget"
      ]
     },
     "metadata": {},
     "output_type": "display_data"
    },
    {
     "data": {
      "image/png": "[encoded data removed]",
      "text/plain": [
       "<matplotlib.figure.Figure at 0x28617b48e10>"
      ]
     },
     "metadata": {},
     "output_type": "display_data"
    },
    {
     "name": "stdout",
     "output_type": "stream",
     "text": [
      "{'proc': 1, 'K': 4, 'epochs': 100, 'Y': 'fch4', 'splits_per_mod': 2, 'Save': {'Weights': False, 'Model': False}, 'Dpath': 'C:\\\\Users\\\\wesle\\\\NetworkAnalysis/Illisarvik/', 'T': 0, 'N': 4, 'seed': 50, 'iteration': 1}\n",
      "['PPFD_Avg+Sedge']\n"
     ]
    }
   ],
   "source": [
    "Site = 'Illisarvik'\n",
    "cwd = os.getcwd()\n",
    "# FullModel = ['H','wind_speed','air_pressure','PPFD_Avg','AirTC_Avg',\n",
    "#              'VPD','Temp','VWC','Sedge','Shrub','Grass','Sparse','Out_of_Basin']\n",
    "FullModel = ['PPFD_Avg','AirTC_Avg','Sedge']\n",
    "\n",
    "for FillVar in ['fco2','fch4']:\n",
    "    Time = time.time()\n",
    "#     Path = 'Data_Footprints_2018-06-12.csv'\n",
    "    # pool.close()\n",
    "    Runs,params = Dense.Params('Test',FillVar,MP=False)\n",
    "    params['Dpath'] = cwd+'/'+Site+'/'\n",
    "    if __name__=='__main__'and params['proc'] != 1:\n",
    "        pool = Pool(processes=params['proc'],maxtasksperchild=75)\n",
    "    else:pool=None\n",
    "    print(params)\n",
    "    params = N_Nodes(Runs,params,FullModel,plot=True)\n",
    "    Best,Scores,ModelRuns = FactorTest(params,FullModel,Runs)\n",
    "    Best_Fill(Best,Runs,Scores,params)\n",
    "\n",
    "    Scores.to_csv(params['Dpath']+FillVar+'/GapFillingSummary.csv')\n",
    "    ModelRuns.to_csv(params['Dpath']+FillVar+'/GapFilled.csv')\n",
    "    print(params['N'])\n",
    "    print(time.time()-Time)"
   ]
  },
  {
   "cell_type": "markdown",
   "metadata": {},
   "source": [
    "# Feature Identification"
   ]
  }
 ],
 "metadata": {
  "kernelspec": {
   "display_name": "Python 3",
   "language": "python",
   "name": "python3"
  },
  "language_info": {
   "codemirror_mode": {
    "name": "ipython",
    "version": 3
   },
   "file_extension": ".py",
   "mimetype": "text/x-python",
   "name": "python",
   "nbconvert_exporter": "python",
   "pygments_lexer": "ipython3",
   "version": "3.6.2"
  }
 },
 "nbformat": 4,
 "nbformat_minor": 2
}
